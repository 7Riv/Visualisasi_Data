{
 "cells": [
  {
   "cell_type": "markdown",
   "id": "6132b246",
   "metadata": {},
   "source": [
    "# Analisis Visual dan Prediksi AI pada Dataset Netflix Shows\n",
    "## *Visual Analystics and AI Prediction on Netflix Shows Dataset*"
   ]
  },
  {
   "cell_type": "markdown",
   "id": "da335301",
   "metadata": {},
   "source": [
    "## Tujuan Projek\n",
    "- Mengidentifikasi genre tayangan paling dominan sepanjang waktu dalam katalog Netflix.\n",
    "- Menelusuri tren perkembangan genre dari tahun ke tahun.\n",
    "- Memprediksi genre-genre yang akan meningkat popularitasnya hingga lima tahun ke depan (2022–2026).\n",
    "- Membangun model klasifikasi untuk memprediksi rating tayangan berdasarkan genre dan tipe konten.\n",
    "- Menampilkan perbandingan antara rating aktual dan hasil prediksi sebagai evaluasi model AI.\n",
    "- Menganalisis hubungan antara genre dan klasifikasi rating untuk melihat pola keterkaitan atau dominasi."
   ]
  },
  {
   "cell_type": "markdown",
   "id": "fee21844",
   "metadata": {},
   "source": [
    "### Model AI yang Digunakan\n",
    "- Random Forest Classifier\n",
    "- Linear Regresssion"
   ]
  },
  {
   "cell_type": "markdown",
   "id": "02679037",
   "metadata": {},
   "source": [
    "### Import Library"
   ]
  },
  {
   "cell_type": "code",
   "execution_count": 7,
   "id": "34b251b6",
   "metadata": {},
   "outputs": [
    {
     "data": {
      "text/html": [
       "    <style>\n",
       "        .bk-notebook-logo {\n",
       "            display: block;\n",
       "            width: 20px;\n",
       "            height: 20px;\n",
       "            background-image: url(data:image/png;base64,iVBORw0KGgoAAAANSUhEUgAAABQAAAAUCAYAAACNiR0NAAAABHNCSVQICAgIfAhkiAAAAAlwSFlzAAALEgAACxIB0t1+/AAAABx0RVh0U29mdHdhcmUAQWRvYmUgRmlyZXdvcmtzIENTNui8sowAAAOkSURBVDiNjZRtaJVlGMd/1/08zzln5zjP1LWcU9N0NkN8m2CYjpgQYQXqSs0I84OLIC0hkEKoPtiH3gmKoiJDU7QpLgoLjLIQCpEsNJ1vqUOdO7ppbuec5+V+rj4ctwzd8IIbbi6u+8f1539dt3A78eXC7QizUF7gyV1fD1Yqg4JWz84yffhm0qkFqBogB9rM8tZdtwVsPUhWhGcFJngGeWrPzHm5oaMmkfEg1usvLFyc8jLRqDOMru7AyC8saQr7GG7f5fvDeH7Ej8CM66nIF+8yngt6HWaKh7k49Soy9nXurCi1o3qUbS3zWfrYeQDTB/Qj6kX6Ybhw4B+bOYoLKCC9H3Nu/leUTZ1JdRWkkn2ldcCamzrcf47KKXdAJllSlxAOkRgyHsGC/zRday5Qld9DyoM4/q/rUoy/CXh3jzOu3bHUVZeU+DEn8FInkPBFlu3+nW3Nw0mk6vCDiWg8CeJaxEwuHS3+z5RgY+YBR6V1Z1nxSOfoaPa4LASWxxdNp+VWTk7+4vzaou8v8PN+xo+KY2xsw6une2frhw05CTYOmQvsEhjhWjn0bmXPjpE1+kplmmkP3suftwTubK9Vq22qKmrBhpY4jvd5afdRA3wGjFAgcnTK2s4hY0/GPNIb0nErGMCRxWOOX64Z8RAC4oCXdklmEvcL8o0BfkNK4lUg9HTl+oPlQxdNo3Mg4Nv175e/1LDGzZen30MEjRUtmXSfiTVu1kK8W4txyV6BMKlbgk3lMwYCiusNy9fVfvvwMxv8Ynl6vxoByANLTWplvuj/nF9m2+PDtt1eiHPBr1oIfhCChQMBw6Aw0UulqTKZdfVvfG7VcfIqLG9bcldL/+pdWTLxLUy8Qq38heUIjh4XlzZxzQm19lLFlr8vdQ97rjZVOLf8nclzckbcD4wxXMidpX30sFd37Fv/GtwwhzhxGVAprjbg0gCAEeIgwCZyTV2Z1REEW8O4py0wsjeloKoMr6iCY6dP92H6Vw/oTyICIthibxjm/DfN9lVz8IqtqKYLUXfoKVMVQVVJOElGjrnnUt9T9wbgp8AyYKaGlqingHZU/uG2NTZSVqwHQTWkx9hxjkpWDaCg6Ckj5qebgBVbT3V3NNXMSiWSDdGV3hrtzla7J+duwPOToIg42ChPQOQjspnSlp1V+Gjdged7+8UN5CRAV7a5EdFNwCjEaBR27b3W890TE7g24NAP/mMDXRWrGoFPQI9ls/MWO2dWFAar/xcOIImbbpA3zgAAAABJRU5ErkJggg==);\n",
       "        }\n",
       "    </style>\n",
       "    <div>\n",
       "        <a href=\"https://bokeh.org\" target=\"_blank\" class=\"bk-notebook-logo\"></a>\n",
       "        <span id=\"e277ac71-4c62-4302-9193-c0dcb4c954ad\">Loading BokehJS ...</span>\n",
       "    </div>\n"
      ]
     },
     "metadata": {},
     "output_type": "display_data"
    },
    {
     "data": {
      "application/javascript": "'use strict';\n(function(root) {\n  function now() {\n    return new Date();\n  }\n\n  const force = true;\n\n  if (typeof root._bokeh_onload_callbacks === \"undefined\" || force === true) {\n    root._bokeh_onload_callbacks = [];\n    root._bokeh_is_loading = undefined;\n  }\n\nconst JS_MIME_TYPE = 'application/javascript';\n  const HTML_MIME_TYPE = 'text/html';\n  const EXEC_MIME_TYPE = 'application/vnd.bokehjs_exec.v0+json';\n  const CLASS_NAME = 'output_bokeh rendered_html';\n\n  /**\n   * Render data to the DOM node\n   */\n  function render(props, node) {\n    const script = document.createElement(\"script\");\n    node.appendChild(script);\n  }\n\n  /**\n   * Handle when an output is cleared or removed\n   */\n  function handleClearOutput(event, handle) {\n    function drop(id) {\n      const view = Bokeh.index.get_by_id(id)\n      if (view != null) {\n        view.model.document.clear()\n        Bokeh.index.delete(view)\n      }\n    }\n\n    const cell = handle.cell;\n\n    const id = cell.output_area._bokeh_element_id;\n    const server_id = cell.output_area._bokeh_server_id;\n\n    // Clean up Bokeh references\n    if (id != null) {\n      drop(id)\n    }\n\n    if (server_id !== undefined) {\n      // Clean up Bokeh references\n      const cmd_clean = \"from bokeh.io.state import curstate; print(curstate().uuid_to_server['\" + server_id + \"'].get_sessions()[0].document.roots[0]._id)\";\n      cell.notebook.kernel.execute(cmd_clean, {\n        iopub: {\n          output: function(msg) {\n            const id = msg.content.text.trim()\n            drop(id)\n          }\n        }\n      });\n      // Destroy server and session\n      const cmd_destroy = \"import bokeh.io.notebook as ion; ion.destroy_server('\" + server_id + \"')\";\n      cell.notebook.kernel.execute(cmd_destroy);\n    }\n  }\n\n  /**\n   * Handle when a new output is added\n   */\n  function handleAddOutput(event, handle) {\n    const output_area = handle.output_area;\n    const output = handle.output;\n\n    // limit handleAddOutput to display_data with EXEC_MIME_TYPE content only\n    if ((output.output_type != \"display_data\") || (!Object.prototype.hasOwnProperty.call(output.data, EXEC_MIME_TYPE))) {\n      return\n    }\n\n    const toinsert = output_area.element.find(\".\" + CLASS_NAME.split(' ')[0]);\n\n    if (output.metadata[EXEC_MIME_TYPE][\"id\"] !== undefined) {\n      toinsert[toinsert.length - 1].firstChild.textContent = output.data[JS_MIME_TYPE];\n      // store reference to embed id on output_area\n      output_area._bokeh_element_id = output.metadata[EXEC_MIME_TYPE][\"id\"];\n    }\n    if (output.metadata[EXEC_MIME_TYPE][\"server_id\"] !== undefined) {\n      const bk_div = document.createElement(\"div\");\n      bk_div.innerHTML = output.data[HTML_MIME_TYPE];\n      const script_attrs = bk_div.children[0].attributes;\n      for (let i = 0; i < script_attrs.length; i++) {\n        toinsert[toinsert.length - 1].firstChild.setAttribute(script_attrs[i].name, script_attrs[i].value);\n        toinsert[toinsert.length - 1].firstChild.textContent = bk_div.children[0].textContent\n      }\n      // store reference to server id on output_area\n      output_area._bokeh_server_id = output.metadata[EXEC_MIME_TYPE][\"server_id\"];\n    }\n  }\n\n  function register_renderer(events, OutputArea) {\n\n    function append_mime(data, metadata, element) {\n      // create a DOM node to render to\n      const toinsert = this.create_output_subarea(\n        metadata,\n        CLASS_NAME,\n        EXEC_MIME_TYPE\n      );\n      this.keyboard_manager.register_events(toinsert);\n      // Render to node\n      const props = {data: data, metadata: metadata[EXEC_MIME_TYPE]};\n      render(props, toinsert[toinsert.length - 1]);\n      element.append(toinsert);\n      return toinsert\n    }\n\n    /* Handle when an output is cleared or removed */\n    events.on('clear_output.CodeCell', handleClearOutput);\n    events.on('delete.Cell', handleClearOutput);\n\n    /* Handle when a new output is added */\n    events.on('output_added.OutputArea', handleAddOutput);\n\n    /**\n     * Register the mime type and append_mime function with output_area\n     */\n    OutputArea.prototype.register_mime_type(EXEC_MIME_TYPE, append_mime, {\n      /* Is output safe? */\n      safe: true,\n      /* Index of renderer in `output_area.display_order` */\n      index: 0\n    });\n  }\n\n  // register the mime type if in Jupyter Notebook environment and previously unregistered\n  if (root.Jupyter !== undefined) {\n    const events = require('base/js/events');\n    const OutputArea = require('notebook/js/outputarea').OutputArea;\n\n    if (OutputArea.prototype.mime_types().indexOf(EXEC_MIME_TYPE) == -1) {\n      register_renderer(events, OutputArea);\n    }\n  }\n  if (typeof (root._bokeh_timeout) === \"undefined\" || force === true) {\n    root._bokeh_timeout = Date.now() + 5000;\n    root._bokeh_failed_load = false;\n  }\n\n  const NB_LOAD_WARNING = {'data': {'text/html':\n     \"<div style='background-color: #fdd'>\\n\"+\n     \"<p>\\n\"+\n     \"BokehJS does not appear to have successfully loaded. If loading BokehJS from CDN, this \\n\"+\n     \"may be due to a slow or bad network connection. Possible fixes:\\n\"+\n     \"</p>\\n\"+\n     \"<ul>\\n\"+\n     \"<li>re-rerun `output_notebook()` to attempt to load from CDN again, or</li>\\n\"+\n     \"<li>use INLINE resources instead, as so:</li>\\n\"+\n     \"</ul>\\n\"+\n     \"<code>\\n\"+\n     \"from bokeh.resources import INLINE\\n\"+\n     \"output_notebook(resources=INLINE)\\n\"+\n     \"</code>\\n\"+\n     \"</div>\"}};\n\n  function display_loaded(error = null) {\n    const el = document.getElementById(\"e277ac71-4c62-4302-9193-c0dcb4c954ad\");\n    if (el != null) {\n      const html = (() => {\n        if (typeof root.Bokeh === \"undefined\") {\n          if (error == null) {\n            return \"BokehJS is loading ...\";\n          } else {\n            return \"BokehJS failed to load.\";\n          }\n        } else {\n          const prefix = `BokehJS ${root.Bokeh.version}`;\n          if (error == null) {\n            return `${prefix} successfully loaded.`;\n          } else {\n            return `${prefix} <b>encountered errors</b> while loading and may not function as expected.`;\n          }\n        }\n      })();\n      el.innerHTML = html;\n\n      if (error != null) {\n        const wrapper = document.createElement(\"div\");\n        wrapper.style.overflow = \"auto\";\n        wrapper.style.height = \"5em\";\n        wrapper.style.resize = \"vertical\";\n        const content = document.createElement(\"div\");\n        content.style.fontFamily = \"monospace\";\n        content.style.whiteSpace = \"pre-wrap\";\n        content.style.backgroundColor = \"rgb(255, 221, 221)\";\n        content.textContent = error.stack ?? error.toString();\n        wrapper.append(content);\n        el.append(wrapper);\n      }\n    } else if (Date.now() < root._bokeh_timeout) {\n      setTimeout(() => display_loaded(error), 100);\n    }\n  }\n\n  function run_callbacks() {\n    try {\n      root._bokeh_onload_callbacks.forEach(function(callback) {\n        if (callback != null)\n          callback();\n      });\n    } finally {\n      delete root._bokeh_onload_callbacks\n    }\n    console.debug(\"Bokeh: all callbacks have finished\");\n  }\n\n  function load_libs(css_urls, js_urls, callback) {\n    if (css_urls == null) css_urls = [];\n    if (js_urls == null) js_urls = [];\n\n    root._bokeh_onload_callbacks.push(callback);\n    if (root._bokeh_is_loading > 0) {\n      console.debug(\"Bokeh: BokehJS is being loaded, scheduling callback at\", now());\n      return null;\n    }\n    if (js_urls == null || js_urls.length === 0) {\n      run_callbacks();\n      return null;\n    }\n    console.debug(\"Bokeh: BokehJS not loaded, scheduling load and callback at\", now());\n    root._bokeh_is_loading = css_urls.length + js_urls.length;\n\n    function on_load() {\n      root._bokeh_is_loading--;\n      if (root._bokeh_is_loading === 0) {\n        console.debug(\"Bokeh: all BokehJS libraries/stylesheets loaded\");\n        run_callbacks()\n      }\n    }\n\n    function on_error(url) {\n      console.error(\"failed to load \" + url);\n    }\n\n    for (let i = 0; i < css_urls.length; i++) {\n      const url = css_urls[i];\n      const element = document.createElement(\"link\");\n      element.onload = on_load;\n      element.onerror = on_error.bind(null, url);\n      element.rel = \"stylesheet\";\n      element.type = \"text/css\";\n      element.href = url;\n      console.debug(\"Bokeh: injecting link tag for BokehJS stylesheet: \", url);\n      document.body.appendChild(element);\n    }\n\n    for (let i = 0; i < js_urls.length; i++) {\n      const url = js_urls[i];\n      const element = document.createElement('script');\n      element.onload = on_load;\n      element.onerror = on_error.bind(null, url);\n      element.async = false;\n      element.src = url;\n      console.debug(\"Bokeh: injecting script tag for BokehJS library: \", url);\n      document.head.appendChild(element);\n    }\n  };\n\n  function inject_raw_css(css) {\n    const element = document.createElement(\"style\");\n    element.appendChild(document.createTextNode(css));\n    document.body.appendChild(element);\n  }\n\n  const js_urls = [\"https://cdn.bokeh.org/bokeh/release/bokeh-3.7.3.min.js\", \"https://cdn.bokeh.org/bokeh/release/bokeh-gl-3.7.3.min.js\", \"https://cdn.bokeh.org/bokeh/release/bokeh-widgets-3.7.3.min.js\", \"https://cdn.bokeh.org/bokeh/release/bokeh-tables-3.7.3.min.js\", \"https://cdn.bokeh.org/bokeh/release/bokeh-mathjax-3.7.3.min.js\"];\n  const css_urls = [];\n\n  const inline_js = [    function(Bokeh) {\n      Bokeh.set_log_level(\"info\");\n    },\nfunction(Bokeh) {\n    }\n  ];\n\n  function run_inline_js() {\n    if (root.Bokeh !== undefined || force === true) {\n      try {\n            for (let i = 0; i < inline_js.length; i++) {\n      inline_js[i].call(root, root.Bokeh);\n    }\n\n      } catch (error) {display_loaded(error);throw error;\n      }if (force === true) {\n        display_loaded();\n      }} else if (Date.now() < root._bokeh_timeout) {\n      setTimeout(run_inline_js, 100);\n    } else if (!root._bokeh_failed_load) {\n      console.log(\"Bokeh: BokehJS failed to load within specified timeout.\");\n      root._bokeh_failed_load = true;\n    } else if (force !== true) {\n      const cell = $(document.getElementById(\"e277ac71-4c62-4302-9193-c0dcb4c954ad\")).parents('.cell').data().cell;\n      cell.output_area.append_execute_result(NB_LOAD_WARNING)\n    }\n  }\n\n  if (root._bokeh_is_loading === 0) {\n    console.debug(\"Bokeh: BokehJS loaded, going straight to plotting\");\n    run_inline_js();\n  } else {\n    load_libs(css_urls, js_urls, function() {\n      console.debug(\"Bokeh: BokehJS plotting callback run at\", now());\n      run_inline_js();\n    });\n  }\n}(window));",
      "application/vnd.bokehjs_load.v0+json": ""
     },
     "metadata": {},
     "output_type": "display_data"
    }
   ],
   "source": [
    "# Library utama\n",
    "import pandas as pd\n",
    "import numpy as np\n",
    "from datetime import datetime\n",
    "\n",
    "# Visualisasi\n",
    "from bokeh.io import output_notebook, show\n",
    "from bokeh.plotting import figure, show\n",
    "from bokeh.models import ColumnDataSource, HoverTool, FactorRange, ColorBar, LinearColorMapper, Slider, CustomJS, Legend, LegendItem\n",
    "from bokeh.transform import cumsum, factor_cmap, transform, dodge\n",
    "from bokeh.layouts import row, column\n",
    "from bokeh.palettes import Category20c, Category10, Viridis256\n",
    "\n",
    "\n",
    "# Machine Learning\n",
    "from sklearn.preprocessing import MultiLabelBinarizer, LabelEncoder\n",
    "from sklearn.ensemble import RandomForestClassifier\n",
    "from sklearn.metrics import confusion_matrix, ConfusionMatrixDisplay, accuracy_score\n",
    "from sklearn.model_selection import train_test_split\n",
    "from sklearn.multiclass import OneVsRestClassifier\n",
    "from sklearn.linear_model import LinearRegression\n",
    "\n",
   
    "# Aktifkan output Bokeh di notebook\n",
    "output_notebook()\n"
   ]
  },
  {
   "cell_type": "markdown",
   "id": "736aefcf",
   "metadata": {},
   "source": [
    "### Visualisasi Top 10 Genre"
   ]
  },
  {
   "cell_type": "code",
   "execution_count": 8,
   "id": "d6409ee0",
   "metadata": {},
   "outputs": [
    {
     "data": {
      "text/html": [
       "\n",
       "  <div id=\"c26ffd2d-8679-48df-be04-c56dec70226a\" data-root-id=\"p1292\" style=\"display: contents;\"></div>\n"
      ]
     },
     "metadata": {},
     "output_type": "display_data"
    },
    {
     "data": {
      "application/javascript": "(function(root) {\n  function embed_document(root) {\n  const docs_json = {\"f9255842-796e-421b-bf63-0323f62d208a\":{\"version\":\"3.7.3\",\"title\":\"Bokeh Application\",\"roots\":[{\"type\":\"object\",\"name\":\"Figure\",\"id\":\"p1292\",\"attributes\":{\"height\":400,\"x_range\":{\"type\":\"object\",\"name\":\"DataRange1d\",\"id\":\"p1294\"},\"y_range\":{\"type\":\"object\",\"name\":\"FactorRange\",\"id\":\"p1302\",\"attributes\":{\"factors\":[\"Horror Movies\",\"Documentaries\",\"Children & Family Movies\",\"Thrillers\",\"Romantic Movies\",\"Independent Movies\",\"Action & Adventure\",\"Comedies\",\"Dramas\",\"International Movies\"]}},\"x_scale\":{\"type\":\"object\",\"name\":\"LinearScale\",\"id\":\"p1303\"},\"y_scale\":{\"type\":\"object\",\"name\":\"CategoricalScale\",\"id\":\"p1304\"},\"title\":{\"type\":\"object\",\"name\":\"Title\",\"id\":\"p1295\",\"attributes\":{\"text\":\"Top 10 Genre Sepanjang Tahun\"}},\"renderers\":[{\"type\":\"object\",\"name\":\"GlyphRenderer\",\"id\":\"p1322\",\"attributes\":{\"data_source\":{\"type\":\"object\",\"name\":\"ColumnDataSource\",\"id\":\"p1289\",\"attributes\":{\"selected\":{\"type\":\"object\",\"name\":\"Selection\",\"id\":\"p1290\",\"attributes\":{\"indices\":[],\"line_indices\":[]}},\"selection_policy\":{\"type\":\"object\",\"name\":\"UnionRenderers\",\"id\":\"p1291\"},\"data\":{\"type\":\"map\",\"entries\":[[\"genres\",[\"Horror Movies\",\"Documentaries\",\"Children & Family Movies\",\"Thrillers\",\"Romantic Movies\",\"Independent Movies\",\"Action & Adventure\",\"Comedies\",\"Dramas\",\"International Movies\"]],[\"counts\",{\"type\":\"ndarray\",\"array\":{\"type\":\"bytes\",\"data\":\"UAEAAIcBAAD3AQAAIwIAAEMCAADkAgAAJgMAABEGAAD1CAAAQQkAAA==\"},\"shape\":[10],\"dtype\":\"int32\",\"order\":\"little\"}]]}}},\"view\":{\"type\":\"object\",\"name\":\"CDSView\",\"id\":\"p1323\",\"attributes\":{\"filter\":{\"type\":\"object\",\"name\":\"AllIndices\",\"id\":\"p1324\"}}},\"glyph\":{\"type\":\"object\",\"name\":\"HBar\",\"id\":\"p1319\",\"attributes\":{\"y\":{\"type\":\"field\",\"field\":\"genres\"},\"height\":{\"type\":\"value\",\"value\":0.5},\"right\":{\"type\":\"field\",\"field\":\"counts\"},\"line_color\":{\"type\":\"value\",\"value\":\"navy\"},\"fill_color\":{\"type\":\"value\",\"value\":\"navy\"},\"hatch_color\":{\"type\":\"value\",\"value\":\"navy\"}}},\"nonselection_glyph\":{\"type\":\"object\",\"name\":\"HBar\",\"id\":\"p1320\",\"attributes\":{\"y\":{\"type\":\"field\",\"field\":\"genres\"},\"height\":{\"type\":\"value\",\"value\":0.5},\"right\":{\"type\":\"field\",\"field\":\"counts\"},\"line_color\":{\"type\":\"value\",\"value\":\"navy\"},\"line_alpha\":{\"type\":\"value\",\"value\":0.1},\"fill_color\":{\"type\":\"value\",\"value\":\"navy\"},\"fill_alpha\":{\"type\":\"value\",\"value\":0.1},\"hatch_color\":{\"type\":\"value\",\"value\":\"navy\"},\"hatch_alpha\":{\"type\":\"value\",\"value\":0.1}}},\"muted_glyph\":{\"type\":\"object\",\"name\":\"HBar\",\"id\":\"p1321\",\"attributes\":{\"y\":{\"type\":\"field\",\"field\":\"genres\"},\"height\":{\"type\":\"value\",\"value\":0.5},\"right\":{\"type\":\"field\",\"field\":\"counts\"},\"line_color\":{\"type\":\"value\",\"value\":\"navy\"},\"line_alpha\":{\"type\":\"value\",\"value\":0.2},\"fill_color\":{\"type\":\"value\",\"value\":\"navy\"},\"fill_alpha\":{\"type\":\"value\",\"value\":0.2},\"hatch_color\":{\"type\":\"value\",\"value\":\"navy\"},\"hatch_alpha\":{\"type\":\"value\",\"value\":0.2}}}}}],\"toolbar\":{\"type\":\"object\",\"name\":\"Toolbar\",\"id\":\"p1301\",\"attributes\":{\"tools\":[{\"type\":\"object\",\"name\":\"HoverTool\",\"id\":\"p1315\",\"attributes\":{\"renderers\":\"auto\",\"tooltips\":[[\"Genre\",\"@genres\"],[\"Jumlah\",\"@counts\"]]}}]}},\"left\":[{\"type\":\"object\",\"name\":\"CategoricalAxis\",\"id\":\"p1310\",\"attributes\":{\"ticker\":{\"type\":\"object\",\"name\":\"CategoricalTicker\",\"id\":\"p1311\"},\"formatter\":{\"type\":\"object\",\"name\":\"CategoricalTickFormatter\",\"id\":\"p1312\"},\"major_label_policy\":{\"type\":\"object\",\"name\":\"AllLabels\",\"id\":\"p1313\"}}}],\"below\":[{\"type\":\"object\",\"name\":\"LinearAxis\",\"id\":\"p1305\",\"attributes\":{\"ticker\":{\"type\":\"object\",\"name\":\"BasicTicker\",\"id\":\"p1306\",\"attributes\":{\"mantissas\":[1,2,5]}},\"formatter\":{\"type\":\"object\",\"name\":\"BasicTickFormatter\",\"id\":\"p1307\"},\"major_label_policy\":{\"type\":\"object\",\"name\":\"AllLabels\",\"id\":\"p1308\"}}}],\"center\":[{\"type\":\"object\",\"name\":\"Grid\",\"id\":\"p1309\",\"attributes\":{\"axis\":{\"id\":\"p1305\"}}},{\"type\":\"object\",\"name\":\"Grid\",\"id\":\"p1314\",\"attributes\":{\"dimension\":1,\"axis\":{\"id\":\"p1310\"}}}]}}]}};\n  const render_items = [{\"docid\":\"f9255842-796e-421b-bf63-0323f62d208a\",\"roots\":{\"p1292\":\"c26ffd2d-8679-48df-be04-c56dec70226a\"},\"root_ids\":[\"p1292\"]}];\n  void root.Bokeh.embed.embed_items_notebook(docs_json, render_items);\n  }\n  if (root.Bokeh !== undefined) {\n    embed_document(root);\n  } else {\n    let attempts = 0;\n    const timer = setInterval(function(root) {\n      if (root.Bokeh !== undefined) {\n        clearInterval(timer);\n        embed_document(root);\n      } else {\n        attempts++;\n        if (attempts > 100) {\n          clearInterval(timer);\n          console.log(\"Bokeh: ERROR: Unable to run BokehJS code because BokehJS library is missing\");\n        }\n      }\n    }, 10, root)\n  }\n})(window);",
      "application/vnd.bokehjs_exec.v0+json": ""
     },
     "metadata": {
      "application/vnd.bokehjs_exec.v0+json": {
       "id": "p1292"
      }
     },
     "output_type": "display_data"
    }
   ],
   "source": [
    "df = pd.read_csv(\"C:\\Tugas_Materi Kuliah\\S6\\Visualisasi Data\\Tugas Besar\\Dataset Netflix Shows.csv\")\n",
    "df['genre_list'] = df['listed_in'].apply(lambda x: [g.strip() for g in x.split(',')])\n",
    "genre_df = df.explode('genre_list')\n",
    "top_genres = genre_df['genre_list'].value_counts().head(10)\n",
    "\n",
    "source = ColumnDataSource(data=dict(\n",
    "    genres=top_genres.index[::-1].tolist(),\n",
    "    counts=top_genres.values[::-1]\n",
    "))\n",
    "\n",
    "p1 = figure(y_range=top_genres.index[::-1].tolist(), height=400, width=600, \n",
    "            title=\"Top 10 Genre Sepanjang Tahun\", tools=\"hover\", \n",
    "            tooltips=[(\"Genre\", \"@genres\"), (\"Jumlah\", \"@counts\")])\n",
    "p1.hbar(y='genres', right='counts', height=0.5, source=source, color=\"navy\")\n",
    "\n",
    "show(p1)\n"
   ]
  },
  {
   "cell_type": "code",
   "execution_count": null,
   "id": "e682bac1",
   "metadata": {},
   "outputs": [
    {
     "data": {
      "application/vnd.plotly.v1+json": {
       "config": {
        "plotlyServerURL": "https://plot.ly"
       },
       "data": [
        {
         "hovertemplate": "Genre=%{x}<br>Tahun Rilis=1942<br>Jumlah Rilis=%{y}<extra></extra>",
         "ids": [
          "International Movies"
         ],
         "legendgroup": "International Movies",
         "marker": {
          "color": "#636efa",
          "pattern": {
           "shape": ""
          }
         },
         "name": "International Movies",
         "orientation": "v",
         "showlegend": true,
         "textposition": "auto",
         "type": "bar",
         "x": [
          "International Movies"
         ],
         "xaxis": "x",
         "y": {
          "bdata": "AA==",
          "dtype": "i1"
         },
         "yaxis": "y"
        },
        {
         "hovertemplate": "Genre=%{x}<br>Tahun Rilis=1942<br>Jumlah Rilis=%{y}<extra></extra>",
         "ids": [
          "Dramas"
         ],
         "legendgroup": "Dramas",
         "marker": {
          "color": "#EF553B",
          "pattern": {
           "shape": ""
          }
         },
         "name": "Dramas",
         "orientation": "v",
         "showlegend": true,
         "textposition": "auto",
         "type": "bar",
         "x": [
          "Dramas"
         ],
         "xaxis": "x",
         "y": {
          "bdata": "AA==",
          "dtype": "i1"
         },
         "yaxis": "y"
        },
        {
         "hovertemplate": "Genre=%{x}<br>Tahun Rilis=1942<br>Jumlah Rilis=%{y}<extra></extra>",
         "ids": [
          "Comedies"
         ],
         "legendgroup": "Comedies",
         "marker": {
          "color": "#00cc96",
          "pattern": {
           "shape": ""
          }
         },
         "name": "Comedies",
         "orientation": "v",
         "showlegend": true,
         "textposition": "auto",
         "type": "bar",
         "x": [
          "Comedies"
         ],
         "xaxis": "x",
         "y": {
          "bdata": "AA==",
          "dtype": "i1"
         },
         "yaxis": "y"
        },
        {
         "hovertemplate": "Genre=%{x}<br>Tahun Rilis=1942<br>Jumlah Rilis=%{y}<extra></extra>",
         "ids": [
          "Action & Adventure"
         ],
         "legendgroup": "Action & Adventure",
         "marker": {
          "color": "#ab63fa",
          "pattern": {
           "shape": ""
          }
         },
         "name": "Action & Adventure",
         "orientation": "v",
         "showlegend": true,
         "textposition": "auto",
         "type": "bar",
         "x": [
          "Action & Adventure"
         ],
         "xaxis": "x",
         "y": {
          "bdata": "AA==",
          "dtype": "i1"
         },
         "yaxis": "y"
        },
        {
         "hovertemplate": "Genre=%{x}<br>Tahun Rilis=1942<br>Jumlah Rilis=%{y}<extra></extra>",
         "ids": [
          "Independent Movies"
         ],
         "legendgroup": "Independent Movies",
         "marker": {
          "color": "#FFA15A",
          "pattern": {
           "shape": ""
          }
         },
         "name": "Independent Movies",
         "orientation": "v",
         "showlegend": true,
         "textposition": "auto",
         "type": "bar",
         "x": [
          "Independent Movies"
         ],
         "xaxis": "x",
         "y": {
          "bdata": "AA==",
          "dtype": "i1"
         },
         "yaxis": "y"
        },
        {
         "hovertemplate": "Genre=%{x}<br>Tahun Rilis=1942<br>Jumlah Rilis=%{y}<extra></extra>",
         "ids": [
          "Romantic Movies"
         ],
         "legendgroup": "Romantic Movies",
         "marker": {
          "color": "#19d3f3",
          "pattern": {
           "shape": ""
          }
         },
         "name": "Romantic Movies",
         "orientation": "v",
         "showlegend": true,
         "textposition": "auto",
         "type": "bar",
         "x": [
          "Romantic Movies"
         ],
         "xaxis": "x",
         "y": {
          "bdata": "AA==",
          "dtype": "i1"
         },
         "yaxis": "y"
        },
        {
         "hovertemplate": "Genre=%{x}<br>Tahun Rilis=1942<br>Jumlah Rilis=%{y}<extra></extra>",
         "ids": [
          "Thrillers"
         ],
         "legendgroup": "Thrillers",
         "marker": {
          "color": "#FF6692",
          "pattern": {
           "shape": ""
          }
         },
         "name": "Thrillers",
         "orientation": "v",
         "showlegend": true,
         "textposition": "auto",
         "type": "bar",
         "x": [
          "Thrillers"
         ],
         "xaxis": "x",
         "y": {
          "bdata": "AA==",
          "dtype": "i1"
         },
         "yaxis": "y"
        },
        {
         "hovertemplate": "Genre=%{x}<br>Tahun Rilis=1942<br>Jumlah Rilis=%{y}<extra></extra>",
         "ids": [
          "Children & Family Movies"
         ],
         "legendgroup": "Children & Family Movies",
         "marker": {
          "color": "#B6E880",
          "pattern": {
           "shape": ""
          }
         },
         "name": "Children & Family Movies",
         "orientation": "v",
         "showlegend": true,
         "textposition": "auto",
         "type": "bar",
         "x": [
          "Children & Family Movies"
         ],
         "xaxis": "x",
         "y": {
          "bdata": "AA==",
          "dtype": "i1"
         },
         "yaxis": "y"
        },
        {
         "hovertemplate": "Genre=%{x}<br>Tahun Rilis=1942<br>Jumlah Rilis=%{y}<extra></extra>",
         "ids": [
          "Documentaries"
         ],
         "legendgroup": "Documentaries",
         "marker": {
          "color": "#FF97FF",
          "pattern": {
           "shape": ""
          }
         },
         "name": "Documentaries",
         "orientation": "v",
         "showlegend": true,
         "textposition": "auto",
         "type": "bar",
         "x": [
          "Documentaries"
         ],
         "xaxis": "x",
         "y": {
          "bdata": "AQ==",
          "dtype": "i1"
         },
         "yaxis": "y"
        },
        {
         "hovertemplate": "Genre=%{x}<br>Tahun Rilis=1942<br>Jumlah Rilis=%{y}<extra></extra>",
         "ids": [
          "Horror Movies"
         ],
         "legendgroup": "Horror Movies",
         "marker": {
          "color": "#FECB52",
          "pattern": {
           "shape": ""
          }
         },
         "name": "Horror Movies",
         "orientation": "v",
         "showlegend": true,
         "textposition": "auto",
         "type": "bar",
         "x": [
          "Horror Movies"
         ],
         "xaxis": "x",
         "y": {
          "bdata": "AA==",
          "dtype": "i1"
         },
         "yaxis": "y"
        }
       ],
       "frames": [
        {
         "data": [
          {
           "hovertemplate": "Genre=%{x}<br>Tahun Rilis=1942<br>Jumlah Rilis=%{y}<extra></extra>",
           "ids": [
            "International Movies"
           ],
           "legendgroup": "International Movies",
           "marker": {
            "color": "#636efa",
            "pattern": {
             "shape": ""
            }
           },
           "name": "International Movies",
           "orientation": "v",
           "showlegend": true,
           "textposition": "auto",
           "type": "bar",
           "x": [
            "International Movies"
           ],
           "xaxis": "x",
           "y": {
            "bdata": "AA==",
            "dtype": "i1"
           },
           "yaxis": "y"
          },
          {
           "hovertemplate": "Genre=%{x}<br>Tahun Rilis=1942<br>Jumlah Rilis=%{y}<extra></extra>",
           "ids": [
            "Dramas"
           ],
           "legendgroup": "Dramas",
           "marker": {
            "color": "#EF553B",
            "pattern": {
             "shape": ""
            }
           },
           "name": "Dramas",
           "orientation": "v",
           "showlegend": true,
           "textposition": "auto",
           "type": "bar",
           "x": [
            "Dramas"
           ],
           "xaxis": "x",
           "y": {
            "bdata": "AA==",
            "dtype": "i1"
           },
           "yaxis": "y"
          },
          {
           "hovertemplate": "Genre=%{x}<br>Tahun Rilis=1942<br>Jumlah Rilis=%{y}<extra></extra>",
           "ids": [
            "Comedies"
           ],
           "legendgroup": "Comedies",
           "marker": {
            "color": "#00cc96",
            "pattern": {
             "shape": ""
            }
           },
           "name": "Comedies",
           "orientation": "v",
           "showlegend": true,
           "textposition": "auto",
           "type": "bar",
           "x": [
            "Comedies"
           ],
           "xaxis": "x",
           "y": {
            "bdata": "AA==",
            "dtype": "i1"
           },
           "yaxis": "y"
          },
          {
           "hovertemplate": "Genre=%{x}<br>Tahun Rilis=1942<br>Jumlah Rilis=%{y}<extra></extra>",
           "ids": [
            "Action & Adventure"
           ],
           "legendgroup": "Action & Adventure",
           "marker": {
            "color": "#ab63fa",
            "pattern": {
             "shape": ""
            }
           },
           "name": "Action & Adventure",
           "orientation": "v",
           "showlegend": true,
           "textposition": "auto",
           "type": "bar",
           "x": [
            "Action & Adventure"
           ],
           "xaxis": "x",
           "y": {
            "bdata": "AA==",
            "dtype": "i1"
           },
           "yaxis": "y"
          },
          {
           "hovertemplate": "Genre=%{x}<br>Tahun Rilis=1942<br>Jumlah Rilis=%{y}<extra></extra>",
           "ids": [
            "Independent Movies"
           ],
           "legendgroup": "Independent Movies",
           "marker": {
            "color": "#FFA15A",
            "pattern": {
             "shape": ""
            }
           },
           "name": "Independent Movies",
           "orientation": "v",
           "showlegend": true,
           "textposition": "auto",
           "type": "bar",
           "x": [
            "Independent Movies"
           ],
           "xaxis": "x",
           "y": {
            "bdata": "AA==",
            "dtype": "i1"
           },
           "yaxis": "y"
          },
          {
           "hovertemplate": "Genre=%{x}<br>Tahun Rilis=1942<br>Jumlah Rilis=%{y}<extra></extra>",
           "ids": [
            "Romantic Movies"
           ],
           "legendgroup": "Romantic Movies",
           "marker": {
            "color": "#19d3f3",
            "pattern": {
             "shape": ""
            }
           },
           "name": "Romantic Movies",
           "orientation": "v",
           "showlegend": true,
           "textposition": "auto",
           "type": "bar",
           "x": [
            "Romantic Movies"
           ],
           "xaxis": "x",
           "y": {
            "bdata": "AA==",
            "dtype": "i1"
           },
           "yaxis": "y"
          },
          {
           "hovertemplate": "Genre=%{x}<br>Tahun Rilis=1942<br>Jumlah Rilis=%{y}<extra></extra>",
           "ids": [
            "Thrillers"
           ],
           "legendgroup": "Thrillers",
           "marker": {
            "color": "#FF6692",
            "pattern": {
             "shape": ""
            }
           },
           "name": "Thrillers",
           "orientation": "v",
           "showlegend": true,
           "textposition": "auto",
           "type": "bar",
           "x": [
            "Thrillers"
           ],
           "xaxis": "x",
           "y": {
            "bdata": "AA==",
            "dtype": "i1"
           },
           "yaxis": "y"
          },
          {
           "hovertemplate": "Genre=%{x}<br>Tahun Rilis=1942<br>Jumlah Rilis=%{y}<extra></extra>",
           "ids": [
            "Children & Family Movies"
           ],
           "legendgroup": "Children & Family Movies",
           "marker": {
            "color": "#B6E880",
            "pattern": {
             "shape": ""
            }
           },
           "name": "Children & Family Movies",
           "orientation": "v",
           "showlegend": true,
           "textposition": "auto",
           "type": "bar",
           "x": [
            "Children & Family Movies"
           ],
           "xaxis": "x",
           "y": {
            "bdata": "AA==",
            "dtype": "i1"
           },
           "yaxis": "y"
          },
          {
           "hovertemplate": "Genre=%{x}<br>Tahun Rilis=1942<br>Jumlah Rilis=%{y}<extra></extra>",
           "ids": [
            "Documentaries"
           ],
           "legendgroup": "Documentaries",
           "marker": {
            "color": "#FF97FF",
            "pattern": {
             "shape": ""
            }
           },
           "name": "Documentaries",
           "orientation": "v",
           "showlegend": true,
           "textposition": "auto",
           "type": "bar",
           "x": [
            "Documentaries"
           ],
           "xaxis": "x",
           "y": {
            "bdata": "AQ==",
            "dtype": "i1"
           },
           "yaxis": "y"
          },
          {
           "hovertemplate": "Genre=%{x}<br>Tahun Rilis=1942<br>Jumlah Rilis=%{y}<extra></extra>",
           "ids": [
            "Horror Movies"
           ],
           "legendgroup": "Horror Movies",
           "marker": {
            "color": "#FECB52",
            "pattern": {
             "shape": ""
            }
           },
           "name": "Horror Movies",
           "orientation": "v",
           "showlegend": true,
           "textposition": "auto",
           "type": "bar",
           "x": [
            "Horror Movies"
           ],
           "xaxis": "x",
           "y": {
            "bdata": "AA==",
            "dtype": "i1"
           },
           "yaxis": "y"
          }
         ],
         "name": "1942"
        },
        {
         "data": [
          {
           "hovertemplate": "Genre=%{x}<br>Tahun Rilis=1944<br>Jumlah Rilis=%{y}<extra></extra>",
           "ids": [
            "International Movies"
           ],
           "legendgroup": "International Movies",
           "marker": {
            "color": "#636efa",
            "pattern": {
             "shape": ""
            }
           },
           "name": "International Movies",
           "orientation": "v",
           "showlegend": true,
           "textposition": "auto",
           "type": "bar",
           "x": [
            "International Movies"
           ],
           "xaxis": "x",
           "y": {
            "bdata": "AA==",
            "dtype": "i1"
           },
           "yaxis": "y"
          },
          {
           "hovertemplate": "Genre=%{x}<br>Tahun Rilis=1944<br>Jumlah Rilis=%{y}<extra></extra>",
           "ids": [
            "Dramas"
           ],
           "legendgroup": "Dramas",
           "marker": {
            "color": "#EF553B",
            "pattern": {
             "shape": ""
            }
           },
           "name": "Dramas",
           "orientation": "v",
           "showlegend": true,
           "textposition": "auto",
           "type": "bar",
           "x": [
            "Dramas"
           ],
           "xaxis": "x",
           "y": {
            "bdata": "AA==",
            "dtype": "i1"
           },
           "yaxis": "y"
          },
          {
           "hovertemplate": "Genre=%{x}<br>Tahun Rilis=1944<br>Jumlah Rilis=%{y}<extra></extra>",
           "ids": [
            "Comedies"
           ],
           "legendgroup": "Comedies",
           "marker": {
            "color": "#00cc96",
            "pattern": {
             "shape": ""
            }
           },
           "name": "Comedies",
           "orientation": "v",
           "showlegend": true,
           "textposition": "auto",
           "type": "bar",
           "x": [
            "Comedies"
           ],
           "xaxis": "x",
           "y": {
            "bdata": "AA==",
            "dtype": "i1"
           },
           "yaxis": "y"
          },
          {
           "hovertemplate": "Genre=%{x}<br>Tahun Rilis=1944<br>Jumlah Rilis=%{y}<extra></extra>",
           "ids": [
            "Action & Adventure"
           ],
           "legendgroup": "Action & Adventure",
           "marker": {
            "color": "#ab63fa",
            "pattern": {
             "shape": ""
            }
           },
           "name": "Action & Adventure",
           "orientation": "v",
           "showlegend": true,
           "textposition": "auto",
           "type": "bar",
           "x": [
            "Action & Adventure"
           ],
           "xaxis": "x",
           "y": {
            "bdata": "AA==",
            "dtype": "i1"
           },
           "yaxis": "y"
          },
          {
           "hovertemplate": "Genre=%{x}<br>Tahun Rilis=1944<br>Jumlah Rilis=%{y}<extra></extra>",
           "ids": [
            "Independent Movies"
           ],
           "legendgroup": "Independent Movies",
           "marker": {
            "color": "#FFA15A",
            "pattern": {
             "shape": ""
            }
           },
           "name": "Independent Movies",
           "orientation": "v",
           "showlegend": true,
           "textposition": "auto",
           "type": "bar",
           "x": [
            "Independent Movies"
           ],
           "xaxis": "x",
           "y": {
            "bdata": "AA==",
            "dtype": "i1"
           },
           "yaxis": "y"
          },
          {
           "hovertemplate": "Genre=%{x}<br>Tahun Rilis=1944<br>Jumlah Rilis=%{y}<extra></extra>",
           "ids": [
            "Romantic Movies"
           ],
           "legendgroup": "Romantic Movies",
           "marker": {
            "color": "#19d3f3",
            "pattern": {
             "shape": ""
            }
           },
           "name": "Romantic Movies",
           "orientation": "v",
           "showlegend": true,
           "textposition": "auto",
           "type": "bar",
           "x": [
            "Romantic Movies"
           ],
           "xaxis": "x",
           "y": {
            "bdata": "AA==",
            "dtype": "i1"
           },
           "yaxis": "y"
          },
          {
           "hovertemplate": "Genre=%{x}<br>Tahun Rilis=1944<br>Jumlah Rilis=%{y}<extra></extra>",
           "ids": [
            "Thrillers"
           ],
           "legendgroup": "Thrillers",
           "marker": {
            "color": "#FF6692",
            "pattern": {
             "shape": ""
            }
           },
           "name": "Thrillers",
           "orientation": "v",
           "showlegend": true,
           "textposition": "auto",
           "type": "bar",
           "x": [
            "Thrillers"
           ],
           "xaxis": "x",
           "y": {
            "bdata": "AA==",
            "dtype": "i1"
           },
           "yaxis": "y"
          },
          {
           "hovertemplate": "Genre=%{x}<br>Tahun Rilis=1944<br>Jumlah Rilis=%{y}<extra></extra>",
           "ids": [
            "Children & Family Movies"
           ],
           "legendgroup": "Children & Family Movies",
           "marker": {
            "color": "#B6E880",
            "pattern": {
             "shape": ""
            }
           },
           "name": "Children & Family Movies",
           "orientation": "v",
           "showlegend": true,
           "textposition": "auto",
           "type": "bar",
           "x": [
            "Children & Family Movies"
           ],
           "xaxis": "x",
           "y": {
            "bdata": "AA==",
            "dtype": "i1"
           },
           "yaxis": "y"
          },
          {
           "hovertemplate": "Genre=%{x}<br>Tahun Rilis=1944<br>Jumlah Rilis=%{y}<extra></extra>",
           "ids": [
            "Documentaries"
           ],
           "legendgroup": "Documentaries",
           "marker": {
            "color": "#FF97FF",
            "pattern": {
             "shape": ""
            }
           },
           "name": "Documentaries",
           "orientation": "v",
           "showlegend": true,
           "textposition": "auto",
           "type": "bar",
           "x": [
            "Documentaries"
           ],
           "xaxis": "x",
           "y": {
            "bdata": "AQ==",
            "dtype": "i1"
           },
           "yaxis": "y"
          },
          {
           "hovertemplate": "Genre=%{x}<br>Tahun Rilis=1944<br>Jumlah Rilis=%{y}<extra></extra>",
           "ids": [
            "Horror Movies"
           ],
           "legendgroup": "Horror Movies",
           "marker": {
            "color": "#FECB52",
            "pattern": {
             "shape": ""
            }
           },
           "name": "Horror Movies",
           "orientation": "v",
           "showlegend": true,
           "textposition": "auto",
           "type": "bar",
           "x": [
            "Horror Movies"
           ],
           "xaxis": "x",
           "y": {
            "bdata": "AA==",
            "dtype": "i1"
           },
           "yaxis": "y"
          }
         ],
         "name": "1944"
        },
        {
         "data": [
          {
           "hovertemplate": "Genre=%{x}<br>Tahun Rilis=1945<br>Jumlah Rilis=%{y}<extra></extra>",
           "ids": [
            "International Movies"
           ],
           "legendgroup": "International Movies",
           "marker": {
            "color": "#636efa",
            "pattern": {
             "shape": ""
            }
           },
           "name": "International Movies",
           "orientation": "v",
           "showlegend": true,
           "textposition": "auto",
           "type": "bar",
           "x": [
            "International Movies"
           ],
           "xaxis": "x",
           "y": {
            "bdata": "AA==",
            "dtype": "i1"
           },
           "yaxis": "y"
          },
          {
           "hovertemplate": "Genre=%{x}<br>Tahun Rilis=1945<br>Jumlah Rilis=%{y}<extra></extra>",
           "ids": [
            "Dramas"
           ],
           "legendgroup": "Dramas",
           "marker": {
            "color": "#EF553B",
            "pattern": {
             "shape": ""
            }
           },
           "name": "Dramas",
           "orientation": "v",
           "showlegend": true,
           "textposition": "auto",
           "type": "bar",
           "x": [
            "Dramas"
           ],
           "xaxis": "x",
           "y": {
            "bdata": "AA==",
            "dtype": "i1"
           },
           "yaxis": "y"
          },
          {
           "hovertemplate": "Genre=%{x}<br>Tahun Rilis=1945<br>Jumlah Rilis=%{y}<extra></extra>",
           "ids": [
            "Comedies"
           ],
           "legendgroup": "Comedies",
           "marker": {
            "color": "#00cc96",
            "pattern": {
             "shape": ""
            }
           },
           "name": "Comedies",
           "orientation": "v",
           "showlegend": true,
           "textposition": "auto",
           "type": "bar",
           "x": [
            "Comedies"
           ],
           "xaxis": "x",
           "y": {
            "bdata": "AA==",
            "dtype": "i1"
           },
           "yaxis": "y"
          },
          {
           "hovertemplate": "Genre=%{x}<br>Tahun Rilis=1945<br>Jumlah Rilis=%{y}<extra></extra>",
           "ids": [
            "Action & Adventure"
           ],
           "legendgroup": "Action & Adventure",
           "marker": {
            "color": "#ab63fa",
            "pattern": {
             "shape": ""
            }
           },
           "name": "Action & Adventure",
           "orientation": "v",
           "showlegend": true,
           "textposition": "auto",
           "type": "bar",
           "x": [
            "Action & Adventure"
           ],
           "xaxis": "x",
           "y": {
            "bdata": "AA==",
            "dtype": "i1"
           },
           "yaxis": "y"
          },
          {
           "hovertemplate": "Genre=%{x}<br>Tahun Rilis=1945<br>Jumlah Rilis=%{y}<extra></extra>",
           "ids": [
            "Independent Movies"
           ],
           "legendgroup": "Independent Movies",
           "marker": {
            "color": "#FFA15A",
            "pattern": {
             "shape": ""
            }
           },
           "name": "Independent Movies",
           "orientation": "v",
           "showlegend": true,
           "textposition": "auto",
           "type": "bar",
           "x": [
            "Independent Movies"
           ],
           "xaxis": "x",
           "y": {
            "bdata": "AA==",
            "dtype": "i1"
           },
           "yaxis": "y"
          },
          {
           "hovertemplate": "Genre=%{x}<br>Tahun Rilis=1945<br>Jumlah Rilis=%{y}<extra></extra>",
           "ids": [
            "Romantic Movies"
           ],
           "legendgroup": "Romantic Movies",
           "marker": {
            "color": "#19d3f3",
            "pattern": {
             "shape": ""
            }
           },
           "name": "Romantic Movies",
           "orientation": "v",
           "showlegend": true,
           "textposition": "auto",
           "type": "bar",
           "x": [
            "Romantic Movies"
           ],
           "xaxis": "x",
           "y": {
            "bdata": "AA==",
            "dtype": "i1"
           },
           "yaxis": "y"
          },
          {
           "hovertemplate": "Genre=%{x}<br>Tahun Rilis=1945<br>Jumlah Rilis=%{y}<extra></extra>",
           "ids": [
            "Thrillers"
           ],
           "legendgroup": "Thrillers",
           "marker": {
            "color": "#FF6692",
            "pattern": {
             "shape": ""
            }
           },
           "name": "Thrillers",
           "orientation": "v",
           "showlegend": true,
           "textposition": "auto",
           "type": "bar",
           "x": [
            "Thrillers"
           ],
           "xaxis": "x",
           "y": {
            "bdata": "AA==",
            "dtype": "i1"
           },
           "yaxis": "y"
          },
          {
           "hovertemplate": "Genre=%{x}<br>Tahun Rilis=1945<br>Jumlah Rilis=%{y}<extra></extra>",
           "ids": [
            "Children & Family Movies"
           ],
           "legendgroup": "Children & Family Movies",
           "marker": {
            "color": "#B6E880",
            "pattern": {
             "shape": ""
            }
           },
           "name": "Children & Family Movies",
           "orientation": "v",
           "showlegend": true,
           "textposition": "auto",
           "type": "bar",
           "x": [
            "Children & Family Movies"
           ],
           "xaxis": "x",
           "y": {
            "bdata": "AA==",
            "dtype": "i1"
           },
           "yaxis": "y"
          },
          {
           "hovertemplate": "Genre=%{x}<br>Tahun Rilis=1945<br>Jumlah Rilis=%{y}<extra></extra>",
           "ids": [
            "Documentaries"
           ],
           "legendgroup": "Documentaries",
           "marker": {
            "color": "#FF97FF",
            "pattern": {
             "shape": ""
            }
           },
           "name": "Documentaries",
           "orientation": "v",
           "showlegend": true,
           "textposition": "auto",
           "type": "bar",
           "x": [
            "Documentaries"
           ],
           "xaxis": "x",
           "y": {
            "bdata": "AQ==",
            "dtype": "i1"
           },
           "yaxis": "y"
          },
          {
           "hovertemplate": "Genre=%{x}<br>Tahun Rilis=1945<br>Jumlah Rilis=%{y}<extra></extra>",
           "ids": [
            "Horror Movies"
           ],
           "legendgroup": "Horror Movies",
           "marker": {
            "color": "#FECB52",
            "pattern": {
             "shape": ""
            }
           },
           "name": "Horror Movies",
           "orientation": "v",
           "showlegend": true,
           "textposition": "auto",
           "type": "bar",
           "x": [
            "Horror Movies"
           ],
           "xaxis": "x",
           "y": {
            "bdata": "AA==",
            "dtype": "i1"
           },
           "yaxis": "y"
          }
         ],
         "name": "1945"
        },
        {
         "data": [
          {
           "hovertemplate": "Genre=%{x}<br>Tahun Rilis=1946<br>Jumlah Rilis=%{y}<extra></extra>",
           "ids": [
            "International Movies"
           ],
           "legendgroup": "International Movies",
           "marker": {
            "color": "#636efa",
            "pattern": {
             "shape": ""
            }
           },
           "name": "International Movies",
           "orientation": "v",
           "showlegend": true,
           "textposition": "auto",
           "type": "bar",
           "x": [
            "International Movies"
           ],
           "xaxis": "x",
           "y": {
            "bdata": "AA==",
            "dtype": "i1"
           },
           "yaxis": "y"
          },
          {
           "hovertemplate": "Genre=%{x}<br>Tahun Rilis=1946<br>Jumlah Rilis=%{y}<extra></extra>",
           "ids": [
            "Dramas"
           ],
           "legendgroup": "Dramas",
           "marker": {
            "color": "#EF553B",
            "pattern": {
             "shape": ""
            }
           },
           "name": "Dramas",
           "orientation": "v",
           "showlegend": true,
           "textposition": "auto",
           "type": "bar",
           "x": [
            "Dramas"
           ],
           "xaxis": "x",
           "y": {
            "bdata": "AA==",
            "dtype": "i1"
           },
           "yaxis": "y"
          },
          {
           "hovertemplate": "Genre=%{x}<br>Tahun Rilis=1946<br>Jumlah Rilis=%{y}<extra></extra>",
           "ids": [
            "Comedies"
           ],
           "legendgroup": "Comedies",
           "marker": {
            "color": "#00cc96",
            "pattern": {
             "shape": ""
            }
           },
           "name": "Comedies",
           "orientation": "v",
           "showlegend": true,
           "textposition": "auto",
           "type": "bar",
           "x": [
            "Comedies"
           ],
           "xaxis": "x",
           "y": {
            "bdata": "AA==",
            "dtype": "i1"
           },
           "yaxis": "y"
          },
          {
           "hovertemplate": "Genre=%{x}<br>Tahun Rilis=1946<br>Jumlah Rilis=%{y}<extra></extra>",
           "ids": [
            "Action & Adventure"
           ],
           "legendgroup": "Action & Adventure",
           "marker": {
            "color": "#ab63fa",
            "pattern": {
             "shape": ""
            }
           },
           "name": "Action & Adventure",
           "orientation": "v",
           "showlegend": true,
           "textposition": "auto",
           "type": "bar",
           "x": [
            "Action & Adventure"
           ],
           "xaxis": "x",
           "y": {
            "bdata": "AA==",
            "dtype": "i1"
           },
           "yaxis": "y"
          },
          {
           "hovertemplate": "Genre=%{x}<br>Tahun Rilis=1946<br>Jumlah Rilis=%{y}<extra></extra>",
           "ids": [
            "Independent Movies"
           ],
           "legendgroup": "Independent Movies",
           "marker": {
            "color": "#FFA15A",
            "pattern": {
             "shape": ""
            }
           },
           "name": "Independent Movies",
           "orientation": "v",
           "showlegend": true,
           "textposition": "auto",
           "type": "bar",
           "x": [
            "Independent Movies"
           ],
           "xaxis": "x",
           "y": {
            "bdata": "AA==",
            "dtype": "i1"
           },
           "yaxis": "y"
          },
          {
           "hovertemplate": "Genre=%{x}<br>Tahun Rilis=1946<br>Jumlah Rilis=%{y}<extra></extra>",
           "ids": [
            "Romantic Movies"
           ],
           "legendgroup": "Romantic Movies",
           "marker": {
            "color": "#19d3f3",
            "pattern": {
             "shape": ""
            }
           },
           "name": "Romantic Movies",
           "orientation": "v",
           "showlegend": true,
           "textposition": "auto",
           "type": "bar",
           "x": [
            "Romantic Movies"
           ],
           "xaxis": "x",
           "y": {
            "bdata": "AA==",
            "dtype": "i1"
           },
           "yaxis": "y"
          },
          {
           "hovertemplate": "Genre=%{x}<br>Tahun Rilis=1946<br>Jumlah Rilis=%{y}<extra></extra>",
           "ids": [
            "Thrillers"
           ],
           "legendgroup": "Thrillers",
           "marker": {
            "color": "#FF6692",
            "pattern": {
             "shape": ""
            }
           },
           "name": "Thrillers",
           "orientation": "v",
           "showlegend": true,
           "textposition": "auto",
           "type": "bar",
           "x": [
            "Thrillers"
           ],
           "xaxis": "x",
           "y": {
            "bdata": "AA==",
            "dtype": "i1"
           },
           "yaxis": "y"
          },
          {
           "hovertemplate": "Genre=%{x}<br>Tahun Rilis=1946<br>Jumlah Rilis=%{y}<extra></extra>",
           "ids": [
            "Children & Family Movies"
           ],
           "legendgroup": "Children & Family Movies",
           "marker": {
            "color": "#B6E880",
            "pattern": {
             "shape": ""
            }
           },
           "name": "Children & Family Movies",
           "orientation": "v",
           "showlegend": true,
           "textposition": "auto",
           "type": "bar",
           "x": [
            "Children & Family Movies"
           ],
           "xaxis": "x",
           "y": {
            "bdata": "AA==",
            "dtype": "i1"
           },
           "yaxis": "y"
          },
          {
           "hovertemplate": "Genre=%{x}<br>Tahun Rilis=1946<br>Jumlah Rilis=%{y}<extra></extra>",
           "ids": [
            "Documentaries"
           ],
           "legendgroup": "Documentaries",
           "marker": {
            "color": "#FF97FF",
            "pattern": {
             "shape": ""
            }
           },
           "name": "Documentaries",
           "orientation": "v",
           "showlegend": true,
           "textposition": "auto",
           "type": "bar",
           "x": [
            "Documentaries"
           ],
           "xaxis": "x",
           "y": {
            "bdata": "AQ==",
            "dtype": "i1"
           },
           "yaxis": "y"
          },
          {
           "hovertemplate": "Genre=%{x}<br>Tahun Rilis=1946<br>Jumlah Rilis=%{y}<extra></extra>",
           "ids": [
            "Horror Movies"
           ],
           "legendgroup": "Horror Movies",
           "marker": {
            "color": "#FECB52",
            "pattern": {
             "shape": ""
            }
           },
           "name": "Horror Movies",
           "orientation": "v",
           "showlegend": true,
           "textposition": "auto",
           "type": "bar",
           "x": [
            "Horror Movies"
           ],
           "xaxis": "x",
           "y": {
            "bdata": "AA==",
            "dtype": "i1"
           },
           "yaxis": "y"
          }
         ],
         "name": "1946"
        },
        {
         "data": [
          {
           "hovertemplate": "Genre=%{x}<br>Tahun Rilis=1947<br>Jumlah Rilis=%{y}<extra></extra>",
           "ids": [
            "International Movies"
           ],
           "legendgroup": "International Movies",
           "marker": {
            "color": "#636efa",
            "pattern": {
             "shape": ""
            }
           },
           "name": "International Movies",
           "orientation": "v",
           "showlegend": true,
           "textposition": "auto",
           "type": "bar",
           "x": [
            "International Movies"
           ],
           "xaxis": "x",
           "y": {
            "bdata": "AA==",
            "dtype": "i1"
           },
           "yaxis": "y"
          },
          {
           "hovertemplate": "Genre=%{x}<br>Tahun Rilis=1947<br>Jumlah Rilis=%{y}<extra></extra>",
           "ids": [
            "Dramas"
           ],
           "legendgroup": "Dramas",
           "marker": {
            "color": "#EF553B",
            "pattern": {
             "shape": ""
            }
           },
           "name": "Dramas",
           "orientation": "v",
           "showlegend": true,
           "textposition": "auto",
           "type": "bar",
           "x": [
            "Dramas"
           ],
           "xaxis": "x",
           "y": {
            "bdata": "AA==",
            "dtype": "i1"
           },
           "yaxis": "y"
          },
          {
           "hovertemplate": "Genre=%{x}<br>Tahun Rilis=1947<br>Jumlah Rilis=%{y}<extra></extra>",
           "ids": [
            "Comedies"
           ],
           "legendgroup": "Comedies",
           "marker": {
            "color": "#00cc96",
            "pattern": {
             "shape": ""
            }
           },
           "name": "Comedies",
           "orientation": "v",
           "showlegend": true,
           "textposition": "auto",
           "type": "bar",
           "x": [
            "Comedies"
           ],
           "xaxis": "x",
           "y": {
            "bdata": "AA==",
            "dtype": "i1"
           },
           "yaxis": "y"
          },
          {
           "hovertemplate": "Genre=%{x}<br>Tahun Rilis=1947<br>Jumlah Rilis=%{y}<extra></extra>",
           "ids": [
            "Action & Adventure"
           ],
           "legendgroup": "Action & Adventure",
           "marker": {
            "color": "#ab63fa",
            "pattern": {
             "shape": ""
            }
           },
           "name": "Action & Adventure",
           "orientation": "v",
           "showlegend": true,
           "textposition": "auto",
           "type": "bar",
           "x": [
            "Action & Adventure"
           ],
           "xaxis": "x",
           "y": {
            "bdata": "AA==",
            "dtype": "i1"
           },
           "yaxis": "y"
          },
          {
           "hovertemplate": "Genre=%{x}<br>Tahun Rilis=1947<br>Jumlah Rilis=%{y}<extra></extra>",
           "ids": [
            "Independent Movies"
           ],
           "legendgroup": "Independent Movies",
           "marker": {
            "color": "#FFA15A",
            "pattern": {
             "shape": ""
            }
           },
           "name": "Independent Movies",
           "orientation": "v",
           "showlegend": true,
           "textposition": "auto",
           "type": "bar",
           "x": [
            "Independent Movies"
           ],
           "xaxis": "x",
           "y": {
            "bdata": "AA==",
            "dtype": "i1"
           },
           "yaxis": "y"
          },
          {
           "hovertemplate": "Genre=%{x}<br>Tahun Rilis=1947<br>Jumlah Rilis=%{y}<extra></extra>",
           "ids": [
            "Romantic Movies"
           ],
           "legendgroup": "Romantic Movies",
           "marker": {
            "color": "#19d3f3",
            "pattern": {
             "shape": ""
            }
           },
           "name": "Romantic Movies",
           "orientation": "v",
           "showlegend": true,
           "textposition": "auto",
           "type": "bar",
           "x": [
            "Romantic Movies"
           ],
           "xaxis": "x",
           "y": {
            "bdata": "AA==",
            "dtype": "i1"
           },
           "yaxis": "y"
          },
          {
           "hovertemplate": "Genre=%{x}<br>Tahun Rilis=1947<br>Jumlah Rilis=%{y}<extra></extra>",
           "ids": [
            "Thrillers"
           ],
           "legendgroup": "Thrillers",
           "marker": {
            "color": "#FF6692",
            "pattern": {
             "shape": ""
            }
           },
           "name": "Thrillers",
           "orientation": "v",
           "showlegend": true,
           "textposition": "auto",
           "type": "bar",
           "x": [
            "Thrillers"
           ],
           "xaxis": "x",
           "y": {
            "bdata": "AA==",
            "dtype": "i1"
           },
           "yaxis": "y"
          },
          {
           "hovertemplate": "Genre=%{x}<br>Tahun Rilis=1947<br>Jumlah Rilis=%{y}<extra></extra>",
           "ids": [
            "Children & Family Movies"
           ],
           "legendgroup": "Children & Family Movies",
           "marker": {
            "color": "#B6E880",
            "pattern": {
             "shape": ""
            }
           },
           "name": "Children & Family Movies",
           "orientation": "v",
           "showlegend": true,
           "textposition": "auto",
           "type": "bar",
           "x": [
            "Children & Family Movies"
           ],
           "xaxis": "x",
           "y": {
            "bdata": "AA==",
            "dtype": "i1"
           },
           "yaxis": "y"
          },
          {
           "hovertemplate": "Genre=%{x}<br>Tahun Rilis=1947<br>Jumlah Rilis=%{y}<extra></extra>",
           "ids": [
            "Documentaries"
           ],
           "legendgroup": "Documentaries",
           "marker": {
            "color": "#FF97FF",
            "pattern": {
             "shape": ""
            }
           },
           "name": "Documentaries",
           "orientation": "v",
           "showlegend": true,
           "textposition": "auto",
           "type": "bar",
           "x": [
            "Documentaries"
           ],
           "xaxis": "x",
           "y": {
            "bdata": "AQ==",
            "dtype": "i1"
           },
           "yaxis": "y"
          },
          {
           "hovertemplate": "Genre=%{x}<br>Tahun Rilis=1947<br>Jumlah Rilis=%{y}<extra></extra>",
           "ids": [
            "Horror Movies"
           ],
           "legendgroup": "Horror Movies",
           "marker": {
            "color": "#FECB52",
            "pattern": {
             "shape": ""
            }
           },
           "name": "Horror Movies",
           "orientation": "v",
           "showlegend": true,
           "textposition": "auto",
           "type": "bar",
           "x": [
            "Horror Movies"
           ],
           "xaxis": "x",
           "y": {
            "bdata": "AA==",
            "dtype": "i1"
           },
           "yaxis": "y"
          }
         ],
         "name": "1947"
        },
        {
         "data": [
          {
           "hovertemplate": "Genre=%{x}<br>Tahun Rilis=1954<br>Jumlah Rilis=%{y}<extra></extra>",
           "ids": [
            "International Movies"
           ],
           "legendgroup": "International Movies",
           "marker": {
            "color": "#636efa",
            "pattern": {
             "shape": ""
            }
           },
           "name": "International Movies",
           "orientation": "v",
           "showlegend": true,
           "textposition": "auto",
           "type": "bar",
           "x": [
            "International Movies"
           ],
           "xaxis": "x",
           "y": {
            "bdata": "AQ==",
            "dtype": "i1"
           },
           "yaxis": "y"
          },
          {
           "hovertemplate": "Genre=%{x}<br>Tahun Rilis=1954<br>Jumlah Rilis=%{y}<extra></extra>",
           "ids": [
            "Dramas"
           ],
           "legendgroup": "Dramas",
           "marker": {
            "color": "#EF553B",
            "pattern": {
             "shape": ""
            }
           },
           "name": "Dramas",
           "orientation": "v",
           "showlegend": true,
           "textposition": "auto",
           "type": "bar",
           "x": [
            "Dramas"
           ],
           "xaxis": "x",
           "y": {
            "bdata": "AQ==",
            "dtype": "i1"
           },
           "yaxis": "y"
          },
          {
           "hovertemplate": "Genre=%{x}<br>Tahun Rilis=1954<br>Jumlah Rilis=%{y}<extra></extra>",
           "ids": [
            "Comedies"
           ],
           "legendgroup": "Comedies",
           "marker": {
            "color": "#00cc96",
            "pattern": {
             "shape": ""
            }
           },
           "name": "Comedies",
           "orientation": "v",
           "showlegend": true,
           "textposition": "auto",
           "type": "bar",
           "x": [
            "Comedies"
           ],
           "xaxis": "x",
           "y": {
            "bdata": "AQ==",
            "dtype": "i1"
           },
           "yaxis": "y"
          },
          {
           "hovertemplate": "Genre=%{x}<br>Tahun Rilis=1954<br>Jumlah Rilis=%{y}<extra></extra>",
           "ids": [
            "Action & Adventure"
           ],
           "legendgroup": "Action & Adventure",
           "marker": {
            "color": "#ab63fa",
            "pattern": {
             "shape": ""
            }
           },
           "name": "Action & Adventure",
           "orientation": "v",
           "showlegend": true,
           "textposition": "auto",
           "type": "bar",
           "x": [
            "Action & Adventure"
           ],
           "xaxis": "x",
           "y": {
            "bdata": "AA==",
            "dtype": "i1"
           },
           "yaxis": "y"
          },
          {
           "hovertemplate": "Genre=%{x}<br>Tahun Rilis=1954<br>Jumlah Rilis=%{y}<extra></extra>",
           "ids": [
            "Independent Movies"
           ],
           "legendgroup": "Independent Movies",
           "marker": {
            "color": "#FFA15A",
            "pattern": {
             "shape": ""
            }
           },
           "name": "Independent Movies",
           "orientation": "v",
           "showlegend": true,
           "textposition": "auto",
           "type": "bar",
           "x": [
            "Independent Movies"
           ],
           "xaxis": "x",
           "y": {
            "bdata": "AA==",
            "dtype": "i1"
           },
           "yaxis": "y"
          },
          {
           "hovertemplate": "Genre=%{x}<br>Tahun Rilis=1954<br>Jumlah Rilis=%{y}<extra></extra>",
           "ids": [
            "Romantic Movies"
           ],
           "legendgroup": "Romantic Movies",
           "marker": {
            "color": "#19d3f3",
            "pattern": {
             "shape": ""
            }
           },
           "name": "Romantic Movies",
           "orientation": "v",
           "showlegend": true,
           "textposition": "auto",
           "type": "bar",
           "x": [
            "Romantic Movies"
           ],
           "xaxis": "x",
           "y": {
            "bdata": "AA==",
            "dtype": "i1"
           },
           "yaxis": "y"
          },
          {
           "hovertemplate": "Genre=%{x}<br>Tahun Rilis=1954<br>Jumlah Rilis=%{y}<extra></extra>",
           "ids": [
            "Thrillers"
           ],
           "legendgroup": "Thrillers",
           "marker": {
            "color": "#FF6692",
            "pattern": {
             "shape": ""
            }
           },
           "name": "Thrillers",
           "orientation": "v",
           "showlegend": true,
           "textposition": "auto",
           "type": "bar",
           "x": [
            "Thrillers"
           ],
           "xaxis": "x",
           "y": {
            "bdata": "AA==",
            "dtype": "i1"
           },
           "yaxis": "y"
          },
          {
           "hovertemplate": "Genre=%{x}<br>Tahun Rilis=1954<br>Jumlah Rilis=%{y}<extra></extra>",
           "ids": [
            "Children & Family Movies"
           ],
           "legendgroup": "Children & Family Movies",
           "marker": {
            "color": "#B6E880",
            "pattern": {
             "shape": ""
            }
           },
           "name": "Children & Family Movies",
           "orientation": "v",
           "showlegend": true,
           "textposition": "auto",
           "type": "bar",
           "x": [
            "Children & Family Movies"
           ],
           "xaxis": "x",
           "y": {
            "bdata": "AQ==",
            "dtype": "i1"
           },
           "yaxis": "y"
          },
          {
           "hovertemplate": "Genre=%{x}<br>Tahun Rilis=1954<br>Jumlah Rilis=%{y}<extra></extra>",
           "ids": [
            "Documentaries"
           ],
           "legendgroup": "Documentaries",
           "marker": {
            "color": "#FF97FF",
            "pattern": {
             "shape": ""
            }
           },
           "name": "Documentaries",
           "orientation": "v",
           "showlegend": true,
           "textposition": "auto",
           "type": "bar",
           "x": [
            "Documentaries"
           ],
           "xaxis": "x",
           "y": {
            "bdata": "AA==",
            "dtype": "i1"
           },
           "yaxis": "y"
          },
          {
           "hovertemplate": "Genre=%{x}<br>Tahun Rilis=1954<br>Jumlah Rilis=%{y}<extra></extra>",
           "ids": [
            "Horror Movies"
           ],
           "legendgroup": "Horror Movies",
           "marker": {
            "color": "#FECB52",
            "pattern": {
             "shape": ""
            }
           },
           "name": "Horror Movies",
           "orientation": "v",
           "showlegend": true,
           "textposition": "auto",
           "type": "bar",
           "x": [
            "Horror Movies"
           ],
           "xaxis": "x",
           "y": {
            "bdata": "AA==",
            "dtype": "i1"
           },
           "yaxis": "y"
          }
         ],
         "name": "1954"
        },
        {
         "data": [
          {
           "hovertemplate": "Genre=%{x}<br>Tahun Rilis=1955<br>Jumlah Rilis=%{y}<extra></extra>",
           "ids": [
            "International Movies"
           ],
           "legendgroup": "International Movies",
           "marker": {
            "color": "#636efa",
            "pattern": {
             "shape": ""
            }
           },
           "name": "International Movies",
           "orientation": "v",
           "showlegend": true,
           "textposition": "auto",
           "type": "bar",
           "x": [
            "International Movies"
           ],
           "xaxis": "x",
           "y": {
            "bdata": "AA==",
            "dtype": "i1"
           },
           "yaxis": "y"
          },
          {
           "hovertemplate": "Genre=%{x}<br>Tahun Rilis=1955<br>Jumlah Rilis=%{y}<extra></extra>",
           "ids": [
            "Dramas"
           ],
           "legendgroup": "Dramas",
           "marker": {
            "color": "#EF553B",
            "pattern": {
             "shape": ""
            }
           },
           "name": "Dramas",
           "orientation": "v",
           "showlegend": true,
           "textposition": "auto",
           "type": "bar",
           "x": [
            "Dramas"
           ],
           "xaxis": "x",
           "y": {
            "bdata": "AQ==",
            "dtype": "i1"
           },
           "yaxis": "y"
          },
          {
           "hovertemplate": "Genre=%{x}<br>Tahun Rilis=1955<br>Jumlah Rilis=%{y}<extra></extra>",
           "ids": [
            "Comedies"
           ],
           "legendgroup": "Comedies",
           "marker": {
            "color": "#00cc96",
            "pattern": {
             "shape": ""
            }
           },
           "name": "Comedies",
           "orientation": "v",
           "showlegend": true,
           "textposition": "auto",
           "type": "bar",
           "x": [
            "Comedies"
           ],
           "xaxis": "x",
           "y": {
            "bdata": "Ag==",
            "dtype": "i1"
           },
           "yaxis": "y"
          },
          {
           "hovertemplate": "Genre=%{x}<br>Tahun Rilis=1955<br>Jumlah Rilis=%{y}<extra></extra>",
           "ids": [
            "Action & Adventure"
           ],
           "legendgroup": "Action & Adventure",
           "marker": {
            "color": "#ab63fa",
            "pattern": {
             "shape": ""
            }
           },
           "name": "Action & Adventure",
           "orientation": "v",
           "showlegend": true,
           "textposition": "auto",
           "type": "bar",
           "x": [
            "Action & Adventure"
           ],
           "xaxis": "x",
           "y": {
            "bdata": "AA==",
            "dtype": "i1"
           },
           "yaxis": "y"
          },
          {
           "hovertemplate": "Genre=%{x}<br>Tahun Rilis=1955<br>Jumlah Rilis=%{y}<extra></extra>",
           "ids": [
            "Independent Movies"
           ],
           "legendgroup": "Independent Movies",
           "marker": {
            "color": "#FFA15A",
            "pattern": {
             "shape": ""
            }
           },
           "name": "Independent Movies",
           "orientation": "v",
           "showlegend": true,
           "textposition": "auto",
           "type": "bar",
           "x": [
            "Independent Movies"
           ],
           "xaxis": "x",
           "y": {
            "bdata": "Ag==",
            "dtype": "i1"
           },
           "yaxis": "y"
          },
          {
           "hovertemplate": "Genre=%{x}<br>Tahun Rilis=1955<br>Jumlah Rilis=%{y}<extra></extra>",
           "ids": [
            "Romantic Movies"
           ],
           "legendgroup": "Romantic Movies",
           "marker": {
            "color": "#19d3f3",
            "pattern": {
             "shape": ""
            }
           },
           "name": "Romantic Movies",
           "orientation": "v",
           "showlegend": true,
           "textposition": "auto",
           "type": "bar",
           "x": [
            "Romantic Movies"
           ],
           "xaxis": "x",
           "y": {
            "bdata": "AA==",
            "dtype": "i1"
           },
           "yaxis": "y"
          },
          {
           "hovertemplate": "Genre=%{x}<br>Tahun Rilis=1955<br>Jumlah Rilis=%{y}<extra></extra>",
           "ids": [
            "Thrillers"
           ],
           "legendgroup": "Thrillers",
           "marker": {
            "color": "#FF6692",
            "pattern": {
             "shape": ""
            }
           },
           "name": "Thrillers",
           "orientation": "v",
           "showlegend": true,
           "textposition": "auto",
           "type": "bar",
           "x": [
            "Thrillers"
           ],
           "xaxis": "x",
           "y": {
            "bdata": "AA==",
            "dtype": "i1"
           },
           "yaxis": "y"
          },
          {
           "hovertemplate": "Genre=%{x}<br>Tahun Rilis=1955<br>Jumlah Rilis=%{y}<extra></extra>",
           "ids": [
            "Children & Family Movies"
           ],
           "legendgroup": "Children & Family Movies",
           "marker": {
            "color": "#B6E880",
            "pattern": {
             "shape": ""
            }
           },
           "name": "Children & Family Movies",
           "orientation": "v",
           "showlegend": true,
           "textposition": "auto",
           "type": "bar",
           "x": [
            "Children & Family Movies"
           ],
           "xaxis": "x",
           "y": {
            "bdata": "AA==",
            "dtype": "i1"
           },
           "yaxis": "y"
          },
          {
           "hovertemplate": "Genre=%{x}<br>Tahun Rilis=1955<br>Jumlah Rilis=%{y}<extra></extra>",
           "ids": [
            "Documentaries"
           ],
           "legendgroup": "Documentaries",
           "marker": {
            "color": "#FF97FF",
            "pattern": {
             "shape": ""
            }
           },
           "name": "Documentaries",
           "orientation": "v",
           "showlegend": true,
           "textposition": "auto",
           "type": "bar",
           "x": [
            "Documentaries"
           ],
           "xaxis": "x",
           "y": {
            "bdata": "AA==",
            "dtype": "i1"
           },
           "yaxis": "y"
          },
          {
           "hovertemplate": "Genre=%{x}<br>Tahun Rilis=1955<br>Jumlah Rilis=%{y}<extra></extra>",
           "ids": [
            "Horror Movies"
           ],
           "legendgroup": "Horror Movies",
           "marker": {
            "color": "#FECB52",
            "pattern": {
             "shape": ""
            }
           },
           "name": "Horror Movies",
           "orientation": "v",
           "showlegend": true,
           "textposition": "auto",
           "type": "bar",
           "x": [
            "Horror Movies"
           ],
           "xaxis": "x",
           "y": {
            "bdata": "AA==",
            "dtype": "i1"
           },
           "yaxis": "y"
          }
         ],
         "name": "1955"
        },
        {
         "data": [
          {
           "hovertemplate": "Genre=%{x}<br>Tahun Rilis=1956<br>Jumlah Rilis=%{y}<extra></extra>",
           "ids": [
            "International Movies"
           ],
           "legendgroup": "International Movies",
           "marker": {
            "color": "#636efa",
            "pattern": {
             "shape": ""
            }
           },
           "name": "International Movies",
           "orientation": "v",
           "showlegend": true,
           "textposition": "auto",
           "type": "bar",
           "x": [
            "International Movies"
           ],
           "xaxis": "x",
           "y": {
            "bdata": "AQ==",
            "dtype": "i1"
           },
           "yaxis": "y"
          },
          {
           "hovertemplate": "Genre=%{x}<br>Tahun Rilis=1956<br>Jumlah Rilis=%{y}<extra></extra>",
           "ids": [
            "Dramas"
           ],
           "legendgroup": "Dramas",
           "marker": {
            "color": "#EF553B",
            "pattern": {
             "shape": ""
            }
           },
           "name": "Dramas",
           "orientation": "v",
           "showlegend": true,
           "textposition": "auto",
           "type": "bar",
           "x": [
            "Dramas"
           ],
           "xaxis": "x",
           "y": {
            "bdata": "AQ==",
            "dtype": "i1"
           },
           "yaxis": "y"
          },
          {
           "hovertemplate": "Genre=%{x}<br>Tahun Rilis=1956<br>Jumlah Rilis=%{y}<extra></extra>",
           "ids": [
            "Comedies"
           ],
           "legendgroup": "Comedies",
           "marker": {
            "color": "#00cc96",
            "pattern": {
             "shape": ""
            }
           },
           "name": "Comedies",
           "orientation": "v",
           "showlegend": true,
           "textposition": "auto",
           "type": "bar",
           "x": [
            "Comedies"
           ],
           "xaxis": "x",
           "y": {
            "bdata": "AA==",
            "dtype": "i1"
           },
           "yaxis": "y"
          },
          {
           "hovertemplate": "Genre=%{x}<br>Tahun Rilis=1956<br>Jumlah Rilis=%{y}<extra></extra>",
           "ids": [
            "Action & Adventure"
           ],
           "legendgroup": "Action & Adventure",
           "marker": {
            "color": "#ab63fa",
            "pattern": {
             "shape": ""
            }
           },
           "name": "Action & Adventure",
           "orientation": "v",
           "showlegend": true,
           "textposition": "auto",
           "type": "bar",
           "x": [
            "Action & Adventure"
           ],
           "xaxis": "x",
           "y": {
            "bdata": "AQ==",
            "dtype": "i1"
           },
           "yaxis": "y"
          },
          {
           "hovertemplate": "Genre=%{x}<br>Tahun Rilis=1956<br>Jumlah Rilis=%{y}<extra></extra>",
           "ids": [
            "Independent Movies"
           ],
           "legendgroup": "Independent Movies",
           "marker": {
            "color": "#FFA15A",
            "pattern": {
             "shape": ""
            }
           },
           "name": "Independent Movies",
           "orientation": "v",
           "showlegend": true,
           "textposition": "auto",
           "type": "bar",
           "x": [
            "Independent Movies"
           ],
           "xaxis": "x",
           "y": {
            "bdata": "AA==",
            "dtype": "i1"
           },
           "yaxis": "y"
          },
          {
           "hovertemplate": "Genre=%{x}<br>Tahun Rilis=1956<br>Jumlah Rilis=%{y}<extra></extra>",
           "ids": [
            "Romantic Movies"
           ],
           "legendgroup": "Romantic Movies",
           "marker": {
            "color": "#19d3f3",
            "pattern": {
             "shape": ""
            }
           },
           "name": "Romantic Movies",
           "orientation": "v",
           "showlegend": true,
           "textposition": "auto",
           "type": "bar",
           "x": [
            "Romantic Movies"
           ],
           "xaxis": "x",
           "y": {
            "bdata": "AA==",
            "dtype": "i1"
           },
           "yaxis": "y"
          },
          {
           "hovertemplate": "Genre=%{x}<br>Tahun Rilis=1956<br>Jumlah Rilis=%{y}<extra></extra>",
           "ids": [
            "Thrillers"
           ],
           "legendgroup": "Thrillers",
           "marker": {
            "color": "#FF6692",
            "pattern": {
             "shape": ""
            }
           },
           "name": "Thrillers",
           "orientation": "v",
           "showlegend": true,
           "textposition": "auto",
           "type": "bar",
           "x": [
            "Thrillers"
           ],
           "xaxis": "x",
           "y": {
            "bdata": "AA==",
            "dtype": "i1"
           },
           "yaxis": "y"
          },
          {
           "hovertemplate": "Genre=%{x}<br>Tahun Rilis=1956<br>Jumlah Rilis=%{y}<extra></extra>",
           "ids": [
            "Children & Family Movies"
           ],
           "legendgroup": "Children & Family Movies",
           "marker": {
            "color": "#B6E880",
            "pattern": {
             "shape": ""
            }
           },
           "name": "Children & Family Movies",
           "orientation": "v",
           "showlegend": true,
           "textposition": "auto",
           "type": "bar",
           "x": [
            "Children & Family Movies"
           ],
           "xaxis": "x",
           "y": {
            "bdata": "AA==",
            "dtype": "i1"
           },
           "yaxis": "y"
          },
          {
           "hovertemplate": "Genre=%{x}<br>Tahun Rilis=1956<br>Jumlah Rilis=%{y}<extra></extra>",
           "ids": [
            "Documentaries"
           ],
           "legendgroup": "Documentaries",
           "marker": {
            "color": "#FF97FF",
            "pattern": {
             "shape": ""
            }
           },
           "name": "Documentaries",
           "orientation": "v",
           "showlegend": true,
           "textposition": "auto",
           "type": "bar",
           "x": [
            "Documentaries"
           ],
           "xaxis": "x",
           "y": {
            "bdata": "AA==",
            "dtype": "i1"
           },
           "yaxis": "y"
          },
          {
           "hovertemplate": "Genre=%{x}<br>Tahun Rilis=1956<br>Jumlah Rilis=%{y}<extra></extra>",
           "ids": [
            "Horror Movies"
           ],
           "legendgroup": "Horror Movies",
           "marker": {
            "color": "#FECB52",
            "pattern": {
             "shape": ""
            }
           },
           "name": "Horror Movies",
           "orientation": "v",
           "showlegend": true,
           "textposition": "auto",
           "type": "bar",
           "x": [
            "Horror Movies"
           ],
           "xaxis": "x",
           "y": {
            "bdata": "AA==",
            "dtype": "i1"
           },
           "yaxis": "y"
          }
         ],
         "name": "1956"
        },
        {
         "data": [
          {
           "hovertemplate": "Genre=%{x}<br>Tahun Rilis=1958<br>Jumlah Rilis=%{y}<extra></extra>",
           "ids": [
            "International Movies"
           ],
           "legendgroup": "International Movies",
           "marker": {
            "color": "#636efa",
            "pattern": {
             "shape": ""
            }
           },
           "name": "International Movies",
           "orientation": "v",
           "showlegend": true,
           "textposition": "auto",
           "type": "bar",
           "x": [
            "International Movies"
           ],
           "xaxis": "x",
           "y": {
            "bdata": "AQ==",
            "dtype": "i1"
           },
           "yaxis": "y"
          },
          {
           "hovertemplate": "Genre=%{x}<br>Tahun Rilis=1958<br>Jumlah Rilis=%{y}<extra></extra>",
           "ids": [
            "Dramas"
           ],
           "legendgroup": "Dramas",
           "marker": {
            "color": "#EF553B",
            "pattern": {
             "shape": ""
            }
           },
           "name": "Dramas",
           "orientation": "v",
           "showlegend": true,
           "textposition": "auto",
           "type": "bar",
           "x": [
            "Dramas"
           ],
           "xaxis": "x",
           "y": {
            "bdata": "Ag==",
            "dtype": "i1"
           },
           "yaxis": "y"
          },
          {
           "hovertemplate": "Genre=%{x}<br>Tahun Rilis=1958<br>Jumlah Rilis=%{y}<extra></extra>",
           "ids": [
            "Comedies"
           ],
           "legendgroup": "Comedies",
           "marker": {
            "color": "#00cc96",
            "pattern": {
             "shape": ""
            }
           },
           "name": "Comedies",
           "orientation": "v",
           "showlegend": true,
           "textposition": "auto",
           "type": "bar",
           "x": [
            "Comedies"
           ],
           "xaxis": "x",
           "y": {
            "bdata": "AQ==",
            "dtype": "i1"
           },
           "yaxis": "y"
          },
          {
           "hovertemplate": "Genre=%{x}<br>Tahun Rilis=1958<br>Jumlah Rilis=%{y}<extra></extra>",
           "ids": [
            "Action & Adventure"
           ],
           "legendgroup": "Action & Adventure",
           "marker": {
            "color": "#ab63fa",
            "pattern": {
             "shape": ""
            }
           },
           "name": "Action & Adventure",
           "orientation": "v",
           "showlegend": true,
           "textposition": "auto",
           "type": "bar",
           "x": [
            "Action & Adventure"
           ],
           "xaxis": "x",
           "y": {
            "bdata": "AA==",
            "dtype": "i1"
           },
           "yaxis": "y"
          },
          {
           "hovertemplate": "Genre=%{x}<br>Tahun Rilis=1958<br>Jumlah Rilis=%{y}<extra></extra>",
           "ids": [
            "Independent Movies"
           ],
           "legendgroup": "Independent Movies",
           "marker": {
            "color": "#FFA15A",
            "pattern": {
             "shape": ""
            }
           },
           "name": "Independent Movies",
           "orientation": "v",
           "showlegend": true,
           "textposition": "auto",
           "type": "bar",
           "x": [
            "Independent Movies"
           ],
           "xaxis": "x",
           "y": {
            "bdata": "AA==",
            "dtype": "i1"
           },
           "yaxis": "y"
          },
          {
           "hovertemplate": "Genre=%{x}<br>Tahun Rilis=1958<br>Jumlah Rilis=%{y}<extra></extra>",
           "ids": [
            "Romantic Movies"
           ],
           "legendgroup": "Romantic Movies",
           "marker": {
            "color": "#19d3f3",
            "pattern": {
             "shape": ""
            }
           },
           "name": "Romantic Movies",
           "orientation": "v",
           "showlegend": true,
           "textposition": "auto",
           "type": "bar",
           "x": [
            "Romantic Movies"
           ],
           "xaxis": "x",
           "y": {
            "bdata": "AA==",
            "dtype": "i1"
           },
           "yaxis": "y"
          },
          {
           "hovertemplate": "Genre=%{x}<br>Tahun Rilis=1958<br>Jumlah Rilis=%{y}<extra></extra>",
           "ids": [
            "Thrillers"
           ],
           "legendgroup": "Thrillers",
           "marker": {
            "color": "#FF6692",
            "pattern": {
             "shape": ""
            }
           },
           "name": "Thrillers",
           "orientation": "v",
           "showlegend": true,
           "textposition": "auto",
           "type": "bar",
           "x": [
            "Thrillers"
           ],
           "xaxis": "x",
           "y": {
            "bdata": "AA==",
            "dtype": "i1"
           },
           "yaxis": "y"
          },
          {
           "hovertemplate": "Genre=%{x}<br>Tahun Rilis=1958<br>Jumlah Rilis=%{y}<extra></extra>",
           "ids": [
            "Children & Family Movies"
           ],
           "legendgroup": "Children & Family Movies",
           "marker": {
            "color": "#B6E880",
            "pattern": {
             "shape": ""
            }
           },
           "name": "Children & Family Movies",
           "orientation": "v",
           "showlegend": true,
           "textposition": "auto",
           "type": "bar",
           "x": [
            "Children & Family Movies"
           ],
           "xaxis": "x",
           "y": {
            "bdata": "AA==",
            "dtype": "i1"
           },
           "yaxis": "y"
          },
          {
           "hovertemplate": "Genre=%{x}<br>Tahun Rilis=1958<br>Jumlah Rilis=%{y}<extra></extra>",
           "ids": [
            "Documentaries"
           ],
           "legendgroup": "Documentaries",
           "marker": {
            "color": "#FF97FF",
            "pattern": {
             "shape": ""
            }
           },
           "name": "Documentaries",
           "orientation": "v",
           "showlegend": true,
           "textposition": "auto",
           "type": "bar",
           "x": [
            "Documentaries"
           ],
           "xaxis": "x",
           "y": {
            "bdata": "AA==",
            "dtype": "i1"
           },
           "yaxis": "y"
          },
          {
           "hovertemplate": "Genre=%{x}<br>Tahun Rilis=1958<br>Jumlah Rilis=%{y}<extra></extra>",
           "ids": [
            "Horror Movies"
           ],
           "legendgroup": "Horror Movies",
           "marker": {
            "color": "#FECB52",
            "pattern": {
             "shape": ""
            }
           },
           "name": "Horror Movies",
           "orientation": "v",
           "showlegend": true,
           "textposition": "auto",
           "type": "bar",
           "x": [
            "Horror Movies"
           ],
           "xaxis": "x",
           "y": {
            "bdata": "AA==",
            "dtype": "i1"
           },
           "yaxis": "y"
          }
         ],
         "name": "1958"
        },
        {
         "data": [
          {
           "hovertemplate": "Genre=%{x}<br>Tahun Rilis=1959<br>Jumlah Rilis=%{y}<extra></extra>",
           "ids": [
            "International Movies"
           ],
           "legendgroup": "International Movies",
           "marker": {
            "color": "#636efa",
            "pattern": {
             "shape": ""
            }
           },
           "name": "International Movies",
           "orientation": "v",
           "showlegend": true,
           "textposition": "auto",
           "type": "bar",
           "x": [
            "International Movies"
           ],
           "xaxis": "x",
           "y": {
            "bdata": "AQ==",
            "dtype": "i1"
           },
           "yaxis": "y"
          },
          {
           "hovertemplate": "Genre=%{x}<br>Tahun Rilis=1959<br>Jumlah Rilis=%{y}<extra></extra>",
           "ids": [
            "Dramas"
           ],
           "legendgroup": "Dramas",
           "marker": {
            "color": "#EF553B",
            "pattern": {
             "shape": ""
            }
           },
           "name": "Dramas",
           "orientation": "v",
           "showlegend": true,
           "textposition": "auto",
           "type": "bar",
           "x": [
            "Dramas"
           ],
           "xaxis": "x",
           "y": {
            "bdata": "AQ==",
            "dtype": "i1"
           },
           "yaxis": "y"
          },
          {
           "hovertemplate": "Genre=%{x}<br>Tahun Rilis=1959<br>Jumlah Rilis=%{y}<extra></extra>",
           "ids": [
            "Comedies"
           ],
           "legendgroup": "Comedies",
           "marker": {
            "color": "#00cc96",
            "pattern": {
             "shape": ""
            }
           },
           "name": "Comedies",
           "orientation": "v",
           "showlegend": true,
           "textposition": "auto",
           "type": "bar",
           "x": [
            "Comedies"
           ],
           "xaxis": "x",
           "y": {
            "bdata": "AA==",
            "dtype": "i1"
           },
           "yaxis": "y"
          },
          {
           "hovertemplate": "Genre=%{x}<br>Tahun Rilis=1959<br>Jumlah Rilis=%{y}<extra></extra>",
           "ids": [
            "Action & Adventure"
           ],
           "legendgroup": "Action & Adventure",
           "marker": {
            "color": "#ab63fa",
            "pattern": {
             "shape": ""
            }
           },
           "name": "Action & Adventure",
           "orientation": "v",
           "showlegend": true,
           "textposition": "auto",
           "type": "bar",
           "x": [
            "Action & Adventure"
           ],
           "xaxis": "x",
           "y": {
            "bdata": "AA==",
            "dtype": "i1"
           },
           "yaxis": "y"
          },
          {
           "hovertemplate": "Genre=%{x}<br>Tahun Rilis=1959<br>Jumlah Rilis=%{y}<extra></extra>",
           "ids": [
            "Independent Movies"
           ],
           "legendgroup": "Independent Movies",
           "marker": {
            "color": "#FFA15A",
            "pattern": {
             "shape": ""
            }
           },
           "name": "Independent Movies",
           "orientation": "v",
           "showlegend": true,
           "textposition": "auto",
           "type": "bar",
           "x": [
            "Independent Movies"
           ],
           "xaxis": "x",
           "y": {
            "bdata": "AA==",
            "dtype": "i1"
           },
           "yaxis": "y"
          },
          {
           "hovertemplate": "Genre=%{x}<br>Tahun Rilis=1959<br>Jumlah Rilis=%{y}<extra></extra>",
           "ids": [
            "Romantic Movies"
           ],
           "legendgroup": "Romantic Movies",
           "marker": {
            "color": "#19d3f3",
            "pattern": {
             "shape": ""
            }
           },
           "name": "Romantic Movies",
           "orientation": "v",
           "showlegend": true,
           "textposition": "auto",
           "type": "bar",
           "x": [
            "Romantic Movies"
           ],
           "xaxis": "x",
           "y": {
            "bdata": "AA==",
            "dtype": "i1"
           },
           "yaxis": "y"
          },
          {
           "hovertemplate": "Genre=%{x}<br>Tahun Rilis=1959<br>Jumlah Rilis=%{y}<extra></extra>",
           "ids": [
            "Thrillers"
           ],
           "legendgroup": "Thrillers",
           "marker": {
            "color": "#FF6692",
            "pattern": {
             "shape": ""
            }
           },
           "name": "Thrillers",
           "orientation": "v",
           "showlegend": true,
           "textposition": "auto",
           "type": "bar",
           "x": [
            "Thrillers"
           ],
           "xaxis": "x",
           "y": {
            "bdata": "AA==",
            "dtype": "i1"
           },
           "yaxis": "y"
          },
          {
           "hovertemplate": "Genre=%{x}<br>Tahun Rilis=1959<br>Jumlah Rilis=%{y}<extra></extra>",
           "ids": [
            "Children & Family Movies"
           ],
           "legendgroup": "Children & Family Movies",
           "marker": {
            "color": "#B6E880",
            "pattern": {
             "shape": ""
            }
           },
           "name": "Children & Family Movies",
           "orientation": "v",
           "showlegend": true,
           "textposition": "auto",
           "type": "bar",
           "x": [
            "Children & Family Movies"
           ],
           "xaxis": "x",
           "y": {
            "bdata": "AA==",
            "dtype": "i1"
           },
           "yaxis": "y"
          },
          {
           "hovertemplate": "Genre=%{x}<br>Tahun Rilis=1959<br>Jumlah Rilis=%{y}<extra></extra>",
           "ids": [
            "Documentaries"
           ],
           "legendgroup": "Documentaries",
           "marker": {
            "color": "#FF97FF",
            "pattern": {
             "shape": ""
            }
           },
           "name": "Documentaries",
           "orientation": "v",
           "showlegend": true,
           "textposition": "auto",
           "type": "bar",
           "x": [
            "Documentaries"
           ],
           "xaxis": "x",
           "y": {
            "bdata": "AA==",
            "dtype": "i1"
           },
           "yaxis": "y"
          },
          {
           "hovertemplate": "Genre=%{x}<br>Tahun Rilis=1959<br>Jumlah Rilis=%{y}<extra></extra>",
           "ids": [
            "Horror Movies"
           ],
           "legendgroup": "Horror Movies",
           "marker": {
            "color": "#FECB52",
            "pattern": {
             "shape": ""
            }
           },
           "name": "Horror Movies",
           "orientation": "v",
           "showlegend": true,
           "textposition": "auto",
           "type": "bar",
           "x": [
            "Horror Movies"
           ],
           "xaxis": "x",
           "y": {
            "bdata": "AA==",
            "dtype": "i1"
           },
           "yaxis": "y"
          }
         ],
         "name": "1959"
        },
        {
         "data": [
          {
           "hovertemplate": "Genre=%{x}<br>Tahun Rilis=1960<br>Jumlah Rilis=%{y}<extra></extra>",
           "ids": [
            "International Movies"
           ],
           "legendgroup": "International Movies",
           "marker": {
            "color": "#636efa",
            "pattern": {
             "shape": ""
            }
           },
           "name": "International Movies",
           "orientation": "v",
           "showlegend": true,
           "textposition": "auto",
           "type": "bar",
           "x": [
            "International Movies"
           ],
           "xaxis": "x",
           "y": {
            "bdata": "AQ==",
            "dtype": "i1"
           },
           "yaxis": "y"
          },
          {
           "hovertemplate": "Genre=%{x}<br>Tahun Rilis=1960<br>Jumlah Rilis=%{y}<extra></extra>",
           "ids": [
            "Dramas"
           ],
           "legendgroup": "Dramas",
           "marker": {
            "color": "#EF553B",
            "pattern": {
             "shape": ""
            }
           },
           "name": "Dramas",
           "orientation": "v",
           "showlegend": true,
           "textposition": "auto",
           "type": "bar",
           "x": [
            "Dramas"
           ],
           "xaxis": "x",
           "y": {
            "bdata": "Ag==",
            "dtype": "i1"
           },
           "yaxis": "y"
          },
          {
           "hovertemplate": "Genre=%{x}<br>Tahun Rilis=1960<br>Jumlah Rilis=%{y}<extra></extra>",
           "ids": [
            "Comedies"
           ],
           "legendgroup": "Comedies",
           "marker": {
            "color": "#00cc96",
            "pattern": {
             "shape": ""
            }
           },
           "name": "Comedies",
           "orientation": "v",
           "showlegend": true,
           "textposition": "auto",
           "type": "bar",
           "x": [
            "Comedies"
           ],
           "xaxis": "x",
           "y": {
            "bdata": "Ag==",
            "dtype": "i1"
           },
           "yaxis": "y"
          },
          {
           "hovertemplate": "Genre=%{x}<br>Tahun Rilis=1960<br>Jumlah Rilis=%{y}<extra></extra>",
           "ids": [
            "Action & Adventure"
           ],
           "legendgroup": "Action & Adventure",
           "marker": {
            "color": "#ab63fa",
            "pattern": {
             "shape": ""
            }
           },
           "name": "Action & Adventure",
           "orientation": "v",
           "showlegend": true,
           "textposition": "auto",
           "type": "bar",
           "x": [
            "Action & Adventure"
           ],
           "xaxis": "x",
           "y": {
            "bdata": "AQ==",
            "dtype": "i1"
           },
           "yaxis": "y"
          },
          {
           "hovertemplate": "Genre=%{x}<br>Tahun Rilis=1960<br>Jumlah Rilis=%{y}<extra></extra>",
           "ids": [
            "Independent Movies"
           ],
           "legendgroup": "Independent Movies",
           "marker": {
            "color": "#FFA15A",
            "pattern": {
             "shape": ""
            }
           },
           "name": "Independent Movies",
           "orientation": "v",
           "showlegend": true,
           "textposition": "auto",
           "type": "bar",
           "x": [
            "Independent Movies"
           ],
           "xaxis": "x",
           "y": {
            "bdata": "AA==",
            "dtype": "i1"
           },
           "yaxis": "y"
          },
          {
           "hovertemplate": "Genre=%{x}<br>Tahun Rilis=1960<br>Jumlah Rilis=%{y}<extra></extra>",
           "ids": [
            "Romantic Movies"
           ],
           "legendgroup": "Romantic Movies",
           "marker": {
            "color": "#19d3f3",
            "pattern": {
             "shape": ""
            }
           },
           "name": "Romantic Movies",
           "orientation": "v",
           "showlegend": true,
           "textposition": "auto",
           "type": "bar",
           "x": [
            "Romantic Movies"
           ],
           "xaxis": "x",
           "y": {
            "bdata": "AQ==",
            "dtype": "i1"
           },
           "yaxis": "y"
          },
          {
           "hovertemplate": "Genre=%{x}<br>Tahun Rilis=1960<br>Jumlah Rilis=%{y}<extra></extra>",
           "ids": [
            "Thrillers"
           ],
           "legendgroup": "Thrillers",
           "marker": {
            "color": "#FF6692",
            "pattern": {
             "shape": ""
            }
           },
           "name": "Thrillers",
           "orientation": "v",
           "showlegend": true,
           "textposition": "auto",
           "type": "bar",
           "x": [
            "Thrillers"
           ],
           "xaxis": "x",
           "y": {
            "bdata": "AA==",
            "dtype": "i1"
           },
           "yaxis": "y"
          },
          {
           "hovertemplate": "Genre=%{x}<br>Tahun Rilis=1960<br>Jumlah Rilis=%{y}<extra></extra>",
           "ids": [
            "Children & Family Movies"
           ],
           "legendgroup": "Children & Family Movies",
           "marker": {
            "color": "#B6E880",
            "pattern": {
             "shape": ""
            }
           },
           "name": "Children & Family Movies",
           "orientation": "v",
           "showlegend": true,
           "textposition": "auto",
           "type": "bar",
           "x": [
            "Children & Family Movies"
           ],
           "xaxis": "x",
           "y": {
            "bdata": "AA==",
            "dtype": "i1"
           },
           "yaxis": "y"
          },
          {
           "hovertemplate": "Genre=%{x}<br>Tahun Rilis=1960<br>Jumlah Rilis=%{y}<extra></extra>",
           "ids": [
            "Documentaries"
           ],
           "legendgroup": "Documentaries",
           "marker": {
            "color": "#FF97FF",
            "pattern": {
             "shape": ""
            }
           },
           "name": "Documentaries",
           "orientation": "v",
           "showlegend": true,
           "textposition": "auto",
           "type": "bar",
           "x": [
            "Documentaries"
           ],
           "xaxis": "x",
           "y": {
            "bdata": "AA==",
            "dtype": "i1"
           },
           "yaxis": "y"
          },
          {
           "hovertemplate": "Genre=%{x}<br>Tahun Rilis=1960<br>Jumlah Rilis=%{y}<extra></extra>",
           "ids": [
            "Horror Movies"
           ],
           "legendgroup": "Horror Movies",
           "marker": {
            "color": "#FECB52",
            "pattern": {
             "shape": ""
            }
           },
           "name": "Horror Movies",
           "orientation": "v",
           "showlegend": true,
           "textposition": "auto",
           "type": "bar",
           "x": [
            "Horror Movies"
           ],
           "xaxis": "x",
           "y": {
            "bdata": "AA==",
            "dtype": "i1"
           },
           "yaxis": "y"
          }
         ],
         "name": "1960"
        },
        {
         "data": [
          {
           "hovertemplate": "Genre=%{x}<br>Tahun Rilis=1961<br>Jumlah Rilis=%{y}<extra></extra>",
           "ids": [
            "International Movies"
           ],
           "legendgroup": "International Movies",
           "marker": {
            "color": "#636efa",
            "pattern": {
             "shape": ""
            }
           },
           "name": "International Movies",
           "orientation": "v",
           "showlegend": true,
           "textposition": "auto",
           "type": "bar",
           "x": [
            "International Movies"
           ],
           "xaxis": "x",
           "y": {
            "bdata": "AA==",
            "dtype": "i1"
           },
           "yaxis": "y"
          },
          {
           "hovertemplate": "Genre=%{x}<br>Tahun Rilis=1961<br>Jumlah Rilis=%{y}<extra></extra>",
           "ids": [
            "Dramas"
           ],
           "legendgroup": "Dramas",
           "marker": {
            "color": "#EF553B",
            "pattern": {
             "shape": ""
            }
           },
           "name": "Dramas",
           "orientation": "v",
           "showlegend": true,
           "textposition": "auto",
           "type": "bar",
           "x": [
            "Dramas"
           ],
           "xaxis": "x",
           "y": {
            "bdata": "AA==",
            "dtype": "i1"
           },
           "yaxis": "y"
          },
          {
           "hovertemplate": "Genre=%{x}<br>Tahun Rilis=1961<br>Jumlah Rilis=%{y}<extra></extra>",
           "ids": [
            "Comedies"
           ],
           "legendgroup": "Comedies",
           "marker": {
            "color": "#00cc96",
            "pattern": {
             "shape": ""
            }
           },
           "name": "Comedies",
           "orientation": "v",
           "showlegend": true,
           "textposition": "auto",
           "type": "bar",
           "x": [
            "Comedies"
           ],
           "xaxis": "x",
           "y": {
            "bdata": "AA==",
            "dtype": "i1"
           },
           "yaxis": "y"
          },
          {
           "hovertemplate": "Genre=%{x}<br>Tahun Rilis=1961<br>Jumlah Rilis=%{y}<extra></extra>",
           "ids": [
            "Action & Adventure"
           ],
           "legendgroup": "Action & Adventure",
           "marker": {
            "color": "#ab63fa",
            "pattern": {
             "shape": ""
            }
           },
           "name": "Action & Adventure",
           "orientation": "v",
           "showlegend": true,
           "textposition": "auto",
           "type": "bar",
           "x": [
            "Action & Adventure"
           ],
           "xaxis": "x",
           "y": {
            "bdata": "AQ==",
            "dtype": "i1"
           },
           "yaxis": "y"
          },
          {
           "hovertemplate": "Genre=%{x}<br>Tahun Rilis=1961<br>Jumlah Rilis=%{y}<extra></extra>",
           "ids": [
            "Independent Movies"
           ],
           "legendgroup": "Independent Movies",
           "marker": {
            "color": "#FFA15A",
            "pattern": {
             "shape": ""
            }
           },
           "name": "Independent Movies",
           "orientation": "v",
           "showlegend": true,
           "textposition": "auto",
           "type": "bar",
           "x": [
            "Independent Movies"
           ],
           "xaxis": "x",
           "y": {
            "bdata": "AA==",
            "dtype": "i1"
           },
           "yaxis": "y"
          },
          {
           "hovertemplate": "Genre=%{x}<br>Tahun Rilis=1961<br>Jumlah Rilis=%{y}<extra></extra>",
           "ids": [
            "Romantic Movies"
           ],
           "legendgroup": "Romantic Movies",
           "marker": {
            "color": "#19d3f3",
            "pattern": {
             "shape": ""
            }
           },
           "name": "Romantic Movies",
           "orientation": "v",
           "showlegend": true,
           "textposition": "auto",
           "type": "bar",
           "x": [
            "Romantic Movies"
           ],
           "xaxis": "x",
           "y": {
            "bdata": "AA==",
            "dtype": "i1"
           },
           "yaxis": "y"
          },
          {
           "hovertemplate": "Genre=%{x}<br>Tahun Rilis=1961<br>Jumlah Rilis=%{y}<extra></extra>",
           "ids": [
            "Thrillers"
           ],
           "legendgroup": "Thrillers",
           "marker": {
            "color": "#FF6692",
            "pattern": {
             "shape": ""
            }
           },
           "name": "Thrillers",
           "orientation": "v",
           "showlegend": true,
           "textposition": "auto",
           "type": "bar",
           "x": [
            "Thrillers"
           ],
           "xaxis": "x",
           "y": {
            "bdata": "AA==",
            "dtype": "i1"
           },
           "yaxis": "y"
          },
          {
           "hovertemplate": "Genre=%{x}<br>Tahun Rilis=1961<br>Jumlah Rilis=%{y}<extra></extra>",
           "ids": [
            "Children & Family Movies"
           ],
           "legendgroup": "Children & Family Movies",
           "marker": {
            "color": "#B6E880",
            "pattern": {
             "shape": ""
            }
           },
           "name": "Children & Family Movies",
           "orientation": "v",
           "showlegend": true,
           "textposition": "auto",
           "type": "bar",
           "x": [
            "Children & Family Movies"
           ],
           "xaxis": "x",
           "y": {
            "bdata": "AA==",
            "dtype": "i1"
           },
           "yaxis": "y"
          },
          {
           "hovertemplate": "Genre=%{x}<br>Tahun Rilis=1961<br>Jumlah Rilis=%{y}<extra></extra>",
           "ids": [
            "Documentaries"
           ],
           "legendgroup": "Documentaries",
           "marker": {
            "color": "#FF97FF",
            "pattern": {
             "shape": ""
            }
           },
           "name": "Documentaries",
           "orientation": "v",
           "showlegend": true,
           "textposition": "auto",
           "type": "bar",
           "x": [
            "Documentaries"
           ],
           "xaxis": "x",
           "y": {
            "bdata": "AA==",
            "dtype": "i1"
           },
           "yaxis": "y"
          },
          {
           "hovertemplate": "Genre=%{x}<br>Tahun Rilis=1961<br>Jumlah Rilis=%{y}<extra></extra>",
           "ids": [
            "Horror Movies"
           ],
           "legendgroup": "Horror Movies",
           "marker": {
            "color": "#FECB52",
            "pattern": {
             "shape": ""
            }
           },
           "name": "Horror Movies",
           "orientation": "v",
           "showlegend": true,
           "textposition": "auto",
           "type": "bar",
           "x": [
            "Horror Movies"
           ],
           "xaxis": "x",
           "y": {
            "bdata": "AA==",
            "dtype": "i1"
           },
           "yaxis": "y"
          }
         ],
         "name": "1961"
        },
        {
         "data": [
          {
           "hovertemplate": "Genre=%{x}<br>Tahun Rilis=1962<br>Jumlah Rilis=%{y}<extra></extra>",
           "ids": [
            "International Movies"
           ],
           "legendgroup": "International Movies",
           "marker": {
            "color": "#636efa",
            "pattern": {
             "shape": ""
            }
           },
           "name": "International Movies",
           "orientation": "v",
           "showlegend": true,
           "textposition": "auto",
           "type": "bar",
           "x": [
            "International Movies"
           ],
           "xaxis": "x",
           "y": {
            "bdata": "AQ==",
            "dtype": "i1"
           },
           "yaxis": "y"
          },
          {
           "hovertemplate": "Genre=%{x}<br>Tahun Rilis=1962<br>Jumlah Rilis=%{y}<extra></extra>",
           "ids": [
            "Dramas"
           ],
           "legendgroup": "Dramas",
           "marker": {
            "color": "#EF553B",
            "pattern": {
             "shape": ""
            }
           },
           "name": "Dramas",
           "orientation": "v",
           "showlegend": true,
           "textposition": "auto",
           "type": "bar",
           "x": [
            "Dramas"
           ],
           "xaxis": "x",
           "y": {
            "bdata": "Aw==",
            "dtype": "i1"
           },
           "yaxis": "y"
          },
          {
           "hovertemplate": "Genre=%{x}<br>Tahun Rilis=1962<br>Jumlah Rilis=%{y}<extra></extra>",
           "ids": [
            "Comedies"
           ],
           "legendgroup": "Comedies",
           "marker": {
            "color": "#00cc96",
            "pattern": {
             "shape": ""
            }
           },
           "name": "Comedies",
           "orientation": "v",
           "showlegend": true,
           "textposition": "auto",
           "type": "bar",
           "x": [
            "Comedies"
           ],
           "xaxis": "x",
           "y": {
            "bdata": "AQ==",
            "dtype": "i1"
           },
           "yaxis": "y"
          },
          {
           "hovertemplate": "Genre=%{x}<br>Tahun Rilis=1962<br>Jumlah Rilis=%{y}<extra></extra>",
           "ids": [
            "Action & Adventure"
           ],
           "legendgroup": "Action & Adventure",
           "marker": {
            "color": "#ab63fa",
            "pattern": {
             "shape": ""
            }
           },
           "name": "Action & Adventure",
           "orientation": "v",
           "showlegend": true,
           "textposition": "auto",
           "type": "bar",
           "x": [
            "Action & Adventure"
           ],
           "xaxis": "x",
           "y": {
            "bdata": "AQ==",
            "dtype": "i1"
           },
           "yaxis": "y"
          },
          {
           "hovertemplate": "Genre=%{x}<br>Tahun Rilis=1962<br>Jumlah Rilis=%{y}<extra></extra>",
           "ids": [
            "Independent Movies"
           ],
           "legendgroup": "Independent Movies",
           "marker": {
            "color": "#FFA15A",
            "pattern": {
             "shape": ""
            }
           },
           "name": "Independent Movies",
           "orientation": "v",
           "showlegend": true,
           "textposition": "auto",
           "type": "bar",
           "x": [
            "Independent Movies"
           ],
           "xaxis": "x",
           "y": {
            "bdata": "AA==",
            "dtype": "i1"
           },
           "yaxis": "y"
          },
          {
           "hovertemplate": "Genre=%{x}<br>Tahun Rilis=1962<br>Jumlah Rilis=%{y}<extra></extra>",
           "ids": [
            "Romantic Movies"
           ],
           "legendgroup": "Romantic Movies",
           "marker": {
            "color": "#19d3f3",
            "pattern": {
             "shape": ""
            }
           },
           "name": "Romantic Movies",
           "orientation": "v",
           "showlegend": true,
           "textposition": "auto",
           "type": "bar",
           "x": [
            "Romantic Movies"
           ],
           "xaxis": "x",
           "y": {
            "bdata": "AQ==",
            "dtype": "i1"
           },
           "yaxis": "y"
          },
          {
           "hovertemplate": "Genre=%{x}<br>Tahun Rilis=1962<br>Jumlah Rilis=%{y}<extra></extra>",
           "ids": [
            "Thrillers"
           ],
           "legendgroup": "Thrillers",
           "marker": {
            "color": "#FF6692",
            "pattern": {
             "shape": ""
            }
           },
           "name": "Thrillers",
           "orientation": "v",
           "showlegend": true,
           "textposition": "auto",
           "type": "bar",
           "x": [
            "Thrillers"
           ],
           "xaxis": "x",
           "y": {
            "bdata": "AA==",
            "dtype": "i1"
           },
           "yaxis": "y"
          },
          {
           "hovertemplate": "Genre=%{x}<br>Tahun Rilis=1962<br>Jumlah Rilis=%{y}<extra></extra>",
           "ids": [
            "Children & Family Movies"
           ],
           "legendgroup": "Children & Family Movies",
           "marker": {
            "color": "#B6E880",
            "pattern": {
             "shape": ""
            }
           },
           "name": "Children & Family Movies",
           "orientation": "v",
           "showlegend": true,
           "textposition": "auto",
           "type": "bar",
           "x": [
            "Children & Family Movies"
           ],
           "xaxis": "x",
           "y": {
            "bdata": "AA==",
            "dtype": "i1"
           },
           "yaxis": "y"
          },
          {
           "hovertemplate": "Genre=%{x}<br>Tahun Rilis=1962<br>Jumlah Rilis=%{y}<extra></extra>",
           "ids": [
            "Documentaries"
           ],
           "legendgroup": "Documentaries",
           "marker": {
            "color": "#FF97FF",
            "pattern": {
             "shape": ""
            }
           },
           "name": "Documentaries",
           "orientation": "v",
           "showlegend": true,
           "textposition": "auto",
           "type": "bar",
           "x": [
            "Documentaries"
           ],
           "xaxis": "x",
           "y": {
            "bdata": "AA==",
            "dtype": "i1"
           },
           "yaxis": "y"
          },
          {
           "hovertemplate": "Genre=%{x}<br>Tahun Rilis=1962<br>Jumlah Rilis=%{y}<extra></extra>",
           "ids": [
            "Horror Movies"
           ],
           "legendgroup": "Horror Movies",
           "marker": {
            "color": "#FECB52",
            "pattern": {
             "shape": ""
            }
           },
           "name": "Horror Movies",
           "orientation": "v",
           "showlegend": true,
           "textposition": "auto",
           "type": "bar",
           "x": [
            "Horror Movies"
           ],
           "xaxis": "x",
           "y": {
            "bdata": "AA==",
            "dtype": "i1"
           },
           "yaxis": "y"
          }
         ],
         "name": "1962"
        },
        {
         "data": [
          {
           "hovertemplate": "Genre=%{x}<br>Tahun Rilis=1963<br>Jumlah Rilis=%{y}<extra></extra>",
           "ids": [
            "International Movies"
           ],
           "legendgroup": "International Movies",
           "marker": {
            "color": "#636efa",
            "pattern": {
             "shape": ""
            }
           },
           "name": "International Movies",
           "orientation": "v",
           "showlegend": true,
           "textposition": "auto",
           "type": "bar",
           "x": [
            "International Movies"
           ],
           "xaxis": "x",
           "y": {
            "bdata": "AA==",
            "dtype": "i1"
           },
           "yaxis": "y"
          },
          {
           "hovertemplate": "Genre=%{x}<br>Tahun Rilis=1963<br>Jumlah Rilis=%{y}<extra></extra>",
           "ids": [
            "Dramas"
           ],
           "legendgroup": "Dramas",
           "marker": {
            "color": "#EF553B",
            "pattern": {
             "shape": ""
            }
           },
           "name": "Dramas",
           "orientation": "v",
           "showlegend": true,
           "textposition": "auto",
           "type": "bar",
           "x": [
            "Dramas"
           ],
           "xaxis": "x",
           "y": {
            "bdata": "AQ==",
            "dtype": "i1"
           },
           "yaxis": "y"
          },
          {
           "hovertemplate": "Genre=%{x}<br>Tahun Rilis=1963<br>Jumlah Rilis=%{y}<extra></extra>",
           "ids": [
            "Comedies"
           ],
           "legendgroup": "Comedies",
           "marker": {
            "color": "#00cc96",
            "pattern": {
             "shape": ""
            }
           },
           "name": "Comedies",
           "orientation": "v",
           "showlegend": true,
           "textposition": "auto",
           "type": "bar",
           "x": [
            "Comedies"
           ],
           "xaxis": "x",
           "y": {
            "bdata": "AA==",
            "dtype": "i1"
           },
           "yaxis": "y"
          },
          {
           "hovertemplate": "Genre=%{x}<br>Tahun Rilis=1963<br>Jumlah Rilis=%{y}<extra></extra>",
           "ids": [
            "Action & Adventure"
           ],
           "legendgroup": "Action & Adventure",
           "marker": {
            "color": "#ab63fa",
            "pattern": {
             "shape": ""
            }
           },
           "name": "Action & Adventure",
           "orientation": "v",
           "showlegend": true,
           "textposition": "auto",
           "type": "bar",
           "x": [
            "Action & Adventure"
           ],
           "xaxis": "x",
           "y": {
            "bdata": "AQ==",
            "dtype": "i1"
           },
           "yaxis": "y"
          },
          {
           "hovertemplate": "Genre=%{x}<br>Tahun Rilis=1963<br>Jumlah Rilis=%{y}<extra></extra>",
           "ids": [
            "Independent Movies"
           ],
           "legendgroup": "Independent Movies",
           "marker": {
            "color": "#FFA15A",
            "pattern": {
             "shape": ""
            }
           },
           "name": "Independent Movies",
           "orientation": "v",
           "showlegend": true,
           "textposition": "auto",
           "type": "bar",
           "x": [
            "Independent Movies"
           ],
           "xaxis": "x",
           "y": {
            "bdata": "AA==",
            "dtype": "i1"
           },
           "yaxis": "y"
          },
          {
           "hovertemplate": "Genre=%{x}<br>Tahun Rilis=1963<br>Jumlah Rilis=%{y}<extra></extra>",
           "ids": [
            "Romantic Movies"
           ],
           "legendgroup": "Romantic Movies",
           "marker": {
            "color": "#19d3f3",
            "pattern": {
             "shape": ""
            }
           },
           "name": "Romantic Movies",
           "orientation": "v",
           "showlegend": true,
           "textposition": "auto",
           "type": "bar",
           "x": [
            "Romantic Movies"
           ],
           "xaxis": "x",
           "y": {
            "bdata": "AA==",
            "dtype": "i1"
           },
           "yaxis": "y"
          },
          {
           "hovertemplate": "Genre=%{x}<br>Tahun Rilis=1963<br>Jumlah Rilis=%{y}<extra></extra>",
           "ids": [
            "Thrillers"
           ],
           "legendgroup": "Thrillers",
           "marker": {
            "color": "#FF6692",
            "pattern": {
             "shape": ""
            }
           },
           "name": "Thrillers",
           "orientation": "v",
           "showlegend": true,
           "textposition": "auto",
           "type": "bar",
           "x": [
            "Thrillers"
           ],
           "xaxis": "x",
           "y": {
            "bdata": "AA==",
            "dtype": "i1"
           },
           "yaxis": "y"
          },
          {
           "hovertemplate": "Genre=%{x}<br>Tahun Rilis=1963<br>Jumlah Rilis=%{y}<extra></extra>",
           "ids": [
            "Children & Family Movies"
           ],
           "legendgroup": "Children & Family Movies",
           "marker": {
            "color": "#B6E880",
            "pattern": {
             "shape": ""
            }
           },
           "name": "Children & Family Movies",
           "orientation": "v",
           "showlegend": true,
           "textposition": "auto",
           "type": "bar",
           "x": [
            "Children & Family Movies"
           ],
           "xaxis": "x",
           "y": {
            "bdata": "AA==",
            "dtype": "i1"
           },
           "yaxis": "y"
          },
          {
           "hovertemplate": "Genre=%{x}<br>Tahun Rilis=1963<br>Jumlah Rilis=%{y}<extra></extra>",
           "ids": [
            "Documentaries"
           ],
           "legendgroup": "Documentaries",
           "marker": {
            "color": "#FF97FF",
            "pattern": {
             "shape": ""
            }
           },
           "name": "Documentaries",
           "orientation": "v",
           "showlegend": true,
           "textposition": "auto",
           "type": "bar",
           "x": [
            "Documentaries"
           ],
           "xaxis": "x",
           "y": {
            "bdata": "AA==",
            "dtype": "i1"
           },
           "yaxis": "y"
          },
          {
           "hovertemplate": "Genre=%{x}<br>Tahun Rilis=1963<br>Jumlah Rilis=%{y}<extra></extra>",
           "ids": [
            "Horror Movies"
           ],
           "legendgroup": "Horror Movies",
           "marker": {
            "color": "#FECB52",
            "pattern": {
             "shape": ""
            }
           },
           "name": "Horror Movies",
           "orientation": "v",
           "showlegend": true,
           "textposition": "auto",
           "type": "bar",
           "x": [
            "Horror Movies"
           ],
           "xaxis": "x",
           "y": {
            "bdata": "AA==",
            "dtype": "i1"
           },
           "yaxis": "y"
          }
         ],
         "name": "1963"
        },
        {
         "data": [
          {
           "hovertemplate": "Genre=%{x}<br>Tahun Rilis=1964<br>Jumlah Rilis=%{y}<extra></extra>",
           "ids": [
            "International Movies"
           ],
           "legendgroup": "International Movies",
           "marker": {
            "color": "#636efa",
            "pattern": {
             "shape": ""
            }
           },
           "name": "International Movies",
           "orientation": "v",
           "showlegend": true,
           "textposition": "auto",
           "type": "bar",
           "x": [
            "International Movies"
           ],
           "xaxis": "x",
           "y": {
            "bdata": "AQ==",
            "dtype": "i1"
           },
           "yaxis": "y"
          },
          {
           "hovertemplate": "Genre=%{x}<br>Tahun Rilis=1964<br>Jumlah Rilis=%{y}<extra></extra>",
           "ids": [
            "Dramas"
           ],
           "legendgroup": "Dramas",
           "marker": {
            "color": "#EF553B",
            "pattern": {
             "shape": ""
            }
           },
           "name": "Dramas",
           "orientation": "v",
           "showlegend": true,
           "textposition": "auto",
           "type": "bar",
           "x": [
            "Dramas"
           ],
           "xaxis": "x",
           "y": {
            "bdata": "AQ==",
            "dtype": "i1"
           },
           "yaxis": "y"
          },
          {
           "hovertemplate": "Genre=%{x}<br>Tahun Rilis=1964<br>Jumlah Rilis=%{y}<extra></extra>",
           "ids": [
            "Comedies"
           ],
           "legendgroup": "Comedies",
           "marker": {
            "color": "#00cc96",
            "pattern": {
             "shape": ""
            }
           },
           "name": "Comedies",
           "orientation": "v",
           "showlegend": true,
           "textposition": "auto",
           "type": "bar",
           "x": [
            "Comedies"
           ],
           "xaxis": "x",
           "y": {
            "bdata": "AA==",
            "dtype": "i1"
           },
           "yaxis": "y"
          },
          {
           "hovertemplate": "Genre=%{x}<br>Tahun Rilis=1964<br>Jumlah Rilis=%{y}<extra></extra>",
           "ids": [
            "Action & Adventure"
           ],
           "legendgroup": "Action & Adventure",
           "marker": {
            "color": "#ab63fa",
            "pattern": {
             "shape": ""
            }
           },
           "name": "Action & Adventure",
           "orientation": "v",
           "showlegend": true,
           "textposition": "auto",
           "type": "bar",
           "x": [
            "Action & Adventure"
           ],
           "xaxis": "x",
           "y": {
            "bdata": "AA==",
            "dtype": "i1"
           },
           "yaxis": "y"
          },
          {
           "hovertemplate": "Genre=%{x}<br>Tahun Rilis=1964<br>Jumlah Rilis=%{y}<extra></extra>",
           "ids": [
            "Independent Movies"
           ],
           "legendgroup": "Independent Movies",
           "marker": {
            "color": "#FFA15A",
            "pattern": {
             "shape": ""
            }
           },
           "name": "Independent Movies",
           "orientation": "v",
           "showlegend": true,
           "textposition": "auto",
           "type": "bar",
           "x": [
            "Independent Movies"
           ],
           "xaxis": "x",
           "y": {
            "bdata": "AA==",
            "dtype": "i1"
           },
           "yaxis": "y"
          },
          {
           "hovertemplate": "Genre=%{x}<br>Tahun Rilis=1964<br>Jumlah Rilis=%{y}<extra></extra>",
           "ids": [
            "Romantic Movies"
           ],
           "legendgroup": "Romantic Movies",
           "marker": {
            "color": "#19d3f3",
            "pattern": {
             "shape": ""
            }
           },
           "name": "Romantic Movies",
           "orientation": "v",
           "showlegend": true,
           "textposition": "auto",
           "type": "bar",
           "x": [
            "Romantic Movies"
           ],
           "xaxis": "x",
           "y": {
            "bdata": "AA==",
            "dtype": "i1"
           },
           "yaxis": "y"
          },
          {
           "hovertemplate": "Genre=%{x}<br>Tahun Rilis=1964<br>Jumlah Rilis=%{y}<extra></extra>",
           "ids": [
            "Thrillers"
           ],
           "legendgroup": "Thrillers",
           "marker": {
            "color": "#FF6692",
            "pattern": {
             "shape": ""
            }
           },
           "name": "Thrillers",
           "orientation": "v",
           "showlegend": true,
           "textposition": "auto",
           "type": "bar",
           "x": [
            "Thrillers"
           ],
           "xaxis": "x",
           "y": {
            "bdata": "AA==",
            "dtype": "i1"
           },
           "yaxis": "y"
          },
          {
           "hovertemplate": "Genre=%{x}<br>Tahun Rilis=1964<br>Jumlah Rilis=%{y}<extra></extra>",
           "ids": [
            "Children & Family Movies"
           ],
           "legendgroup": "Children & Family Movies",
           "marker": {
            "color": "#B6E880",
            "pattern": {
             "shape": ""
            }
           },
           "name": "Children & Family Movies",
           "orientation": "v",
           "showlegend": true,
           "textposition": "auto",
           "type": "bar",
           "x": [
            "Children & Family Movies"
           ],
           "xaxis": "x",
           "y": {
            "bdata": "AA==",
            "dtype": "i1"
           },
           "yaxis": "y"
          },
          {
           "hovertemplate": "Genre=%{x}<br>Tahun Rilis=1964<br>Jumlah Rilis=%{y}<extra></extra>",
           "ids": [
            "Documentaries"
           ],
           "legendgroup": "Documentaries",
           "marker": {
            "color": "#FF97FF",
            "pattern": {
             "shape": ""
            }
           },
           "name": "Documentaries",
           "orientation": "v",
           "showlegend": true,
           "textposition": "auto",
           "type": "bar",
           "x": [
            "Documentaries"
           ],
           "xaxis": "x",
           "y": {
            "bdata": "AA==",
            "dtype": "i1"
           },
           "yaxis": "y"
          },
          {
           "hovertemplate": "Genre=%{x}<br>Tahun Rilis=1964<br>Jumlah Rilis=%{y}<extra></extra>",
           "ids": [
            "Horror Movies"
           ],
           "legendgroup": "Horror Movies",
           "marker": {
            "color": "#FECB52",
            "pattern": {
             "shape": ""
            }
           },
           "name": "Horror Movies",
           "orientation": "v",
           "showlegend": true,
           "textposition": "auto",
           "type": "bar",
           "x": [
            "Horror Movies"
           ],
           "xaxis": "x",
           "y": {
            "bdata": "AA==",
            "dtype": "i1"
           },
           "yaxis": "y"
          }
         ],
         "name": "1964"
        },
        {
         "data": [
          {
           "hovertemplate": "Genre=%{x}<br>Tahun Rilis=1965<br>Jumlah Rilis=%{y}<extra></extra>",
           "ids": [
            "International Movies"
           ],
           "legendgroup": "International Movies",
           "marker": {
            "color": "#636efa",
            "pattern": {
             "shape": ""
            }
           },
           "name": "International Movies",
           "orientation": "v",
           "showlegend": true,
           "textposition": "auto",
           "type": "bar",
           "x": [
            "International Movies"
           ],
           "xaxis": "x",
           "y": {
            "bdata": "AA==",
            "dtype": "i1"
           },
           "yaxis": "y"
          },
          {
           "hovertemplate": "Genre=%{x}<br>Tahun Rilis=1965<br>Jumlah Rilis=%{y}<extra></extra>",
           "ids": [
            "Dramas"
           ],
           "legendgroup": "Dramas",
           "marker": {
            "color": "#EF553B",
            "pattern": {
             "shape": ""
            }
           },
           "name": "Dramas",
           "orientation": "v",
           "showlegend": true,
           "textposition": "auto",
           "type": "bar",
           "x": [
            "Dramas"
           ],
           "xaxis": "x",
           "y": {
            "bdata": "Ag==",
            "dtype": "i1"
           },
           "yaxis": "y"
          },
          {
           "hovertemplate": "Genre=%{x}<br>Tahun Rilis=1965<br>Jumlah Rilis=%{y}<extra></extra>",
           "ids": [
            "Comedies"
           ],
           "legendgroup": "Comedies",
           "marker": {
            "color": "#00cc96",
            "pattern": {
             "shape": ""
            }
           },
           "name": "Comedies",
           "orientation": "v",
           "showlegend": true,
           "textposition": "auto",
           "type": "bar",
           "x": [
            "Comedies"
           ],
           "xaxis": "x",
           "y": {
            "bdata": "AA==",
            "dtype": "i1"
           },
           "yaxis": "y"
          },
          {
           "hovertemplate": "Genre=%{x}<br>Tahun Rilis=1965<br>Jumlah Rilis=%{y}<extra></extra>",
           "ids": [
            "Action & Adventure"
           ],
           "legendgroup": "Action & Adventure",
           "marker": {
            "color": "#ab63fa",
            "pattern": {
             "shape": ""
            }
           },
           "name": "Action & Adventure",
           "orientation": "v",
           "showlegend": true,
           "textposition": "auto",
           "type": "bar",
           "x": [
            "Action & Adventure"
           ],
           "xaxis": "x",
           "y": {
            "bdata": "AA==",
            "dtype": "i1"
           },
           "yaxis": "y"
          },
          {
           "hovertemplate": "Genre=%{x}<br>Tahun Rilis=1965<br>Jumlah Rilis=%{y}<extra></extra>",
           "ids": [
            "Independent Movies"
           ],
           "legendgroup": "Independent Movies",
           "marker": {
            "color": "#FFA15A",
            "pattern": {
             "shape": ""
            }
           },
           "name": "Independent Movies",
           "orientation": "v",
           "showlegend": true,
           "textposition": "auto",
           "type": "bar",
           "x": [
            "Independent Movies"
           ],
           "xaxis": "x",
           "y": {
            "bdata": "AA==",
            "dtype": "i1"
           },
           "yaxis": "y"
          },
          {
           "hovertemplate": "Genre=%{x}<br>Tahun Rilis=1965<br>Jumlah Rilis=%{y}<extra></extra>",
           "ids": [
            "Romantic Movies"
           ],
           "legendgroup": "Romantic Movies",
           "marker": {
            "color": "#19d3f3",
            "pattern": {
             "shape": ""
            }
           },
           "name": "Romantic Movies",
           "orientation": "v",
           "showlegend": true,
           "textposition": "auto",
           "type": "bar",
           "x": [
            "Romantic Movies"
           ],
           "xaxis": "x",
           "y": {
            "bdata": "AQ==",
            "dtype": "i1"
           },
           "yaxis": "y"
          },
          {
           "hovertemplate": "Genre=%{x}<br>Tahun Rilis=1965<br>Jumlah Rilis=%{y}<extra></extra>",
           "ids": [
            "Thrillers"
           ],
           "legendgroup": "Thrillers",
           "marker": {
            "color": "#FF6692",
            "pattern": {
             "shape": ""
            }
           },
           "name": "Thrillers",
           "orientation": "v",
           "showlegend": true,
           "textposition": "auto",
           "type": "bar",
           "x": [
            "Thrillers"
           ],
           "xaxis": "x",
           "y": {
            "bdata": "AA==",
            "dtype": "i1"
           },
           "yaxis": "y"
          },
          {
           "hovertemplate": "Genre=%{x}<br>Tahun Rilis=1965<br>Jumlah Rilis=%{y}<extra></extra>",
           "ids": [
            "Children & Family Movies"
           ],
           "legendgroup": "Children & Family Movies",
           "marker": {
            "color": "#B6E880",
            "pattern": {
             "shape": ""
            }
           },
           "name": "Children & Family Movies",
           "orientation": "v",
           "showlegend": true,
           "textposition": "auto",
           "type": "bar",
           "x": [
            "Children & Family Movies"
           ],
           "xaxis": "x",
           "y": {
            "bdata": "AA==",
            "dtype": "i1"
           },
           "yaxis": "y"
          },
          {
           "hovertemplate": "Genre=%{x}<br>Tahun Rilis=1965<br>Jumlah Rilis=%{y}<extra></extra>",
           "ids": [
            "Documentaries"
           ],
           "legendgroup": "Documentaries",
           "marker": {
            "color": "#FF97FF",
            "pattern": {
             "shape": ""
            }
           },
           "name": "Documentaries",
           "orientation": "v",
           "showlegend": true,
           "textposition": "auto",
           "type": "bar",
           "x": [
            "Documentaries"
           ],
           "xaxis": "x",
           "y": {
            "bdata": "AA==",
            "dtype": "i1"
           },
           "yaxis": "y"
          },
          {
           "hovertemplate": "Genre=%{x}<br>Tahun Rilis=1965<br>Jumlah Rilis=%{y}<extra></extra>",
           "ids": [
            "Horror Movies"
           ],
           "legendgroup": "Horror Movies",
           "marker": {
            "color": "#FECB52",
            "pattern": {
             "shape": ""
            }
           },
           "name": "Horror Movies",
           "orientation": "v",
           "showlegend": true,
           "textposition": "auto",
           "type": "bar",
           "x": [
            "Horror Movies"
           ],
           "xaxis": "x",
           "y": {
            "bdata": "AA==",
            "dtype": "i1"
           },
           "yaxis": "y"
          }
         ],
         "name": "1965"
        },
        {
         "data": [
          {
           "hovertemplate": "Genre=%{x}<br>Tahun Rilis=1966<br>Jumlah Rilis=%{y}<extra></extra>",
           "ids": [
            "International Movies"
           ],
           "legendgroup": "International Movies",
           "marker": {
            "color": "#636efa",
            "pattern": {
             "shape": ""
            }
           },
           "name": "International Movies",
           "orientation": "v",
           "showlegend": true,
           "textposition": "auto",
           "type": "bar",
           "x": [
            "International Movies"
           ],
           "xaxis": "x",
           "y": {
            "bdata": "AQ==",
            "dtype": "i1"
           },
           "yaxis": "y"
          },
          {
           "hovertemplate": "Genre=%{x}<br>Tahun Rilis=1966<br>Jumlah Rilis=%{y}<extra></extra>",
           "ids": [
            "Dramas"
           ],
           "legendgroup": "Dramas",
           "marker": {
            "color": "#EF553B",
            "pattern": {
             "shape": ""
            }
           },
           "name": "Dramas",
           "orientation": "v",
           "showlegend": true,
           "textposition": "auto",
           "type": "bar",
           "x": [
            "Dramas"
           ],
           "xaxis": "x",
           "y": {
            "bdata": "AQ==",
            "dtype": "i1"
           },
           "yaxis": "y"
          },
          {
           "hovertemplate": "Genre=%{x}<br>Tahun Rilis=1966<br>Jumlah Rilis=%{y}<extra></extra>",
           "ids": [
            "Comedies"
           ],
           "legendgroup": "Comedies",
           "marker": {
            "color": "#00cc96",
            "pattern": {
             "shape": ""
            }
           },
           "name": "Comedies",
           "orientation": "v",
           "showlegend": true,
           "textposition": "auto",
           "type": "bar",
           "x": [
            "Comedies"
           ],
           "xaxis": "x",
           "y": {
            "bdata": "AA==",
            "dtype": "i1"
           },
           "yaxis": "y"
          },
          {
           "hovertemplate": "Genre=%{x}<br>Tahun Rilis=1966<br>Jumlah Rilis=%{y}<extra></extra>",
           "ids": [
            "Action & Adventure"
           ],
           "legendgroup": "Action & Adventure",
           "marker": {
            "color": "#ab63fa",
            "pattern": {
             "shape": ""
            }
           },
           "name": "Action & Adventure",
           "orientation": "v",
           "showlegend": true,
           "textposition": "auto",
           "type": "bar",
           "x": [
            "Action & Adventure"
           ],
           "xaxis": "x",
           "y": {
            "bdata": "AA==",
            "dtype": "i1"
           },
           "yaxis": "y"
          },
          {
           "hovertemplate": "Genre=%{x}<br>Tahun Rilis=1966<br>Jumlah Rilis=%{y}<extra></extra>",
           "ids": [
            "Independent Movies"
           ],
           "legendgroup": "Independent Movies",
           "marker": {
            "color": "#FFA15A",
            "pattern": {
             "shape": ""
            }
           },
           "name": "Independent Movies",
           "orientation": "v",
           "showlegend": true,
           "textposition": "auto",
           "type": "bar",
           "x": [
            "Independent Movies"
           ],
           "xaxis": "x",
           "y": {
            "bdata": "AA==",
            "dtype": "i1"
           },
           "yaxis": "y"
          },
          {
           "hovertemplate": "Genre=%{x}<br>Tahun Rilis=1966<br>Jumlah Rilis=%{y}<extra></extra>",
           "ids": [
            "Romantic Movies"
           ],
           "legendgroup": "Romantic Movies",
           "marker": {
            "color": "#19d3f3",
            "pattern": {
             "shape": ""
            }
           },
           "name": "Romantic Movies",
           "orientation": "v",
           "showlegend": true,
           "textposition": "auto",
           "type": "bar",
           "x": [
            "Romantic Movies"
           ],
           "xaxis": "x",
           "y": {
            "bdata": "AA==",
            "dtype": "i1"
           },
           "yaxis": "y"
          },
          {
           "hovertemplate": "Genre=%{x}<br>Tahun Rilis=1966<br>Jumlah Rilis=%{y}<extra></extra>",
           "ids": [
            "Thrillers"
           ],
           "legendgroup": "Thrillers",
           "marker": {
            "color": "#FF6692",
            "pattern": {
             "shape": ""
            }
           },
           "name": "Thrillers",
           "orientation": "v",
           "showlegend": true,
           "textposition": "auto",
           "type": "bar",
           "x": [
            "Thrillers"
           ],
           "xaxis": "x",
           "y": {
            "bdata": "AA==",
            "dtype": "i1"
           },
           "yaxis": "y"
          },
          {
           "hovertemplate": "Genre=%{x}<br>Tahun Rilis=1966<br>Jumlah Rilis=%{y}<extra></extra>",
           "ids": [
            "Children & Family Movies"
           ],
           "legendgroup": "Children & Family Movies",
           "marker": {
            "color": "#B6E880",
            "pattern": {
             "shape": ""
            }
           },
           "name": "Children & Family Movies",
           "orientation": "v",
           "showlegend": true,
           "textposition": "auto",
           "type": "bar",
           "x": [
            "Children & Family Movies"
           ],
           "xaxis": "x",
           "y": {
            "bdata": "AA==",
            "dtype": "i1"
           },
           "yaxis": "y"
          },
          {
           "hovertemplate": "Genre=%{x}<br>Tahun Rilis=1966<br>Jumlah Rilis=%{y}<extra></extra>",
           "ids": [
            "Documentaries"
           ],
           "legendgroup": "Documentaries",
           "marker": {
            "color": "#FF97FF",
            "pattern": {
             "shape": ""
            }
           },
           "name": "Documentaries",
           "orientation": "v",
           "showlegend": true,
           "textposition": "auto",
           "type": "bar",
           "x": [
            "Documentaries"
           ],
           "xaxis": "x",
           "y": {
            "bdata": "AA==",
            "dtype": "i1"
           },
           "yaxis": "y"
          },
          {
           "hovertemplate": "Genre=%{x}<br>Tahun Rilis=1966<br>Jumlah Rilis=%{y}<extra></extra>",
           "ids": [
            "Horror Movies"
           ],
           "legendgroup": "Horror Movies",
           "marker": {
            "color": "#FECB52",
            "pattern": {
             "shape": ""
            }
           },
           "name": "Horror Movies",
           "orientation": "v",
           "showlegend": true,
           "textposition": "auto",
           "type": "bar",
           "x": [
            "Horror Movies"
           ],
           "xaxis": "x",
           "y": {
            "bdata": "AA==",
            "dtype": "i1"
           },
           "yaxis": "y"
          }
         ],
         "name": "1966"
        },
        {
         "data": [
          {
           "hovertemplate": "Genre=%{x}<br>Tahun Rilis=1967<br>Jumlah Rilis=%{y}<extra></extra>",
           "ids": [
            "International Movies"
           ],
           "legendgroup": "International Movies",
           "marker": {
            "color": "#636efa",
            "pattern": {
             "shape": ""
            }
           },
           "name": "International Movies",
           "orientation": "v",
           "showlegend": true,
           "textposition": "auto",
           "type": "bar",
           "x": [
            "International Movies"
           ],
           "xaxis": "x",
           "y": {
            "bdata": "AQ==",
            "dtype": "i1"
           },
           "yaxis": "y"
          },
          {
           "hovertemplate": "Genre=%{x}<br>Tahun Rilis=1967<br>Jumlah Rilis=%{y}<extra></extra>",
           "ids": [
            "Dramas"
           ],
           "legendgroup": "Dramas",
           "marker": {
            "color": "#EF553B",
            "pattern": {
             "shape": ""
            }
           },
           "name": "Dramas",
           "orientation": "v",
           "showlegend": true,
           "textposition": "auto",
           "type": "bar",
           "x": [
            "Dramas"
           ],
           "xaxis": "x",
           "y": {
            "bdata": "BA==",
            "dtype": "i1"
           },
           "yaxis": "y"
          },
          {
           "hovertemplate": "Genre=%{x}<br>Tahun Rilis=1967<br>Jumlah Rilis=%{y}<extra></extra>",
           "ids": [
            "Comedies"
           ],
           "legendgroup": "Comedies",
           "marker": {
            "color": "#00cc96",
            "pattern": {
             "shape": ""
            }
           },
           "name": "Comedies",
           "orientation": "v",
           "showlegend": true,
           "textposition": "auto",
           "type": "bar",
           "x": [
            "Comedies"
           ],
           "xaxis": "x",
           "y": {
            "bdata": "AA==",
            "dtype": "i1"
           },
           "yaxis": "y"
          },
          {
           "hovertemplate": "Genre=%{x}<br>Tahun Rilis=1967<br>Jumlah Rilis=%{y}<extra></extra>",
           "ids": [
            "Action & Adventure"
           ],
           "legendgroup": "Action & Adventure",
           "marker": {
            "color": "#ab63fa",
            "pattern": {
             "shape": ""
            }
           },
           "name": "Action & Adventure",
           "orientation": "v",
           "showlegend": true,
           "textposition": "auto",
           "type": "bar",
           "x": [
            "Action & Adventure"
           ],
           "xaxis": "x",
           "y": {
            "bdata": "AQ==",
            "dtype": "i1"
           },
           "yaxis": "y"
          },
          {
           "hovertemplate": "Genre=%{x}<br>Tahun Rilis=1967<br>Jumlah Rilis=%{y}<extra></extra>",
           "ids": [
            "Independent Movies"
           ],
           "legendgroup": "Independent Movies",
           "marker": {
            "color": "#FFA15A",
            "pattern": {
             "shape": ""
            }
           },
           "name": "Independent Movies",
           "orientation": "v",
           "showlegend": true,
           "textposition": "auto",
           "type": "bar",
           "x": [
            "Independent Movies"
           ],
           "xaxis": "x",
           "y": {
            "bdata": "AQ==",
            "dtype": "i1"
           },
           "yaxis": "y"
          },
          {
           "hovertemplate": "Genre=%{x}<br>Tahun Rilis=1967<br>Jumlah Rilis=%{y}<extra></extra>",
           "ids": [
            "Romantic Movies"
           ],
           "legendgroup": "Romantic Movies",
           "marker": {
            "color": "#19d3f3",
            "pattern": {
             "shape": ""
            }
           },
           "name": "Romantic Movies",
           "orientation": "v",
           "showlegend": true,
           "textposition": "auto",
           "type": "bar",
           "x": [
            "Romantic Movies"
           ],
           "xaxis": "x",
           "y": {
            "bdata": "AA==",
            "dtype": "i1"
           },
           "yaxis": "y"
          },
          {
           "hovertemplate": "Genre=%{x}<br>Tahun Rilis=1967<br>Jumlah Rilis=%{y}<extra></extra>",
           "ids": [
            "Thrillers"
           ],
           "legendgroup": "Thrillers",
           "marker": {
            "color": "#FF6692",
            "pattern": {
             "shape": ""
            }
           },
           "name": "Thrillers",
           "orientation": "v",
           "showlegend": true,
           "textposition": "auto",
           "type": "bar",
           "x": [
            "Thrillers"
           ],
           "xaxis": "x",
           "y": {
            "bdata": "AA==",
            "dtype": "i1"
           },
           "yaxis": "y"
          },
          {
           "hovertemplate": "Genre=%{x}<br>Tahun Rilis=1967<br>Jumlah Rilis=%{y}<extra></extra>",
           "ids": [
            "Children & Family Movies"
           ],
           "legendgroup": "Children & Family Movies",
           "marker": {
            "color": "#B6E880",
            "pattern": {
             "shape": ""
            }
           },
           "name": "Children & Family Movies",
           "orientation": "v",
           "showlegend": true,
           "textposition": "auto",
           "type": "bar",
           "x": [
            "Children & Family Movies"
           ],
           "xaxis": "x",
           "y": {
            "bdata": "AA==",
            "dtype": "i1"
           },
           "yaxis": "y"
          },
          {
           "hovertemplate": "Genre=%{x}<br>Tahun Rilis=1967<br>Jumlah Rilis=%{y}<extra></extra>",
           "ids": [
            "Documentaries"
           ],
           "legendgroup": "Documentaries",
           "marker": {
            "color": "#FF97FF",
            "pattern": {
             "shape": ""
            }
           },
           "name": "Documentaries",
           "orientation": "v",
           "showlegend": true,
           "textposition": "auto",
           "type": "bar",
           "x": [
            "Documentaries"
           ],
           "xaxis": "x",
           "y": {
            "bdata": "AA==",
            "dtype": "i1"
           },
           "yaxis": "y"
          },
          {
           "hovertemplate": "Genre=%{x}<br>Tahun Rilis=1967<br>Jumlah Rilis=%{y}<extra></extra>",
           "ids": [
            "Horror Movies"
           ],
           "legendgroup": "Horror Movies",
           "marker": {
            "color": "#FECB52",
            "pattern": {
             "shape": ""
            }
           },
           "name": "Horror Movies",
           "orientation": "v",
           "showlegend": true,
           "textposition": "auto",
           "type": "bar",
           "x": [
            "Horror Movies"
           ],
           "xaxis": "x",
           "y": {
            "bdata": "AA==",
            "dtype": "i1"
           },
           "yaxis": "y"
          }
         ],
         "name": "1967"
        },
        {
         "data": [
          {
           "hovertemplate": "Genre=%{x}<br>Tahun Rilis=1968<br>Jumlah Rilis=%{y}<extra></extra>",
           "ids": [
            "International Movies"
           ],
           "legendgroup": "International Movies",
           "marker": {
            "color": "#636efa",
            "pattern": {
             "shape": ""
            }
           },
           "name": "International Movies",
           "orientation": "v",
           "showlegend": true,
           "textposition": "auto",
           "type": "bar",
           "x": [
            "International Movies"
           ],
           "xaxis": "x",
           "y": {
            "bdata": "AQ==",
            "dtype": "i1"
           },
           "yaxis": "y"
          },
          {
           "hovertemplate": "Genre=%{x}<br>Tahun Rilis=1968<br>Jumlah Rilis=%{y}<extra></extra>",
           "ids": [
            "Dramas"
           ],
           "legendgroup": "Dramas",
           "marker": {
            "color": "#EF553B",
            "pattern": {
             "shape": ""
            }
           },
           "name": "Dramas",
           "orientation": "v",
           "showlegend": true,
           "textposition": "auto",
           "type": "bar",
           "x": [
            "Dramas"
           ],
           "xaxis": "x",
           "y": {
            "bdata": "AA==",
            "dtype": "i1"
           },
           "yaxis": "y"
          },
          {
           "hovertemplate": "Genre=%{x}<br>Tahun Rilis=1968<br>Jumlah Rilis=%{y}<extra></extra>",
           "ids": [
            "Comedies"
           ],
           "legendgroup": "Comedies",
           "marker": {
            "color": "#00cc96",
            "pattern": {
             "shape": ""
            }
           },
           "name": "Comedies",
           "orientation": "v",
           "showlegend": true,
           "textposition": "auto",
           "type": "bar",
           "x": [
            "Comedies"
           ],
           "xaxis": "x",
           "y": {
            "bdata": "AQ==",
            "dtype": "i1"
           },
           "yaxis": "y"
          },
          {
           "hovertemplate": "Genre=%{x}<br>Tahun Rilis=1968<br>Jumlah Rilis=%{y}<extra></extra>",
           "ids": [
            "Action & Adventure"
           ],
           "legendgroup": "Action & Adventure",
           "marker": {
            "color": "#ab63fa",
            "pattern": {
             "shape": ""
            }
           },
           "name": "Action & Adventure",
           "orientation": "v",
           "showlegend": true,
           "textposition": "auto",
           "type": "bar",
           "x": [
            "Action & Adventure"
           ],
           "xaxis": "x",
           "y": {
            "bdata": "AQ==",
            "dtype": "i1"
           },
           "yaxis": "y"
          },
          {
           "hovertemplate": "Genre=%{x}<br>Tahun Rilis=1968<br>Jumlah Rilis=%{y}<extra></extra>",
           "ids": [
            "Independent Movies"
           ],
           "legendgroup": "Independent Movies",
           "marker": {
            "color": "#FFA15A",
            "pattern": {
             "shape": ""
            }
           },
           "name": "Independent Movies",
           "orientation": "v",
           "showlegend": true,
           "textposition": "auto",
           "type": "bar",
           "x": [
            "Independent Movies"
           ],
           "xaxis": "x",
           "y": {
            "bdata": "AA==",
            "dtype": "i1"
           },
           "yaxis": "y"
          },
          {
           "hovertemplate": "Genre=%{x}<br>Tahun Rilis=1968<br>Jumlah Rilis=%{y}<extra></extra>",
           "ids": [
            "Romantic Movies"
           ],
           "legendgroup": "Romantic Movies",
           "marker": {
            "color": "#19d3f3",
            "pattern": {
             "shape": ""
            }
           },
           "name": "Romantic Movies",
           "orientation": "v",
           "showlegend": true,
           "textposition": "auto",
           "type": "bar",
           "x": [
            "Romantic Movies"
           ],
           "xaxis": "x",
           "y": {
            "bdata": "AA==",
            "dtype": "i1"
           },
           "yaxis": "y"
          },
          {
           "hovertemplate": "Genre=%{x}<br>Tahun Rilis=1968<br>Jumlah Rilis=%{y}<extra></extra>",
           "ids": [
            "Thrillers"
           ],
           "legendgroup": "Thrillers",
           "marker": {
            "color": "#FF6692",
            "pattern": {
             "shape": ""
            }
           },
           "name": "Thrillers",
           "orientation": "v",
           "showlegend": true,
           "textposition": "auto",
           "type": "bar",
           "x": [
            "Thrillers"
           ],
           "xaxis": "x",
           "y": {
            "bdata": "AQ==",
            "dtype": "i1"
           },
           "yaxis": "y"
          },
          {
           "hovertemplate": "Genre=%{x}<br>Tahun Rilis=1968<br>Jumlah Rilis=%{y}<extra></extra>",
           "ids": [
            "Children & Family Movies"
           ],
           "legendgroup": "Children & Family Movies",
           "marker": {
            "color": "#B6E880",
            "pattern": {
             "shape": ""
            }
           },
           "name": "Children & Family Movies",
           "orientation": "v",
           "showlegend": true,
           "textposition": "auto",
           "type": "bar",
           "x": [
            "Children & Family Movies"
           ],
           "xaxis": "x",
           "y": {
            "bdata": "AQ==",
            "dtype": "i1"
           },
           "yaxis": "y"
          },
          {
           "hovertemplate": "Genre=%{x}<br>Tahun Rilis=1968<br>Jumlah Rilis=%{y}<extra></extra>",
           "ids": [
            "Documentaries"
           ],
           "legendgroup": "Documentaries",
           "marker": {
            "color": "#FF97FF",
            "pattern": {
             "shape": ""
            }
           },
           "name": "Documentaries",
           "orientation": "v",
           "showlegend": true,
           "textposition": "auto",
           "type": "bar",
           "x": [
            "Documentaries"
           ],
           "xaxis": "x",
           "y": {
            "bdata": "AA==",
            "dtype": "i1"
           },
           "yaxis": "y"
          },
          {
           "hovertemplate": "Genre=%{x}<br>Tahun Rilis=1968<br>Jumlah Rilis=%{y}<extra></extra>",
           "ids": [
            "Horror Movies"
           ],
           "legendgroup": "Horror Movies",
           "marker": {
            "color": "#FECB52",
            "pattern": {
             "shape": ""
            }
           },
           "name": "Horror Movies",
           "orientation": "v",
           "showlegend": true,
           "textposition": "auto",
           "type": "bar",
           "x": [
            "Horror Movies"
           ],
           "xaxis": "x",
           "y": {
            "bdata": "AQ==",
            "dtype": "i1"
           },
           "yaxis": "y"
          }
         ],
         "name": "1968"
        },
        {
         "data": [
          {
           "hovertemplate": "Genre=%{x}<br>Tahun Rilis=1969<br>Jumlah Rilis=%{y}<extra></extra>",
           "ids": [
            "International Movies"
           ],
           "legendgroup": "International Movies",
           "marker": {
            "color": "#636efa",
            "pattern": {
             "shape": ""
            }
           },
           "name": "International Movies",
           "orientation": "v",
           "showlegend": true,
           "textposition": "auto",
           "type": "bar",
           "x": [
            "International Movies"
           ],
           "xaxis": "x",
           "y": {
            "bdata": "AQ==",
            "dtype": "i1"
           },
           "yaxis": "y"
          },
          {
           "hovertemplate": "Genre=%{x}<br>Tahun Rilis=1969<br>Jumlah Rilis=%{y}<extra></extra>",
           "ids": [
            "Dramas"
           ],
           "legendgroup": "Dramas",
           "marker": {
            "color": "#EF553B",
            "pattern": {
             "shape": ""
            }
           },
           "name": "Dramas",
           "orientation": "v",
           "showlegend": true,
           "textposition": "auto",
           "type": "bar",
           "x": [
            "Dramas"
           ],
           "xaxis": "x",
           "y": {
            "bdata": "Ag==",
            "dtype": "i1"
           },
           "yaxis": "y"
          },
          {
           "hovertemplate": "Genre=%{x}<br>Tahun Rilis=1969<br>Jumlah Rilis=%{y}<extra></extra>",
           "ids": [
            "Comedies"
           ],
           "legendgroup": "Comedies",
           "marker": {
            "color": "#00cc96",
            "pattern": {
             "shape": ""
            }
           },
           "name": "Comedies",
           "orientation": "v",
           "showlegend": true,
           "textposition": "auto",
           "type": "bar",
           "x": [
            "Comedies"
           ],
           "xaxis": "x",
           "y": {
            "bdata": "AA==",
            "dtype": "i1"
           },
           "yaxis": "y"
          },
          {
           "hovertemplate": "Genre=%{x}<br>Tahun Rilis=1969<br>Jumlah Rilis=%{y}<extra></extra>",
           "ids": [
            "Action & Adventure"
           ],
           "legendgroup": "Action & Adventure",
           "marker": {
            "color": "#ab63fa",
            "pattern": {
             "shape": ""
            }
           },
           "name": "Action & Adventure",
           "orientation": "v",
           "showlegend": true,
           "textposition": "auto",
           "type": "bar",
           "x": [
            "Action & Adventure"
           ],
           "xaxis": "x",
           "y": {
            "bdata": "AA==",
            "dtype": "i1"
           },
           "yaxis": "y"
          },
          {
           "hovertemplate": "Genre=%{x}<br>Tahun Rilis=1969<br>Jumlah Rilis=%{y}<extra></extra>",
           "ids": [
            "Independent Movies"
           ],
           "legendgroup": "Independent Movies",
           "marker": {
            "color": "#FFA15A",
            "pattern": {
             "shape": ""
            }
           },
           "name": "Independent Movies",
           "orientation": "v",
           "showlegend": true,
           "textposition": "auto",
           "type": "bar",
           "x": [
            "Independent Movies"
           ],
           "xaxis": "x",
           "y": {
            "bdata": "AA==",
            "dtype": "i1"
           },
           "yaxis": "y"
          },
          {
           "hovertemplate": "Genre=%{x}<br>Tahun Rilis=1969<br>Jumlah Rilis=%{y}<extra></extra>",
           "ids": [
            "Romantic Movies"
           ],
           "legendgroup": "Romantic Movies",
           "marker": {
            "color": "#19d3f3",
            "pattern": {
             "shape": ""
            }
           },
           "name": "Romantic Movies",
           "orientation": "v",
           "showlegend": true,
           "textposition": "auto",
           "type": "bar",
           "x": [
            "Romantic Movies"
           ],
           "xaxis": "x",
           "y": {
            "bdata": "AQ==",
            "dtype": "i1"
           },
           "yaxis": "y"
          },
          {
           "hovertemplate": "Genre=%{x}<br>Tahun Rilis=1969<br>Jumlah Rilis=%{y}<extra></extra>",
           "ids": [
            "Thrillers"
           ],
           "legendgroup": "Thrillers",
           "marker": {
            "color": "#FF6692",
            "pattern": {
             "shape": ""
            }
           },
           "name": "Thrillers",
           "orientation": "v",
           "showlegend": true,
           "textposition": "auto",
           "type": "bar",
           "x": [
            "Thrillers"
           ],
           "xaxis": "x",
           "y": {
            "bdata": "AA==",
            "dtype": "i1"
           },
           "yaxis": "y"
          },
          {
           "hovertemplate": "Genre=%{x}<br>Tahun Rilis=1969<br>Jumlah Rilis=%{y}<extra></extra>",
           "ids": [
            "Children & Family Movies"
           ],
           "legendgroup": "Children & Family Movies",
           "marker": {
            "color": "#B6E880",
            "pattern": {
             "shape": ""
            }
           },
           "name": "Children & Family Movies",
           "orientation": "v",
           "showlegend": true,
           "textposition": "auto",
           "type": "bar",
           "x": [
            "Children & Family Movies"
           ],
           "xaxis": "x",
           "y": {
            "bdata": "AA==",
            "dtype": "i1"
           },
           "yaxis": "y"
          },
          {
           "hovertemplate": "Genre=%{x}<br>Tahun Rilis=1969<br>Jumlah Rilis=%{y}<extra></extra>",
           "ids": [
            "Documentaries"
           ],
           "legendgroup": "Documentaries",
           "marker": {
            "color": "#FF97FF",
            "pattern": {
             "shape": ""
            }
           },
           "name": "Documentaries",
           "orientation": "v",
           "showlegend": true,
           "textposition": "auto",
           "type": "bar",
           "x": [
            "Documentaries"
           ],
           "xaxis": "x",
           "y": {
            "bdata": "AA==",
            "dtype": "i1"
           },
           "yaxis": "y"
          },
          {
           "hovertemplate": "Genre=%{x}<br>Tahun Rilis=1969<br>Jumlah Rilis=%{y}<extra></extra>",
           "ids": [
            "Horror Movies"
           ],
           "legendgroup": "Horror Movies",
           "marker": {
            "color": "#FECB52",
            "pattern": {
             "shape": ""
            }
           },
           "name": "Horror Movies",
           "orientation": "v",
           "showlegend": true,
           "textposition": "auto",
           "type": "bar",
           "x": [
            "Horror Movies"
           ],
           "xaxis": "x",
           "y": {
            "bdata": "AA==",
            "dtype": "i1"
           },
           "yaxis": "y"
          }
         ],
         "name": "1969"
        },
        {
         "data": [
          {
           "hovertemplate": "Genre=%{x}<br>Tahun Rilis=1970<br>Jumlah Rilis=%{y}<extra></extra>",
           "ids": [
            "International Movies"
           ],
           "legendgroup": "International Movies",
           "marker": {
            "color": "#636efa",
            "pattern": {
             "shape": ""
            }
           },
           "name": "International Movies",
           "orientation": "v",
           "showlegend": true,
           "textposition": "auto",
           "type": "bar",
           "x": [
            "International Movies"
           ],
           "xaxis": "x",
           "y": {
            "bdata": "Ag==",
            "dtype": "i1"
           },
           "yaxis": "y"
          },
          {
           "hovertemplate": "Genre=%{x}<br>Tahun Rilis=1970<br>Jumlah Rilis=%{y}<extra></extra>",
           "ids": [
            "Dramas"
           ],
           "legendgroup": "Dramas",
           "marker": {
            "color": "#EF553B",
            "pattern": {
             "shape": ""
            }
           },
           "name": "Dramas",
           "orientation": "v",
           "showlegend": true,
           "textposition": "auto",
           "type": "bar",
           "x": [
            "Dramas"
           ],
           "xaxis": "x",
           "y": {
            "bdata": "AQ==",
            "dtype": "i1"
           },
           "yaxis": "y"
          },
          {
           "hovertemplate": "Genre=%{x}<br>Tahun Rilis=1970<br>Jumlah Rilis=%{y}<extra></extra>",
           "ids": [
            "Comedies"
           ],
           "legendgroup": "Comedies",
           "marker": {
            "color": "#00cc96",
            "pattern": {
             "shape": ""
            }
           },
           "name": "Comedies",
           "orientation": "v",
           "showlegend": true,
           "textposition": "auto",
           "type": "bar",
           "x": [
            "Comedies"
           ],
           "xaxis": "x",
           "y": {
            "bdata": "AQ==",
            "dtype": "i1"
           },
           "yaxis": "y"
          },
          {
           "hovertemplate": "Genre=%{x}<br>Tahun Rilis=1970<br>Jumlah Rilis=%{y}<extra></extra>",
           "ids": [
            "Action & Adventure"
           ],
           "legendgroup": "Action & Adventure",
           "marker": {
            "color": "#ab63fa",
            "pattern": {
             "shape": ""
            }
           },
           "name": "Action & Adventure",
           "orientation": "v",
           "showlegend": true,
           "textposition": "auto",
           "type": "bar",
           "x": [
            "Action & Adventure"
           ],
           "xaxis": "x",
           "y": {
            "bdata": "AA==",
            "dtype": "i1"
           },
           "yaxis": "y"
          },
          {
           "hovertemplate": "Genre=%{x}<br>Tahun Rilis=1970<br>Jumlah Rilis=%{y}<extra></extra>",
           "ids": [
            "Independent Movies"
           ],
           "legendgroup": "Independent Movies",
           "marker": {
            "color": "#FFA15A",
            "pattern": {
             "shape": ""
            }
           },
           "name": "Independent Movies",
           "orientation": "v",
           "showlegend": true,
           "textposition": "auto",
           "type": "bar",
           "x": [
            "Independent Movies"
           ],
           "xaxis": "x",
           "y": {
            "bdata": "AA==",
            "dtype": "i1"
           },
           "yaxis": "y"
          },
          {
           "hovertemplate": "Genre=%{x}<br>Tahun Rilis=1970<br>Jumlah Rilis=%{y}<extra></extra>",
           "ids": [
            "Romantic Movies"
           ],
           "legendgroup": "Romantic Movies",
           "marker": {
            "color": "#19d3f3",
            "pattern": {
             "shape": ""
            }
           },
           "name": "Romantic Movies",
           "orientation": "v",
           "showlegend": true,
           "textposition": "auto",
           "type": "bar",
           "x": [
            "Romantic Movies"
           ],
           "xaxis": "x",
           "y": {
            "bdata": "AA==",
            "dtype": "i1"
           },
           "yaxis": "y"
          },
          {
           "hovertemplate": "Genre=%{x}<br>Tahun Rilis=1970<br>Jumlah Rilis=%{y}<extra></extra>",
           "ids": [
            "Thrillers"
           ],
           "legendgroup": "Thrillers",
           "marker": {
            "color": "#FF6692",
            "pattern": {
             "shape": ""
            }
           },
           "name": "Thrillers",
           "orientation": "v",
           "showlegend": true,
           "textposition": "auto",
           "type": "bar",
           "x": [
            "Thrillers"
           ],
           "xaxis": "x",
           "y": {
            "bdata": "AA==",
            "dtype": "i1"
           },
           "yaxis": "y"
          },
          {
           "hovertemplate": "Genre=%{x}<br>Tahun Rilis=1970<br>Jumlah Rilis=%{y}<extra></extra>",
           "ids": [
            "Children & Family Movies"
           ],
           "legendgroup": "Children & Family Movies",
           "marker": {
            "color": "#B6E880",
            "pattern": {
             "shape": ""
            }
           },
           "name": "Children & Family Movies",
           "orientation": "v",
           "showlegend": true,
           "textposition": "auto",
           "type": "bar",
           "x": [
            "Children & Family Movies"
           ],
           "xaxis": "x",
           "y": {
            "bdata": "AA==",
            "dtype": "i1"
           },
           "yaxis": "y"
          },
          {
           "hovertemplate": "Genre=%{x}<br>Tahun Rilis=1970<br>Jumlah Rilis=%{y}<extra></extra>",
           "ids": [
            "Documentaries"
           ],
           "legendgroup": "Documentaries",
           "marker": {
            "color": "#FF97FF",
            "pattern": {
             "shape": ""
            }
           },
           "name": "Documentaries",
           "orientation": "v",
           "showlegend": true,
           "textposition": "auto",
           "type": "bar",
           "x": [
            "Documentaries"
           ],
           "xaxis": "x",
           "y": {
            "bdata": "AA==",
            "dtype": "i1"
           },
           "yaxis": "y"
          },
          {
           "hovertemplate": "Genre=%{x}<br>Tahun Rilis=1970<br>Jumlah Rilis=%{y}<extra></extra>",
           "ids": [
            "Horror Movies"
           ],
           "legendgroup": "Horror Movies",
           "marker": {
            "color": "#FECB52",
            "pattern": {
             "shape": ""
            }
           },
           "name": "Horror Movies",
           "orientation": "v",
           "showlegend": true,
           "textposition": "auto",
           "type": "bar",
           "x": [
            "Horror Movies"
           ],
           "xaxis": "x",
           "y": {
            "bdata": "AA==",
            "dtype": "i1"
           },
           "yaxis": "y"
          }
         ],
         "name": "1970"
        },
        {
         "data": [
          {
           "hovertemplate": "Genre=%{x}<br>Tahun Rilis=1971<br>Jumlah Rilis=%{y}<extra></extra>",
           "ids": [
            "International Movies"
           ],
           "legendgroup": "International Movies",
           "marker": {
            "color": "#636efa",
            "pattern": {
             "shape": ""
            }
           },
           "name": "International Movies",
           "orientation": "v",
           "showlegend": true,
           "textposition": "auto",
           "type": "bar",
           "x": [
            "International Movies"
           ],
           "xaxis": "x",
           "y": {
            "bdata": "Ag==",
            "dtype": "i1"
           },
           "yaxis": "y"
          },
          {
           "hovertemplate": "Genre=%{x}<br>Tahun Rilis=1971<br>Jumlah Rilis=%{y}<extra></extra>",
           "ids": [
            "Dramas"
           ],
           "legendgroup": "Dramas",
           "marker": {
            "color": "#EF553B",
            "pattern": {
             "shape": ""
            }
           },
           "name": "Dramas",
           "orientation": "v",
           "showlegend": true,
           "textposition": "auto",
           "type": "bar",
           "x": [
            "Dramas"
           ],
           "xaxis": "x",
           "y": {
            "bdata": "Aw==",
            "dtype": "i1"
           },
           "yaxis": "y"
          },
          {
           "hovertemplate": "Genre=%{x}<br>Tahun Rilis=1971<br>Jumlah Rilis=%{y}<extra></extra>",
           "ids": [
            "Comedies"
           ],
           "legendgroup": "Comedies",
           "marker": {
            "color": "#00cc96",
            "pattern": {
             "shape": ""
            }
           },
           "name": "Comedies",
           "orientation": "v",
           "showlegend": true,
           "textposition": "auto",
           "type": "bar",
           "x": [
            "Comedies"
           ],
           "xaxis": "x",
           "y": {
            "bdata": "AQ==",
            "dtype": "i1"
           },
           "yaxis": "y"
          },
          {
           "hovertemplate": "Genre=%{x}<br>Tahun Rilis=1971<br>Jumlah Rilis=%{y}<extra></extra>",
           "ids": [
            "Action & Adventure"
           ],
           "legendgroup": "Action & Adventure",
           "marker": {
            "color": "#ab63fa",
            "pattern": {
             "shape": ""
            }
           },
           "name": "Action & Adventure",
           "orientation": "v",
           "showlegend": true,
           "textposition": "auto",
           "type": "bar",
           "x": [
            "Action & Adventure"
           ],
           "xaxis": "x",
           "y": {
            "bdata": "AQ==",
            "dtype": "i1"
           },
           "yaxis": "y"
          },
          {
           "hovertemplate": "Genre=%{x}<br>Tahun Rilis=1971<br>Jumlah Rilis=%{y}<extra></extra>",
           "ids": [
            "Independent Movies"
           ],
           "legendgroup": "Independent Movies",
           "marker": {
            "color": "#FFA15A",
            "pattern": {
             "shape": ""
            }
           },
           "name": "Independent Movies",
           "orientation": "v",
           "showlegend": true,
           "textposition": "auto",
           "type": "bar",
           "x": [
            "Independent Movies"
           ],
           "xaxis": "x",
           "y": {
            "bdata": "AA==",
            "dtype": "i1"
           },
           "yaxis": "y"
          },
          {
           "hovertemplate": "Genre=%{x}<br>Tahun Rilis=1971<br>Jumlah Rilis=%{y}<extra></extra>",
           "ids": [
            "Romantic Movies"
           ],
           "legendgroup": "Romantic Movies",
           "marker": {
            "color": "#19d3f3",
            "pattern": {
             "shape": ""
            }
           },
           "name": "Romantic Movies",
           "orientation": "v",
           "showlegend": true,
           "textposition": "auto",
           "type": "bar",
           "x": [
            "Romantic Movies"
           ],
           "xaxis": "x",
           "y": {
            "bdata": "AA==",
            "dtype": "i1"
           },
           "yaxis": "y"
          },
          {
           "hovertemplate": "Genre=%{x}<br>Tahun Rilis=1971<br>Jumlah Rilis=%{y}<extra></extra>",
           "ids": [
            "Thrillers"
           ],
           "legendgroup": "Thrillers",
           "marker": {
            "color": "#FF6692",
            "pattern": {
             "shape": ""
            }
           },
           "name": "Thrillers",
           "orientation": "v",
           "showlegend": true,
           "textposition": "auto",
           "type": "bar",
           "x": [
            "Thrillers"
           ],
           "xaxis": "x",
           "y": {
            "bdata": "AA==",
            "dtype": "i1"
           },
           "yaxis": "y"
          },
          {
           "hovertemplate": "Genre=%{x}<br>Tahun Rilis=1971<br>Jumlah Rilis=%{y}<extra></extra>",
           "ids": [
            "Children & Family Movies"
           ],
           "legendgroup": "Children & Family Movies",
           "marker": {
            "color": "#B6E880",
            "pattern": {
             "shape": ""
            }
           },
           "name": "Children & Family Movies",
           "orientation": "v",
           "showlegend": true,
           "textposition": "auto",
           "type": "bar",
           "x": [
            "Children & Family Movies"
           ],
           "xaxis": "x",
           "y": {
            "bdata": "AQ==",
            "dtype": "i1"
           },
           "yaxis": "y"
          },
          {
           "hovertemplate": "Genre=%{x}<br>Tahun Rilis=1971<br>Jumlah Rilis=%{y}<extra></extra>",
           "ids": [
            "Documentaries"
           ],
           "legendgroup": "Documentaries",
           "marker": {
            "color": "#FF97FF",
            "pattern": {
             "shape": ""
            }
           },
           "name": "Documentaries",
           "orientation": "v",
           "showlegend": true,
           "textposition": "auto",
           "type": "bar",
           "x": [
            "Documentaries"
           ],
           "xaxis": "x",
           "y": {
            "bdata": "AA==",
            "dtype": "i1"
           },
           "yaxis": "y"
          },
          {
           "hovertemplate": "Genre=%{x}<br>Tahun Rilis=1971<br>Jumlah Rilis=%{y}<extra></extra>",
           "ids": [
            "Horror Movies"
           ],
           "legendgroup": "Horror Movies",
           "marker": {
            "color": "#FECB52",
            "pattern": {
             "shape": ""
            }
           },
           "name": "Horror Movies",
           "orientation": "v",
           "showlegend": true,
           "textposition": "auto",
           "type": "bar",
           "x": [
            "Horror Movies"
           ],
           "xaxis": "x",
           "y": {
            "bdata": "AA==",
            "dtype": "i1"
           },
           "yaxis": "y"
          }
         ],
         "name": "1971"
        },
        {
         "data": [
          {
           "hovertemplate": "Genre=%{x}<br>Tahun Rilis=1972<br>Jumlah Rilis=%{y}<extra></extra>",
           "ids": [
            "International Movies"
           ],
           "legendgroup": "International Movies",
           "marker": {
            "color": "#636efa",
            "pattern": {
             "shape": ""
            }
           },
           "name": "International Movies",
           "orientation": "v",
           "showlegend": true,
           "textposition": "auto",
           "type": "bar",
           "x": [
            "International Movies"
           ],
           "xaxis": "x",
           "y": {
            "bdata": "AQ==",
            "dtype": "i1"
           },
           "yaxis": "y"
          },
          {
           "hovertemplate": "Genre=%{x}<br>Tahun Rilis=1972<br>Jumlah Rilis=%{y}<extra></extra>",
           "ids": [
            "Dramas"
           ],
           "legendgroup": "Dramas",
           "marker": {
            "color": "#EF553B",
            "pattern": {
             "shape": ""
            }
           },
           "name": "Dramas",
           "orientation": "v",
           "showlegend": true,
           "textposition": "auto",
           "type": "bar",
           "x": [
            "Dramas"
           ],
           "xaxis": "x",
           "y": {
            "bdata": "Ag==",
            "dtype": "i1"
           },
           "yaxis": "y"
          },
          {
           "hovertemplate": "Genre=%{x}<br>Tahun Rilis=1972<br>Jumlah Rilis=%{y}<extra></extra>",
           "ids": [
            "Comedies"
           ],
           "legendgroup": "Comedies",
           "marker": {
            "color": "#00cc96",
            "pattern": {
             "shape": ""
            }
           },
           "name": "Comedies",
           "orientation": "v",
           "showlegend": true,
           "textposition": "auto",
           "type": "bar",
           "x": [
            "Comedies"
           ],
           "xaxis": "x",
           "y": {
            "bdata": "AQ==",
            "dtype": "i1"
           },
           "yaxis": "y"
          },
          {
           "hovertemplate": "Genre=%{x}<br>Tahun Rilis=1972<br>Jumlah Rilis=%{y}<extra></extra>",
           "ids": [
            "Action & Adventure"
           ],
           "legendgroup": "Action & Adventure",
           "marker": {
            "color": "#ab63fa",
            "pattern": {
             "shape": ""
            }
           },
           "name": "Action & Adventure",
           "orientation": "v",
           "showlegend": true,
           "textposition": "auto",
           "type": "bar",
           "x": [
            "Action & Adventure"
           ],
           "xaxis": "x",
           "y": {
            "bdata": "AQ==",
            "dtype": "i1"
           },
           "yaxis": "y"
          },
          {
           "hovertemplate": "Genre=%{x}<br>Tahun Rilis=1972<br>Jumlah Rilis=%{y}<extra></extra>",
           "ids": [
            "Independent Movies"
           ],
           "legendgroup": "Independent Movies",
           "marker": {
            "color": "#FFA15A",
            "pattern": {
             "shape": ""
            }
           },
           "name": "Independent Movies",
           "orientation": "v",
           "showlegend": true,
           "textposition": "auto",
           "type": "bar",
           "x": [
            "Independent Movies"
           ],
           "xaxis": "x",
           "y": {
            "bdata": "AA==",
            "dtype": "i1"
           },
           "yaxis": "y"
          },
          {
           "hovertemplate": "Genre=%{x}<br>Tahun Rilis=1972<br>Jumlah Rilis=%{y}<extra></extra>",
           "ids": [
            "Romantic Movies"
           ],
           "legendgroup": "Romantic Movies",
           "marker": {
            "color": "#19d3f3",
            "pattern": {
             "shape": ""
            }
           },
           "name": "Romantic Movies",
           "orientation": "v",
           "showlegend": true,
           "textposition": "auto",
           "type": "bar",
           "x": [
            "Romantic Movies"
           ],
           "xaxis": "x",
           "y": {
            "bdata": "AQ==",
            "dtype": "i1"
           },
           "yaxis": "y"
          },
          {
           "hovertemplate": "Genre=%{x}<br>Tahun Rilis=1972<br>Jumlah Rilis=%{y}<extra></extra>",
           "ids": [
            "Thrillers"
           ],
           "legendgroup": "Thrillers",
           "marker": {
            "color": "#FF6692",
            "pattern": {
             "shape": ""
            }
           },
           "name": "Thrillers",
           "orientation": "v",
           "showlegend": true,
           "textposition": "auto",
           "type": "bar",
           "x": [
            "Thrillers"
           ],
           "xaxis": "x",
           "y": {
            "bdata": "AA==",
            "dtype": "i1"
           },
           "yaxis": "y"
          },
          {
           "hovertemplate": "Genre=%{x}<br>Tahun Rilis=1972<br>Jumlah Rilis=%{y}<extra></extra>",
           "ids": [
            "Children & Family Movies"
           ],
           "legendgroup": "Children & Family Movies",
           "marker": {
            "color": "#B6E880",
            "pattern": {
             "shape": ""
            }
           },
           "name": "Children & Family Movies",
           "orientation": "v",
           "showlegend": true,
           "textposition": "auto",
           "type": "bar",
           "x": [
            "Children & Family Movies"
           ],
           "xaxis": "x",
           "y": {
            "bdata": "AA==",
            "dtype": "i1"
           },
           "yaxis": "y"
          },
          {
           "hovertemplate": "Genre=%{x}<br>Tahun Rilis=1972<br>Jumlah Rilis=%{y}<extra></extra>",
           "ids": [
            "Documentaries"
           ],
           "legendgroup": "Documentaries",
           "marker": {
            "color": "#FF97FF",
            "pattern": {
             "shape": ""
            }
           },
           "name": "Documentaries",
           "orientation": "v",
           "showlegend": true,
           "textposition": "auto",
           "type": "bar",
           "x": [
            "Documentaries"
           ],
           "xaxis": "x",
           "y": {
            "bdata": "AQ==",
            "dtype": "i1"
           },
           "yaxis": "y"
          },
          {
           "hovertemplate": "Genre=%{x}<br>Tahun Rilis=1972<br>Jumlah Rilis=%{y}<extra></extra>",
           "ids": [
            "Horror Movies"
           ],
           "legendgroup": "Horror Movies",
           "marker": {
            "color": "#FECB52",
            "pattern": {
             "shape": ""
            }
           },
           "name": "Horror Movies",
           "orientation": "v",
           "showlegend": true,
           "textposition": "auto",
           "type": "bar",
           "x": [
            "Horror Movies"
           ],
           "xaxis": "x",
           "y": {
            "bdata": "AA==",
            "dtype": "i1"
           },
           "yaxis": "y"
          }
         ],
         "name": "1972"
        },
        {
         "data": [
          {
           "hovertemplate": "Genre=%{x}<br>Tahun Rilis=1973<br>Jumlah Rilis=%{y}<extra></extra>",
           "ids": [
            "International Movies"
           ],
           "legendgroup": "International Movies",
           "marker": {
            "color": "#636efa",
            "pattern": {
             "shape": ""
            }
           },
           "name": "International Movies",
           "orientation": "v",
           "showlegend": true,
           "textposition": "auto",
           "type": "bar",
           "x": [
            "International Movies"
           ],
           "xaxis": "x",
           "y": {
            "bdata": "BQ==",
            "dtype": "i1"
           },
           "yaxis": "y"
          },
          {
           "hovertemplate": "Genre=%{x}<br>Tahun Rilis=1973<br>Jumlah Rilis=%{y}<extra></extra>",
           "ids": [
            "Dramas"
           ],
           "legendgroup": "Dramas",
           "marker": {
            "color": "#EF553B",
            "pattern": {
             "shape": ""
            }
           },
           "name": "Dramas",
           "orientation": "v",
           "showlegend": true,
           "textposition": "auto",
           "type": "bar",
           "x": [
            "Dramas"
           ],
           "xaxis": "x",
           "y": {
            "bdata": "BA==",
            "dtype": "i1"
           },
           "yaxis": "y"
          },
          {
           "hovertemplate": "Genre=%{x}<br>Tahun Rilis=1973<br>Jumlah Rilis=%{y}<extra></extra>",
           "ids": [
            "Comedies"
           ],
           "legendgroup": "Comedies",
           "marker": {
            "color": "#00cc96",
            "pattern": {
             "shape": ""
            }
           },
           "name": "Comedies",
           "orientation": "v",
           "showlegend": true,
           "textposition": "auto",
           "type": "bar",
           "x": [
            "Comedies"
           ],
           "xaxis": "x",
           "y": {
            "bdata": "AQ==",
            "dtype": "i1"
           },
           "yaxis": "y"
          },
          {
           "hovertemplate": "Genre=%{x}<br>Tahun Rilis=1973<br>Jumlah Rilis=%{y}<extra></extra>",
           "ids": [
            "Action & Adventure"
           ],
           "legendgroup": "Action & Adventure",
           "marker": {
            "color": "#ab63fa",
            "pattern": {
             "shape": ""
            }
           },
           "name": "Action & Adventure",
           "orientation": "v",
           "showlegend": true,
           "textposition": "auto",
           "type": "bar",
           "x": [
            "Action & Adventure"
           ],
           "xaxis": "x",
           "y": {
            "bdata": "BA==",
            "dtype": "i1"
           },
           "yaxis": "y"
          },
          {
           "hovertemplate": "Genre=%{x}<br>Tahun Rilis=1973<br>Jumlah Rilis=%{y}<extra></extra>",
           "ids": [
            "Independent Movies"
           ],
           "legendgroup": "Independent Movies",
           "marker": {
            "color": "#FFA15A",
            "pattern": {
             "shape": ""
            }
           },
           "name": "Independent Movies",
           "orientation": "v",
           "showlegend": true,
           "textposition": "auto",
           "type": "bar",
           "x": [
            "Independent Movies"
           ],
           "xaxis": "x",
           "y": {
            "bdata": "AQ==",
            "dtype": "i1"
           },
           "yaxis": "y"
          },
          {
           "hovertemplate": "Genre=%{x}<br>Tahun Rilis=1973<br>Jumlah Rilis=%{y}<extra></extra>",
           "ids": [
            "Romantic Movies"
           ],
           "legendgroup": "Romantic Movies",
           "marker": {
            "color": "#19d3f3",
            "pattern": {
             "shape": ""
            }
           },
           "name": "Romantic Movies",
           "orientation": "v",
           "showlegend": true,
           "textposition": "auto",
           "type": "bar",
           "x": [
            "Romantic Movies"
           ],
           "xaxis": "x",
           "y": {
            "bdata": "AQ==",
            "dtype": "i1"
           },
           "yaxis": "y"
          },
          {
           "hovertemplate": "Genre=%{x}<br>Tahun Rilis=1973<br>Jumlah Rilis=%{y}<extra></extra>",
           "ids": [
            "Thrillers"
           ],
           "legendgroup": "Thrillers",
           "marker": {
            "color": "#FF6692",
            "pattern": {
             "shape": ""
            }
           },
           "name": "Thrillers",
           "orientation": "v",
           "showlegend": true,
           "textposition": "auto",
           "type": "bar",
           "x": [
            "Thrillers"
           ],
           "xaxis": "x",
           "y": {
            "bdata": "AA==",
            "dtype": "i1"
           },
           "yaxis": "y"
          },
          {
           "hovertemplate": "Genre=%{x}<br>Tahun Rilis=1973<br>Jumlah Rilis=%{y}<extra></extra>",
           "ids": [
            "Children & Family Movies"
           ],
           "legendgroup": "Children & Family Movies",
           "marker": {
            "color": "#B6E880",
            "pattern": {
             "shape": ""
            }
           },
           "name": "Children & Family Movies",
           "orientation": "v",
           "showlegend": true,
           "textposition": "auto",
           "type": "bar",
           "x": [
            "Children & Family Movies"
           ],
           "xaxis": "x",
           "y": {
            "bdata": "AQ==",
            "dtype": "i1"
           },
           "yaxis": "y"
          },
          {
           "hovertemplate": "Genre=%{x}<br>Tahun Rilis=1973<br>Jumlah Rilis=%{y}<extra></extra>",
           "ids": [
            "Documentaries"
           ],
           "legendgroup": "Documentaries",
           "marker": {
            "color": "#FF97FF",
            "pattern": {
             "shape": ""
            }
           },
           "name": "Documentaries",
           "orientation": "v",
           "showlegend": true,
           "textposition": "auto",
           "type": "bar",
           "x": [
            "Documentaries"
           ],
           "xaxis": "x",
           "y": {
            "bdata": "AQ==",
            "dtype": "i1"
           },
           "yaxis": "y"
          },
          {
           "hovertemplate": "Genre=%{x}<br>Tahun Rilis=1973<br>Jumlah Rilis=%{y}<extra></extra>",
           "ids": [
            "Horror Movies"
           ],
           "legendgroup": "Horror Movies",
           "marker": {
            "color": "#FECB52",
            "pattern": {
             "shape": ""
            }
           },
           "name": "Horror Movies",
           "orientation": "v",
           "showlegend": true,
           "textposition": "auto",
           "type": "bar",
           "x": [
            "Horror Movies"
           ],
           "xaxis": "x",
           "y": {
            "bdata": "AA==",
            "dtype": "i1"
           },
           "yaxis": "y"
          }
         ],
         "name": "1973"
        },
        {
         "data": [
          {
           "hovertemplate": "Genre=%{x}<br>Tahun Rilis=1974<br>Jumlah Rilis=%{y}<extra></extra>",
           "ids": [
            "International Movies"
           ],
           "legendgroup": "International Movies",
           "marker": {
            "color": "#636efa",
            "pattern": {
             "shape": ""
            }
           },
           "name": "International Movies",
           "orientation": "v",
           "showlegend": true,
           "textposition": "auto",
           "type": "bar",
           "x": [
            "International Movies"
           ],
           "xaxis": "x",
           "y": {
            "bdata": "Ag==",
            "dtype": "i1"
           },
           "yaxis": "y"
          },
          {
           "hovertemplate": "Genre=%{x}<br>Tahun Rilis=1974<br>Jumlah Rilis=%{y}<extra></extra>",
           "ids": [
            "Dramas"
           ],
           "legendgroup": "Dramas",
           "marker": {
            "color": "#EF553B",
            "pattern": {
             "shape": ""
            }
           },
           "name": "Dramas",
           "orientation": "v",
           "showlegend": true,
           "textposition": "auto",
           "type": "bar",
           "x": [
            "Dramas"
           ],
           "xaxis": "x",
           "y": {
            "bdata": "Aw==",
            "dtype": "i1"
           },
           "yaxis": "y"
          },
          {
           "hovertemplate": "Genre=%{x}<br>Tahun Rilis=1974<br>Jumlah Rilis=%{y}<extra></extra>",
           "ids": [
            "Comedies"
           ],
           "legendgroup": "Comedies",
           "marker": {
            "color": "#00cc96",
            "pattern": {
             "shape": ""
            }
           },
           "name": "Comedies",
           "orientation": "v",
           "showlegend": true,
           "textposition": "auto",
           "type": "bar",
           "x": [
            "Comedies"
           ],
           "xaxis": "x",
           "y": {
            "bdata": "BA==",
            "dtype": "i1"
           },
           "yaxis": "y"
          },
          {
           "hovertemplate": "Genre=%{x}<br>Tahun Rilis=1974<br>Jumlah Rilis=%{y}<extra></extra>",
           "ids": [
            "Action & Adventure"
           ],
           "legendgroup": "Action & Adventure",
           "marker": {
            "color": "#ab63fa",
            "pattern": {
             "shape": ""
            }
           },
           "name": "Action & Adventure",
           "orientation": "v",
           "showlegend": true,
           "textposition": "auto",
           "type": "bar",
           "x": [
            "Action & Adventure"
           ],
           "xaxis": "x",
           "y": {
            "bdata": "AA==",
            "dtype": "i1"
           },
           "yaxis": "y"
          },
          {
           "hovertemplate": "Genre=%{x}<br>Tahun Rilis=1974<br>Jumlah Rilis=%{y}<extra></extra>",
           "ids": [
            "Independent Movies"
           ],
           "legendgroup": "Independent Movies",
           "marker": {
            "color": "#FFA15A",
            "pattern": {
             "shape": ""
            }
           },
           "name": "Independent Movies",
           "orientation": "v",
           "showlegend": true,
           "textposition": "auto",
           "type": "bar",
           "x": [
            "Independent Movies"
           ],
           "xaxis": "x",
           "y": {
            "bdata": "Ag==",
            "dtype": "i1"
           },
           "yaxis": "y"
          },
          {
           "hovertemplate": "Genre=%{x}<br>Tahun Rilis=1974<br>Jumlah Rilis=%{y}<extra></extra>",
           "ids": [
            "Romantic Movies"
           ],
           "legendgroup": "Romantic Movies",
           "marker": {
            "color": "#19d3f3",
            "pattern": {
             "shape": ""
            }
           },
           "name": "Romantic Movies",
           "orientation": "v",
           "showlegend": true,
           "textposition": "auto",
           "type": "bar",
           "x": [
            "Romantic Movies"
           ],
           "xaxis": "x",
           "y": {
            "bdata": "AQ==",
            "dtype": "i1"
           },
           "yaxis": "y"
          },
          {
           "hovertemplate": "Genre=%{x}<br>Tahun Rilis=1974<br>Jumlah Rilis=%{y}<extra></extra>",
           "ids": [
            "Thrillers"
           ],
           "legendgroup": "Thrillers",
           "marker": {
            "color": "#FF6692",
            "pattern": {
             "shape": ""
            }
           },
           "name": "Thrillers",
           "orientation": "v",
           "showlegend": true,
           "textposition": "auto",
           "type": "bar",
           "x": [
            "Thrillers"
           ],
           "xaxis": "x",
           "y": {
            "bdata": "AA==",
            "dtype": "i1"
           },
           "yaxis": "y"
          },
          {
           "hovertemplate": "Genre=%{x}<br>Tahun Rilis=1974<br>Jumlah Rilis=%{y}<extra></extra>",
           "ids": [
            "Children & Family Movies"
           ],
           "legendgroup": "Children & Family Movies",
           "marker": {
            "color": "#B6E880",
            "pattern": {
             "shape": ""
            }
           },
           "name": "Children & Family Movies",
           "orientation": "v",
           "showlegend": true,
           "textposition": "auto",
           "type": "bar",
           "x": [
            "Children & Family Movies"
           ],
           "xaxis": "x",
           "y": {
            "bdata": "AA==",
            "dtype": "i1"
           },
           "yaxis": "y"
          },
          {
           "hovertemplate": "Genre=%{x}<br>Tahun Rilis=1974<br>Jumlah Rilis=%{y}<extra></extra>",
           "ids": [
            "Documentaries"
           ],
           "legendgroup": "Documentaries",
           "marker": {
            "color": "#FF97FF",
            "pattern": {
             "shape": ""
            }
           },
           "name": "Documentaries",
           "orientation": "v",
           "showlegend": true,
           "textposition": "auto",
           "type": "bar",
           "x": [
            "Documentaries"
           ],
           "xaxis": "x",
           "y": {
            "bdata": "AA==",
            "dtype": "i1"
           },
           "yaxis": "y"
          },
          {
           "hovertemplate": "Genre=%{x}<br>Tahun Rilis=1974<br>Jumlah Rilis=%{y}<extra></extra>",
           "ids": [
            "Horror Movies"
           ],
           "legendgroup": "Horror Movies",
           "marker": {
            "color": "#FECB52",
            "pattern": {
             "shape": ""
            }
           },
           "name": "Horror Movies",
           "orientation": "v",
           "showlegend": true,
           "textposition": "auto",
           "type": "bar",
           "x": [
            "Horror Movies"
           ],
           "xaxis": "x",
           "y": {
            "bdata": "AQ==",
            "dtype": "i1"
           },
           "yaxis": "y"
          }
         ],
         "name": "1974"
        },
        {
         "data": [
          {
           "hovertemplate": "Genre=%{x}<br>Tahun Rilis=1975<br>Jumlah Rilis=%{y}<extra></extra>",
           "ids": [
            "International Movies"
           ],
           "legendgroup": "International Movies",
           "marker": {
            "color": "#636efa",
            "pattern": {
             "shape": ""
            }
           },
           "name": "International Movies",
           "orientation": "v",
           "showlegend": true,
           "textposition": "auto",
           "type": "bar",
           "x": [
            "International Movies"
           ],
           "xaxis": "x",
           "y": {
            "bdata": "BQ==",
            "dtype": "i1"
           },
           "yaxis": "y"
          },
          {
           "hovertemplate": "Genre=%{x}<br>Tahun Rilis=1975<br>Jumlah Rilis=%{y}<extra></extra>",
           "ids": [
            "Dramas"
           ],
           "legendgroup": "Dramas",
           "marker": {
            "color": "#EF553B",
            "pattern": {
             "shape": ""
            }
           },
           "name": "Dramas",
           "orientation": "v",
           "showlegend": true,
           "textposition": "auto",
           "type": "bar",
           "x": [
            "Dramas"
           ],
           "xaxis": "x",
           "y": {
            "bdata": "BA==",
            "dtype": "i1"
           },
           "yaxis": "y"
          },
          {
           "hovertemplate": "Genre=%{x}<br>Tahun Rilis=1975<br>Jumlah Rilis=%{y}<extra></extra>",
           "ids": [
            "Comedies"
           ],
           "legendgroup": "Comedies",
           "marker": {
            "color": "#00cc96",
            "pattern": {
             "shape": ""
            }
           },
           "name": "Comedies",
           "orientation": "v",
           "showlegend": true,
           "textposition": "auto",
           "type": "bar",
           "x": [
            "Comedies"
           ],
           "xaxis": "x",
           "y": {
            "bdata": "Ag==",
            "dtype": "i1"
           },
           "yaxis": "y"
          },
          {
           "hovertemplate": "Genre=%{x}<br>Tahun Rilis=1975<br>Jumlah Rilis=%{y}<extra></extra>",
           "ids": [
            "Action & Adventure"
           ],
           "legendgroup": "Action & Adventure",
           "marker": {
            "color": "#ab63fa",
            "pattern": {
             "shape": ""
            }
           },
           "name": "Action & Adventure",
           "orientation": "v",
           "showlegend": true,
           "textposition": "auto",
           "type": "bar",
           "x": [
            "Action & Adventure"
           ],
           "xaxis": "x",
           "y": {
            "bdata": "BA==",
            "dtype": "i1"
           },
           "yaxis": "y"
          },
          {
           "hovertemplate": "Genre=%{x}<br>Tahun Rilis=1975<br>Jumlah Rilis=%{y}<extra></extra>",
           "ids": [
            "Independent Movies"
           ],
           "legendgroup": "Independent Movies",
           "marker": {
            "color": "#FFA15A",
            "pattern": {
             "shape": ""
            }
           },
           "name": "Independent Movies",
           "orientation": "v",
           "showlegend": true,
           "textposition": "auto",
           "type": "bar",
           "x": [
            "Independent Movies"
           ],
           "xaxis": "x",
           "y": {
            "bdata": "AA==",
            "dtype": "i1"
           },
           "yaxis": "y"
          },
          {
           "hovertemplate": "Genre=%{x}<br>Tahun Rilis=1975<br>Jumlah Rilis=%{y}<extra></extra>",
           "ids": [
            "Romantic Movies"
           ],
           "legendgroup": "Romantic Movies",
           "marker": {
            "color": "#19d3f3",
            "pattern": {
             "shape": ""
            }
           },
           "name": "Romantic Movies",
           "orientation": "v",
           "showlegend": true,
           "textposition": "auto",
           "type": "bar",
           "x": [
            "Romantic Movies"
           ],
           "xaxis": "x",
           "y": {
            "bdata": "AA==",
            "dtype": "i1"
           },
           "yaxis": "y"
          },
          {
           "hovertemplate": "Genre=%{x}<br>Tahun Rilis=1975<br>Jumlah Rilis=%{y}<extra></extra>",
           "ids": [
            "Thrillers"
           ],
           "legendgroup": "Thrillers",
           "marker": {
            "color": "#FF6692",
            "pattern": {
             "shape": ""
            }
           },
           "name": "Thrillers",
           "orientation": "v",
           "showlegend": true,
           "textposition": "auto",
           "type": "bar",
           "x": [
            "Thrillers"
           ],
           "xaxis": "x",
           "y": {
            "bdata": "AA==",
            "dtype": "i1"
           },
           "yaxis": "y"
          },
          {
           "hovertemplate": "Genre=%{x}<br>Tahun Rilis=1975<br>Jumlah Rilis=%{y}<extra></extra>",
           "ids": [
            "Children & Family Movies"
           ],
           "legendgroup": "Children & Family Movies",
           "marker": {
            "color": "#B6E880",
            "pattern": {
             "shape": ""
            }
           },
           "name": "Children & Family Movies",
           "orientation": "v",
           "showlegend": true,
           "textposition": "auto",
           "type": "bar",
           "x": [
            "Children & Family Movies"
           ],
           "xaxis": "x",
           "y": {
            "bdata": "AA==",
            "dtype": "i1"
           },
           "yaxis": "y"
          },
          {
           "hovertemplate": "Genre=%{x}<br>Tahun Rilis=1975<br>Jumlah Rilis=%{y}<extra></extra>",
           "ids": [
            "Documentaries"
           ],
           "legendgroup": "Documentaries",
           "marker": {
            "color": "#FF97FF",
            "pattern": {
             "shape": ""
            }
           },
           "name": "Documentaries",
           "orientation": "v",
           "showlegend": true,
           "textposition": "auto",
           "type": "bar",
           "x": [
            "Documentaries"
           ],
           "xaxis": "x",
           "y": {
            "bdata": "AA==",
            "dtype": "i1"
           },
           "yaxis": "y"
          },
          {
           "hovertemplate": "Genre=%{x}<br>Tahun Rilis=1975<br>Jumlah Rilis=%{y}<extra></extra>",
           "ids": [
            "Horror Movies"
           ],
           "legendgroup": "Horror Movies",
           "marker": {
            "color": "#FECB52",
            "pattern": {
             "shape": ""
            }
           },
           "name": "Horror Movies",
           "orientation": "v",
           "showlegend": true,
           "textposition": "auto",
           "type": "bar",
           "x": [
            "Horror Movies"
           ],
           "xaxis": "x",
           "y": {
            "bdata": "AA==",
            "dtype": "i1"
           },
           "yaxis": "y"
          }
         ],
         "name": "1975"
        },
        {
         "data": [
          {
           "hovertemplate": "Genre=%{x}<br>Tahun Rilis=1976<br>Jumlah Rilis=%{y}<extra></extra>",
           "ids": [
            "International Movies"
           ],
           "legendgroup": "International Movies",
           "marker": {
            "color": "#636efa",
            "pattern": {
             "shape": ""
            }
           },
           "name": "International Movies",
           "orientation": "v",
           "showlegend": true,
           "textposition": "auto",
           "type": "bar",
           "x": [
            "International Movies"
           ],
           "xaxis": "x",
           "y": {
            "bdata": "Ag==",
            "dtype": "i1"
           },
           "yaxis": "y"
          },
          {
           "hovertemplate": "Genre=%{x}<br>Tahun Rilis=1976<br>Jumlah Rilis=%{y}<extra></extra>",
           "ids": [
            "Dramas"
           ],
           "legendgroup": "Dramas",
           "marker": {
            "color": "#EF553B",
            "pattern": {
             "shape": ""
            }
           },
           "name": "Dramas",
           "orientation": "v",
           "showlegend": true,
           "textposition": "auto",
           "type": "bar",
           "x": [
            "Dramas"
           ],
           "xaxis": "x",
           "y": {
            "bdata": "BA==",
            "dtype": "i1"
           },
           "yaxis": "y"
          },
          {
           "hovertemplate": "Genre=%{x}<br>Tahun Rilis=1976<br>Jumlah Rilis=%{y}<extra></extra>",
           "ids": [
            "Comedies"
           ],
           "legendgroup": "Comedies",
           "marker": {
            "color": "#00cc96",
            "pattern": {
             "shape": ""
            }
           },
           "name": "Comedies",
           "orientation": "v",
           "showlegend": true,
           "textposition": "auto",
           "type": "bar",
           "x": [
            "Comedies"
           ],
           "xaxis": "x",
           "y": {
            "bdata": "Ag==",
            "dtype": "i1"
           },
           "yaxis": "y"
          },
          {
           "hovertemplate": "Genre=%{x}<br>Tahun Rilis=1976<br>Jumlah Rilis=%{y}<extra></extra>",
           "ids": [
            "Action & Adventure"
           ],
           "legendgroup": "Action & Adventure",
           "marker": {
            "color": "#ab63fa",
            "pattern": {
             "shape": ""
            }
           },
           "name": "Action & Adventure",
           "orientation": "v",
           "showlegend": true,
           "textposition": "auto",
           "type": "bar",
           "x": [
            "Action & Adventure"
           ],
           "xaxis": "x",
           "y": {
            "bdata": "BA==",
            "dtype": "i1"
           },
           "yaxis": "y"
          },
          {
           "hovertemplate": "Genre=%{x}<br>Tahun Rilis=1976<br>Jumlah Rilis=%{y}<extra></extra>",
           "ids": [
            "Independent Movies"
           ],
           "legendgroup": "Independent Movies",
           "marker": {
            "color": "#FFA15A",
            "pattern": {
             "shape": ""
            }
           },
           "name": "Independent Movies",
           "orientation": "v",
           "showlegend": true,
           "textposition": "auto",
           "type": "bar",
           "x": [
            "Independent Movies"
           ],
           "xaxis": "x",
           "y": {
            "bdata": "AA==",
            "dtype": "i1"
           },
           "yaxis": "y"
          },
          {
           "hovertemplate": "Genre=%{x}<br>Tahun Rilis=1976<br>Jumlah Rilis=%{y}<extra></extra>",
           "ids": [
            "Romantic Movies"
           ],
           "legendgroup": "Romantic Movies",
           "marker": {
            "color": "#19d3f3",
            "pattern": {
             "shape": ""
            }
           },
           "name": "Romantic Movies",
           "orientation": "v",
           "showlegend": true,
           "textposition": "auto",
           "type": "bar",
           "x": [
            "Romantic Movies"
           ],
           "xaxis": "x",
           "y": {
            "bdata": "AA==",
            "dtype": "i1"
           },
           "yaxis": "y"
          },
          {
           "hovertemplate": "Genre=%{x}<br>Tahun Rilis=1976<br>Jumlah Rilis=%{y}<extra></extra>",
           "ids": [
            "Thrillers"
           ],
           "legendgroup": "Thrillers",
           "marker": {
            "color": "#FF6692",
            "pattern": {
             "shape": ""
            }
           },
           "name": "Thrillers",
           "orientation": "v",
           "showlegend": true,
           "textposition": "auto",
           "type": "bar",
           "x": [
            "Thrillers"
           ],
           "xaxis": "x",
           "y": {
            "bdata": "AA==",
            "dtype": "i1"
           },
           "yaxis": "y"
          },
          {
           "hovertemplate": "Genre=%{x}<br>Tahun Rilis=1976<br>Jumlah Rilis=%{y}<extra></extra>",
           "ids": [
            "Children & Family Movies"
           ],
           "legendgroup": "Children & Family Movies",
           "marker": {
            "color": "#B6E880",
            "pattern": {
             "shape": ""
            }
           },
           "name": "Children & Family Movies",
           "orientation": "v",
           "showlegend": true,
           "textposition": "auto",
           "type": "bar",
           "x": [
            "Children & Family Movies"
           ],
           "xaxis": "x",
           "y": {
            "bdata": "AA==",
            "dtype": "i1"
           },
           "yaxis": "y"
          },
          {
           "hovertemplate": "Genre=%{x}<br>Tahun Rilis=1976<br>Jumlah Rilis=%{y}<extra></extra>",
           "ids": [
            "Documentaries"
           ],
           "legendgroup": "Documentaries",
           "marker": {
            "color": "#FF97FF",
            "pattern": {
             "shape": ""
            }
           },
           "name": "Documentaries",
           "orientation": "v",
           "showlegend": true,
           "textposition": "auto",
           "type": "bar",
           "x": [
            "Documentaries"
           ],
           "xaxis": "x",
           "y": {
            "bdata": "AA==",
            "dtype": "i1"
           },
           "yaxis": "y"
          },
          {
           "hovertemplate": "Genre=%{x}<br>Tahun Rilis=1976<br>Jumlah Rilis=%{y}<extra></extra>",
           "ids": [
            "Horror Movies"
           ],
           "legendgroup": "Horror Movies",
           "marker": {
            "color": "#FECB52",
            "pattern": {
             "shape": ""
            }
           },
           "name": "Horror Movies",
           "orientation": "v",
           "showlegend": true,
           "textposition": "auto",
           "type": "bar",
           "x": [
            "Horror Movies"
           ],
           "xaxis": "x",
           "y": {
            "bdata": "AQ==",
            "dtype": "i1"
           },
           "yaxis": "y"
          }
         ],
         "name": "1976"
        },
        {
         "data": [
          {
           "hovertemplate": "Genre=%{x}<br>Tahun Rilis=1977<br>Jumlah Rilis=%{y}<extra></extra>",
           "ids": [
            "International Movies"
           ],
           "legendgroup": "International Movies",
           "marker": {
            "color": "#636efa",
            "pattern": {
             "shape": ""
            }
           },
           "name": "International Movies",
           "orientation": "v",
           "showlegend": true,
           "textposition": "auto",
           "type": "bar",
           "x": [
            "International Movies"
           ],
           "xaxis": "x",
           "y": {
            "bdata": "AQ==",
            "dtype": "i1"
           },
           "yaxis": "y"
          },
          {
           "hovertemplate": "Genre=%{x}<br>Tahun Rilis=1977<br>Jumlah Rilis=%{y}<extra></extra>",
           "ids": [
            "Dramas"
           ],
           "legendgroup": "Dramas",
           "marker": {
            "color": "#EF553B",
            "pattern": {
             "shape": ""
            }
           },
           "name": "Dramas",
           "orientation": "v",
           "showlegend": true,
           "textposition": "auto",
           "type": "bar",
           "x": [
            "Dramas"
           ],
           "xaxis": "x",
           "y": {
            "bdata": "Ag==",
            "dtype": "i1"
           },
           "yaxis": "y"
          },
          {
           "hovertemplate": "Genre=%{x}<br>Tahun Rilis=1977<br>Jumlah Rilis=%{y}<extra></extra>",
           "ids": [
            "Comedies"
           ],
           "legendgroup": "Comedies",
           "marker": {
            "color": "#00cc96",
            "pattern": {
             "shape": ""
            }
           },
           "name": "Comedies",
           "orientation": "v",
           "showlegend": true,
           "textposition": "auto",
           "type": "bar",
           "x": [
            "Comedies"
           ],
           "xaxis": "x",
           "y": {
            "bdata": "AQ==",
            "dtype": "i1"
           },
           "yaxis": "y"
          },
          {
           "hovertemplate": "Genre=%{x}<br>Tahun Rilis=1977<br>Jumlah Rilis=%{y}<extra></extra>",
           "ids": [
            "Action & Adventure"
           ],
           "legendgroup": "Action & Adventure",
           "marker": {
            "color": "#ab63fa",
            "pattern": {
             "shape": ""
            }
           },
           "name": "Action & Adventure",
           "orientation": "v",
           "showlegend": true,
           "textposition": "auto",
           "type": "bar",
           "x": [
            "Action & Adventure"
           ],
           "xaxis": "x",
           "y": {
            "bdata": "Ag==",
            "dtype": "i1"
           },
           "yaxis": "y"
          },
          {
           "hovertemplate": "Genre=%{x}<br>Tahun Rilis=1977<br>Jumlah Rilis=%{y}<extra></extra>",
           "ids": [
            "Independent Movies"
           ],
           "legendgroup": "Independent Movies",
           "marker": {
            "color": "#FFA15A",
            "pattern": {
             "shape": ""
            }
           },
           "name": "Independent Movies",
           "orientation": "v",
           "showlegend": true,
           "textposition": "auto",
           "type": "bar",
           "x": [
            "Independent Movies"
           ],
           "xaxis": "x",
           "y": {
            "bdata": "AQ==",
            "dtype": "i1"
           },
           "yaxis": "y"
          },
          {
           "hovertemplate": "Genre=%{x}<br>Tahun Rilis=1977<br>Jumlah Rilis=%{y}<extra></extra>",
           "ids": [
            "Romantic Movies"
           ],
           "legendgroup": "Romantic Movies",
           "marker": {
            "color": "#19d3f3",
            "pattern": {
             "shape": ""
            }
           },
           "name": "Romantic Movies",
           "orientation": "v",
           "showlegend": true,
           "textposition": "auto",
           "type": "bar",
           "x": [
            "Romantic Movies"
           ],
           "xaxis": "x",
           "y": {
            "bdata": "AA==",
            "dtype": "i1"
           },
           "yaxis": "y"
          },
          {
           "hovertemplate": "Genre=%{x}<br>Tahun Rilis=1977<br>Jumlah Rilis=%{y}<extra></extra>",
           "ids": [
            "Thrillers"
           ],
           "legendgroup": "Thrillers",
           "marker": {
            "color": "#FF6692",
            "pattern": {
             "shape": ""
            }
           },
           "name": "Thrillers",
           "orientation": "v",
           "showlegend": true,
           "textposition": "auto",
           "type": "bar",
           "x": [
            "Thrillers"
           ],
           "xaxis": "x",
           "y": {
            "bdata": "AA==",
            "dtype": "i1"
           },
           "yaxis": "y"
          },
          {
           "hovertemplate": "Genre=%{x}<br>Tahun Rilis=1977<br>Jumlah Rilis=%{y}<extra></extra>",
           "ids": [
            "Children & Family Movies"
           ],
           "legendgroup": "Children & Family Movies",
           "marker": {
            "color": "#B6E880",
            "pattern": {
             "shape": ""
            }
           },
           "name": "Children & Family Movies",
           "orientation": "v",
           "showlegend": true,
           "textposition": "auto",
           "type": "bar",
           "x": [
            "Children & Family Movies"
           ],
           "xaxis": "x",
           "y": {
            "bdata": "AQ==",
            "dtype": "i1"
           },
           "yaxis": "y"
          },
          {
           "hovertemplate": "Genre=%{x}<br>Tahun Rilis=1977<br>Jumlah Rilis=%{y}<extra></extra>",
           "ids": [
            "Documentaries"
           ],
           "legendgroup": "Documentaries",
           "marker": {
            "color": "#FF97FF",
            "pattern": {
             "shape": ""
            }
           },
           "name": "Documentaries",
           "orientation": "v",
           "showlegend": true,
           "textposition": "auto",
           "type": "bar",
           "x": [
            "Documentaries"
           ],
           "xaxis": "x",
           "y": {
            "bdata": "AA==",
            "dtype": "i1"
           },
           "yaxis": "y"
          },
          {
           "hovertemplate": "Genre=%{x}<br>Tahun Rilis=1977<br>Jumlah Rilis=%{y}<extra></extra>",
           "ids": [
            "Horror Movies"
           ],
           "legendgroup": "Horror Movies",
           "marker": {
            "color": "#FECB52",
            "pattern": {
             "shape": ""
            }
           },
           "name": "Horror Movies",
           "orientation": "v",
           "showlegend": true,
           "textposition": "auto",
           "type": "bar",
           "x": [
            "Horror Movies"
           ],
           "xaxis": "x",
           "y": {
            "bdata": "AQ==",
            "dtype": "i1"
           },
           "yaxis": "y"
          }
         ],
         "name": "1977"
        },
        {
         "data": [
          {
           "hovertemplate": "Genre=%{x}<br>Tahun Rilis=1978<br>Jumlah Rilis=%{y}<extra></extra>",
           "ids": [
            "International Movies"
           ],
           "legendgroup": "International Movies",
           "marker": {
            "color": "#636efa",
            "pattern": {
             "shape": ""
            }
           },
           "name": "International Movies",
           "orientation": "v",
           "showlegend": true,
           "textposition": "auto",
           "type": "bar",
           "x": [
            "International Movies"
           ],
           "xaxis": "x",
           "y": {
            "bdata": "BA==",
            "dtype": "i1"
           },
           "yaxis": "y"
          },
          {
           "hovertemplate": "Genre=%{x}<br>Tahun Rilis=1978<br>Jumlah Rilis=%{y}<extra></extra>",
           "ids": [
            "Dramas"
           ],
           "legendgroup": "Dramas",
           "marker": {
            "color": "#EF553B",
            "pattern": {
             "shape": ""
            }
           },
           "name": "Dramas",
           "orientation": "v",
           "showlegend": true,
           "textposition": "auto",
           "type": "bar",
           "x": [
            "Dramas"
           ],
           "xaxis": "x",
           "y": {
            "bdata": "Aw==",
            "dtype": "i1"
           },
           "yaxis": "y"
          },
          {
           "hovertemplate": "Genre=%{x}<br>Tahun Rilis=1978<br>Jumlah Rilis=%{y}<extra></extra>",
           "ids": [
            "Comedies"
           ],
           "legendgroup": "Comedies",
           "marker": {
            "color": "#00cc96",
            "pattern": {
             "shape": ""
            }
           },
           "name": "Comedies",
           "orientation": "v",
           "showlegend": true,
           "textposition": "auto",
           "type": "bar",
           "x": [
            "Comedies"
           ],
           "xaxis": "x",
           "y": {
            "bdata": "AQ==",
            "dtype": "i1"
           },
           "yaxis": "y"
          },
          {
           "hovertemplate": "Genre=%{x}<br>Tahun Rilis=1978<br>Jumlah Rilis=%{y}<extra></extra>",
           "ids": [
            "Action & Adventure"
           ],
           "legendgroup": "Action & Adventure",
           "marker": {
            "color": "#ab63fa",
            "pattern": {
             "shape": ""
            }
           },
           "name": "Action & Adventure",
           "orientation": "v",
           "showlegend": true,
           "textposition": "auto",
           "type": "bar",
           "x": [
            "Action & Adventure"
           ],
           "xaxis": "x",
           "y": {
            "bdata": "Aw==",
            "dtype": "i1"
           },
           "yaxis": "y"
          },
          {
           "hovertemplate": "Genre=%{x}<br>Tahun Rilis=1978<br>Jumlah Rilis=%{y}<extra></extra>",
           "ids": [
            "Independent Movies"
           ],
           "legendgroup": "Independent Movies",
           "marker": {
            "color": "#FFA15A",
            "pattern": {
             "shape": ""
            }
           },
           "name": "Independent Movies",
           "orientation": "v",
           "showlegend": true,
           "textposition": "auto",
           "type": "bar",
           "x": [
            "Independent Movies"
           ],
           "xaxis": "x",
           "y": {
            "bdata": "AQ==",
            "dtype": "i1"
           },
           "yaxis": "y"
          },
          {
           "hovertemplate": "Genre=%{x}<br>Tahun Rilis=1978<br>Jumlah Rilis=%{y}<extra></extra>",
           "ids": [
            "Romantic Movies"
           ],
           "legendgroup": "Romantic Movies",
           "marker": {
            "color": "#19d3f3",
            "pattern": {
             "shape": ""
            }
           },
           "name": "Romantic Movies",
           "orientation": "v",
           "showlegend": true,
           "textposition": "auto",
           "type": "bar",
           "x": [
            "Romantic Movies"
           ],
           "xaxis": "x",
           "y": {
            "bdata": "AA==",
            "dtype": "i1"
           },
           "yaxis": "y"
          },
          {
           "hovertemplate": "Genre=%{x}<br>Tahun Rilis=1978<br>Jumlah Rilis=%{y}<extra></extra>",
           "ids": [
            "Thrillers"
           ],
           "legendgroup": "Thrillers",
           "marker": {
            "color": "#FF6692",
            "pattern": {
             "shape": ""
            }
           },
           "name": "Thrillers",
           "orientation": "v",
           "showlegend": true,
           "textposition": "auto",
           "type": "bar",
           "x": [
            "Thrillers"
           ],
           "xaxis": "x",
           "y": {
            "bdata": "AQ==",
            "dtype": "i1"
           },
           "yaxis": "y"
          },
          {
           "hovertemplate": "Genre=%{x}<br>Tahun Rilis=1978<br>Jumlah Rilis=%{y}<extra></extra>",
           "ids": [
            "Children & Family Movies"
           ],
           "legendgroup": "Children & Family Movies",
           "marker": {
            "color": "#B6E880",
            "pattern": {
             "shape": ""
            }
           },
           "name": "Children & Family Movies",
           "orientation": "v",
           "showlegend": true,
           "textposition": "auto",
           "type": "bar",
           "x": [
            "Children & Family Movies"
           ],
           "xaxis": "x",
           "y": {
            "bdata": "AQ==",
            "dtype": "i1"
           },
           "yaxis": "y"
          },
          {
           "hovertemplate": "Genre=%{x}<br>Tahun Rilis=1978<br>Jumlah Rilis=%{y}<extra></extra>",
           "ids": [
            "Documentaries"
           ],
           "legendgroup": "Documentaries",
           "marker": {
            "color": "#FF97FF",
            "pattern": {
             "shape": ""
            }
           },
           "name": "Documentaries",
           "orientation": "v",
           "showlegend": true,
           "textposition": "auto",
           "type": "bar",
           "x": [
            "Documentaries"
           ],
           "xaxis": "x",
           "y": {
            "bdata": "AA==",
            "dtype": "i1"
           },
           "yaxis": "y"
          },
          {
           "hovertemplate": "Genre=%{x}<br>Tahun Rilis=1978<br>Jumlah Rilis=%{y}<extra></extra>",
           "ids": [
            "Horror Movies"
           ],
           "legendgroup": "Horror Movies",
           "marker": {
            "color": "#FECB52",
            "pattern": {
             "shape": ""
            }
           },
           "name": "Horror Movies",
           "orientation": "v",
           "showlegend": true,
           "textposition": "auto",
           "type": "bar",
           "x": [
            "Horror Movies"
           ],
           "xaxis": "x",
           "y": {
            "bdata": "AQ==",
            "dtype": "i1"
           },
           "yaxis": "y"
          }
         ],
         "name": "1978"
        },
        {
         "data": [
          {
           "hovertemplate": "Genre=%{x}<br>Tahun Rilis=1979<br>Jumlah Rilis=%{y}<extra></extra>",
           "ids": [
            "International Movies"
           ],
           "legendgroup": "International Movies",
           "marker": {
            "color": "#636efa",
            "pattern": {
             "shape": ""
            }
           },
           "name": "International Movies",
           "orientation": "v",
           "showlegend": true,
           "textposition": "auto",
           "type": "bar",
           "x": [
            "International Movies"
           ],
           "xaxis": "x",
           "y": {
            "bdata": "Aw==",
            "dtype": "i1"
           },
           "yaxis": "y"
          },
          {
           "hovertemplate": "Genre=%{x}<br>Tahun Rilis=1979<br>Jumlah Rilis=%{y}<extra></extra>",
           "ids": [
            "Dramas"
           ],
           "legendgroup": "Dramas",
           "marker": {
            "color": "#EF553B",
            "pattern": {
             "shape": ""
            }
           },
           "name": "Dramas",
           "orientation": "v",
           "showlegend": true,
           "textposition": "auto",
           "type": "bar",
           "x": [
            "Dramas"
           ],
           "xaxis": "x",
           "y": {
            "bdata": "Aw==",
            "dtype": "i1"
           },
           "yaxis": "y"
          },
          {
           "hovertemplate": "Genre=%{x}<br>Tahun Rilis=1979<br>Jumlah Rilis=%{y}<extra></extra>",
           "ids": [
            "Comedies"
           ],
           "legendgroup": "Comedies",
           "marker": {
            "color": "#00cc96",
            "pattern": {
             "shape": ""
            }
           },
           "name": "Comedies",
           "orientation": "v",
           "showlegend": true,
           "textposition": "auto",
           "type": "bar",
           "x": [
            "Comedies"
           ],
           "xaxis": "x",
           "y": {
            "bdata": "Aw==",
            "dtype": "i1"
           },
           "yaxis": "y"
          },
          {
           "hovertemplate": "Genre=%{x}<br>Tahun Rilis=1979<br>Jumlah Rilis=%{y}<extra></extra>",
           "ids": [
            "Action & Adventure"
           ],
           "legendgroup": "Action & Adventure",
           "marker": {
            "color": "#ab63fa",
            "pattern": {
             "shape": ""
            }
           },
           "name": "Action & Adventure",
           "orientation": "v",
           "showlegend": true,
           "textposition": "auto",
           "type": "bar",
           "x": [
            "Action & Adventure"
           ],
           "xaxis": "x",
           "y": {
            "bdata": "Aw==",
            "dtype": "i1"
           },
           "yaxis": "y"
          },
          {
           "hovertemplate": "Genre=%{x}<br>Tahun Rilis=1979<br>Jumlah Rilis=%{y}<extra></extra>",
           "ids": [
            "Independent Movies"
           ],
           "legendgroup": "Independent Movies",
           "marker": {
            "color": "#FFA15A",
            "pattern": {
             "shape": ""
            }
           },
           "name": "Independent Movies",
           "orientation": "v",
           "showlegend": true,
           "textposition": "auto",
           "type": "bar",
           "x": [
            "Independent Movies"
           ],
           "xaxis": "x",
           "y": {
            "bdata": "AA==",
            "dtype": "i1"
           },
           "yaxis": "y"
          },
          {
           "hovertemplate": "Genre=%{x}<br>Tahun Rilis=1979<br>Jumlah Rilis=%{y}<extra></extra>",
           "ids": [
            "Romantic Movies"
           ],
           "legendgroup": "Romantic Movies",
           "marker": {
            "color": "#19d3f3",
            "pattern": {
             "shape": ""
            }
           },
           "name": "Romantic Movies",
           "orientation": "v",
           "showlegend": true,
           "textposition": "auto",
           "type": "bar",
           "x": [
            "Romantic Movies"
           ],
           "xaxis": "x",
           "y": {
            "bdata": "AA==",
            "dtype": "i1"
           },
           "yaxis": "y"
          },
          {
           "hovertemplate": "Genre=%{x}<br>Tahun Rilis=1979<br>Jumlah Rilis=%{y}<extra></extra>",
           "ids": [
            "Thrillers"
           ],
           "legendgroup": "Thrillers",
           "marker": {
            "color": "#FF6692",
            "pattern": {
             "shape": ""
            }
           },
           "name": "Thrillers",
           "orientation": "v",
           "showlegend": true,
           "textposition": "auto",
           "type": "bar",
           "x": [
            "Thrillers"
           ],
           "xaxis": "x",
           "y": {
            "bdata": "AA==",
            "dtype": "i1"
           },
           "yaxis": "y"
          },
          {
           "hovertemplate": "Genre=%{x}<br>Tahun Rilis=1979<br>Jumlah Rilis=%{y}<extra></extra>",
           "ids": [
            "Children & Family Movies"
           ],
           "legendgroup": "Children & Family Movies",
           "marker": {
            "color": "#B6E880",
            "pattern": {
             "shape": ""
            }
           },
           "name": "Children & Family Movies",
           "orientation": "v",
           "showlegend": true,
           "textposition": "auto",
           "type": "bar",
           "x": [
            "Children & Family Movies"
           ],
           "xaxis": "x",
           "y": {
            "bdata": "AA==",
            "dtype": "i1"
           },
           "yaxis": "y"
          },
          {
           "hovertemplate": "Genre=%{x}<br>Tahun Rilis=1979<br>Jumlah Rilis=%{y}<extra></extra>",
           "ids": [
            "Documentaries"
           ],
           "legendgroup": "Documentaries",
           "marker": {
            "color": "#FF97FF",
            "pattern": {
             "shape": ""
            }
           },
           "name": "Documentaries",
           "orientation": "v",
           "showlegend": true,
           "textposition": "auto",
           "type": "bar",
           "x": [
            "Documentaries"
           ],
           "xaxis": "x",
           "y": {
            "bdata": "AA==",
            "dtype": "i1"
           },
           "yaxis": "y"
          },
          {
           "hovertemplate": "Genre=%{x}<br>Tahun Rilis=1979<br>Jumlah Rilis=%{y}<extra></extra>",
           "ids": [
            "Horror Movies"
           ],
           "legendgroup": "Horror Movies",
           "marker": {
            "color": "#FECB52",
            "pattern": {
             "shape": ""
            }
           },
           "name": "Horror Movies",
           "orientation": "v",
           "showlegend": true,
           "textposition": "auto",
           "type": "bar",
           "x": [
            "Horror Movies"
           ],
           "xaxis": "x",
           "y": {
            "bdata": "AA==",
            "dtype": "i1"
           },
           "yaxis": "y"
          }
         ],
         "name": "1979"
        },
        {
         "data": [
          {
           "hovertemplate": "Genre=%{x}<br>Tahun Rilis=1980<br>Jumlah Rilis=%{y}<extra></extra>",
           "ids": [
            "International Movies"
           ],
           "legendgroup": "International Movies",
           "marker": {
            "color": "#636efa",
            "pattern": {
             "shape": ""
            }
           },
           "name": "International Movies",
           "orientation": "v",
           "showlegend": true,
           "textposition": "auto",
           "type": "bar",
           "x": [
            "International Movies"
           ],
           "xaxis": "x",
           "y": {
            "bdata": "BQ==",
            "dtype": "i1"
           },
           "yaxis": "y"
          },
          {
           "hovertemplate": "Genre=%{x}<br>Tahun Rilis=1980<br>Jumlah Rilis=%{y}<extra></extra>",
           "ids": [
            "Dramas"
           ],
           "legendgroup": "Dramas",
           "marker": {
            "color": "#EF553B",
            "pattern": {
             "shape": ""
            }
           },
           "name": "Dramas",
           "orientation": "v",
           "showlegend": true,
           "textposition": "auto",
           "type": "bar",
           "x": [
            "Dramas"
           ],
           "xaxis": "x",
           "y": {
            "bdata": "BQ==",
            "dtype": "i1"
           },
           "yaxis": "y"
          },
          {
           "hovertemplate": "Genre=%{x}<br>Tahun Rilis=1980<br>Jumlah Rilis=%{y}<extra></extra>",
           "ids": [
            "Comedies"
           ],
           "legendgroup": "Comedies",
           "marker": {
            "color": "#00cc96",
            "pattern": {
             "shape": ""
            }
           },
           "name": "Comedies",
           "orientation": "v",
           "showlegend": true,
           "textposition": "auto",
           "type": "bar",
           "x": [
            "Comedies"
           ],
           "xaxis": "x",
           "y": {
            "bdata": "Aw==",
            "dtype": "i1"
           },
           "yaxis": "y"
          },
          {
           "hovertemplate": "Genre=%{x}<br>Tahun Rilis=1980<br>Jumlah Rilis=%{y}<extra></extra>",
           "ids": [
            "Action & Adventure"
           ],
           "legendgroup": "Action & Adventure",
           "marker": {
            "color": "#ab63fa",
            "pattern": {
             "shape": ""
            }
           },
           "name": "Action & Adventure",
           "orientation": "v",
           "showlegend": true,
           "textposition": "auto",
           "type": "bar",
           "x": [
            "Action & Adventure"
           ],
           "xaxis": "x",
           "y": {
            "bdata": "Bg==",
            "dtype": "i1"
           },
           "yaxis": "y"
          },
          {
           "hovertemplate": "Genre=%{x}<br>Tahun Rilis=1980<br>Jumlah Rilis=%{y}<extra></extra>",
           "ids": [
            "Independent Movies"
           ],
           "legendgroup": "Independent Movies",
           "marker": {
            "color": "#FFA15A",
            "pattern": {
             "shape": ""
            }
           },
           "name": "Independent Movies",
           "orientation": "v",
           "showlegend": true,
           "textposition": "auto",
           "type": "bar",
           "x": [
            "Independent Movies"
           ],
           "xaxis": "x",
           "y": {
            "bdata": "AA==",
            "dtype": "i1"
           },
           "yaxis": "y"
          },
          {
           "hovertemplate": "Genre=%{x}<br>Tahun Rilis=1980<br>Jumlah Rilis=%{y}<extra></extra>",
           "ids": [
            "Romantic Movies"
           ],
           "legendgroup": "Romantic Movies",
           "marker": {
            "color": "#19d3f3",
            "pattern": {
             "shape": ""
            }
           },
           "name": "Romantic Movies",
           "orientation": "v",
           "showlegend": true,
           "textposition": "auto",
           "type": "bar",
           "x": [
            "Romantic Movies"
           ],
           "xaxis": "x",
           "y": {
            "bdata": "AQ==",
            "dtype": "i1"
           },
           "yaxis": "y"
          },
          {
           "hovertemplate": "Genre=%{x}<br>Tahun Rilis=1980<br>Jumlah Rilis=%{y}<extra></extra>",
           "ids": [
            "Thrillers"
           ],
           "legendgroup": "Thrillers",
           "marker": {
            "color": "#FF6692",
            "pattern": {
             "shape": ""
            }
           },
           "name": "Thrillers",
           "orientation": "v",
           "showlegend": true,
           "textposition": "auto",
           "type": "bar",
           "x": [
            "Thrillers"
           ],
           "xaxis": "x",
           "y": {
            "bdata": "AA==",
            "dtype": "i1"
           },
           "yaxis": "y"
          },
          {
           "hovertemplate": "Genre=%{x}<br>Tahun Rilis=1980<br>Jumlah Rilis=%{y}<extra></extra>",
           "ids": [
            "Children & Family Movies"
           ],
           "legendgroup": "Children & Family Movies",
           "marker": {
            "color": "#B6E880",
            "pattern": {
             "shape": ""
            }
           },
           "name": "Children & Family Movies",
           "orientation": "v",
           "showlegend": true,
           "textposition": "auto",
           "type": "bar",
           "x": [
            "Children & Family Movies"
           ],
           "xaxis": "x",
           "y": {
            "bdata": "AQ==",
            "dtype": "i1"
           },
           "yaxis": "y"
          },
          {
           "hovertemplate": "Genre=%{x}<br>Tahun Rilis=1980<br>Jumlah Rilis=%{y}<extra></extra>",
           "ids": [
            "Documentaries"
           ],
           "legendgroup": "Documentaries",
           "marker": {
            "color": "#FF97FF",
            "pattern": {
             "shape": ""
            }
           },
           "name": "Documentaries",
           "orientation": "v",
           "showlegend": true,
           "textposition": "auto",
           "type": "bar",
           "x": [
            "Documentaries"
           ],
           "xaxis": "x",
           "y": {
            "bdata": "AQ==",
            "dtype": "i1"
           },
           "yaxis": "y"
          },
          {
           "hovertemplate": "Genre=%{x}<br>Tahun Rilis=1980<br>Jumlah Rilis=%{y}<extra></extra>",
           "ids": [
            "Horror Movies"
           ],
           "legendgroup": "Horror Movies",
           "marker": {
            "color": "#FECB52",
            "pattern": {
             "shape": ""
            }
           },
           "name": "Horror Movies",
           "orientation": "v",
           "showlegend": true,
           "textposition": "auto",
           "type": "bar",
           "x": [
            "Horror Movies"
           ],
           "xaxis": "x",
           "y": {
            "bdata": "AA==",
            "dtype": "i1"
           },
           "yaxis": "y"
          }
         ],
         "name": "1980"
        },
        {
         "data": [
          {
           "hovertemplate": "Genre=%{x}<br>Tahun Rilis=1981<br>Jumlah Rilis=%{y}<extra></extra>",
           "ids": [
            "International Movies"
           ],
           "legendgroup": "International Movies",
           "marker": {
            "color": "#636efa",
            "pattern": {
             "shape": ""
            }
           },
           "name": "International Movies",
           "orientation": "v",
           "showlegend": true,
           "textposition": "auto",
           "type": "bar",
           "x": [
            "International Movies"
           ],
           "xaxis": "x",
           "y": {
            "bdata": "BA==",
            "dtype": "i1"
           },
           "yaxis": "y"
          },
          {
           "hovertemplate": "Genre=%{x}<br>Tahun Rilis=1981<br>Jumlah Rilis=%{y}<extra></extra>",
           "ids": [
            "Dramas"
           ],
           "legendgroup": "Dramas",
           "marker": {
            "color": "#EF553B",
            "pattern": {
             "shape": ""
            }
           },
           "name": "Dramas",
           "orientation": "v",
           "showlegend": true,
           "textposition": "auto",
           "type": "bar",
           "x": [
            "Dramas"
           ],
           "xaxis": "x",
           "y": {
            "bdata": "BA==",
            "dtype": "i1"
           },
           "yaxis": "y"
          },
          {
           "hovertemplate": "Genre=%{x}<br>Tahun Rilis=1981<br>Jumlah Rilis=%{y}<extra></extra>",
           "ids": [
            "Comedies"
           ],
           "legendgroup": "Comedies",
           "marker": {
            "color": "#00cc96",
            "pattern": {
             "shape": ""
            }
           },
           "name": "Comedies",
           "orientation": "v",
           "showlegend": true,
           "textposition": "auto",
           "type": "bar",
           "x": [
            "Comedies"
           ],
           "xaxis": "x",
           "y": {
            "bdata": "BQ==",
            "dtype": "i1"
           },
           "yaxis": "y"
          },
          {
           "hovertemplate": "Genre=%{x}<br>Tahun Rilis=1981<br>Jumlah Rilis=%{y}<extra></extra>",
           "ids": [
            "Action & Adventure"
           ],
           "legendgroup": "Action & Adventure",
           "marker": {
            "color": "#ab63fa",
            "pattern": {
             "shape": ""
            }
           },
           "name": "Action & Adventure",
           "orientation": "v",
           "showlegend": true,
           "textposition": "auto",
           "type": "bar",
           "x": [
            "Action & Adventure"
           ],
           "xaxis": "x",
           "y": {
            "bdata": "Ag==",
            "dtype": "i1"
           },
           "yaxis": "y"
          },
          {
           "hovertemplate": "Genre=%{x}<br>Tahun Rilis=1981<br>Jumlah Rilis=%{y}<extra></extra>",
           "ids": [
            "Independent Movies"
           ],
           "legendgroup": "Independent Movies",
           "marker": {
            "color": "#FFA15A",
            "pattern": {
             "shape": ""
            }
           },
           "name": "Independent Movies",
           "orientation": "v",
           "showlegend": true,
           "textposition": "auto",
           "type": "bar",
           "x": [
            "Independent Movies"
           ],
           "xaxis": "x",
           "y": {
            "bdata": "AA==",
            "dtype": "i1"
           },
           "yaxis": "y"
          },
          {
           "hovertemplate": "Genre=%{x}<br>Tahun Rilis=1981<br>Jumlah Rilis=%{y}<extra></extra>",
           "ids": [
            "Romantic Movies"
           ],
           "legendgroup": "Romantic Movies",
           "marker": {
            "color": "#19d3f3",
            "pattern": {
             "shape": ""
            }
           },
           "name": "Romantic Movies",
           "orientation": "v",
           "showlegend": true,
           "textposition": "auto",
           "type": "bar",
           "x": [
            "Romantic Movies"
           ],
           "xaxis": "x",
           "y": {
            "bdata": "Ag==",
            "dtype": "i1"
           },
           "yaxis": "y"
          },
          {
           "hovertemplate": "Genre=%{x}<br>Tahun Rilis=1981<br>Jumlah Rilis=%{y}<extra></extra>",
           "ids": [
            "Thrillers"
           ],
           "legendgroup": "Thrillers",
           "marker": {
            "color": "#FF6692",
            "pattern": {
             "shape": ""
            }
           },
           "name": "Thrillers",
           "orientation": "v",
           "showlegend": true,
           "textposition": "auto",
           "type": "bar",
           "x": [
            "Thrillers"
           ],
           "xaxis": "x",
           "y": {
            "bdata": "AA==",
            "dtype": "i1"
           },
           "yaxis": "y"
          },
          {
           "hovertemplate": "Genre=%{x}<br>Tahun Rilis=1981<br>Jumlah Rilis=%{y}<extra></extra>",
           "ids": [
            "Children & Family Movies"
           ],
           "legendgroup": "Children & Family Movies",
           "marker": {
            "color": "#B6E880",
            "pattern": {
             "shape": ""
            }
           },
           "name": "Children & Family Movies",
           "orientation": "v",
           "showlegend": true,
           "textposition": "auto",
           "type": "bar",
           "x": [
            "Children & Family Movies"
           ],
           "xaxis": "x",
           "y": {
            "bdata": "AQ==",
            "dtype": "i1"
           },
           "yaxis": "y"
          },
          {
           "hovertemplate": "Genre=%{x}<br>Tahun Rilis=1981<br>Jumlah Rilis=%{y}<extra></extra>",
           "ids": [
            "Documentaries"
           ],
           "legendgroup": "Documentaries",
           "marker": {
            "color": "#FF97FF",
            "pattern": {
             "shape": ""
            }
           },
           "name": "Documentaries",
           "orientation": "v",
           "showlegend": true,
           "textposition": "auto",
           "type": "bar",
           "x": [
            "Documentaries"
           ],
           "xaxis": "x",
           "y": {
            "bdata": "AA==",
            "dtype": "i1"
           },
           "yaxis": "y"
          },
          {
           "hovertemplate": "Genre=%{x}<br>Tahun Rilis=1981<br>Jumlah Rilis=%{y}<extra></extra>",
           "ids": [
            "Horror Movies"
           ],
           "legendgroup": "Horror Movies",
           "marker": {
            "color": "#FECB52",
            "pattern": {
             "shape": ""
            }
           },
           "name": "Horror Movies",
           "orientation": "v",
           "showlegend": true,
           "textposition": "auto",
           "type": "bar",
           "x": [
            "Horror Movies"
           ],
           "xaxis": "x",
           "y": {
            "bdata": "AQ==",
            "dtype": "i1"
           },
           "yaxis": "y"
          }
         ],
         "name": "1981"
        },
        {
         "data": [
          {
           "hovertemplate": "Genre=%{x}<br>Tahun Rilis=1982<br>Jumlah Rilis=%{y}<extra></extra>",
           "ids": [
            "International Movies"
           ],
           "legendgroup": "International Movies",
           "marker": {
            "color": "#636efa",
            "pattern": {
             "shape": ""
            }
           },
           "name": "International Movies",
           "orientation": "v",
           "showlegend": true,
           "textposition": "auto",
           "type": "bar",
           "x": [
            "International Movies"
           ],
           "xaxis": "x",
           "y": {
            "bdata": "CA==",
            "dtype": "i1"
           },
           "yaxis": "y"
          },
          {
           "hovertemplate": "Genre=%{x}<br>Tahun Rilis=1982<br>Jumlah Rilis=%{y}<extra></extra>",
           "ids": [
            "Dramas"
           ],
           "legendgroup": "Dramas",
           "marker": {
            "color": "#EF553B",
            "pattern": {
             "shape": ""
            }
           },
           "name": "Dramas",
           "orientation": "v",
           "showlegend": true,
           "textposition": "auto",
           "type": "bar",
           "x": [
            "Dramas"
           ],
           "xaxis": "x",
           "y": {
            "bdata": "CQ==",
            "dtype": "i1"
           },
           "yaxis": "y"
          },
          {
           "hovertemplate": "Genre=%{x}<br>Tahun Rilis=1982<br>Jumlah Rilis=%{y}<extra></extra>",
           "ids": [
            "Comedies"
           ],
           "legendgroup": "Comedies",
           "marker": {
            "color": "#00cc96",
            "pattern": {
             "shape": ""
            }
           },
           "name": "Comedies",
           "orientation": "v",
           "showlegend": true,
           "textposition": "auto",
           "type": "bar",
           "x": [
            "Comedies"
           ],
           "xaxis": "x",
           "y": {
            "bdata": "BA==",
            "dtype": "i1"
           },
           "yaxis": "y"
          },
          {
           "hovertemplate": "Genre=%{x}<br>Tahun Rilis=1982<br>Jumlah Rilis=%{y}<extra></extra>",
           "ids": [
            "Action & Adventure"
           ],
           "legendgroup": "Action & Adventure",
           "marker": {
            "color": "#ab63fa",
            "pattern": {
             "shape": ""
            }
           },
           "name": "Action & Adventure",
           "orientation": "v",
           "showlegend": true,
           "textposition": "auto",
           "type": "bar",
           "x": [
            "Action & Adventure"
           ],
           "xaxis": "x",
           "y": {
            "bdata": "BA==",
            "dtype": "i1"
           },
           "yaxis": "y"
          },
          {
           "hovertemplate": "Genre=%{x}<br>Tahun Rilis=1982<br>Jumlah Rilis=%{y}<extra></extra>",
           "ids": [
            "Independent Movies"
           ],
           "legendgroup": "Independent Movies",
           "marker": {
            "color": "#FFA15A",
            "pattern": {
             "shape": ""
            }
           },
           "name": "Independent Movies",
           "orientation": "v",
           "showlegend": true,
           "textposition": "auto",
           "type": "bar",
           "x": [
            "Independent Movies"
           ],
           "xaxis": "x",
           "y": {
            "bdata": "BQ==",
            "dtype": "i1"
           },
           "yaxis": "y"
          },
          {
           "hovertemplate": "Genre=%{x}<br>Tahun Rilis=1982<br>Jumlah Rilis=%{y}<extra></extra>",
           "ids": [
            "Romantic Movies"
           ],
           "legendgroup": "Romantic Movies",
           "marker": {
            "color": "#19d3f3",
            "pattern": {
             "shape": ""
            }
           },
           "name": "Romantic Movies",
           "orientation": "v",
           "showlegend": true,
           "textposition": "auto",
           "type": "bar",
           "x": [
            "Romantic Movies"
           ],
           "xaxis": "x",
           "y": {
            "bdata": "AA==",
            "dtype": "i1"
           },
           "yaxis": "y"
          },
          {
           "hovertemplate": "Genre=%{x}<br>Tahun Rilis=1982<br>Jumlah Rilis=%{y}<extra></extra>",
           "ids": [
            "Thrillers"
           ],
           "legendgroup": "Thrillers",
           "marker": {
            "color": "#FF6692",
            "pattern": {
             "shape": ""
            }
           },
           "name": "Thrillers",
           "orientation": "v",
           "showlegend": true,
           "textposition": "auto",
           "type": "bar",
           "x": [
            "Thrillers"
           ],
           "xaxis": "x",
           "y": {
            "bdata": "AA==",
            "dtype": "i1"
           },
           "yaxis": "y"
          },
          {
           "hovertemplate": "Genre=%{x}<br>Tahun Rilis=1982<br>Jumlah Rilis=%{y}<extra></extra>",
           "ids": [
            "Children & Family Movies"
           ],
           "legendgroup": "Children & Family Movies",
           "marker": {
            "color": "#B6E880",
            "pattern": {
             "shape": ""
            }
           },
           "name": "Children & Family Movies",
           "orientation": "v",
           "showlegend": true,
           "textposition": "auto",
           "type": "bar",
           "x": [
            "Children & Family Movies"
           ],
           "xaxis": "x",
           "y": {
            "bdata": "AQ==",
            "dtype": "i1"
           },
           "yaxis": "y"
          },
          {
           "hovertemplate": "Genre=%{x}<br>Tahun Rilis=1982<br>Jumlah Rilis=%{y}<extra></extra>",
           "ids": [
            "Documentaries"
           ],
           "legendgroup": "Documentaries",
           "marker": {
            "color": "#FF97FF",
            "pattern": {
             "shape": ""
            }
           },
           "name": "Documentaries",
           "orientation": "v",
           "showlegend": true,
           "textposition": "auto",
           "type": "bar",
           "x": [
            "Documentaries"
           ],
           "xaxis": "x",
           "y": {
            "bdata": "AA==",
            "dtype": "i1"
           },
           "yaxis": "y"
          },
          {
           "hovertemplate": "Genre=%{x}<br>Tahun Rilis=1982<br>Jumlah Rilis=%{y}<extra></extra>",
           "ids": [
            "Horror Movies"
           ],
           "legendgroup": "Horror Movies",
           "marker": {
            "color": "#FECB52",
            "pattern": {
             "shape": ""
            }
           },
           "name": "Horror Movies",
           "orientation": "v",
           "showlegend": true,
           "textposition": "auto",
           "type": "bar",
           "x": [
            "Horror Movies"
           ],
           "xaxis": "x",
           "y": {
            "bdata": "AA==",
            "dtype": "i1"
           },
           "yaxis": "y"
          }
         ],
         "name": "1982"
        },
        {
         "data": [
          {
           "hovertemplate": "Genre=%{x}<br>Tahun Rilis=1983<br>Jumlah Rilis=%{y}<extra></extra>",
           "ids": [
            "International Movies"
           ],
           "legendgroup": "International Movies",
           "marker": {
            "color": "#636efa",
            "pattern": {
             "shape": ""
            }
           },
           "name": "International Movies",
           "orientation": "v",
           "showlegend": true,
           "textposition": "auto",
           "type": "bar",
           "x": [
            "International Movies"
           ],
           "xaxis": "x",
           "y": {
            "bdata": "Bw==",
            "dtype": "i1"
           },
           "yaxis": "y"
          },
          {
           "hovertemplate": "Genre=%{x}<br>Tahun Rilis=1983<br>Jumlah Rilis=%{y}<extra></extra>",
           "ids": [
            "Dramas"
           ],
           "legendgroup": "Dramas",
           "marker": {
            "color": "#EF553B",
            "pattern": {
             "shape": ""
            }
           },
           "name": "Dramas",
           "orientation": "v",
           "showlegend": true,
           "textposition": "auto",
           "type": "bar",
           "x": [
            "Dramas"
           ],
           "xaxis": "x",
           "y": {
            "bdata": "BQ==",
            "dtype": "i1"
           },
           "yaxis": "y"
          },
          {
           "hovertemplate": "Genre=%{x}<br>Tahun Rilis=1983<br>Jumlah Rilis=%{y}<extra></extra>",
           "ids": [
            "Comedies"
           ],
           "legendgroup": "Comedies",
           "marker": {
            "color": "#00cc96",
            "pattern": {
             "shape": ""
            }
           },
           "name": "Comedies",
           "orientation": "v",
           "showlegend": true,
           "textposition": "auto",
           "type": "bar",
           "x": [
            "Comedies"
           ],
           "xaxis": "x",
           "y": {
            "bdata": "AA==",
            "dtype": "i1"
           },
           "yaxis": "y"
          },
          {
           "hovertemplate": "Genre=%{x}<br>Tahun Rilis=1983<br>Jumlah Rilis=%{y}<extra></extra>",
           "ids": [
            "Action & Adventure"
           ],
           "legendgroup": "Action & Adventure",
           "marker": {
            "color": "#ab63fa",
            "pattern": {
             "shape": ""
            }
           },
           "name": "Action & Adventure",
           "orientation": "v",
           "showlegend": true,
           "textposition": "auto",
           "type": "bar",
           "x": [
            "Action & Adventure"
           ],
           "xaxis": "x",
           "y": {
            "bdata": "Aw==",
            "dtype": "i1"
           },
           "yaxis": "y"
          },
          {
           "hovertemplate": "Genre=%{x}<br>Tahun Rilis=1983<br>Jumlah Rilis=%{y}<extra></extra>",
           "ids": [
            "Independent Movies"
           ],
           "legendgroup": "Independent Movies",
           "marker": {
            "color": "#FFA15A",
            "pattern": {
             "shape": ""
            }
           },
           "name": "Independent Movies",
           "orientation": "v",
           "showlegend": true,
           "textposition": "auto",
           "type": "bar",
           "x": [
            "Independent Movies"
           ],
           "xaxis": "x",
           "y": {
            "bdata": "Ag==",
            "dtype": "i1"
           },
           "yaxis": "y"
          },
          {
           "hovertemplate": "Genre=%{x}<br>Tahun Rilis=1983<br>Jumlah Rilis=%{y}<extra></extra>",
           "ids": [
            "Romantic Movies"
           ],
           "legendgroup": "Romantic Movies",
           "marker": {
            "color": "#19d3f3",
            "pattern": {
             "shape": ""
            }
           },
           "name": "Romantic Movies",
           "orientation": "v",
           "showlegend": true,
           "textposition": "auto",
           "type": "bar",
           "x": [
            "Romantic Movies"
           ],
           "xaxis": "x",
           "y": {
            "bdata": "Ag==",
            "dtype": "i1"
           },
           "yaxis": "y"
          },
          {
           "hovertemplate": "Genre=%{x}<br>Tahun Rilis=1983<br>Jumlah Rilis=%{y}<extra></extra>",
           "ids": [
            "Thrillers"
           ],
           "legendgroup": "Thrillers",
           "marker": {
            "color": "#FF6692",
            "pattern": {
             "shape": ""
            }
           },
           "name": "Thrillers",
           "orientation": "v",
           "showlegend": true,
           "textposition": "auto",
           "type": "bar",
           "x": [
            "Thrillers"
           ],
           "xaxis": "x",
           "y": {
            "bdata": "AQ==",
            "dtype": "i1"
           },
           "yaxis": "y"
          },
          {
           "hovertemplate": "Genre=%{x}<br>Tahun Rilis=1983<br>Jumlah Rilis=%{y}<extra></extra>",
           "ids": [
            "Children & Family Movies"
           ],
           "legendgroup": "Children & Family Movies",
           "marker": {
            "color": "#B6E880",
            "pattern": {
             "shape": ""
            }
           },
           "name": "Children & Family Movies",
           "orientation": "v",
           "showlegend": true,
           "textposition": "auto",
           "type": "bar",
           "x": [
            "Children & Family Movies"
           ],
           "xaxis": "x",
           "y": {
            "bdata": "AA==",
            "dtype": "i1"
           },
           "yaxis": "y"
          },
          {
           "hovertemplate": "Genre=%{x}<br>Tahun Rilis=1983<br>Jumlah Rilis=%{y}<extra></extra>",
           "ids": [
            "Documentaries"
           ],
           "legendgroup": "Documentaries",
           "marker": {
            "color": "#FF97FF",
            "pattern": {
             "shape": ""
            }
           },
           "name": "Documentaries",
           "orientation": "v",
           "showlegend": true,
           "textposition": "auto",
           "type": "bar",
           "x": [
            "Documentaries"
           ],
           "xaxis": "x",
           "y": {
            "bdata": "AA==",
            "dtype": "i1"
           },
           "yaxis": "y"
          },
          {
           "hovertemplate": "Genre=%{x}<br>Tahun Rilis=1983<br>Jumlah Rilis=%{y}<extra></extra>",
           "ids": [
            "Horror Movies"
           ],
           "legendgroup": "Horror Movies",
           "marker": {
            "color": "#FECB52",
            "pattern": {
             "shape": ""
            }
           },
           "name": "Horror Movies",
           "orientation": "v",
           "showlegend": true,
           "textposition": "auto",
           "type": "bar",
           "x": [
            "Horror Movies"
           ],
           "xaxis": "x",
           "y": {
            "bdata": "AQ==",
            "dtype": "i1"
           },
           "yaxis": "y"
          }
         ],
         "name": "1983"
        },
        {
         "data": [
          {
           "hovertemplate": "Genre=%{x}<br>Tahun Rilis=1984<br>Jumlah Rilis=%{y}<extra></extra>",
           "ids": [
            "International Movies"
           ],
           "legendgroup": "International Movies",
           "marker": {
            "color": "#636efa",
            "pattern": {
             "shape": ""
            }
           },
           "name": "International Movies",
           "orientation": "v",
           "showlegend": true,
           "textposition": "auto",
           "type": "bar",
           "x": [
            "International Movies"
           ],
           "xaxis": "x",
           "y": {
            "bdata": "BQ==",
            "dtype": "i1"
           },
           "yaxis": "y"
          },
          {
           "hovertemplate": "Genre=%{x}<br>Tahun Rilis=1984<br>Jumlah Rilis=%{y}<extra></extra>",
           "ids": [
            "Dramas"
           ],
           "legendgroup": "Dramas",
           "marker": {
            "color": "#EF553B",
            "pattern": {
             "shape": ""
            }
           },
           "name": "Dramas",
           "orientation": "v",
           "showlegend": true,
           "textposition": "auto",
           "type": "bar",
           "x": [
            "Dramas"
           ],
           "xaxis": "x",
           "y": {
            "bdata": "BQ==",
            "dtype": "i1"
           },
           "yaxis": "y"
          },
          {
           "hovertemplate": "Genre=%{x}<br>Tahun Rilis=1984<br>Jumlah Rilis=%{y}<extra></extra>",
           "ids": [
            "Comedies"
           ],
           "legendgroup": "Comedies",
           "marker": {
            "color": "#00cc96",
            "pattern": {
             "shape": ""
            }
           },
           "name": "Comedies",
           "orientation": "v",
           "showlegend": true,
           "textposition": "auto",
           "type": "bar",
           "x": [
            "Comedies"
           ],
           "xaxis": "x",
           "y": {
            "bdata": "Ag==",
            "dtype": "i1"
           },
           "yaxis": "y"
          },
          {
           "hovertemplate": "Genre=%{x}<br>Tahun Rilis=1984<br>Jumlah Rilis=%{y}<extra></extra>",
           "ids": [
            "Action & Adventure"
           ],
           "legendgroup": "Action & Adventure",
           "marker": {
            "color": "#ab63fa",
            "pattern": {
             "shape": ""
            }
           },
           "name": "Action & Adventure",
           "orientation": "v",
           "showlegend": true,
           "textposition": "auto",
           "type": "bar",
           "x": [
            "Action & Adventure"
           ],
           "xaxis": "x",
           "y": {
            "bdata": "Bg==",
            "dtype": "i1"
           },
           "yaxis": "y"
          },
          {
           "hovertemplate": "Genre=%{x}<br>Tahun Rilis=1984<br>Jumlah Rilis=%{y}<extra></extra>",
           "ids": [
            "Independent Movies"
           ],
           "legendgroup": "Independent Movies",
           "marker": {
            "color": "#FFA15A",
            "pattern": {
             "shape": ""
            }
           },
           "name": "Independent Movies",
           "orientation": "v",
           "showlegend": true,
           "textposition": "auto",
           "type": "bar",
           "x": [
            "Independent Movies"
           ],
           "xaxis": "x",
           "y": {
            "bdata": "AA==",
            "dtype": "i1"
           },
           "yaxis": "y"
          },
          {
           "hovertemplate": "Genre=%{x}<br>Tahun Rilis=1984<br>Jumlah Rilis=%{y}<extra></extra>",
           "ids": [
            "Romantic Movies"
           ],
           "legendgroup": "Romantic Movies",
           "marker": {
            "color": "#19d3f3",
            "pattern": {
             "shape": ""
            }
           },
           "name": "Romantic Movies",
           "orientation": "v",
           "showlegend": true,
           "textposition": "auto",
           "type": "bar",
           "x": [
            "Romantic Movies"
           ],
           "xaxis": "x",
           "y": {
            "bdata": "Ag==",
            "dtype": "i1"
           },
           "yaxis": "y"
          },
          {
           "hovertemplate": "Genre=%{x}<br>Tahun Rilis=1984<br>Jumlah Rilis=%{y}<extra></extra>",
           "ids": [
            "Thrillers"
           ],
           "legendgroup": "Thrillers",
           "marker": {
            "color": "#FF6692",
            "pattern": {
             "shape": ""
            }
           },
           "name": "Thrillers",
           "orientation": "v",
           "showlegend": true,
           "textposition": "auto",
           "type": "bar",
           "x": [
            "Thrillers"
           ],
           "xaxis": "x",
           "y": {
            "bdata": "AA==",
            "dtype": "i1"
           },
           "yaxis": "y"
          },
          {
           "hovertemplate": "Genre=%{x}<br>Tahun Rilis=1984<br>Jumlah Rilis=%{y}<extra></extra>",
           "ids": [
            "Children & Family Movies"
           ],
           "legendgroup": "Children & Family Movies",
           "marker": {
            "color": "#B6E880",
            "pattern": {
             "shape": ""
            }
           },
           "name": "Children & Family Movies",
           "orientation": "v",
           "showlegend": true,
           "textposition": "auto",
           "type": "bar",
           "x": [
            "Children & Family Movies"
           ],
           "xaxis": "x",
           "y": {
            "bdata": "Ag==",
            "dtype": "i1"
           },
           "yaxis": "y"
          },
          {
           "hovertemplate": "Genre=%{x}<br>Tahun Rilis=1984<br>Jumlah Rilis=%{y}<extra></extra>",
           "ids": [
            "Documentaries"
           ],
           "legendgroup": "Documentaries",
           "marker": {
            "color": "#FF97FF",
            "pattern": {
             "shape": ""
            }
           },
           "name": "Documentaries",
           "orientation": "v",
           "showlegend": true,
           "textposition": "auto",
           "type": "bar",
           "x": [
            "Documentaries"
           ],
           "xaxis": "x",
           "y": {
            "bdata": "AA==",
            "dtype": "i1"
           },
           "yaxis": "y"
          },
          {
           "hovertemplate": "Genre=%{x}<br>Tahun Rilis=1984<br>Jumlah Rilis=%{y}<extra></extra>",
           "ids": [
            "Horror Movies"
           ],
           "legendgroup": "Horror Movies",
           "marker": {
            "color": "#FECB52",
            "pattern": {
             "shape": ""
            }
           },
           "name": "Horror Movies",
           "orientation": "v",
           "showlegend": true,
           "textposition": "auto",
           "type": "bar",
           "x": [
            "Horror Movies"
           ],
           "xaxis": "x",
           "y": {
            "bdata": "AA==",
            "dtype": "i1"
           },
           "yaxis": "y"
          }
         ],
         "name": "1984"
        },
        {
         "data": [
          {
           "hovertemplate": "Genre=%{x}<br>Tahun Rilis=1985<br>Jumlah Rilis=%{y}<extra></extra>",
           "ids": [
            "International Movies"
           ],
           "legendgroup": "International Movies",
           "marker": {
            "color": "#636efa",
            "pattern": {
             "shape": ""
            }
           },
           "name": "International Movies",
           "orientation": "v",
           "showlegend": true,
           "textposition": "auto",
           "type": "bar",
           "x": [
            "International Movies"
           ],
           "xaxis": "x",
           "y": {
            "bdata": "Bg==",
            "dtype": "i1"
           },
           "yaxis": "y"
          },
          {
           "hovertemplate": "Genre=%{x}<br>Tahun Rilis=1985<br>Jumlah Rilis=%{y}<extra></extra>",
           "ids": [
            "Dramas"
           ],
           "legendgroup": "Dramas",
           "marker": {
            "color": "#EF553B",
            "pattern": {
             "shape": ""
            }
           },
           "name": "Dramas",
           "orientation": "v",
           "showlegend": true,
           "textposition": "auto",
           "type": "bar",
           "x": [
            "Dramas"
           ],
           "xaxis": "x",
           "y": {
            "bdata": "Aw==",
            "dtype": "i1"
           },
           "yaxis": "y"
          },
          {
           "hovertemplate": "Genre=%{x}<br>Tahun Rilis=1985<br>Jumlah Rilis=%{y}<extra></extra>",
           "ids": [
            "Comedies"
           ],
           "legendgroup": "Comedies",
           "marker": {
            "color": "#00cc96",
            "pattern": {
             "shape": ""
            }
           },
           "name": "Comedies",
           "orientation": "v",
           "showlegend": true,
           "textposition": "auto",
           "type": "bar",
           "x": [
            "Comedies"
           ],
           "xaxis": "x",
           "y": {
            "bdata": "BA==",
            "dtype": "i1"
           },
           "yaxis": "y"
          },
          {
           "hovertemplate": "Genre=%{x}<br>Tahun Rilis=1985<br>Jumlah Rilis=%{y}<extra></extra>",
           "ids": [
            "Action & Adventure"
           ],
           "legendgroup": "Action & Adventure",
           "marker": {
            "color": "#ab63fa",
            "pattern": {
             "shape": ""
            }
           },
           "name": "Action & Adventure",
           "orientation": "v",
           "showlegend": true,
           "textposition": "auto",
           "type": "bar",
           "x": [
            "Action & Adventure"
           ],
           "xaxis": "x",
           "y": {
            "bdata": "Ag==",
            "dtype": "i1"
           },
           "yaxis": "y"
          },
          {
           "hovertemplate": "Genre=%{x}<br>Tahun Rilis=1985<br>Jumlah Rilis=%{y}<extra></extra>",
           "ids": [
            "Independent Movies"
           ],
           "legendgroup": "Independent Movies",
           "marker": {
            "color": "#FFA15A",
            "pattern": {
             "shape": ""
            }
           },
           "name": "Independent Movies",
           "orientation": "v",
           "showlegend": true,
           "textposition": "auto",
           "type": "bar",
           "x": [
            "Independent Movies"
           ],
           "xaxis": "x",
           "y": {
            "bdata": "AQ==",
            "dtype": "i1"
           },
           "yaxis": "y"
          },
          {
           "hovertemplate": "Genre=%{x}<br>Tahun Rilis=1985<br>Jumlah Rilis=%{y}<extra></extra>",
           "ids": [
            "Romantic Movies"
           ],
           "legendgroup": "Romantic Movies",
           "marker": {
            "color": "#19d3f3",
            "pattern": {
             "shape": ""
            }
           },
           "name": "Romantic Movies",
           "orientation": "v",
           "showlegend": true,
           "textposition": "auto",
           "type": "bar",
           "x": [
            "Romantic Movies"
           ],
           "xaxis": "x",
           "y": {
            "bdata": "AA==",
            "dtype": "i1"
           },
           "yaxis": "y"
          },
          {
           "hovertemplate": "Genre=%{x}<br>Tahun Rilis=1985<br>Jumlah Rilis=%{y}<extra></extra>",
           "ids": [
            "Thrillers"
           ],
           "legendgroup": "Thrillers",
           "marker": {
            "color": "#FF6692",
            "pattern": {
             "shape": ""
            }
           },
           "name": "Thrillers",
           "orientation": "v",
           "showlegend": true,
           "textposition": "auto",
           "type": "bar",
           "x": [
            "Thrillers"
           ],
           "xaxis": "x",
           "y": {
            "bdata": "AQ==",
            "dtype": "i1"
           },
           "yaxis": "y"
          },
          {
           "hovertemplate": "Genre=%{x}<br>Tahun Rilis=1985<br>Jumlah Rilis=%{y}<extra></extra>",
           "ids": [
            "Children & Family Movies"
           ],
           "legendgroup": "Children & Family Movies",
           "marker": {
            "color": "#B6E880",
            "pattern": {
             "shape": ""
            }
           },
           "name": "Children & Family Movies",
           "orientation": "v",
           "showlegend": true,
           "textposition": "auto",
           "type": "bar",
           "x": [
            "Children & Family Movies"
           ],
           "xaxis": "x",
           "y": {
            "bdata": "AA==",
            "dtype": "i1"
           },
           "yaxis": "y"
          },
          {
           "hovertemplate": "Genre=%{x}<br>Tahun Rilis=1985<br>Jumlah Rilis=%{y}<extra></extra>",
           "ids": [
            "Documentaries"
           ],
           "legendgroup": "Documentaries",
           "marker": {
            "color": "#FF97FF",
            "pattern": {
             "shape": ""
            }
           },
           "name": "Documentaries",
           "orientation": "v",
           "showlegend": true,
           "textposition": "auto",
           "type": "bar",
           "x": [
            "Documentaries"
           ],
           "xaxis": "x",
           "y": {
            "bdata": "AA==",
            "dtype": "i1"
           },
           "yaxis": "y"
          },
          {
           "hovertemplate": "Genre=%{x}<br>Tahun Rilis=1985<br>Jumlah Rilis=%{y}<extra></extra>",
           "ids": [
            "Horror Movies"
           ],
           "legendgroup": "Horror Movies",
           "marker": {
            "color": "#FECB52",
            "pattern": {
             "shape": ""
            }
           },
           "name": "Horror Movies",
           "orientation": "v",
           "showlegend": true,
           "textposition": "auto",
           "type": "bar",
           "x": [
            "Horror Movies"
           ],
           "xaxis": "x",
           "y": {
            "bdata": "AQ==",
            "dtype": "i1"
           },
           "yaxis": "y"
          }
         ],
         "name": "1985"
        },
        {
         "data": [
          {
           "hovertemplate": "Genre=%{x}<br>Tahun Rilis=1986<br>Jumlah Rilis=%{y}<extra></extra>",
           "ids": [
            "International Movies"
           ],
           "legendgroup": "International Movies",
           "marker": {
            "color": "#636efa",
            "pattern": {
             "shape": ""
            }
           },
           "name": "International Movies",
           "orientation": "v",
           "showlegend": true,
           "textposition": "auto",
           "type": "bar",
           "x": [
            "International Movies"
           ],
           "xaxis": "x",
           "y": {
            "bdata": "Aw==",
            "dtype": "i1"
           },
           "yaxis": "y"
          },
          {
           "hovertemplate": "Genre=%{x}<br>Tahun Rilis=1986<br>Jumlah Rilis=%{y}<extra></extra>",
           "ids": [
            "Dramas"
           ],
           "legendgroup": "Dramas",
           "marker": {
            "color": "#EF553B",
            "pattern": {
             "shape": ""
            }
           },
           "name": "Dramas",
           "orientation": "v",
           "showlegend": true,
           "textposition": "auto",
           "type": "bar",
           "x": [
            "Dramas"
           ],
           "xaxis": "x",
           "y": {
            "bdata": "BQ==",
            "dtype": "i1"
           },
           "yaxis": "y"
          },
          {
           "hovertemplate": "Genre=%{x}<br>Tahun Rilis=1986<br>Jumlah Rilis=%{y}<extra></extra>",
           "ids": [
            "Comedies"
           ],
           "legendgroup": "Comedies",
           "marker": {
            "color": "#00cc96",
            "pattern": {
             "shape": ""
            }
           },
           "name": "Comedies",
           "orientation": "v",
           "showlegend": true,
           "textposition": "auto",
           "type": "bar",
           "x": [
            "Comedies"
           ],
           "xaxis": "x",
           "y": {
            "bdata": "Ag==",
            "dtype": "i1"
           },
           "yaxis": "y"
          },
          {
           "hovertemplate": "Genre=%{x}<br>Tahun Rilis=1986<br>Jumlah Rilis=%{y}<extra></extra>",
           "ids": [
            "Action & Adventure"
           ],
           "legendgroup": "Action & Adventure",
           "marker": {
            "color": "#ab63fa",
            "pattern": {
             "shape": ""
            }
           },
           "name": "Action & Adventure",
           "orientation": "v",
           "showlegend": true,
           "textposition": "auto",
           "type": "bar",
           "x": [
            "Action & Adventure"
           ],
           "xaxis": "x",
           "y": {
            "bdata": "Bg==",
            "dtype": "i1"
           },
           "yaxis": "y"
          },
          {
           "hovertemplate": "Genre=%{x}<br>Tahun Rilis=1986<br>Jumlah Rilis=%{y}<extra></extra>",
           "ids": [
            "Independent Movies"
           ],
           "legendgroup": "Independent Movies",
           "marker": {
            "color": "#FFA15A",
            "pattern": {
             "shape": ""
            }
           },
           "name": "Independent Movies",
           "orientation": "v",
           "showlegend": true,
           "textposition": "auto",
           "type": "bar",
           "x": [
            "Independent Movies"
           ],
           "xaxis": "x",
           "y": {
            "bdata": "AA==",
            "dtype": "i1"
           },
           "yaxis": "y"
          },
          {
           "hovertemplate": "Genre=%{x}<br>Tahun Rilis=1986<br>Jumlah Rilis=%{y}<extra></extra>",
           "ids": [
            "Romantic Movies"
           ],
           "legendgroup": "Romantic Movies",
           "marker": {
            "color": "#19d3f3",
            "pattern": {
             "shape": ""
            }
           },
           "name": "Romantic Movies",
           "orientation": "v",
           "showlegend": true,
           "textposition": "auto",
           "type": "bar",
           "x": [
            "Romantic Movies"
           ],
           "xaxis": "x",
           "y": {
            "bdata": "AA==",
            "dtype": "i1"
           },
           "yaxis": "y"
          },
          {
           "hovertemplate": "Genre=%{x}<br>Tahun Rilis=1986<br>Jumlah Rilis=%{y}<extra></extra>",
           "ids": [
            "Thrillers"
           ],
           "legendgroup": "Thrillers",
           "marker": {
            "color": "#FF6692",
            "pattern": {
             "shape": ""
            }
           },
           "name": "Thrillers",
           "orientation": "v",
           "showlegend": true,
           "textposition": "auto",
           "type": "bar",
           "x": [
            "Thrillers"
           ],
           "xaxis": "x",
           "y": {
            "bdata": "AA==",
            "dtype": "i1"
           },
           "yaxis": "y"
          },
          {
           "hovertemplate": "Genre=%{x}<br>Tahun Rilis=1986<br>Jumlah Rilis=%{y}<extra></extra>",
           "ids": [
            "Children & Family Movies"
           ],
           "legendgroup": "Children & Family Movies",
           "marker": {
            "color": "#B6E880",
            "pattern": {
             "shape": ""
            }
           },
           "name": "Children & Family Movies",
           "orientation": "v",
           "showlegend": true,
           "textposition": "auto",
           "type": "bar",
           "x": [
            "Children & Family Movies"
           ],
           "xaxis": "x",
           "y": {
            "bdata": "Aw==",
            "dtype": "i1"
           },
           "yaxis": "y"
          },
          {
           "hovertemplate": "Genre=%{x}<br>Tahun Rilis=1986<br>Jumlah Rilis=%{y}<extra></extra>",
           "ids": [
            "Documentaries"
           ],
           "legendgroup": "Documentaries",
           "marker": {
            "color": "#FF97FF",
            "pattern": {
             "shape": ""
            }
           },
           "name": "Documentaries",
           "orientation": "v",
           "showlegend": true,
           "textposition": "auto",
           "type": "bar",
           "x": [
            "Documentaries"
           ],
           "xaxis": "x",
           "y": {
            "bdata": "AA==",
            "dtype": "i1"
           },
           "yaxis": "y"
          },
          {
           "hovertemplate": "Genre=%{x}<br>Tahun Rilis=1986<br>Jumlah Rilis=%{y}<extra></extra>",
           "ids": [
            "Horror Movies"
           ],
           "legendgroup": "Horror Movies",
           "marker": {
            "color": "#FECB52",
            "pattern": {
             "shape": ""
            }
           },
           "name": "Horror Movies",
           "orientation": "v",
           "showlegend": true,
           "textposition": "auto",
           "type": "bar",
           "x": [
            "Horror Movies"
           ],
           "xaxis": "x",
           "y": {
            "bdata": "AA==",
            "dtype": "i1"
           },
           "yaxis": "y"
          }
         ],
         "name": "1986"
        },
        {
         "data": [
          {
           "hovertemplate": "Genre=%{x}<br>Tahun Rilis=1987<br>Jumlah Rilis=%{y}<extra></extra>",
           "ids": [
            "International Movies"
           ],
           "legendgroup": "International Movies",
           "marker": {
            "color": "#636efa",
            "pattern": {
             "shape": ""
            }
           },
           "name": "International Movies",
           "orientation": "v",
           "showlegend": true,
           "textposition": "auto",
           "type": "bar",
           "x": [
            "International Movies"
           ],
           "xaxis": "x",
           "y": {
            "bdata": "AA==",
            "dtype": "i1"
           },
           "yaxis": "y"
          },
          {
           "hovertemplate": "Genre=%{x}<br>Tahun Rilis=1987<br>Jumlah Rilis=%{y}<extra></extra>",
           "ids": [
            "Dramas"
           ],
           "legendgroup": "Dramas",
           "marker": {
            "color": "#EF553B",
            "pattern": {
             "shape": ""
            }
           },
           "name": "Dramas",
           "orientation": "v",
           "showlegend": true,
           "textposition": "auto",
           "type": "bar",
           "x": [
            "Dramas"
           ],
           "xaxis": "x",
           "y": {
            "bdata": "BA==",
            "dtype": "i1"
           },
           "yaxis": "y"
          },
          {
           "hovertemplate": "Genre=%{x}<br>Tahun Rilis=1987<br>Jumlah Rilis=%{y}<extra></extra>",
           "ids": [
            "Comedies"
           ],
           "legendgroup": "Comedies",
           "marker": {
            "color": "#00cc96",
            "pattern": {
             "shape": ""
            }
           },
           "name": "Comedies",
           "orientation": "v",
           "showlegend": true,
           "textposition": "auto",
           "type": "bar",
           "x": [
            "Comedies"
           ],
           "xaxis": "x",
           "y": {
            "bdata": "AQ==",
            "dtype": "i1"
           },
           "yaxis": "y"
          },
          {
           "hovertemplate": "Genre=%{x}<br>Tahun Rilis=1987<br>Jumlah Rilis=%{y}<extra></extra>",
           "ids": [
            "Action & Adventure"
           ],
           "legendgroup": "Action & Adventure",
           "marker": {
            "color": "#ab63fa",
            "pattern": {
             "shape": ""
            }
           },
           "name": "Action & Adventure",
           "orientation": "v",
           "showlegend": true,
           "textposition": "auto",
           "type": "bar",
           "x": [
            "Action & Adventure"
           ],
           "xaxis": "x",
           "y": {
            "bdata": "Aw==",
            "dtype": "i1"
           },
           "yaxis": "y"
          },
          {
           "hovertemplate": "Genre=%{x}<br>Tahun Rilis=1987<br>Jumlah Rilis=%{y}<extra></extra>",
           "ids": [
            "Independent Movies"
           ],
           "legendgroup": "Independent Movies",
           "marker": {
            "color": "#FFA15A",
            "pattern": {
             "shape": ""
            }
           },
           "name": "Independent Movies",
           "orientation": "v",
           "showlegend": true,
           "textposition": "auto",
           "type": "bar",
           "x": [
            "Independent Movies"
           ],
           "xaxis": "x",
           "y": {
            "bdata": "AA==",
            "dtype": "i1"
           },
           "yaxis": "y"
          },
          {
           "hovertemplate": "Genre=%{x}<br>Tahun Rilis=1987<br>Jumlah Rilis=%{y}<extra></extra>",
           "ids": [
            "Romantic Movies"
           ],
           "legendgroup": "Romantic Movies",
           "marker": {
            "color": "#19d3f3",
            "pattern": {
             "shape": ""
            }
           },
           "name": "Romantic Movies",
           "orientation": "v",
           "showlegend": true,
           "textposition": "auto",
           "type": "bar",
           "x": [
            "Romantic Movies"
           ],
           "xaxis": "x",
           "y": {
            "bdata": "AA==",
            "dtype": "i1"
           },
           "yaxis": "y"
          },
          {
           "hovertemplate": "Genre=%{x}<br>Tahun Rilis=1987<br>Jumlah Rilis=%{y}<extra></extra>",
           "ids": [
            "Thrillers"
           ],
           "legendgroup": "Thrillers",
           "marker": {
            "color": "#FF6692",
            "pattern": {
             "shape": ""
            }
           },
           "name": "Thrillers",
           "orientation": "v",
           "showlegend": true,
           "textposition": "auto",
           "type": "bar",
           "x": [
            "Thrillers"
           ],
           "xaxis": "x",
           "y": {
            "bdata": "AQ==",
            "dtype": "i1"
           },
           "yaxis": "y"
          },
          {
           "hovertemplate": "Genre=%{x}<br>Tahun Rilis=1987<br>Jumlah Rilis=%{y}<extra></extra>",
           "ids": [
            "Children & Family Movies"
           ],
           "legendgroup": "Children & Family Movies",
           "marker": {
            "color": "#B6E880",
            "pattern": {
             "shape": ""
            }
           },
           "name": "Children & Family Movies",
           "orientation": "v",
           "showlegend": true,
           "textposition": "auto",
           "type": "bar",
           "x": [
            "Children & Family Movies"
           ],
           "xaxis": "x",
           "y": {
            "bdata": "AA==",
            "dtype": "i1"
           },
           "yaxis": "y"
          },
          {
           "hovertemplate": "Genre=%{x}<br>Tahun Rilis=1987<br>Jumlah Rilis=%{y}<extra></extra>",
           "ids": [
            "Documentaries"
           ],
           "legendgroup": "Documentaries",
           "marker": {
            "color": "#FF97FF",
            "pattern": {
             "shape": ""
            }
           },
           "name": "Documentaries",
           "orientation": "v",
           "showlegend": true,
           "textposition": "auto",
           "type": "bar",
           "x": [
            "Documentaries"
           ],
           "xaxis": "x",
           "y": {
            "bdata": "AA==",
            "dtype": "i1"
           },
           "yaxis": "y"
          },
          {
           "hovertemplate": "Genre=%{x}<br>Tahun Rilis=1987<br>Jumlah Rilis=%{y}<extra></extra>",
           "ids": [
            "Horror Movies"
           ],
           "legendgroup": "Horror Movies",
           "marker": {
            "color": "#FECB52",
            "pattern": {
             "shape": ""
            }
           },
           "name": "Horror Movies",
           "orientation": "v",
           "showlegend": true,
           "textposition": "auto",
           "type": "bar",
           "x": [
            "Horror Movies"
           ],
           "xaxis": "x",
           "y": {
            "bdata": "Ag==",
            "dtype": "i1"
           },
           "yaxis": "y"
          }
         ],
         "name": "1987"
        },
        {
         "data": [
          {
           "hovertemplate": "Genre=%{x}<br>Tahun Rilis=1988<br>Jumlah Rilis=%{y}<extra></extra>",
           "ids": [
            "International Movies"
           ],
           "legendgroup": "International Movies",
           "marker": {
            "color": "#636efa",
            "pattern": {
             "shape": ""
            }
           },
           "name": "International Movies",
           "orientation": "v",
           "showlegend": true,
           "textposition": "auto",
           "type": "bar",
           "x": [
            "International Movies"
           ],
           "xaxis": "x",
           "y": {
            "bdata": "Aw==",
            "dtype": "i1"
           },
           "yaxis": "y"
          },
          {
           "hovertemplate": "Genre=%{x}<br>Tahun Rilis=1988<br>Jumlah Rilis=%{y}<extra></extra>",
           "ids": [
            "Dramas"
           ],
           "legendgroup": "Dramas",
           "marker": {
            "color": "#EF553B",
            "pattern": {
             "shape": ""
            }
           },
           "name": "Dramas",
           "orientation": "v",
           "showlegend": true,
           "textposition": "auto",
           "type": "bar",
           "x": [
            "Dramas"
           ],
           "xaxis": "x",
           "y": {
            "bdata": "Bw==",
            "dtype": "i1"
           },
           "yaxis": "y"
          },
          {
           "hovertemplate": "Genre=%{x}<br>Tahun Rilis=1988<br>Jumlah Rilis=%{y}<extra></extra>",
           "ids": [
            "Comedies"
           ],
           "legendgroup": "Comedies",
           "marker": {
            "color": "#00cc96",
            "pattern": {
             "shape": ""
            }
           },
           "name": "Comedies",
           "orientation": "v",
           "showlegend": true,
           "textposition": "auto",
           "type": "bar",
           "x": [
            "Comedies"
           ],
           "xaxis": "x",
           "y": {
            "bdata": "Bg==",
            "dtype": "i1"
           },
           "yaxis": "y"
          },
          {
           "hovertemplate": "Genre=%{x}<br>Tahun Rilis=1988<br>Jumlah Rilis=%{y}<extra></extra>",
           "ids": [
            "Action & Adventure"
           ],
           "legendgroup": "Action & Adventure",
           "marker": {
            "color": "#ab63fa",
            "pattern": {
             "shape": ""
            }
           },
           "name": "Action & Adventure",
           "orientation": "v",
           "showlegend": true,
           "textposition": "auto",
           "type": "bar",
           "x": [
            "Action & Adventure"
           ],
           "xaxis": "x",
           "y": {
            "bdata": "Ag==",
            "dtype": "i1"
           },
           "yaxis": "y"
          },
          {
           "hovertemplate": "Genre=%{x}<br>Tahun Rilis=1988<br>Jumlah Rilis=%{y}<extra></extra>",
           "ids": [
            "Independent Movies"
           ],
           "legendgroup": "Independent Movies",
           "marker": {
            "color": "#FFA15A",
            "pattern": {
             "shape": ""
            }
           },
           "name": "Independent Movies",
           "orientation": "v",
           "showlegend": true,
           "textposition": "auto",
           "type": "bar",
           "x": [
            "Independent Movies"
           ],
           "xaxis": "x",
           "y": {
            "bdata": "AQ==",
            "dtype": "i1"
           },
           "yaxis": "y"
          },
          {
           "hovertemplate": "Genre=%{x}<br>Tahun Rilis=1988<br>Jumlah Rilis=%{y}<extra></extra>",
           "ids": [
            "Romantic Movies"
           ],
           "legendgroup": "Romantic Movies",
           "marker": {
            "color": "#19d3f3",
            "pattern": {
             "shape": ""
            }
           },
           "name": "Romantic Movies",
           "orientation": "v",
           "showlegend": true,
           "textposition": "auto",
           "type": "bar",
           "x": [
            "Romantic Movies"
           ],
           "xaxis": "x",
           "y": {
            "bdata": "AQ==",
            "dtype": "i1"
           },
           "yaxis": "y"
          },
          {
           "hovertemplate": "Genre=%{x}<br>Tahun Rilis=1988<br>Jumlah Rilis=%{y}<extra></extra>",
           "ids": [
            "Thrillers"
           ],
           "legendgroup": "Thrillers",
           "marker": {
            "color": "#FF6692",
            "pattern": {
             "shape": ""
            }
           },
           "name": "Thrillers",
           "orientation": "v",
           "showlegend": true,
           "textposition": "auto",
           "type": "bar",
           "x": [
            "Thrillers"
           ],
           "xaxis": "x",
           "y": {
            "bdata": "AA==",
            "dtype": "i1"
           },
           "yaxis": "y"
          },
          {
           "hovertemplate": "Genre=%{x}<br>Tahun Rilis=1988<br>Jumlah Rilis=%{y}<extra></extra>",
           "ids": [
            "Children & Family Movies"
           ],
           "legendgroup": "Children & Family Movies",
           "marker": {
            "color": "#B6E880",
            "pattern": {
             "shape": ""
            }
           },
           "name": "Children & Family Movies",
           "orientation": "v",
           "showlegend": true,
           "textposition": "auto",
           "type": "bar",
           "x": [
            "Children & Family Movies"
           ],
           "xaxis": "x",
           "y": {
            "bdata": "AA==",
            "dtype": "i1"
           },
           "yaxis": "y"
          },
          {
           "hovertemplate": "Genre=%{x}<br>Tahun Rilis=1988<br>Jumlah Rilis=%{y}<extra></extra>",
           "ids": [
            "Documentaries"
           ],
           "legendgroup": "Documentaries",
           "marker": {
            "color": "#FF97FF",
            "pattern": {
             "shape": ""
            }
           },
           "name": "Documentaries",
           "orientation": "v",
           "showlegend": true,
           "textposition": "auto",
           "type": "bar",
           "x": [
            "Documentaries"
           ],
           "xaxis": "x",
           "y": {
            "bdata": "AQ==",
            "dtype": "i1"
           },
           "yaxis": "y"
          },
          {
           "hovertemplate": "Genre=%{x}<br>Tahun Rilis=1988<br>Jumlah Rilis=%{y}<extra></extra>",
           "ids": [
            "Horror Movies"
           ],
           "legendgroup": "Horror Movies",
           "marker": {
            "color": "#FECB52",
            "pattern": {
             "shape": ""
            }
           },
           "name": "Horror Movies",
           "orientation": "v",
           "showlegend": true,
           "textposition": "auto",
           "type": "bar",
           "x": [
            "Horror Movies"
           ],
           "xaxis": "x",
           "y": {
            "bdata": "Ag==",
            "dtype": "i1"
           },
           "yaxis": "y"
          }
         ],
         "name": "1988"
        },
        {
         "data": [
          {
           "hovertemplate": "Genre=%{x}<br>Tahun Rilis=1989<br>Jumlah Rilis=%{y}<extra></extra>",
           "ids": [
            "International Movies"
           ],
           "legendgroup": "International Movies",
           "marker": {
            "color": "#636efa",
            "pattern": {
             "shape": ""
            }
           },
           "name": "International Movies",
           "orientation": "v",
           "showlegend": true,
           "textposition": "auto",
           "type": "bar",
           "x": [
            "International Movies"
           ],
           "xaxis": "x",
           "y": {
            "bdata": "BQ==",
            "dtype": "i1"
           },
           "yaxis": "y"
          },
          {
           "hovertemplate": "Genre=%{x}<br>Tahun Rilis=1989<br>Jumlah Rilis=%{y}<extra></extra>",
           "ids": [
            "Dramas"
           ],
           "legendgroup": "Dramas",
           "marker": {
            "color": "#EF553B",
            "pattern": {
             "shape": ""
            }
           },
           "name": "Dramas",
           "orientation": "v",
           "showlegend": true,
           "textposition": "auto",
           "type": "bar",
           "x": [
            "Dramas"
           ],
           "xaxis": "x",
           "y": {
            "bdata": "CA==",
            "dtype": "i1"
           },
           "yaxis": "y"
          },
          {
           "hovertemplate": "Genre=%{x}<br>Tahun Rilis=1989<br>Jumlah Rilis=%{y}<extra></extra>",
           "ids": [
            "Comedies"
           ],
           "legendgroup": "Comedies",
           "marker": {
            "color": "#00cc96",
            "pattern": {
             "shape": ""
            }
           },
           "name": "Comedies",
           "orientation": "v",
           "showlegend": true,
           "textposition": "auto",
           "type": "bar",
           "x": [
            "Comedies"
           ],
           "xaxis": "x",
           "y": {
            "bdata": "BA==",
            "dtype": "i1"
           },
           "yaxis": "y"
          },
          {
           "hovertemplate": "Genre=%{x}<br>Tahun Rilis=1989<br>Jumlah Rilis=%{y}<extra></extra>",
           "ids": [
            "Action & Adventure"
           ],
           "legendgroup": "Action & Adventure",
           "marker": {
            "color": "#ab63fa",
            "pattern": {
             "shape": ""
            }
           },
           "name": "Action & Adventure",
           "orientation": "v",
           "showlegend": true,
           "textposition": "auto",
           "type": "bar",
           "x": [
            "Action & Adventure"
           ],
           "xaxis": "x",
           "y": {
            "bdata": "BA==",
            "dtype": "i1"
           },
           "yaxis": "y"
          },
          {
           "hovertemplate": "Genre=%{x}<br>Tahun Rilis=1989<br>Jumlah Rilis=%{y}<extra></extra>",
           "ids": [
            "Independent Movies"
           ],
           "legendgroup": "Independent Movies",
           "marker": {
            "color": "#FFA15A",
            "pattern": {
             "shape": ""
            }
           },
           "name": "Independent Movies",
           "orientation": "v",
           "showlegend": true,
           "textposition": "auto",
           "type": "bar",
           "x": [
            "Independent Movies"
           ],
           "xaxis": "x",
           "y": {
            "bdata": "AA==",
            "dtype": "i1"
           },
           "yaxis": "y"
          },
          {
           "hovertemplate": "Genre=%{x}<br>Tahun Rilis=1989<br>Jumlah Rilis=%{y}<extra></extra>",
           "ids": [
            "Romantic Movies"
           ],
           "legendgroup": "Romantic Movies",
           "marker": {
            "color": "#19d3f3",
            "pattern": {
             "shape": ""
            }
           },
           "name": "Romantic Movies",
           "orientation": "v",
           "showlegend": true,
           "textposition": "auto",
           "type": "bar",
           "x": [
            "Romantic Movies"
           ],
           "xaxis": "x",
           "y": {
            "bdata": "AA==",
            "dtype": "i1"
           },
           "yaxis": "y"
          },
          {
           "hovertemplate": "Genre=%{x}<br>Tahun Rilis=1989<br>Jumlah Rilis=%{y}<extra></extra>",
           "ids": [
            "Thrillers"
           ],
           "legendgroup": "Thrillers",
           "marker": {
            "color": "#FF6692",
            "pattern": {
             "shape": ""
            }
           },
           "name": "Thrillers",
           "orientation": "v",
           "showlegend": true,
           "textposition": "auto",
           "type": "bar",
           "x": [
            "Thrillers"
           ],
           "xaxis": "x",
           "y": {
            "bdata": "AA==",
            "dtype": "i1"
           },
           "yaxis": "y"
          },
          {
           "hovertemplate": "Genre=%{x}<br>Tahun Rilis=1989<br>Jumlah Rilis=%{y}<extra></extra>",
           "ids": [
            "Children & Family Movies"
           ],
           "legendgroup": "Children & Family Movies",
           "marker": {
            "color": "#B6E880",
            "pattern": {
             "shape": ""
            }
           },
           "name": "Children & Family Movies",
           "orientation": "v",
           "showlegend": true,
           "textposition": "auto",
           "type": "bar",
           "x": [
            "Children & Family Movies"
           ],
           "xaxis": "x",
           "y": {
            "bdata": "BA==",
            "dtype": "i1"
           },
           "yaxis": "y"
          },
          {
           "hovertemplate": "Genre=%{x}<br>Tahun Rilis=1989<br>Jumlah Rilis=%{y}<extra></extra>",
           "ids": [
            "Documentaries"
           ],
           "legendgroup": "Documentaries",
           "marker": {
            "color": "#FF97FF",
            "pattern": {
             "shape": ""
            }
           },
           "name": "Documentaries",
           "orientation": "v",
           "showlegend": true,
           "textposition": "auto",
           "type": "bar",
           "x": [
            "Documentaries"
           ],
           "xaxis": "x",
           "y": {
            "bdata": "AA==",
            "dtype": "i1"
           },
           "yaxis": "y"
          },
          {
           "hovertemplate": "Genre=%{x}<br>Tahun Rilis=1989<br>Jumlah Rilis=%{y}<extra></extra>",
           "ids": [
            "Horror Movies"
           ],
           "legendgroup": "Horror Movies",
           "marker": {
            "color": "#FECB52",
            "pattern": {
             "shape": ""
            }
           },
           "name": "Horror Movies",
           "orientation": "v",
           "showlegend": true,
           "textposition": "auto",
           "type": "bar",
           "x": [
            "Horror Movies"
           ],
           "xaxis": "x",
           "y": {
            "bdata": "AA==",
            "dtype": "i1"
           },
           "yaxis": "y"
          }
         ],
         "name": "1989"
        },
        {
         "data": [
          {
           "hovertemplate": "Genre=%{x}<br>Tahun Rilis=1990<br>Jumlah Rilis=%{y}<extra></extra>",
           "ids": [
            "International Movies"
           ],
           "legendgroup": "International Movies",
           "marker": {
            "color": "#636efa",
            "pattern": {
             "shape": ""
            }
           },
           "name": "International Movies",
           "orientation": "v",
           "showlegend": true,
           "textposition": "auto",
           "type": "bar",
           "x": [
            "International Movies"
           ],
           "xaxis": "x",
           "y": {
            "bdata": "BQ==",
            "dtype": "i1"
           },
           "yaxis": "y"
          },
          {
           "hovertemplate": "Genre=%{x}<br>Tahun Rilis=1990<br>Jumlah Rilis=%{y}<extra></extra>",
           "ids": [
            "Dramas"
           ],
           "legendgroup": "Dramas",
           "marker": {
            "color": "#EF553B",
            "pattern": {
             "shape": ""
            }
           },
           "name": "Dramas",
           "orientation": "v",
           "showlegend": true,
           "textposition": "auto",
           "type": "bar",
           "x": [
            "Dramas"
           ],
           "xaxis": "x",
           "y": {
            "bdata": "Cg==",
            "dtype": "i1"
           },
           "yaxis": "y"
          },
          {
           "hovertemplate": "Genre=%{x}<br>Tahun Rilis=1990<br>Jumlah Rilis=%{y}<extra></extra>",
           "ids": [
            "Comedies"
           ],
           "legendgroup": "Comedies",
           "marker": {
            "color": "#00cc96",
            "pattern": {
             "shape": ""
            }
           },
           "name": "Comedies",
           "orientation": "v",
           "showlegend": true,
           "textposition": "auto",
           "type": "bar",
           "x": [
            "Comedies"
           ],
           "xaxis": "x",
           "y": {
            "bdata": "BQ==",
            "dtype": "i1"
           },
           "yaxis": "y"
          },
          {
           "hovertemplate": "Genre=%{x}<br>Tahun Rilis=1990<br>Jumlah Rilis=%{y}<extra></extra>",
           "ids": [
            "Action & Adventure"
           ],
           "legendgroup": "Action & Adventure",
           "marker": {
            "color": "#ab63fa",
            "pattern": {
             "shape": ""
            }
           },
           "name": "Action & Adventure",
           "orientation": "v",
           "showlegend": true,
           "textposition": "auto",
           "type": "bar",
           "x": [
            "Action & Adventure"
           ],
           "xaxis": "x",
           "y": {
            "bdata": "Bg==",
            "dtype": "i1"
           },
           "yaxis": "y"
          },
          {
           "hovertemplate": "Genre=%{x}<br>Tahun Rilis=1990<br>Jumlah Rilis=%{y}<extra></extra>",
           "ids": [
            "Independent Movies"
           ],
           "legendgroup": "Independent Movies",
           "marker": {
            "color": "#FFA15A",
            "pattern": {
             "shape": ""
            }
           },
           "name": "Independent Movies",
           "orientation": "v",
           "showlegend": true,
           "textposition": "auto",
           "type": "bar",
           "x": [
            "Independent Movies"
           ],
           "xaxis": "x",
           "y": {
            "bdata": "AQ==",
            "dtype": "i1"
           },
           "yaxis": "y"
          },
          {
           "hovertemplate": "Genre=%{x}<br>Tahun Rilis=1990<br>Jumlah Rilis=%{y}<extra></extra>",
           "ids": [
            "Romantic Movies"
           ],
           "legendgroup": "Romantic Movies",
           "marker": {
            "color": "#19d3f3",
            "pattern": {
             "shape": ""
            }
           },
           "name": "Romantic Movies",
           "orientation": "v",
           "showlegend": true,
           "textposition": "auto",
           "type": "bar",
           "x": [
            "Romantic Movies"
           ],
           "xaxis": "x",
           "y": {
            "bdata": "AA==",
            "dtype": "i1"
           },
           "yaxis": "y"
          },
          {
           "hovertemplate": "Genre=%{x}<br>Tahun Rilis=1990<br>Jumlah Rilis=%{y}<extra></extra>",
           "ids": [
            "Thrillers"
           ],
           "legendgroup": "Thrillers",
           "marker": {
            "color": "#FF6692",
            "pattern": {
             "shape": ""
            }
           },
           "name": "Thrillers",
           "orientation": "v",
           "showlegend": true,
           "textposition": "auto",
           "type": "bar",
           "x": [
            "Thrillers"
           ],
           "xaxis": "x",
           "y": {
            "bdata": "AA==",
            "dtype": "i1"
           },
           "yaxis": "y"
          },
          {
           "hovertemplate": "Genre=%{x}<br>Tahun Rilis=1990<br>Jumlah Rilis=%{y}<extra></extra>",
           "ids": [
            "Children & Family Movies"
           ],
           "legendgroup": "Children & Family Movies",
           "marker": {
            "color": "#B6E880",
            "pattern": {
             "shape": ""
            }
           },
           "name": "Children & Family Movies",
           "orientation": "v",
           "showlegend": true,
           "textposition": "auto",
           "type": "bar",
           "x": [
            "Children & Family Movies"
           ],
           "xaxis": "x",
           "y": {
            "bdata": "AA==",
            "dtype": "i1"
           },
           "yaxis": "y"
          },
          {
           "hovertemplate": "Genre=%{x}<br>Tahun Rilis=1990<br>Jumlah Rilis=%{y}<extra></extra>",
           "ids": [
            "Documentaries"
           ],
           "legendgroup": "Documentaries",
           "marker": {
            "color": "#FF97FF",
            "pattern": {
             "shape": ""
            }
           },
           "name": "Documentaries",
           "orientation": "v",
           "showlegend": true,
           "textposition": "auto",
           "type": "bar",
           "x": [
            "Documentaries"
           ],
           "xaxis": "x",
           "y": {
            "bdata": "AA==",
            "dtype": "i1"
           },
           "yaxis": "y"
          },
          {
           "hovertemplate": "Genre=%{x}<br>Tahun Rilis=1990<br>Jumlah Rilis=%{y}<extra></extra>",
           "ids": [
            "Horror Movies"
           ],
           "legendgroup": "Horror Movies",
           "marker": {
            "color": "#FECB52",
            "pattern": {
             "shape": ""
            }
           },
           "name": "Horror Movies",
           "orientation": "v",
           "showlegend": true,
           "textposition": "auto",
           "type": "bar",
           "x": [
            "Horror Movies"
           ],
           "xaxis": "x",
           "y": {
            "bdata": "AQ==",
            "dtype": "i1"
           },
           "yaxis": "y"
          }
         ],
         "name": "1990"
        },
        {
         "data": [
          {
           "hovertemplate": "Genre=%{x}<br>Tahun Rilis=1991<br>Jumlah Rilis=%{y}<extra></extra>",
           "ids": [
            "International Movies"
           ],
           "legendgroup": "International Movies",
           "marker": {
            "color": "#636efa",
            "pattern": {
             "shape": ""
            }
           },
           "name": "International Movies",
           "orientation": "v",
           "showlegend": true,
           "textposition": "auto",
           "type": "bar",
           "x": [
            "International Movies"
           ],
           "xaxis": "x",
           "y": {
            "bdata": "Ag==",
            "dtype": "i1"
           },
           "yaxis": "y"
          },
          {
           "hovertemplate": "Genre=%{x}<br>Tahun Rilis=1991<br>Jumlah Rilis=%{y}<extra></extra>",
           "ids": [
            "Dramas"
           ],
           "legendgroup": "Dramas",
           "marker": {
            "color": "#EF553B",
            "pattern": {
             "shape": ""
            }
           },
           "name": "Dramas",
           "orientation": "v",
           "showlegend": true,
           "textposition": "auto",
           "type": "bar",
           "x": [
            "Dramas"
           ],
           "xaxis": "x",
           "y": {
            "bdata": "Bg==",
            "dtype": "i1"
           },
           "yaxis": "y"
          },
          {
           "hovertemplate": "Genre=%{x}<br>Tahun Rilis=1991<br>Jumlah Rilis=%{y}<extra></extra>",
           "ids": [
            "Comedies"
           ],
           "legendgroup": "Comedies",
           "marker": {
            "color": "#00cc96",
            "pattern": {
             "shape": ""
            }
           },
           "name": "Comedies",
           "orientation": "v",
           "showlegend": true,
           "textposition": "auto",
           "type": "bar",
           "x": [
            "Comedies"
           ],
           "xaxis": "x",
           "y": {
            "bdata": "BA==",
            "dtype": "i1"
           },
           "yaxis": "y"
          },
          {
           "hovertemplate": "Genre=%{x}<br>Tahun Rilis=1991<br>Jumlah Rilis=%{y}<extra></extra>",
           "ids": [
            "Action & Adventure"
           ],
           "legendgroup": "Action & Adventure",
           "marker": {
            "color": "#ab63fa",
            "pattern": {
             "shape": ""
            }
           },
           "name": "Action & Adventure",
           "orientation": "v",
           "showlegend": true,
           "textposition": "auto",
           "type": "bar",
           "x": [
            "Action & Adventure"
           ],
           "xaxis": "x",
           "y": {
            "bdata": "AQ==",
            "dtype": "i1"
           },
           "yaxis": "y"
          },
          {
           "hovertemplate": "Genre=%{x}<br>Tahun Rilis=1991<br>Jumlah Rilis=%{y}<extra></extra>",
           "ids": [
            "Independent Movies"
           ],
           "legendgroup": "Independent Movies",
           "marker": {
            "color": "#FFA15A",
            "pattern": {
             "shape": ""
            }
           },
           "name": "Independent Movies",
           "orientation": "v",
           "showlegend": true,
           "textposition": "auto",
           "type": "bar",
           "x": [
            "Independent Movies"
           ],
           "xaxis": "x",
           "y": {
            "bdata": "Aw==",
            "dtype": "i1"
           },
           "yaxis": "y"
          },
          {
           "hovertemplate": "Genre=%{x}<br>Tahun Rilis=1991<br>Jumlah Rilis=%{y}<extra></extra>",
           "ids": [
            "Romantic Movies"
           ],
           "legendgroup": "Romantic Movies",
           "marker": {
            "color": "#19d3f3",
            "pattern": {
             "shape": ""
            }
           },
           "name": "Romantic Movies",
           "orientation": "v",
           "showlegend": true,
           "textposition": "auto",
           "type": "bar",
           "x": [
            "Romantic Movies"
           ],
           "xaxis": "x",
           "y": {
            "bdata": "AA==",
            "dtype": "i1"
           },
           "yaxis": "y"
          },
          {
           "hovertemplate": "Genre=%{x}<br>Tahun Rilis=1991<br>Jumlah Rilis=%{y}<extra></extra>",
           "ids": [
            "Thrillers"
           ],
           "legendgroup": "Thrillers",
           "marker": {
            "color": "#FF6692",
            "pattern": {
             "shape": ""
            }
           },
           "name": "Thrillers",
           "orientation": "v",
           "showlegend": true,
           "textposition": "auto",
           "type": "bar",
           "x": [
            "Thrillers"
           ],
           "xaxis": "x",
           "y": {
            "bdata": "AQ==",
            "dtype": "i1"
           },
           "yaxis": "y"
          },
          {
           "hovertemplate": "Genre=%{x}<br>Tahun Rilis=1991<br>Jumlah Rilis=%{y}<extra></extra>",
           "ids": [
            "Children & Family Movies"
           ],
           "legendgroup": "Children & Family Movies",
           "marker": {
            "color": "#B6E880",
            "pattern": {
             "shape": ""
            }
           },
           "name": "Children & Family Movies",
           "orientation": "v",
           "showlegend": true,
           "textposition": "auto",
           "type": "bar",
           "x": [
            "Children & Family Movies"
           ],
           "xaxis": "x",
           "y": {
            "bdata": "Ag==",
            "dtype": "i1"
           },
           "yaxis": "y"
          },
          {
           "hovertemplate": "Genre=%{x}<br>Tahun Rilis=1991<br>Jumlah Rilis=%{y}<extra></extra>",
           "ids": [
            "Documentaries"
           ],
           "legendgroup": "Documentaries",
           "marker": {
            "color": "#FF97FF",
            "pattern": {
             "shape": ""
            }
           },
           "name": "Documentaries",
           "orientation": "v",
           "showlegend": true,
           "textposition": "auto",
           "type": "bar",
           "x": [
            "Documentaries"
           ],
           "xaxis": "x",
           "y": {
            "bdata": "AA==",
            "dtype": "i1"
           },
           "yaxis": "y"
          },
          {
           "hovertemplate": "Genre=%{x}<br>Tahun Rilis=1991<br>Jumlah Rilis=%{y}<extra></extra>",
           "ids": [
            "Horror Movies"
           ],
           "legendgroup": "Horror Movies",
           "marker": {
            "color": "#FECB52",
            "pattern": {
             "shape": ""
            }
           },
           "name": "Horror Movies",
           "orientation": "v",
           "showlegend": true,
           "textposition": "auto",
           "type": "bar",
           "x": [
            "Horror Movies"
           ],
           "xaxis": "x",
           "y": {
            "bdata": "AA==",
            "dtype": "i1"
           },
           "yaxis": "y"
          }
         ],
         "name": "1991"
        },
        {
         "data": [
          {
           "hovertemplate": "Genre=%{x}<br>Tahun Rilis=1992<br>Jumlah Rilis=%{y}<extra></extra>",
           "ids": [
            "International Movies"
           ],
           "legendgroup": "International Movies",
           "marker": {
            "color": "#636efa",
            "pattern": {
             "shape": ""
            }
           },
           "name": "International Movies",
           "orientation": "v",
           "showlegend": true,
           "textposition": "auto",
           "type": "bar",
           "x": [
            "International Movies"
           ],
           "xaxis": "x",
           "y": {
            "bdata": "BQ==",
            "dtype": "i1"
           },
           "yaxis": "y"
          },
          {
           "hovertemplate": "Genre=%{x}<br>Tahun Rilis=1992<br>Jumlah Rilis=%{y}<extra></extra>",
           "ids": [
            "Dramas"
           ],
           "legendgroup": "Dramas",
           "marker": {
            "color": "#EF553B",
            "pattern": {
             "shape": ""
            }
           },
           "name": "Dramas",
           "orientation": "v",
           "showlegend": true,
           "textposition": "auto",
           "type": "bar",
           "x": [
            "Dramas"
           ],
           "xaxis": "x",
           "y": {
            "bdata": "Bg==",
            "dtype": "i1"
           },
           "yaxis": "y"
          },
          {
           "hovertemplate": "Genre=%{x}<br>Tahun Rilis=1992<br>Jumlah Rilis=%{y}<extra></extra>",
           "ids": [
            "Comedies"
           ],
           "legendgroup": "Comedies",
           "marker": {
            "color": "#00cc96",
            "pattern": {
             "shape": ""
            }
           },
           "name": "Comedies",
           "orientation": "v",
           "showlegend": true,
           "textposition": "auto",
           "type": "bar",
           "x": [
            "Comedies"
           ],
           "xaxis": "x",
           "y": {
            "bdata": "BQ==",
            "dtype": "i1"
           },
           "yaxis": "y"
          },
          {
           "hovertemplate": "Genre=%{x}<br>Tahun Rilis=1992<br>Jumlah Rilis=%{y}<extra></extra>",
           "ids": [
            "Action & Adventure"
           ],
           "legendgroup": "Action & Adventure",
           "marker": {
            "color": "#ab63fa",
            "pattern": {
             "shape": ""
            }
           },
           "name": "Action & Adventure",
           "orientation": "v",
           "showlegend": true,
           "textposition": "auto",
           "type": "bar",
           "x": [
            "Action & Adventure"
           ],
           "xaxis": "x",
           "y": {
            "bdata": "Bg==",
            "dtype": "i1"
           },
           "yaxis": "y"
          },
          {
           "hovertemplate": "Genre=%{x}<br>Tahun Rilis=1992<br>Jumlah Rilis=%{y}<extra></extra>",
           "ids": [
            "Independent Movies"
           ],
           "legendgroup": "Independent Movies",
           "marker": {
            "color": "#FFA15A",
            "pattern": {
             "shape": ""
            }
           },
           "name": "Independent Movies",
           "orientation": "v",
           "showlegend": true,
           "textposition": "auto",
           "type": "bar",
           "x": [
            "Independent Movies"
           ],
           "xaxis": "x",
           "y": {
            "bdata": "Ag==",
            "dtype": "i1"
           },
           "yaxis": "y"
          },
          {
           "hovertemplate": "Genre=%{x}<br>Tahun Rilis=1992<br>Jumlah Rilis=%{y}<extra></extra>",
           "ids": [
            "Romantic Movies"
           ],
           "legendgroup": "Romantic Movies",
           "marker": {
            "color": "#19d3f3",
            "pattern": {
             "shape": ""
            }
           },
           "name": "Romantic Movies",
           "orientation": "v",
           "showlegend": true,
           "textposition": "auto",
           "type": "bar",
           "x": [
            "Romantic Movies"
           ],
           "xaxis": "x",
           "y": {
            "bdata": "AQ==",
            "dtype": "i1"
           },
           "yaxis": "y"
          },
          {
           "hovertemplate": "Genre=%{x}<br>Tahun Rilis=1992<br>Jumlah Rilis=%{y}<extra></extra>",
           "ids": [
            "Thrillers"
           ],
           "legendgroup": "Thrillers",
           "marker": {
            "color": "#FF6692",
            "pattern": {
             "shape": ""
            }
           },
           "name": "Thrillers",
           "orientation": "v",
           "showlegend": true,
           "textposition": "auto",
           "type": "bar",
           "x": [
            "Thrillers"
           ],
           "xaxis": "x",
           "y": {
            "bdata": "Ag==",
            "dtype": "i1"
           },
           "yaxis": "y"
          },
          {
           "hovertemplate": "Genre=%{x}<br>Tahun Rilis=1992<br>Jumlah Rilis=%{y}<extra></extra>",
           "ids": [
            "Children & Family Movies"
           ],
           "legendgroup": "Children & Family Movies",
           "marker": {
            "color": "#B6E880",
            "pattern": {
             "shape": ""
            }
           },
           "name": "Children & Family Movies",
           "orientation": "v",
           "showlegend": true,
           "textposition": "auto",
           "type": "bar",
           "x": [
            "Children & Family Movies"
           ],
           "xaxis": "x",
           "y": {
            "bdata": "AQ==",
            "dtype": "i1"
           },
           "yaxis": "y"
          },
          {
           "hovertemplate": "Genre=%{x}<br>Tahun Rilis=1992<br>Jumlah Rilis=%{y}<extra></extra>",
           "ids": [
            "Documentaries"
           ],
           "legendgroup": "Documentaries",
           "marker": {
            "color": "#FF97FF",
            "pattern": {
             "shape": ""
            }
           },
           "name": "Documentaries",
           "orientation": "v",
           "showlegend": true,
           "textposition": "auto",
           "type": "bar",
           "x": [
            "Documentaries"
           ],
           "xaxis": "x",
           "y": {
            "bdata": "AA==",
            "dtype": "i1"
           },
           "yaxis": "y"
          },
          {
           "hovertemplate": "Genre=%{x}<br>Tahun Rilis=1992<br>Jumlah Rilis=%{y}<extra></extra>",
           "ids": [
            "Horror Movies"
           ],
           "legendgroup": "Horror Movies",
           "marker": {
            "color": "#FECB52",
            "pattern": {
             "shape": ""
            }
           },
           "name": "Horror Movies",
           "orientation": "v",
           "showlegend": true,
           "textposition": "auto",
           "type": "bar",
           "x": [
            "Horror Movies"
           ],
           "xaxis": "x",
           "y": {
            "bdata": "AQ==",
            "dtype": "i1"
           },
           "yaxis": "y"
          }
         ],
         "name": "1992"
        },
        {
         "data": [
          {
           "hovertemplate": "Genre=%{x}<br>Tahun Rilis=1993<br>Jumlah Rilis=%{y}<extra></extra>",
           "ids": [
            "International Movies"
           ],
           "legendgroup": "International Movies",
           "marker": {
            "color": "#636efa",
            "pattern": {
             "shape": ""
            }
           },
           "name": "International Movies",
           "orientation": "v",
           "showlegend": true,
           "textposition": "auto",
           "type": "bar",
           "x": [
            "International Movies"
           ],
           "xaxis": "x",
           "y": {
            "bdata": "CA==",
            "dtype": "i1"
           },
           "yaxis": "y"
          },
          {
           "hovertemplate": "Genre=%{x}<br>Tahun Rilis=1993<br>Jumlah Rilis=%{y}<extra></extra>",
           "ids": [
            "Dramas"
           ],
           "legendgroup": "Dramas",
           "marker": {
            "color": "#EF553B",
            "pattern": {
             "shape": ""
            }
           },
           "name": "Dramas",
           "orientation": "v",
           "showlegend": true,
           "textposition": "auto",
           "type": "bar",
           "x": [
            "Dramas"
           ],
           "xaxis": "x",
           "y": {
            "bdata": "Dw==",
            "dtype": "i1"
           },
           "yaxis": "y"
          },
          {
           "hovertemplate": "Genre=%{x}<br>Tahun Rilis=1993<br>Jumlah Rilis=%{y}<extra></extra>",
           "ids": [
            "Comedies"
           ],
           "legendgroup": "Comedies",
           "marker": {
            "color": "#00cc96",
            "pattern": {
             "shape": ""
            }
           },
           "name": "Comedies",
           "orientation": "v",
           "showlegend": true,
           "textposition": "auto",
           "type": "bar",
           "x": [
            "Comedies"
           ],
           "xaxis": "x",
           "y": {
            "bdata": "Aw==",
            "dtype": "i1"
           },
           "yaxis": "y"
          },
          {
           "hovertemplate": "Genre=%{x}<br>Tahun Rilis=1993<br>Jumlah Rilis=%{y}<extra></extra>",
           "ids": [
            "Action & Adventure"
           ],
           "legendgroup": "Action & Adventure",
           "marker": {
            "color": "#ab63fa",
            "pattern": {
             "shape": ""
            }
           },
           "name": "Action & Adventure",
           "orientation": "v",
           "showlegend": true,
           "textposition": "auto",
           "type": "bar",
           "x": [
            "Action & Adventure"
           ],
           "xaxis": "x",
           "y": {
            "bdata": "BQ==",
            "dtype": "i1"
           },
           "yaxis": "y"
          },
          {
           "hovertemplate": "Genre=%{x}<br>Tahun Rilis=1993<br>Jumlah Rilis=%{y}<extra></extra>",
           "ids": [
            "Independent Movies"
           ],
           "legendgroup": "Independent Movies",
           "marker": {
            "color": "#FFA15A",
            "pattern": {
             "shape": ""
            }
           },
           "name": "Independent Movies",
           "orientation": "v",
           "showlegend": true,
           "textposition": "auto",
           "type": "bar",
           "x": [
            "Independent Movies"
           ],
           "xaxis": "x",
           "y": {
            "bdata": "Aw==",
            "dtype": "i1"
           },
           "yaxis": "y"
          },
          {
           "hovertemplate": "Genre=%{x}<br>Tahun Rilis=1993<br>Jumlah Rilis=%{y}<extra></extra>",
           "ids": [
            "Romantic Movies"
           ],
           "legendgroup": "Romantic Movies",
           "marker": {
            "color": "#19d3f3",
            "pattern": {
             "shape": ""
            }
           },
           "name": "Romantic Movies",
           "orientation": "v",
           "showlegend": true,
           "textposition": "auto",
           "type": "bar",
           "x": [
            "Romantic Movies"
           ],
           "xaxis": "x",
           "y": {
            "bdata": "AQ==",
            "dtype": "i1"
           },
           "yaxis": "y"
          },
          {
           "hovertemplate": "Genre=%{x}<br>Tahun Rilis=1993<br>Jumlah Rilis=%{y}<extra></extra>",
           "ids": [
            "Thrillers"
           ],
           "legendgroup": "Thrillers",
           "marker": {
            "color": "#FF6692",
            "pattern": {
             "shape": ""
            }
           },
           "name": "Thrillers",
           "orientation": "v",
           "showlegend": true,
           "textposition": "auto",
           "type": "bar",
           "x": [
            "Thrillers"
           ],
           "xaxis": "x",
           "y": {
            "bdata": "Ag==",
            "dtype": "i1"
           },
           "yaxis": "y"
          },
          {
           "hovertemplate": "Genre=%{x}<br>Tahun Rilis=1993<br>Jumlah Rilis=%{y}<extra></extra>",
           "ids": [
            "Children & Family Movies"
           ],
           "legendgroup": "Children & Family Movies",
           "marker": {
            "color": "#B6E880",
            "pattern": {
             "shape": ""
            }
           },
           "name": "Children & Family Movies",
           "orientation": "v",
           "showlegend": true,
           "textposition": "auto",
           "type": "bar",
           "x": [
            "Children & Family Movies"
           ],
           "xaxis": "x",
           "y": {
            "bdata": "BA==",
            "dtype": "i1"
           },
           "yaxis": "y"
          },
          {
           "hovertemplate": "Genre=%{x}<br>Tahun Rilis=1993<br>Jumlah Rilis=%{y}<extra></extra>",
           "ids": [
            "Documentaries"
           ],
           "legendgroup": "Documentaries",
           "marker": {
            "color": "#FF97FF",
            "pattern": {
             "shape": ""
            }
           },
           "name": "Documentaries",
           "orientation": "v",
           "showlegend": true,
           "textposition": "auto",
           "type": "bar",
           "x": [
            "Documentaries"
           ],
           "xaxis": "x",
           "y": {
            "bdata": "AA==",
            "dtype": "i1"
           },
           "yaxis": "y"
          },
          {
           "hovertemplate": "Genre=%{x}<br>Tahun Rilis=1993<br>Jumlah Rilis=%{y}<extra></extra>",
           "ids": [
            "Horror Movies"
           ],
           "legendgroup": "Horror Movies",
           "marker": {
            "color": "#FECB52",
            "pattern": {
             "shape": ""
            }
           },
           "name": "Horror Movies",
           "orientation": "v",
           "showlegend": true,
           "textposition": "auto",
           "type": "bar",
           "x": [
            "Horror Movies"
           ],
           "xaxis": "x",
           "y": {
            "bdata": "AA==",
            "dtype": "i1"
           },
           "yaxis": "y"
          }
         ],
         "name": "1993"
        },
        {
         "data": [
          {
           "hovertemplate": "Genre=%{x}<br>Tahun Rilis=1994<br>Jumlah Rilis=%{y}<extra></extra>",
           "ids": [
            "International Movies"
           ],
           "legendgroup": "International Movies",
           "marker": {
            "color": "#636efa",
            "pattern": {
             "shape": ""
            }
           },
           "name": "International Movies",
           "orientation": "v",
           "showlegend": true,
           "textposition": "auto",
           "type": "bar",
           "x": [
            "International Movies"
           ],
           "xaxis": "x",
           "y": {
            "bdata": "Bw==",
            "dtype": "i1"
           },
           "yaxis": "y"
          },
          {
           "hovertemplate": "Genre=%{x}<br>Tahun Rilis=1994<br>Jumlah Rilis=%{y}<extra></extra>",
           "ids": [
            "Dramas"
           ],
           "legendgroup": "Dramas",
           "marker": {
            "color": "#EF553B",
            "pattern": {
             "shape": ""
            }
           },
           "name": "Dramas",
           "orientation": "v",
           "showlegend": true,
           "textposition": "auto",
           "type": "bar",
           "x": [
            "Dramas"
           ],
           "xaxis": "x",
           "y": {
            "bdata": "CQ==",
            "dtype": "i1"
           },
           "yaxis": "y"
          },
          {
           "hovertemplate": "Genre=%{x}<br>Tahun Rilis=1994<br>Jumlah Rilis=%{y}<extra></extra>",
           "ids": [
            "Comedies"
           ],
           "legendgroup": "Comedies",
           "marker": {
            "color": "#00cc96",
            "pattern": {
             "shape": ""
            }
           },
           "name": "Comedies",
           "orientation": "v",
           "showlegend": true,
           "textposition": "auto",
           "type": "bar",
           "x": [
            "Comedies"
           ],
           "xaxis": "x",
           "y": {
            "bdata": "Bw==",
            "dtype": "i1"
           },
           "yaxis": "y"
          },
          {
           "hovertemplate": "Genre=%{x}<br>Tahun Rilis=1994<br>Jumlah Rilis=%{y}<extra></extra>",
           "ids": [
            "Action & Adventure"
           ],
           "legendgroup": "Action & Adventure",
           "marker": {
            "color": "#ab63fa",
            "pattern": {
             "shape": ""
            }
           },
           "name": "Action & Adventure",
           "orientation": "v",
           "showlegend": true,
           "textposition": "auto",
           "type": "bar",
           "x": [
            "Action & Adventure"
           ],
           "xaxis": "x",
           "y": {
            "bdata": "CA==",
            "dtype": "i1"
           },
           "yaxis": "y"
          },
          {
           "hovertemplate": "Genre=%{x}<br>Tahun Rilis=1994<br>Jumlah Rilis=%{y}<extra></extra>",
           "ids": [
            "Independent Movies"
           ],
           "legendgroup": "Independent Movies",
           "marker": {
            "color": "#FFA15A",
            "pattern": {
             "shape": ""
            }
           },
           "name": "Independent Movies",
           "orientation": "v",
           "showlegend": true,
           "textposition": "auto",
           "type": "bar",
           "x": [
            "Independent Movies"
           ],
           "xaxis": "x",
           "y": {
            "bdata": "AA==",
            "dtype": "i1"
           },
           "yaxis": "y"
          },
          {
           "hovertemplate": "Genre=%{x}<br>Tahun Rilis=1994<br>Jumlah Rilis=%{y}<extra></extra>",
           "ids": [
            "Romantic Movies"
           ],
           "legendgroup": "Romantic Movies",
           "marker": {
            "color": "#19d3f3",
            "pattern": {
             "shape": ""
            }
           },
           "name": "Romantic Movies",
           "orientation": "v",
           "showlegend": true,
           "textposition": "auto",
           "type": "bar",
           "x": [
            "Romantic Movies"
           ],
           "xaxis": "x",
           "y": {
            "bdata": "AA==",
            "dtype": "i1"
           },
           "yaxis": "y"
          },
          {
           "hovertemplate": "Genre=%{x}<br>Tahun Rilis=1994<br>Jumlah Rilis=%{y}<extra></extra>",
           "ids": [
            "Thrillers"
           ],
           "legendgroup": "Thrillers",
           "marker": {
            "color": "#FF6692",
            "pattern": {
             "shape": ""
            }
           },
           "name": "Thrillers",
           "orientation": "v",
           "showlegend": true,
           "textposition": "auto",
           "type": "bar",
           "x": [
            "Thrillers"
           ],
           "xaxis": "x",
           "y": {
            "bdata": "AQ==",
            "dtype": "i1"
           },
           "yaxis": "y"
          },
          {
           "hovertemplate": "Genre=%{x}<br>Tahun Rilis=1994<br>Jumlah Rilis=%{y}<extra></extra>",
           "ids": [
            "Children & Family Movies"
           ],
           "legendgroup": "Children & Family Movies",
           "marker": {
            "color": "#B6E880",
            "pattern": {
             "shape": ""
            }
           },
           "name": "Children & Family Movies",
           "orientation": "v",
           "showlegend": true,
           "textposition": "auto",
           "type": "bar",
           "x": [
            "Children & Family Movies"
           ],
           "xaxis": "x",
           "y": {
            "bdata": "Ag==",
            "dtype": "i1"
           },
           "yaxis": "y"
          },
          {
           "hovertemplate": "Genre=%{x}<br>Tahun Rilis=1994<br>Jumlah Rilis=%{y}<extra></extra>",
           "ids": [
            "Documentaries"
           ],
           "legendgroup": "Documentaries",
           "marker": {
            "color": "#FF97FF",
            "pattern": {
             "shape": ""
            }
           },
           "name": "Documentaries",
           "orientation": "v",
           "showlegend": true,
           "textposition": "auto",
           "type": "bar",
           "x": [
            "Documentaries"
           ],
           "xaxis": "x",
           "y": {
            "bdata": "AQ==",
            "dtype": "i1"
           },
           "yaxis": "y"
          },
          {
           "hovertemplate": "Genre=%{x}<br>Tahun Rilis=1994<br>Jumlah Rilis=%{y}<extra></extra>",
           "ids": [
            "Horror Movies"
           ],
           "legendgroup": "Horror Movies",
           "marker": {
            "color": "#FECB52",
            "pattern": {
             "shape": ""
            }
           },
           "name": "Horror Movies",
           "orientation": "v",
           "showlegend": true,
           "textposition": "auto",
           "type": "bar",
           "x": [
            "Horror Movies"
           ],
           "xaxis": "x",
           "y": {
            "bdata": "AA==",
            "dtype": "i1"
           },
           "yaxis": "y"
          }
         ],
         "name": "1994"
        },
        {
         "data": [
          {
           "hovertemplate": "Genre=%{x}<br>Tahun Rilis=1995<br>Jumlah Rilis=%{y}<extra></extra>",
           "ids": [
            "International Movies"
           ],
           "legendgroup": "International Movies",
           "marker": {
            "color": "#636efa",
            "pattern": {
             "shape": ""
            }
           },
           "name": "International Movies",
           "orientation": "v",
           "showlegend": true,
           "textposition": "auto",
           "type": "bar",
           "x": [
            "International Movies"
           ],
           "xaxis": "x",
           "y": {
            "bdata": "Bw==",
            "dtype": "i1"
           },
           "yaxis": "y"
          },
          {
           "hovertemplate": "Genre=%{x}<br>Tahun Rilis=1995<br>Jumlah Rilis=%{y}<extra></extra>",
           "ids": [
            "Dramas"
           ],
           "legendgroup": "Dramas",
           "marker": {
            "color": "#EF553B",
            "pattern": {
             "shape": ""
            }
           },
           "name": "Dramas",
           "orientation": "v",
           "showlegend": true,
           "textposition": "auto",
           "type": "bar",
           "x": [
            "Dramas"
           ],
           "xaxis": "x",
           "y": {
            "bdata": "Cg==",
            "dtype": "i1"
           },
           "yaxis": "y"
          },
          {
           "hovertemplate": "Genre=%{x}<br>Tahun Rilis=1995<br>Jumlah Rilis=%{y}<extra></extra>",
           "ids": [
            "Comedies"
           ],
           "legendgroup": "Comedies",
           "marker": {
            "color": "#00cc96",
            "pattern": {
             "shape": ""
            }
           },
           "name": "Comedies",
           "orientation": "v",
           "showlegend": true,
           "textposition": "auto",
           "type": "bar",
           "x": [
            "Comedies"
           ],
           "xaxis": "x",
           "y": {
            "bdata": "CA==",
            "dtype": "i1"
           },
           "yaxis": "y"
          },
          {
           "hovertemplate": "Genre=%{x}<br>Tahun Rilis=1995<br>Jumlah Rilis=%{y}<extra></extra>",
           "ids": [
            "Action & Adventure"
           ],
           "legendgroup": "Action & Adventure",
           "marker": {
            "color": "#ab63fa",
            "pattern": {
             "shape": ""
            }
           },
           "name": "Action & Adventure",
           "orientation": "v",
           "showlegend": true,
           "textposition": "auto",
           "type": "bar",
           "x": [
            "Action & Adventure"
           ],
           "xaxis": "x",
           "y": {
            "bdata": "CA==",
            "dtype": "i1"
           },
           "yaxis": "y"
          },
          {
           "hovertemplate": "Genre=%{x}<br>Tahun Rilis=1995<br>Jumlah Rilis=%{y}<extra></extra>",
           "ids": [
            "Independent Movies"
           ],
           "legendgroup": "Independent Movies",
           "marker": {
            "color": "#FFA15A",
            "pattern": {
             "shape": ""
            }
           },
           "name": "Independent Movies",
           "orientation": "v",
           "showlegend": true,
           "textposition": "auto",
           "type": "bar",
           "x": [
            "Independent Movies"
           ],
           "xaxis": "x",
           "y": {
            "bdata": "Ag==",
            "dtype": "i1"
           },
           "yaxis": "y"
          },
          {
           "hovertemplate": "Genre=%{x}<br>Tahun Rilis=1995<br>Jumlah Rilis=%{y}<extra></extra>",
           "ids": [
            "Romantic Movies"
           ],
           "legendgroup": "Romantic Movies",
           "marker": {
            "color": "#19d3f3",
            "pattern": {
             "shape": ""
            }
           },
           "name": "Romantic Movies",
           "orientation": "v",
           "showlegend": true,
           "textposition": "auto",
           "type": "bar",
           "x": [
            "Romantic Movies"
           ],
           "xaxis": "x",
           "y": {
            "bdata": "BQ==",
            "dtype": "i1"
           },
           "yaxis": "y"
          },
          {
           "hovertemplate": "Genre=%{x}<br>Tahun Rilis=1995<br>Jumlah Rilis=%{y}<extra></extra>",
           "ids": [
            "Thrillers"
           ],
           "legendgroup": "Thrillers",
           "marker": {
            "color": "#FF6692",
            "pattern": {
             "shape": ""
            }
           },
           "name": "Thrillers",
           "orientation": "v",
           "showlegend": true,
           "textposition": "auto",
           "type": "bar",
           "x": [
            "Thrillers"
           ],
           "xaxis": "x",
           "y": {
            "bdata": "Ag==",
            "dtype": "i1"
           },
           "yaxis": "y"
          },
          {
           "hovertemplate": "Genre=%{x}<br>Tahun Rilis=1995<br>Jumlah Rilis=%{y}<extra></extra>",
           "ids": [
            "Children & Family Movies"
           ],
           "legendgroup": "Children & Family Movies",
           "marker": {
            "color": "#B6E880",
            "pattern": {
             "shape": ""
            }
           },
           "name": "Children & Family Movies",
           "orientation": "v",
           "showlegend": true,
           "textposition": "auto",
           "type": "bar",
           "x": [
            "Children & Family Movies"
           ],
           "xaxis": "x",
           "y": {
            "bdata": "Aw==",
            "dtype": "i1"
           },
           "yaxis": "y"
          },
          {
           "hovertemplate": "Genre=%{x}<br>Tahun Rilis=1995<br>Jumlah Rilis=%{y}<extra></extra>",
           "ids": [
            "Documentaries"
           ],
           "legendgroup": "Documentaries",
           "marker": {
            "color": "#FF97FF",
            "pattern": {
             "shape": ""
            }
           },
           "name": "Documentaries",
           "orientation": "v",
           "showlegend": true,
           "textposition": "auto",
           "type": "bar",
           "x": [
            "Documentaries"
           ],
           "xaxis": "x",
           "y": {
            "bdata": "AA==",
            "dtype": "i1"
           },
           "yaxis": "y"
          },
          {
           "hovertemplate": "Genre=%{x}<br>Tahun Rilis=1995<br>Jumlah Rilis=%{y}<extra></extra>",
           "ids": [
            "Horror Movies"
           ],
           "legendgroup": "Horror Movies",
           "marker": {
            "color": "#FECB52",
            "pattern": {
             "shape": ""
            }
           },
           "name": "Horror Movies",
           "orientation": "v",
           "showlegend": true,
           "textposition": "auto",
           "type": "bar",
           "x": [
            "Horror Movies"
           ],
           "xaxis": "x",
           "y": {
            "bdata": "AA==",
            "dtype": "i1"
           },
           "yaxis": "y"
          }
         ],
         "name": "1995"
        },
        {
         "data": [
          {
           "hovertemplate": "Genre=%{x}<br>Tahun Rilis=1996<br>Jumlah Rilis=%{y}<extra></extra>",
           "ids": [
            "International Movies"
           ],
           "legendgroup": "International Movies",
           "marker": {
            "color": "#636efa",
            "pattern": {
             "shape": ""
            }
           },
           "name": "International Movies",
           "orientation": "v",
           "showlegend": true,
           "textposition": "auto",
           "type": "bar",
           "x": [
            "International Movies"
           ],
           "xaxis": "x",
           "y": {
            "bdata": "Aw==",
            "dtype": "i1"
           },
           "yaxis": "y"
          },
          {
           "hovertemplate": "Genre=%{x}<br>Tahun Rilis=1996<br>Jumlah Rilis=%{y}<extra></extra>",
           "ids": [
            "Dramas"
           ],
           "legendgroup": "Dramas",
           "marker": {
            "color": "#EF553B",
            "pattern": {
             "shape": ""
            }
           },
           "name": "Dramas",
           "orientation": "v",
           "showlegend": true,
           "textposition": "auto",
           "type": "bar",
           "x": [
            "Dramas"
           ],
           "xaxis": "x",
           "y": {
            "bdata": "CA==",
            "dtype": "i1"
           },
           "yaxis": "y"
          },
          {
           "hovertemplate": "Genre=%{x}<br>Tahun Rilis=1996<br>Jumlah Rilis=%{y}<extra></extra>",
           "ids": [
            "Comedies"
           ],
           "legendgroup": "Comedies",
           "marker": {
            "color": "#00cc96",
            "pattern": {
             "shape": ""
            }
           },
           "name": "Comedies",
           "orientation": "v",
           "showlegend": true,
           "textposition": "auto",
           "type": "bar",
           "x": [
            "Comedies"
           ],
           "xaxis": "x",
           "y": {
            "bdata": "Cg==",
            "dtype": "i1"
           },
           "yaxis": "y"
          },
          {
           "hovertemplate": "Genre=%{x}<br>Tahun Rilis=1996<br>Jumlah Rilis=%{y}<extra></extra>",
           "ids": [
            "Action & Adventure"
           ],
           "legendgroup": "Action & Adventure",
           "marker": {
            "color": "#ab63fa",
            "pattern": {
             "shape": ""
            }
           },
           "name": "Action & Adventure",
           "orientation": "v",
           "showlegend": true,
           "textposition": "auto",
           "type": "bar",
           "x": [
            "Action & Adventure"
           ],
           "xaxis": "x",
           "y": {
            "bdata": "Aw==",
            "dtype": "i1"
           },
           "yaxis": "y"
          },
          {
           "hovertemplate": "Genre=%{x}<br>Tahun Rilis=1996<br>Jumlah Rilis=%{y}<extra></extra>",
           "ids": [
            "Independent Movies"
           ],
           "legendgroup": "Independent Movies",
           "marker": {
            "color": "#FFA15A",
            "pattern": {
             "shape": ""
            }
           },
           "name": "Independent Movies",
           "orientation": "v",
           "showlegend": true,
           "textposition": "auto",
           "type": "bar",
           "x": [
            "Independent Movies"
           ],
           "xaxis": "x",
           "y": {
            "bdata": "AQ==",
            "dtype": "i1"
           },
           "yaxis": "y"
          },
          {
           "hovertemplate": "Genre=%{x}<br>Tahun Rilis=1996<br>Jumlah Rilis=%{y}<extra></extra>",
           "ids": [
            "Romantic Movies"
           ],
           "legendgroup": "Romantic Movies",
           "marker": {
            "color": "#19d3f3",
            "pattern": {
             "shape": ""
            }
           },
           "name": "Romantic Movies",
           "orientation": "v",
           "showlegend": true,
           "textposition": "auto",
           "type": "bar",
           "x": [
            "Romantic Movies"
           ],
           "xaxis": "x",
           "y": {
            "bdata": "BQ==",
            "dtype": "i1"
           },
           "yaxis": "y"
          },
          {
           "hovertemplate": "Genre=%{x}<br>Tahun Rilis=1996<br>Jumlah Rilis=%{y}<extra></extra>",
           "ids": [
            "Thrillers"
           ],
           "legendgroup": "Thrillers",
           "marker": {
            "color": "#FF6692",
            "pattern": {
             "shape": ""
            }
           },
           "name": "Thrillers",
           "orientation": "v",
           "showlegend": true,
           "textposition": "auto",
           "type": "bar",
           "x": [
            "Thrillers"
           ],
           "xaxis": "x",
           "y": {
            "bdata": "Aw==",
            "dtype": "i1"
           },
           "yaxis": "y"
          },
          {
           "hovertemplate": "Genre=%{x}<br>Tahun Rilis=1996<br>Jumlah Rilis=%{y}<extra></extra>",
           "ids": [
            "Children & Family Movies"
           ],
           "legendgroup": "Children & Family Movies",
           "marker": {
            "color": "#B6E880",
            "pattern": {
             "shape": ""
            }
           },
           "name": "Children & Family Movies",
           "orientation": "v",
           "showlegend": true,
           "textposition": "auto",
           "type": "bar",
           "x": [
            "Children & Family Movies"
           ],
           "xaxis": "x",
           "y": {
            "bdata": "AA==",
            "dtype": "i1"
           },
           "yaxis": "y"
          },
          {
           "hovertemplate": "Genre=%{x}<br>Tahun Rilis=1996<br>Jumlah Rilis=%{y}<extra></extra>",
           "ids": [
            "Documentaries"
           ],
           "legendgroup": "Documentaries",
           "marker": {
            "color": "#FF97FF",
            "pattern": {
             "shape": ""
            }
           },
           "name": "Documentaries",
           "orientation": "v",
           "showlegend": true,
           "textposition": "auto",
           "type": "bar",
           "x": [
            "Documentaries"
           ],
           "xaxis": "x",
           "y": {
            "bdata": "AA==",
            "dtype": "i1"
           },
           "yaxis": "y"
          },
          {
           "hovertemplate": "Genre=%{x}<br>Tahun Rilis=1996<br>Jumlah Rilis=%{y}<extra></extra>",
           "ids": [
            "Horror Movies"
           ],
           "legendgroup": "Horror Movies",
           "marker": {
            "color": "#FECB52",
            "pattern": {
             "shape": ""
            }
           },
           "name": "Horror Movies",
           "orientation": "v",
           "showlegend": true,
           "textposition": "auto",
           "type": "bar",
           "x": [
            "Horror Movies"
           ],
           "xaxis": "x",
           "y": {
            "bdata": "AQ==",
            "dtype": "i1"
           },
           "yaxis": "y"
          }
         ],
         "name": "1996"
        },
        {
         "data": [
          {
           "hovertemplate": "Genre=%{x}<br>Tahun Rilis=1997<br>Jumlah Rilis=%{y}<extra></extra>",
           "ids": [
            "International Movies"
           ],
           "legendgroup": "International Movies",
           "marker": {
            "color": "#636efa",
            "pattern": {
             "shape": ""
            }
           },
           "name": "International Movies",
           "orientation": "v",
           "showlegend": true,
           "textposition": "auto",
           "type": "bar",
           "x": [
            "International Movies"
           ],
           "xaxis": "x",
           "y": {
            "bdata": "CA==",
            "dtype": "i1"
           },
           "yaxis": "y"
          },
          {
           "hovertemplate": "Genre=%{x}<br>Tahun Rilis=1997<br>Jumlah Rilis=%{y}<extra></extra>",
           "ids": [
            "Dramas"
           ],
           "legendgroup": "Dramas",
           "marker": {
            "color": "#EF553B",
            "pattern": {
             "shape": ""
            }
           },
           "name": "Dramas",
           "orientation": "v",
           "showlegend": true,
           "textposition": "auto",
           "type": "bar",
           "x": [
            "Dramas"
           ],
           "xaxis": "x",
           "y": {
            "bdata": "Cw==",
            "dtype": "i1"
           },
           "yaxis": "y"
          },
          {
           "hovertemplate": "Genre=%{x}<br>Tahun Rilis=1997<br>Jumlah Rilis=%{y}<extra></extra>",
           "ids": [
            "Comedies"
           ],
           "legendgroup": "Comedies",
           "marker": {
            "color": "#00cc96",
            "pattern": {
             "shape": ""
            }
           },
           "name": "Comedies",
           "orientation": "v",
           "showlegend": true,
           "textposition": "auto",
           "type": "bar",
           "x": [
            "Comedies"
           ],
           "xaxis": "x",
           "y": {
            "bdata": "DQ==",
            "dtype": "i1"
           },
           "yaxis": "y"
          },
          {
           "hovertemplate": "Genre=%{x}<br>Tahun Rilis=1997<br>Jumlah Rilis=%{y}<extra></extra>",
           "ids": [
            "Action & Adventure"
           ],
           "legendgroup": "Action & Adventure",
           "marker": {
            "color": "#ab63fa",
            "pattern": {
             "shape": ""
            }
           },
           "name": "Action & Adventure",
           "orientation": "v",
           "showlegend": true,
           "textposition": "auto",
           "type": "bar",
           "x": [
            "Action & Adventure"
           ],
           "xaxis": "x",
           "y": {
            "bdata": "Cw==",
            "dtype": "i1"
           },
           "yaxis": "y"
          },
          {
           "hovertemplate": "Genre=%{x}<br>Tahun Rilis=1997<br>Jumlah Rilis=%{y}<extra></extra>",
           "ids": [
            "Independent Movies"
           ],
           "legendgroup": "Independent Movies",
           "marker": {
            "color": "#FFA15A",
            "pattern": {
             "shape": ""
            }
           },
           "name": "Independent Movies",
           "orientation": "v",
           "showlegend": true,
           "textposition": "auto",
           "type": "bar",
           "x": [
            "Independent Movies"
           ],
           "xaxis": "x",
           "y": {
            "bdata": "Ag==",
            "dtype": "i1"
           },
           "yaxis": "y"
          },
          {
           "hovertemplate": "Genre=%{x}<br>Tahun Rilis=1997<br>Jumlah Rilis=%{y}<extra></extra>",
           "ids": [
            "Romantic Movies"
           ],
           "legendgroup": "Romantic Movies",
           "marker": {
            "color": "#19d3f3",
            "pattern": {
             "shape": ""
            }
           },
           "name": "Romantic Movies",
           "orientation": "v",
           "showlegend": true,
           "textposition": "auto",
           "type": "bar",
           "x": [
            "Romantic Movies"
           ],
           "xaxis": "x",
           "y": {
            "bdata": "BQ==",
            "dtype": "i1"
           },
           "yaxis": "y"
          },
          {
           "hovertemplate": "Genre=%{x}<br>Tahun Rilis=1997<br>Jumlah Rilis=%{y}<extra></extra>",
           "ids": [
            "Thrillers"
           ],
           "legendgroup": "Thrillers",
           "marker": {
            "color": "#FF6692",
            "pattern": {
             "shape": ""
            }
           },
           "name": "Thrillers",
           "orientation": "v",
           "showlegend": true,
           "textposition": "auto",
           "type": "bar",
           "x": [
            "Thrillers"
           ],
           "xaxis": "x",
           "y": {
            "bdata": "BQ==",
            "dtype": "i1"
           },
           "yaxis": "y"
          },
          {
           "hovertemplate": "Genre=%{x}<br>Tahun Rilis=1997<br>Jumlah Rilis=%{y}<extra></extra>",
           "ids": [
            "Children & Family Movies"
           ],
           "legendgroup": "Children & Family Movies",
           "marker": {
            "color": "#B6E880",
            "pattern": {
             "shape": ""
            }
           },
           "name": "Children & Family Movies",
           "orientation": "v",
           "showlegend": true,
           "textposition": "auto",
           "type": "bar",
           "x": [
            "Children & Family Movies"
           ],
           "xaxis": "x",
           "y": {
            "bdata": "AQ==",
            "dtype": "i1"
           },
           "yaxis": "y"
          },
          {
           "hovertemplate": "Genre=%{x}<br>Tahun Rilis=1997<br>Jumlah Rilis=%{y}<extra></extra>",
           "ids": [
            "Documentaries"
           ],
           "legendgroup": "Documentaries",
           "marker": {
            "color": "#FF97FF",
            "pattern": {
             "shape": ""
            }
           },
           "name": "Documentaries",
           "orientation": "v",
           "showlegend": true,
           "textposition": "auto",
           "type": "bar",
           "x": [
            "Documentaries"
           ],
           "xaxis": "x",
           "y": {
            "bdata": "AQ==",
            "dtype": "i1"
           },
           "yaxis": "y"
          },
          {
           "hovertemplate": "Genre=%{x}<br>Tahun Rilis=1997<br>Jumlah Rilis=%{y}<extra></extra>",
           "ids": [
            "Horror Movies"
           ],
           "legendgroup": "Horror Movies",
           "marker": {
            "color": "#FECB52",
            "pattern": {
             "shape": ""
            }
           },
           "name": "Horror Movies",
           "orientation": "v",
           "showlegend": true,
           "textposition": "auto",
           "type": "bar",
           "x": [
            "Horror Movies"
           ],
           "xaxis": "x",
           "y": {
            "bdata": "Ag==",
            "dtype": "i1"
           },
           "yaxis": "y"
          }
         ],
         "name": "1997"
        },
        {
         "data": [
          {
           "hovertemplate": "Genre=%{x}<br>Tahun Rilis=1998<br>Jumlah Rilis=%{y}<extra></extra>",
           "ids": [
            "International Movies"
           ],
           "legendgroup": "International Movies",
           "marker": {
            "color": "#636efa",
            "pattern": {
             "shape": ""
            }
           },
           "name": "International Movies",
           "orientation": "v",
           "showlegend": true,
           "textposition": "auto",
           "type": "bar",
           "x": [
            "International Movies"
           ],
           "xaxis": "x",
           "y": {
            "bdata": "CA==",
            "dtype": "i1"
           },
           "yaxis": "y"
          },
          {
           "hovertemplate": "Genre=%{x}<br>Tahun Rilis=1998<br>Jumlah Rilis=%{y}<extra></extra>",
           "ids": [
            "Dramas"
           ],
           "legendgroup": "Dramas",
           "marker": {
            "color": "#EF553B",
            "pattern": {
             "shape": ""
            }
           },
           "name": "Dramas",
           "orientation": "v",
           "showlegend": true,
           "textposition": "auto",
           "type": "bar",
           "x": [
            "Dramas"
           ],
           "xaxis": "x",
           "y": {
            "bdata": "Dg==",
            "dtype": "i1"
           },
           "yaxis": "y"
          },
          {
           "hovertemplate": "Genre=%{x}<br>Tahun Rilis=1998<br>Jumlah Rilis=%{y}<extra></extra>",
           "ids": [
            "Comedies"
           ],
           "legendgroup": "Comedies",
           "marker": {
            "color": "#00cc96",
            "pattern": {
             "shape": ""
            }
           },
           "name": "Comedies",
           "orientation": "v",
           "showlegend": true,
           "textposition": "auto",
           "type": "bar",
           "x": [
            "Comedies"
           ],
           "xaxis": "x",
           "y": {
            "bdata": "Dw==",
            "dtype": "i1"
           },
           "yaxis": "y"
          },
          {
           "hovertemplate": "Genre=%{x}<br>Tahun Rilis=1998<br>Jumlah Rilis=%{y}<extra></extra>",
           "ids": [
            "Action & Adventure"
           ],
           "legendgroup": "Action & Adventure",
           "marker": {
            "color": "#ab63fa",
            "pattern": {
             "shape": ""
            }
           },
           "name": "Action & Adventure",
           "orientation": "v",
           "showlegend": true,
           "textposition": "auto",
           "type": "bar",
           "x": [
            "Action & Adventure"
           ],
           "xaxis": "x",
           "y": {
            "bdata": "BQ==",
            "dtype": "i1"
           },
           "yaxis": "y"
          },
          {
           "hovertemplate": "Genre=%{x}<br>Tahun Rilis=1998<br>Jumlah Rilis=%{y}<extra></extra>",
           "ids": [
            "Independent Movies"
           ],
           "legendgroup": "Independent Movies",
           "marker": {
            "color": "#FFA15A",
            "pattern": {
             "shape": ""
            }
           },
           "name": "Independent Movies",
           "orientation": "v",
           "showlegend": true,
           "textposition": "auto",
           "type": "bar",
           "x": [
            "Independent Movies"
           ],
           "xaxis": "x",
           "y": {
            "bdata": "BA==",
            "dtype": "i1"
           },
           "yaxis": "y"
          },
          {
           "hovertemplate": "Genre=%{x}<br>Tahun Rilis=1998<br>Jumlah Rilis=%{y}<extra></extra>",
           "ids": [
            "Romantic Movies"
           ],
           "legendgroup": "Romantic Movies",
           "marker": {
            "color": "#19d3f3",
            "pattern": {
             "shape": ""
            }
           },
           "name": "Romantic Movies",
           "orientation": "v",
           "showlegend": true,
           "textposition": "auto",
           "type": "bar",
           "x": [
            "Romantic Movies"
           ],
           "xaxis": "x",
           "y": {
            "bdata": "Bg==",
            "dtype": "i1"
           },
           "yaxis": "y"
          },
          {
           "hovertemplate": "Genre=%{x}<br>Tahun Rilis=1998<br>Jumlah Rilis=%{y}<extra></extra>",
           "ids": [
            "Thrillers"
           ],
           "legendgroup": "Thrillers",
           "marker": {
            "color": "#FF6692",
            "pattern": {
             "shape": ""
            }
           },
           "name": "Thrillers",
           "orientation": "v",
           "showlegend": true,
           "textposition": "auto",
           "type": "bar",
           "x": [
            "Thrillers"
           ],
           "xaxis": "x",
           "y": {
            "bdata": "Ag==",
            "dtype": "i1"
           },
           "yaxis": "y"
          },
          {
           "hovertemplate": "Genre=%{x}<br>Tahun Rilis=1998<br>Jumlah Rilis=%{y}<extra></extra>",
           "ids": [
            "Children & Family Movies"
           ],
           "legendgroup": "Children & Family Movies",
           "marker": {
            "color": "#B6E880",
            "pattern": {
             "shape": ""
            }
           },
           "name": "Children & Family Movies",
           "orientation": "v",
           "showlegend": true,
           "textposition": "auto",
           "type": "bar",
           "x": [
            "Children & Family Movies"
           ],
           "xaxis": "x",
           "y": {
            "bdata": "Ag==",
            "dtype": "i1"
           },
           "yaxis": "y"
          },
          {
           "hovertemplate": "Genre=%{x}<br>Tahun Rilis=1998<br>Jumlah Rilis=%{y}<extra></extra>",
           "ids": [
            "Documentaries"
           ],
           "legendgroup": "Documentaries",
           "marker": {
            "color": "#FF97FF",
            "pattern": {
             "shape": ""
            }
           },
           "name": "Documentaries",
           "orientation": "v",
           "showlegend": true,
           "textposition": "auto",
           "type": "bar",
           "x": [
            "Documentaries"
           ],
           "xaxis": "x",
           "y": {
            "bdata": "AQ==",
            "dtype": "i1"
           },
           "yaxis": "y"
          },
          {
           "hovertemplate": "Genre=%{x}<br>Tahun Rilis=1998<br>Jumlah Rilis=%{y}<extra></extra>",
           "ids": [
            "Horror Movies"
           ],
           "legendgroup": "Horror Movies",
           "marker": {
            "color": "#FECB52",
            "pattern": {
             "shape": ""
            }
           },
           "name": "Horror Movies",
           "orientation": "v",
           "showlegend": true,
           "textposition": "auto",
           "type": "bar",
           "x": [
            "Horror Movies"
           ],
           "xaxis": "x",
           "y": {
            "bdata": "AA==",
            "dtype": "i1"
           },
           "yaxis": "y"
          }
         ],
         "name": "1998"
        },
        {
         "data": [
          {
           "hovertemplate": "Genre=%{x}<br>Tahun Rilis=1999<br>Jumlah Rilis=%{y}<extra></extra>",
           "ids": [
            "International Movies"
           ],
           "legendgroup": "International Movies",
           "marker": {
            "color": "#636efa",
            "pattern": {
             "shape": ""
            }
           },
           "name": "International Movies",
           "orientation": "v",
           "showlegend": true,
           "textposition": "auto",
           "type": "bar",
           "x": [
            "International Movies"
           ],
           "xaxis": "x",
           "y": {
            "bdata": "Cw==",
            "dtype": "i1"
           },
           "yaxis": "y"
          },
          {
           "hovertemplate": "Genre=%{x}<br>Tahun Rilis=1999<br>Jumlah Rilis=%{y}<extra></extra>",
           "ids": [
            "Dramas"
           ],
           "legendgroup": "Dramas",
           "marker": {
            "color": "#EF553B",
            "pattern": {
             "shape": ""
            }
           },
           "name": "Dramas",
           "orientation": "v",
           "showlegend": true,
           "textposition": "auto",
           "type": "bar",
           "x": [
            "Dramas"
           ],
           "xaxis": "x",
           "y": {
            "bdata": "DQ==",
            "dtype": "i1"
           },
           "yaxis": "y"
          },
          {
           "hovertemplate": "Genre=%{x}<br>Tahun Rilis=1999<br>Jumlah Rilis=%{y}<extra></extra>",
           "ids": [
            "Comedies"
           ],
           "legendgroup": "Comedies",
           "marker": {
            "color": "#00cc96",
            "pattern": {
             "shape": ""
            }
           },
           "name": "Comedies",
           "orientation": "v",
           "showlegend": true,
           "textposition": "auto",
           "type": "bar",
           "x": [
            "Comedies"
           ],
           "xaxis": "x",
           "y": {
            "bdata": "DA==",
            "dtype": "i1"
           },
           "yaxis": "y"
          },
          {
           "hovertemplate": "Genre=%{x}<br>Tahun Rilis=1999<br>Jumlah Rilis=%{y}<extra></extra>",
           "ids": [
            "Action & Adventure"
           ],
           "legendgroup": "Action & Adventure",
           "marker": {
            "color": "#ab63fa",
            "pattern": {
             "shape": ""
            }
           },
           "name": "Action & Adventure",
           "orientation": "v",
           "showlegend": true,
           "textposition": "auto",
           "type": "bar",
           "x": [
            "Action & Adventure"
           ],
           "xaxis": "x",
           "y": {
            "bdata": "Cg==",
            "dtype": "i1"
           },
           "yaxis": "y"
          },
          {
           "hovertemplate": "Genre=%{x}<br>Tahun Rilis=1999<br>Jumlah Rilis=%{y}<extra></extra>",
           "ids": [
            "Independent Movies"
           ],
           "legendgroup": "Independent Movies",
           "marker": {
            "color": "#FFA15A",
            "pattern": {
             "shape": ""
            }
           },
           "name": "Independent Movies",
           "orientation": "v",
           "showlegend": true,
           "textposition": "auto",
           "type": "bar",
           "x": [
            "Independent Movies"
           ],
           "xaxis": "x",
           "y": {
            "bdata": "AQ==",
            "dtype": "i1"
           },
           "yaxis": "y"
          },
          {
           "hovertemplate": "Genre=%{x}<br>Tahun Rilis=1999<br>Jumlah Rilis=%{y}<extra></extra>",
           "ids": [
            "Romantic Movies"
           ],
           "legendgroup": "Romantic Movies",
           "marker": {
            "color": "#19d3f3",
            "pattern": {
             "shape": ""
            }
           },
           "name": "Romantic Movies",
           "orientation": "v",
           "showlegend": true,
           "textposition": "auto",
           "type": "bar",
           "x": [
            "Romantic Movies"
           ],
           "xaxis": "x",
           "y": {
            "bdata": "BA==",
            "dtype": "i1"
           },
           "yaxis": "y"
          },
          {
           "hovertemplate": "Genre=%{x}<br>Tahun Rilis=1999<br>Jumlah Rilis=%{y}<extra></extra>",
           "ids": [
            "Thrillers"
           ],
           "legendgroup": "Thrillers",
           "marker": {
            "color": "#FF6692",
            "pattern": {
             "shape": ""
            }
           },
           "name": "Thrillers",
           "orientation": "v",
           "showlegend": true,
           "textposition": "auto",
           "type": "bar",
           "x": [
            "Thrillers"
           ],
           "xaxis": "x",
           "y": {
            "bdata": "Aw==",
            "dtype": "i1"
           },
           "yaxis": "y"
          },
          {
           "hovertemplate": "Genre=%{x}<br>Tahun Rilis=1999<br>Jumlah Rilis=%{y}<extra></extra>",
           "ids": [
            "Children & Family Movies"
           ],
           "legendgroup": "Children & Family Movies",
           "marker": {
            "color": "#B6E880",
            "pattern": {
             "shape": ""
            }
           },
           "name": "Children & Family Movies",
           "orientation": "v",
           "showlegend": true,
           "textposition": "auto",
           "type": "bar",
           "x": [
            "Children & Family Movies"
           ],
           "xaxis": "x",
           "y": {
            "bdata": "Aw==",
            "dtype": "i1"
           },
           "yaxis": "y"
          },
          {
           "hovertemplate": "Genre=%{x}<br>Tahun Rilis=1999<br>Jumlah Rilis=%{y}<extra></extra>",
           "ids": [
            "Documentaries"
           ],
           "legendgroup": "Documentaries",
           "marker": {
            "color": "#FF97FF",
            "pattern": {
             "shape": ""
            }
           },
           "name": "Documentaries",
           "orientation": "v",
           "showlegend": true,
           "textposition": "auto",
           "type": "bar",
           "x": [
            "Documentaries"
           ],
           "xaxis": "x",
           "y": {
            "bdata": "AA==",
            "dtype": "i1"
           },
           "yaxis": "y"
          },
          {
           "hovertemplate": "Genre=%{x}<br>Tahun Rilis=1999<br>Jumlah Rilis=%{y}<extra></extra>",
           "ids": [
            "Horror Movies"
           ],
           "legendgroup": "Horror Movies",
           "marker": {
            "color": "#FECB52",
            "pattern": {
             "shape": ""
            }
           },
           "name": "Horror Movies",
           "orientation": "v",
           "showlegend": true,
           "textposition": "auto",
           "type": "bar",
           "x": [
            "Horror Movies"
           ],
           "xaxis": "x",
           "y": {
            "bdata": "Ag==",
            "dtype": "i1"
           },
           "yaxis": "y"
          }
         ],
         "name": "1999"
        },
        {
         "data": [
          {
           "hovertemplate": "Genre=%{x}<br>Tahun Rilis=2000<br>Jumlah Rilis=%{y}<extra></extra>",
           "ids": [
            "International Movies"
           ],
           "legendgroup": "International Movies",
           "marker": {
            "color": "#636efa",
            "pattern": {
             "shape": ""
            }
           },
           "name": "International Movies",
           "orientation": "v",
           "showlegend": true,
           "textposition": "auto",
           "type": "bar",
           "x": [
            "International Movies"
           ],
           "xaxis": "x",
           "y": {
            "bdata": "CQ==",
            "dtype": "i1"
           },
           "yaxis": "y"
          },
          {
           "hovertemplate": "Genre=%{x}<br>Tahun Rilis=2000<br>Jumlah Rilis=%{y}<extra></extra>",
           "ids": [
            "Dramas"
           ],
           "legendgroup": "Dramas",
           "marker": {
            "color": "#EF553B",
            "pattern": {
             "shape": ""
            }
           },
           "name": "Dramas",
           "orientation": "v",
           "showlegend": true,
           "textposition": "auto",
           "type": "bar",
           "x": [
            "Dramas"
           ],
           "xaxis": "x",
           "y": {
            "bdata": "DQ==",
            "dtype": "i1"
           },
           "yaxis": "y"
          },
          {
           "hovertemplate": "Genre=%{x}<br>Tahun Rilis=2000<br>Jumlah Rilis=%{y}<extra></extra>",
           "ids": [
            "Comedies"
           ],
           "legendgroup": "Comedies",
           "marker": {
            "color": "#00cc96",
            "pattern": {
             "shape": ""
            }
           },
           "name": "Comedies",
           "orientation": "v",
           "showlegend": true,
           "textposition": "auto",
           "type": "bar",
           "x": [
            "Comedies"
           ],
           "xaxis": "x",
           "y": {
            "bdata": "Dw==",
            "dtype": "i1"
           },
           "yaxis": "y"
          },
          {
           "hovertemplate": "Genre=%{x}<br>Tahun Rilis=2000<br>Jumlah Rilis=%{y}<extra></extra>",
           "ids": [
            "Action & Adventure"
           ],
           "legendgroup": "Action & Adventure",
           "marker": {
            "color": "#ab63fa",
            "pattern": {
             "shape": ""
            }
           },
           "name": "Action & Adventure",
           "orientation": "v",
           "showlegend": true,
           "textposition": "auto",
           "type": "bar",
           "x": [
            "Action & Adventure"
           ],
           "xaxis": "x",
           "y": {
            "bdata": "CQ==",
            "dtype": "i1"
           },
           "yaxis": "y"
          },
          {
           "hovertemplate": "Genre=%{x}<br>Tahun Rilis=2000<br>Jumlah Rilis=%{y}<extra></extra>",
           "ids": [
            "Independent Movies"
           ],
           "legendgroup": "Independent Movies",
           "marker": {
            "color": "#FFA15A",
            "pattern": {
             "shape": ""
            }
           },
           "name": "Independent Movies",
           "orientation": "v",
           "showlegend": true,
           "textposition": "auto",
           "type": "bar",
           "x": [
            "Independent Movies"
           ],
           "xaxis": "x",
           "y": {
            "bdata": "AQ==",
            "dtype": "i1"
           },
           "yaxis": "y"
          },
          {
           "hovertemplate": "Genre=%{x}<br>Tahun Rilis=2000<br>Jumlah Rilis=%{y}<extra></extra>",
           "ids": [
            "Romantic Movies"
           ],
           "legendgroup": "Romantic Movies",
           "marker": {
            "color": "#19d3f3",
            "pattern": {
             "shape": ""
            }
           },
           "name": "Romantic Movies",
           "orientation": "v",
           "showlegend": true,
           "textposition": "auto",
           "type": "bar",
           "x": [
            "Romantic Movies"
           ],
           "xaxis": "x",
           "y": {
            "bdata": "BA==",
            "dtype": "i1"
           },
           "yaxis": "y"
          },
          {
           "hovertemplate": "Genre=%{x}<br>Tahun Rilis=2000<br>Jumlah Rilis=%{y}<extra></extra>",
           "ids": [
            "Thrillers"
           ],
           "legendgroup": "Thrillers",
           "marker": {
            "color": "#FF6692",
            "pattern": {
             "shape": ""
            }
           },
           "name": "Thrillers",
           "orientation": "v",
           "showlegend": true,
           "textposition": "auto",
           "type": "bar",
           "x": [
            "Thrillers"
           ],
           "xaxis": "x",
           "y": {
            "bdata": "Ag==",
            "dtype": "i1"
           },
           "yaxis": "y"
          },
          {
           "hovertemplate": "Genre=%{x}<br>Tahun Rilis=2000<br>Jumlah Rilis=%{y}<extra></extra>",
           "ids": [
            "Children & Family Movies"
           ],
           "legendgroup": "Children & Family Movies",
           "marker": {
            "color": "#B6E880",
            "pattern": {
             "shape": ""
            }
           },
           "name": "Children & Family Movies",
           "orientation": "v",
           "showlegend": true,
           "textposition": "auto",
           "type": "bar",
           "x": [
            "Children & Family Movies"
           ],
           "xaxis": "x",
           "y": {
            "bdata": "Bg==",
            "dtype": "i1"
           },
           "yaxis": "y"
          },
          {
           "hovertemplate": "Genre=%{x}<br>Tahun Rilis=2000<br>Jumlah Rilis=%{y}<extra></extra>",
           "ids": [
            "Documentaries"
           ],
           "legendgroup": "Documentaries",
           "marker": {
            "color": "#FF97FF",
            "pattern": {
             "shape": ""
            }
           },
           "name": "Documentaries",
           "orientation": "v",
           "showlegend": true,
           "textposition": "auto",
           "type": "bar",
           "x": [
            "Documentaries"
           ],
           "xaxis": "x",
           "y": {
            "bdata": "AQ==",
            "dtype": "i1"
           },
           "yaxis": "y"
          },
          {
           "hovertemplate": "Genre=%{x}<br>Tahun Rilis=2000<br>Jumlah Rilis=%{y}<extra></extra>",
           "ids": [
            "Horror Movies"
           ],
           "legendgroup": "Horror Movies",
           "marker": {
            "color": "#FECB52",
            "pattern": {
             "shape": ""
            }
           },
           "name": "Horror Movies",
           "orientation": "v",
           "showlegend": true,
           "textposition": "auto",
           "type": "bar",
           "x": [
            "Horror Movies"
           ],
           "xaxis": "x",
           "y": {
            "bdata": "BA==",
            "dtype": "i1"
           },
           "yaxis": "y"
          }
         ],
         "name": "2000"
        },
        {
         "data": [
          {
           "hovertemplate": "Genre=%{x}<br>Tahun Rilis=2001<br>Jumlah Rilis=%{y}<extra></extra>",
           "ids": [
            "International Movies"
           ],
           "legendgroup": "International Movies",
           "marker": {
            "color": "#636efa",
            "pattern": {
             "shape": ""
            }
           },
           "name": "International Movies",
           "orientation": "v",
           "showlegend": true,
           "textposition": "auto",
           "type": "bar",
           "x": [
            "International Movies"
           ],
           "xaxis": "x",
           "y": {
            "bdata": "DA==",
            "dtype": "i1"
           },
           "yaxis": "y"
          },
          {
           "hovertemplate": "Genre=%{x}<br>Tahun Rilis=2001<br>Jumlah Rilis=%{y}<extra></extra>",
           "ids": [
            "Dramas"
           ],
           "legendgroup": "Dramas",
           "marker": {
            "color": "#EF553B",
            "pattern": {
             "shape": ""
            }
           },
           "name": "Dramas",
           "orientation": "v",
           "showlegend": true,
           "textposition": "auto",
           "type": "bar",
           "x": [
            "Dramas"
           ],
           "xaxis": "x",
           "y": {
            "bdata": "EQ==",
            "dtype": "i1"
           },
           "yaxis": "y"
          },
          {
           "hovertemplate": "Genre=%{x}<br>Tahun Rilis=2001<br>Jumlah Rilis=%{y}<extra></extra>",
           "ids": [
            "Comedies"
           ],
           "legendgroup": "Comedies",
           "marker": {
            "color": "#00cc96",
            "pattern": {
             "shape": ""
            }
           },
           "name": "Comedies",
           "orientation": "v",
           "showlegend": true,
           "textposition": "auto",
           "type": "bar",
           "x": [
            "Comedies"
           ],
           "xaxis": "x",
           "y": {
            "bdata": "FA==",
            "dtype": "i1"
           },
           "yaxis": "y"
          },
          {
           "hovertemplate": "Genre=%{x}<br>Tahun Rilis=2001<br>Jumlah Rilis=%{y}<extra></extra>",
           "ids": [
            "Action & Adventure"
           ],
           "legendgroup": "Action & Adventure",
           "marker": {
            "color": "#ab63fa",
            "pattern": {
             "shape": ""
            }
           },
           "name": "Action & Adventure",
           "orientation": "v",
           "showlegend": true,
           "textposition": "auto",
           "type": "bar",
           "x": [
            "Action & Adventure"
           ],
           "xaxis": "x",
           "y": {
            "bdata": "Cw==",
            "dtype": "i1"
           },
           "yaxis": "y"
          },
          {
           "hovertemplate": "Genre=%{x}<br>Tahun Rilis=2001<br>Jumlah Rilis=%{y}<extra></extra>",
           "ids": [
            "Independent Movies"
           ],
           "legendgroup": "Independent Movies",
           "marker": {
            "color": "#FFA15A",
            "pattern": {
             "shape": ""
            }
           },
           "name": "Independent Movies",
           "orientation": "v",
           "showlegend": true,
           "textposition": "auto",
           "type": "bar",
           "x": [
            "Independent Movies"
           ],
           "xaxis": "x",
           "y": {
            "bdata": "AQ==",
            "dtype": "i1"
           },
           "yaxis": "y"
          },
          {
           "hovertemplate": "Genre=%{x}<br>Tahun Rilis=2001<br>Jumlah Rilis=%{y}<extra></extra>",
           "ids": [
            "Romantic Movies"
           ],
           "legendgroup": "Romantic Movies",
           "marker": {
            "color": "#19d3f3",
            "pattern": {
             "shape": ""
            }
           },
           "name": "Romantic Movies",
           "orientation": "v",
           "showlegend": true,
           "textposition": "auto",
           "type": "bar",
           "x": [
            "Romantic Movies"
           ],
           "xaxis": "x",
           "y": {
            "bdata": "Bg==",
            "dtype": "i1"
           },
           "yaxis": "y"
          },
          {
           "hovertemplate": "Genre=%{x}<br>Tahun Rilis=2001<br>Jumlah Rilis=%{y}<extra></extra>",
           "ids": [
            "Thrillers"
           ],
           "legendgroup": "Thrillers",
           "marker": {
            "color": "#FF6692",
            "pattern": {
             "shape": ""
            }
           },
           "name": "Thrillers",
           "orientation": "v",
           "showlegend": true,
           "textposition": "auto",
           "type": "bar",
           "x": [
            "Thrillers"
           ],
           "xaxis": "x",
           "y": {
            "bdata": "BA==",
            "dtype": "i1"
           },
           "yaxis": "y"
          },
          {
           "hovertemplate": "Genre=%{x}<br>Tahun Rilis=2001<br>Jumlah Rilis=%{y}<extra></extra>",
           "ids": [
            "Children & Family Movies"
           ],
           "legendgroup": "Children & Family Movies",
           "marker": {
            "color": "#B6E880",
            "pattern": {
             "shape": ""
            }
           },
           "name": "Children & Family Movies",
           "orientation": "v",
           "showlegend": true,
           "textposition": "auto",
           "type": "bar",
           "x": [
            "Children & Family Movies"
           ],
           "xaxis": "x",
           "y": {
            "bdata": "BA==",
            "dtype": "i1"
           },
           "yaxis": "y"
          },
          {
           "hovertemplate": "Genre=%{x}<br>Tahun Rilis=2001<br>Jumlah Rilis=%{y}<extra></extra>",
           "ids": [
            "Documentaries"
           ],
           "legendgroup": "Documentaries",
           "marker": {
            "color": "#FF97FF",
            "pattern": {
             "shape": ""
            }
           },
           "name": "Documentaries",
           "orientation": "v",
           "showlegend": true,
           "textposition": "auto",
           "type": "bar",
           "x": [
            "Documentaries"
           ],
           "xaxis": "x",
           "y": {
            "bdata": "AA==",
            "dtype": "i1"
           },
           "yaxis": "y"
          },
          {
           "hovertemplate": "Genre=%{x}<br>Tahun Rilis=2001<br>Jumlah Rilis=%{y}<extra></extra>",
           "ids": [
            "Horror Movies"
           ],
           "legendgroup": "Horror Movies",
           "marker": {
            "color": "#FECB52",
            "pattern": {
             "shape": ""
            }
           },
           "name": "Horror Movies",
           "orientation": "v",
           "showlegend": true,
           "textposition": "auto",
           "type": "bar",
           "x": [
            "Horror Movies"
           ],
           "xaxis": "x",
           "y": {
            "bdata": "AQ==",
            "dtype": "i1"
           },
           "yaxis": "y"
          }
         ],
         "name": "2001"
        },
        {
         "data": [
          {
           "hovertemplate": "Genre=%{x}<br>Tahun Rilis=2002<br>Jumlah Rilis=%{y}<extra></extra>",
           "ids": [
            "International Movies"
           ],
           "legendgroup": "International Movies",
           "marker": {
            "color": "#636efa",
            "pattern": {
             "shape": ""
            }
           },
           "name": "International Movies",
           "orientation": "v",
           "showlegend": true,
           "textposition": "auto",
           "type": "bar",
           "x": [
            "International Movies"
           ],
           "xaxis": "x",
           "y": {
            "bdata": "Eg==",
            "dtype": "i1"
           },
           "yaxis": "y"
          },
          {
           "hovertemplate": "Genre=%{x}<br>Tahun Rilis=2002<br>Jumlah Rilis=%{y}<extra></extra>",
           "ids": [
            "Dramas"
           ],
           "legendgroup": "Dramas",
           "marker": {
            "color": "#EF553B",
            "pattern": {
             "shape": ""
            }
           },
           "name": "Dramas",
           "orientation": "v",
           "showlegend": true,
           "textposition": "auto",
           "type": "bar",
           "x": [
            "Dramas"
           ],
           "xaxis": "x",
           "y": {
            "bdata": "FQ==",
            "dtype": "i1"
           },
           "yaxis": "y"
          },
          {
           "hovertemplate": "Genre=%{x}<br>Tahun Rilis=2002<br>Jumlah Rilis=%{y}<extra></extra>",
           "ids": [
            "Comedies"
           ],
           "legendgroup": "Comedies",
           "marker": {
            "color": "#00cc96",
            "pattern": {
             "shape": ""
            }
           },
           "name": "Comedies",
           "orientation": "v",
           "showlegend": true,
           "textposition": "auto",
           "type": "bar",
           "x": [
            "Comedies"
           ],
           "xaxis": "x",
           "y": {
            "bdata": "Cw==",
            "dtype": "i1"
           },
           "yaxis": "y"
          },
          {
           "hovertemplate": "Genre=%{x}<br>Tahun Rilis=2002<br>Jumlah Rilis=%{y}<extra></extra>",
           "ids": [
            "Action & Adventure"
           ],
           "legendgroup": "Action & Adventure",
           "marker": {
            "color": "#ab63fa",
            "pattern": {
             "shape": ""
            }
           },
           "name": "Action & Adventure",
           "orientation": "v",
           "showlegend": true,
           "textposition": "auto",
           "type": "bar",
           "x": [
            "Action & Adventure"
           ],
           "xaxis": "x",
           "y": {
            "bdata": "Dw==",
            "dtype": "i1"
           },
           "yaxis": "y"
          },
          {
           "hovertemplate": "Genre=%{x}<br>Tahun Rilis=2002<br>Jumlah Rilis=%{y}<extra></extra>",
           "ids": [
            "Independent Movies"
           ],
           "legendgroup": "Independent Movies",
           "marker": {
            "color": "#FFA15A",
            "pattern": {
             "shape": ""
            }
           },
           "name": "Independent Movies",
           "orientation": "v",
           "showlegend": true,
           "textposition": "auto",
           "type": "bar",
           "x": [
            "Independent Movies"
           ],
           "xaxis": "x",
           "y": {
            "bdata": "BA==",
            "dtype": "i1"
           },
           "yaxis": "y"
          },
          {
           "hovertemplate": "Genre=%{x}<br>Tahun Rilis=2002<br>Jumlah Rilis=%{y}<extra></extra>",
           "ids": [
            "Romantic Movies"
           ],
           "legendgroup": "Romantic Movies",
           "marker": {
            "color": "#19d3f3",
            "pattern": {
             "shape": ""
            }
           },
           "name": "Romantic Movies",
           "orientation": "v",
           "showlegend": true,
           "textposition": "auto",
           "type": "bar",
           "x": [
            "Romantic Movies"
           ],
           "xaxis": "x",
           "y": {
            "bdata": "BQ==",
            "dtype": "i1"
           },
           "yaxis": "y"
          },
          {
           "hovertemplate": "Genre=%{x}<br>Tahun Rilis=2002<br>Jumlah Rilis=%{y}<extra></extra>",
           "ids": [
            "Thrillers"
           ],
           "legendgroup": "Thrillers",
           "marker": {
            "color": "#FF6692",
            "pattern": {
             "shape": ""
            }
           },
           "name": "Thrillers",
           "orientation": "v",
           "showlegend": true,
           "textposition": "auto",
           "type": "bar",
           "x": [
            "Thrillers"
           ],
           "xaxis": "x",
           "y": {
            "bdata": "BA==",
            "dtype": "i1"
           },
           "yaxis": "y"
          },
          {
           "hovertemplate": "Genre=%{x}<br>Tahun Rilis=2002<br>Jumlah Rilis=%{y}<extra></extra>",
           "ids": [
            "Children & Family Movies"
           ],
           "legendgroup": "Children & Family Movies",
           "marker": {
            "color": "#B6E880",
            "pattern": {
             "shape": ""
            }
           },
           "name": "Children & Family Movies",
           "orientation": "v",
           "showlegend": true,
           "textposition": "auto",
           "type": "bar",
           "x": [
            "Children & Family Movies"
           ],
           "xaxis": "x",
           "y": {
            "bdata": "Aw==",
            "dtype": "i1"
           },
           "yaxis": "y"
          },
          {
           "hovertemplate": "Genre=%{x}<br>Tahun Rilis=2002<br>Jumlah Rilis=%{y}<extra></extra>",
           "ids": [
            "Documentaries"
           ],
           "legendgroup": "Documentaries",
           "marker": {
            "color": "#FF97FF",
            "pattern": {
             "shape": ""
            }
           },
           "name": "Documentaries",
           "orientation": "v",
           "showlegend": true,
           "textposition": "auto",
           "type": "bar",
           "x": [
            "Documentaries"
           ],
           "xaxis": "x",
           "y": {
            "bdata": "Aw==",
            "dtype": "i1"
           },
           "yaxis": "y"
          },
          {
           "hovertemplate": "Genre=%{x}<br>Tahun Rilis=2002<br>Jumlah Rilis=%{y}<extra></extra>",
           "ids": [
            "Horror Movies"
           ],
           "legendgroup": "Horror Movies",
           "marker": {
            "color": "#FECB52",
            "pattern": {
             "shape": ""
            }
           },
           "name": "Horror Movies",
           "orientation": "v",
           "showlegend": true,
           "textposition": "auto",
           "type": "bar",
           "x": [
            "Horror Movies"
           ],
           "xaxis": "x",
           "y": {
            "bdata": "AQ==",
            "dtype": "i1"
           },
           "yaxis": "y"
          }
         ],
         "name": "2002"
        },
        {
         "data": [
          {
           "hovertemplate": "Genre=%{x}<br>Tahun Rilis=2003<br>Jumlah Rilis=%{y}<extra></extra>",
           "ids": [
            "International Movies"
           ],
           "legendgroup": "International Movies",
           "marker": {
            "color": "#636efa",
            "pattern": {
             "shape": ""
            }
           },
           "name": "International Movies",
           "orientation": "v",
           "showlegend": true,
           "textposition": "auto",
           "type": "bar",
           "x": [
            "International Movies"
           ],
           "xaxis": "x",
           "y": {
            "bdata": "Eg==",
            "dtype": "i1"
           },
           "yaxis": "y"
          },
          {
           "hovertemplate": "Genre=%{x}<br>Tahun Rilis=2003<br>Jumlah Rilis=%{y}<extra></extra>",
           "ids": [
            "Dramas"
           ],
           "legendgroup": "Dramas",
           "marker": {
            "color": "#EF553B",
            "pattern": {
             "shape": ""
            }
           },
           "name": "Dramas",
           "orientation": "v",
           "showlegend": true,
           "textposition": "auto",
           "type": "bar",
           "x": [
            "Dramas"
           ],
           "xaxis": "x",
           "y": {
            "bdata": "EQ==",
            "dtype": "i1"
           },
           "yaxis": "y"
          },
          {
           "hovertemplate": "Genre=%{x}<br>Tahun Rilis=2003<br>Jumlah Rilis=%{y}<extra></extra>",
           "ids": [
            "Comedies"
           ],
           "legendgroup": "Comedies",
           "marker": {
            "color": "#00cc96",
            "pattern": {
             "shape": ""
            }
           },
           "name": "Comedies",
           "orientation": "v",
           "showlegend": true,
           "textposition": "auto",
           "type": "bar",
           "x": [
            "Comedies"
           ],
           "xaxis": "x",
           "y": {
            "bdata": "FQ==",
            "dtype": "i1"
           },
           "yaxis": "y"
          },
          {
           "hovertemplate": "Genre=%{x}<br>Tahun Rilis=2003<br>Jumlah Rilis=%{y}<extra></extra>",
           "ids": [
            "Action & Adventure"
           ],
           "legendgroup": "Action & Adventure",
           "marker": {
            "color": "#ab63fa",
            "pattern": {
             "shape": ""
            }
           },
           "name": "Action & Adventure",
           "orientation": "v",
           "showlegend": true,
           "textposition": "auto",
           "type": "bar",
           "x": [
            "Action & Adventure"
           ],
           "xaxis": "x",
           "y": {
            "bdata": "Dw==",
            "dtype": "i1"
           },
           "yaxis": "y"
          },
          {
           "hovertemplate": "Genre=%{x}<br>Tahun Rilis=2003<br>Jumlah Rilis=%{y}<extra></extra>",
           "ids": [
            "Independent Movies"
           ],
           "legendgroup": "Independent Movies",
           "marker": {
            "color": "#FFA15A",
            "pattern": {
             "shape": ""
            }
           },
           "name": "Independent Movies",
           "orientation": "v",
           "showlegend": true,
           "textposition": "auto",
           "type": "bar",
           "x": [
            "Independent Movies"
           ],
           "xaxis": "x",
           "y": {
            "bdata": "AQ==",
            "dtype": "i1"
           },
           "yaxis": "y"
          },
          {
           "hovertemplate": "Genre=%{x}<br>Tahun Rilis=2003<br>Jumlah Rilis=%{y}<extra></extra>",
           "ids": [
            "Romantic Movies"
           ],
           "legendgroup": "Romantic Movies",
           "marker": {
            "color": "#19d3f3",
            "pattern": {
             "shape": ""
            }
           },
           "name": "Romantic Movies",
           "orientation": "v",
           "showlegend": true,
           "textposition": "auto",
           "type": "bar",
           "x": [
            "Romantic Movies"
           ],
           "xaxis": "x",
           "y": {
            "bdata": "CA==",
            "dtype": "i1"
           },
           "yaxis": "y"
          },
          {
           "hovertemplate": "Genre=%{x}<br>Tahun Rilis=2003<br>Jumlah Rilis=%{y}<extra></extra>",
           "ids": [
            "Thrillers"
           ],
           "legendgroup": "Thrillers",
           "marker": {
            "color": "#FF6692",
            "pattern": {
             "shape": ""
            }
           },
           "name": "Thrillers",
           "orientation": "v",
           "showlegend": true,
           "textposition": "auto",
           "type": "bar",
           "x": [
            "Thrillers"
           ],
           "xaxis": "x",
           "y": {
            "bdata": "Bw==",
            "dtype": "i1"
           },
           "yaxis": "y"
          },
          {
           "hovertemplate": "Genre=%{x}<br>Tahun Rilis=2003<br>Jumlah Rilis=%{y}<extra></extra>",
           "ids": [
            "Children & Family Movies"
           ],
           "legendgroup": "Children & Family Movies",
           "marker": {
            "color": "#B6E880",
            "pattern": {
             "shape": ""
            }
           },
           "name": "Children & Family Movies",
           "orientation": "v",
           "showlegend": true,
           "textposition": "auto",
           "type": "bar",
           "x": [
            "Children & Family Movies"
           ],
           "xaxis": "x",
           "y": {
            "bdata": "Bg==",
            "dtype": "i1"
           },
           "yaxis": "y"
          },
          {
           "hovertemplate": "Genre=%{x}<br>Tahun Rilis=2003<br>Jumlah Rilis=%{y}<extra></extra>",
           "ids": [
            "Documentaries"
           ],
           "legendgroup": "Documentaries",
           "marker": {
            "color": "#FF97FF",
            "pattern": {
             "shape": ""
            }
           },
           "name": "Documentaries",
           "orientation": "v",
           "showlegend": true,
           "textposition": "auto",
           "type": "bar",
           "x": [
            "Documentaries"
           ],
           "xaxis": "x",
           "y": {
            "bdata": "AA==",
            "dtype": "i1"
           },
           "yaxis": "y"
          },
          {
           "hovertemplate": "Genre=%{x}<br>Tahun Rilis=2003<br>Jumlah Rilis=%{y}<extra></extra>",
           "ids": [
            "Horror Movies"
           ],
           "legendgroup": "Horror Movies",
           "marker": {
            "color": "#FECB52",
            "pattern": {
             "shape": ""
            }
           },
           "name": "Horror Movies",
           "orientation": "v",
           "showlegend": true,
           "textposition": "auto",
           "type": "bar",
           "x": [
            "Horror Movies"
           ],
           "xaxis": "x",
           "y": {
            "bdata": "BQ==",
            "dtype": "i1"
           },
           "yaxis": "y"
          }
         ],
         "name": "2003"
        },
        {
         "data": [
          {
           "hovertemplate": "Genre=%{x}<br>Tahun Rilis=2004<br>Jumlah Rilis=%{y}<extra></extra>",
           "ids": [
            "International Movies"
           ],
           "legendgroup": "International Movies",
           "marker": {
            "color": "#636efa",
            "pattern": {
             "shape": ""
            }
           },
           "name": "International Movies",
           "orientation": "v",
           "showlegend": true,
           "textposition": "auto",
           "type": "bar",
           "x": [
            "International Movies"
           ],
           "xaxis": "x",
           "y": {
            "bdata": "HA==",
            "dtype": "i1"
           },
           "yaxis": "y"
          },
          {
           "hovertemplate": "Genre=%{x}<br>Tahun Rilis=2004<br>Jumlah Rilis=%{y}<extra></extra>",
           "ids": [
            "Dramas"
           ],
           "legendgroup": "Dramas",
           "marker": {
            "color": "#EF553B",
            "pattern": {
             "shape": ""
            }
           },
           "name": "Dramas",
           "orientation": "v",
           "showlegend": true,
           "textposition": "auto",
           "type": "bar",
           "x": [
            "Dramas"
           ],
           "xaxis": "x",
           "y": {
            "bdata": "Ew==",
            "dtype": "i1"
           },
           "yaxis": "y"
          },
          {
           "hovertemplate": "Genre=%{x}<br>Tahun Rilis=2004<br>Jumlah Rilis=%{y}<extra></extra>",
           "ids": [
            "Comedies"
           ],
           "legendgroup": "Comedies",
           "marker": {
            "color": "#00cc96",
            "pattern": {
             "shape": ""
            }
           },
           "name": "Comedies",
           "orientation": "v",
           "showlegend": true,
           "textposition": "auto",
           "type": "bar",
           "x": [
            "Comedies"
           ],
           "xaxis": "x",
           "y": {
            "bdata": "FQ==",
            "dtype": "i1"
           },
           "yaxis": "y"
          },
          {
           "hovertemplate": "Genre=%{x}<br>Tahun Rilis=2004<br>Jumlah Rilis=%{y}<extra></extra>",
           "ids": [
            "Action & Adventure"
           ],
           "legendgroup": "Action & Adventure",
           "marker": {
            "color": "#ab63fa",
            "pattern": {
             "shape": ""
            }
           },
           "name": "Action & Adventure",
           "orientation": "v",
           "showlegend": true,
           "textposition": "auto",
           "type": "bar",
           "x": [
            "Action & Adventure"
           ],
           "xaxis": "x",
           "y": {
            "bdata": "EQ==",
            "dtype": "i1"
           },
           "yaxis": "y"
          },
          {
           "hovertemplate": "Genre=%{x}<br>Tahun Rilis=2004<br>Jumlah Rilis=%{y}<extra></extra>",
           "ids": [
            "Independent Movies"
           ],
           "legendgroup": "Independent Movies",
           "marker": {
            "color": "#FFA15A",
            "pattern": {
             "shape": ""
            }
           },
           "name": "Independent Movies",
           "orientation": "v",
           "showlegend": true,
           "textposition": "auto",
           "type": "bar",
           "x": [
            "Independent Movies"
           ],
           "xaxis": "x",
           "y": {
            "bdata": "BA==",
            "dtype": "i1"
           },
           "yaxis": "y"
          },
          {
           "hovertemplate": "Genre=%{x}<br>Tahun Rilis=2004<br>Jumlah Rilis=%{y}<extra></extra>",
           "ids": [
            "Romantic Movies"
           ],
           "legendgroup": "Romantic Movies",
           "marker": {
            "color": "#19d3f3",
            "pattern": {
             "shape": ""
            }
           },
           "name": "Romantic Movies",
           "orientation": "v",
           "showlegend": true,
           "textposition": "auto",
           "type": "bar",
           "x": [
            "Romantic Movies"
           ],
           "xaxis": "x",
           "y": {
            "bdata": "CA==",
            "dtype": "i1"
           },
           "yaxis": "y"
          },
          {
           "hovertemplate": "Genre=%{x}<br>Tahun Rilis=2004<br>Jumlah Rilis=%{y}<extra></extra>",
           "ids": [
            "Thrillers"
           ],
           "legendgroup": "Thrillers",
           "marker": {
            "color": "#FF6692",
            "pattern": {
             "shape": ""
            }
           },
           "name": "Thrillers",
           "orientation": "v",
           "showlegend": true,
           "textposition": "auto",
           "type": "bar",
           "x": [
            "Thrillers"
           ],
           "xaxis": "x",
           "y": {
            "bdata": "BA==",
            "dtype": "i1"
           },
           "yaxis": "y"
          },
          {
           "hovertemplate": "Genre=%{x}<br>Tahun Rilis=2004<br>Jumlah Rilis=%{y}<extra></extra>",
           "ids": [
            "Children & Family Movies"
           ],
           "legendgroup": "Children & Family Movies",
           "marker": {
            "color": "#B6E880",
            "pattern": {
             "shape": ""
            }
           },
           "name": "Children & Family Movies",
           "orientation": "v",
           "showlegend": true,
           "textposition": "auto",
           "type": "bar",
           "x": [
            "Children & Family Movies"
           ],
           "xaxis": "x",
           "y": {
            "bdata": "CQ==",
            "dtype": "i1"
           },
           "yaxis": "y"
          },
          {
           "hovertemplate": "Genre=%{x}<br>Tahun Rilis=2004<br>Jumlah Rilis=%{y}<extra></extra>",
           "ids": [
            "Documentaries"
           ],
           "legendgroup": "Documentaries",
           "marker": {
            "color": "#FF97FF",
            "pattern": {
             "shape": ""
            }
           },
           "name": "Documentaries",
           "orientation": "v",
           "showlegend": true,
           "textposition": "auto",
           "type": "bar",
           "x": [
            "Documentaries"
           ],
           "xaxis": "x",
           "y": {
            "bdata": "AQ==",
            "dtype": "i1"
           },
           "yaxis": "y"
          },
          {
           "hovertemplate": "Genre=%{x}<br>Tahun Rilis=2004<br>Jumlah Rilis=%{y}<extra></extra>",
           "ids": [
            "Horror Movies"
           ],
           "legendgroup": "Horror Movies",
           "marker": {
            "color": "#FECB52",
            "pattern": {
             "shape": ""
            }
           },
           "name": "Horror Movies",
           "orientation": "v",
           "showlegend": true,
           "textposition": "auto",
           "type": "bar",
           "x": [
            "Horror Movies"
           ],
           "xaxis": "x",
           "y": {
            "bdata": "Aw==",
            "dtype": "i1"
           },
           "yaxis": "y"
          }
         ],
         "name": "2004"
        },
        {
         "data": [
          {
           "hovertemplate": "Genre=%{x}<br>Tahun Rilis=2005<br>Jumlah Rilis=%{y}<extra></extra>",
           "ids": [
            "International Movies"
           ],
           "legendgroup": "International Movies",
           "marker": {
            "color": "#636efa",
            "pattern": {
             "shape": ""
            }
           },
           "name": "International Movies",
           "orientation": "v",
           "showlegend": true,
           "textposition": "auto",
           "type": "bar",
           "x": [
            "International Movies"
           ],
           "xaxis": "x",
           "y": {
            "bdata": "HA==",
            "dtype": "i1"
           },
           "yaxis": "y"
          },
          {
           "hovertemplate": "Genre=%{x}<br>Tahun Rilis=2005<br>Jumlah Rilis=%{y}<extra></extra>",
           "ids": [
            "Dramas"
           ],
           "legendgroup": "Dramas",
           "marker": {
            "color": "#EF553B",
            "pattern": {
             "shape": ""
            }
           },
           "name": "Dramas",
           "orientation": "v",
           "showlegend": true,
           "textposition": "auto",
           "type": "bar",
           "x": [
            "Dramas"
           ],
           "xaxis": "x",
           "y": {
            "bdata": "Gg==",
            "dtype": "i1"
           },
           "yaxis": "y"
          },
          {
           "hovertemplate": "Genre=%{x}<br>Tahun Rilis=2005<br>Jumlah Rilis=%{y}<extra></extra>",
           "ids": [
            "Comedies"
           ],
           "legendgroup": "Comedies",
           "marker": {
            "color": "#00cc96",
            "pattern": {
             "shape": ""
            }
           },
           "name": "Comedies",
           "orientation": "v",
           "showlegend": true,
           "textposition": "auto",
           "type": "bar",
           "x": [
            "Comedies"
           ],
           "xaxis": "x",
           "y": {
            "bdata": "GQ==",
            "dtype": "i1"
           },
           "yaxis": "y"
          },
          {
           "hovertemplate": "Genre=%{x}<br>Tahun Rilis=2005<br>Jumlah Rilis=%{y}<extra></extra>",
           "ids": [
            "Action & Adventure"
           ],
           "legendgroup": "Action & Adventure",
           "marker": {
            "color": "#ab63fa",
            "pattern": {
             "shape": ""
            }
           },
           "name": "Action & Adventure",
           "orientation": "v",
           "showlegend": true,
           "textposition": "auto",
           "type": "bar",
           "x": [
            "Action & Adventure"
           ],
           "xaxis": "x",
           "y": {
            "bdata": "DA==",
            "dtype": "i1"
           },
           "yaxis": "y"
          },
          {
           "hovertemplate": "Genre=%{x}<br>Tahun Rilis=2005<br>Jumlah Rilis=%{y}<extra></extra>",
           "ids": [
            "Independent Movies"
           ],
           "legendgroup": "Independent Movies",
           "marker": {
            "color": "#FFA15A",
            "pattern": {
             "shape": ""
            }
           },
           "name": "Independent Movies",
           "orientation": "v",
           "showlegend": true,
           "textposition": "auto",
           "type": "bar",
           "x": [
            "Independent Movies"
           ],
           "xaxis": "x",
           "y": {
            "bdata": "Bw==",
            "dtype": "i1"
           },
           "yaxis": "y"
          },
          {
           "hovertemplate": "Genre=%{x}<br>Tahun Rilis=2005<br>Jumlah Rilis=%{y}<extra></extra>",
           "ids": [
            "Romantic Movies"
           ],
           "legendgroup": "Romantic Movies",
           "marker": {
            "color": "#19d3f3",
            "pattern": {
             "shape": ""
            }
           },
           "name": "Romantic Movies",
           "orientation": "v",
           "showlegend": true,
           "textposition": "auto",
           "type": "bar",
           "x": [
            "Romantic Movies"
           ],
           "xaxis": "x",
           "y": {
            "bdata": "DQ==",
            "dtype": "i1"
           },
           "yaxis": "y"
          },
          {
           "hovertemplate": "Genre=%{x}<br>Tahun Rilis=2005<br>Jumlah Rilis=%{y}<extra></extra>",
           "ids": [
            "Thrillers"
           ],
           "legendgroup": "Thrillers",
           "marker": {
            "color": "#FF6692",
            "pattern": {
             "shape": ""
            }
           },
           "name": "Thrillers",
           "orientation": "v",
           "showlegend": true,
           "textposition": "auto",
           "type": "bar",
           "x": [
            "Thrillers"
           ],
           "xaxis": "x",
           "y": {
            "bdata": "BA==",
            "dtype": "i1"
           },
           "yaxis": "y"
          },
          {
           "hovertemplate": "Genre=%{x}<br>Tahun Rilis=2005<br>Jumlah Rilis=%{y}<extra></extra>",
           "ids": [
            "Children & Family Movies"
           ],
           "legendgroup": "Children & Family Movies",
           "marker": {
            "color": "#B6E880",
            "pattern": {
             "shape": ""
            }
           },
           "name": "Children & Family Movies",
           "orientation": "v",
           "showlegend": true,
           "textposition": "auto",
           "type": "bar",
           "x": [
            "Children & Family Movies"
           ],
           "xaxis": "x",
           "y": {
            "bdata": "Bw==",
            "dtype": "i1"
           },
           "yaxis": "y"
          },
          {
           "hovertemplate": "Genre=%{x}<br>Tahun Rilis=2005<br>Jumlah Rilis=%{y}<extra></extra>",
           "ids": [
            "Documentaries"
           ],
           "legendgroup": "Documentaries",
           "marker": {
            "color": "#FF97FF",
            "pattern": {
             "shape": ""
            }
           },
           "name": "Documentaries",
           "orientation": "v",
           "showlegend": true,
           "textposition": "auto",
           "type": "bar",
           "x": [
            "Documentaries"
           ],
           "xaxis": "x",
           "y": {
            "bdata": "Aw==",
            "dtype": "i1"
           },
           "yaxis": "y"
          },
          {
           "hovertemplate": "Genre=%{x}<br>Tahun Rilis=2005<br>Jumlah Rilis=%{y}<extra></extra>",
           "ids": [
            "Horror Movies"
           ],
           "legendgroup": "Horror Movies",
           "marker": {
            "color": "#FECB52",
            "pattern": {
             "shape": ""
            }
           },
           "name": "Horror Movies",
           "orientation": "v",
           "showlegend": true,
           "textposition": "auto",
           "type": "bar",
           "x": [
            "Horror Movies"
           ],
           "xaxis": "x",
           "y": {
            "bdata": "Aw==",
            "dtype": "i1"
           },
           "yaxis": "y"
          }
         ],
         "name": "2005"
        },
        {
         "data": [
          {
           "hovertemplate": "Genre=%{x}<br>Tahun Rilis=2006<br>Jumlah Rilis=%{y}<extra></extra>",
           "ids": [
            "International Movies"
           ],
           "legendgroup": "International Movies",
           "marker": {
            "color": "#636efa",
            "pattern": {
             "shape": ""
            }
           },
           "name": "International Movies",
           "orientation": "v",
           "showlegend": true,
           "textposition": "auto",
           "type": "bar",
           "x": [
            "International Movies"
           ],
           "xaxis": "x",
           "y": {
            "bdata": "KA==",
            "dtype": "i1"
           },
           "yaxis": "y"
          },
          {
           "hovertemplate": "Genre=%{x}<br>Tahun Rilis=2006<br>Jumlah Rilis=%{y}<extra></extra>",
           "ids": [
            "Dramas"
           ],
           "legendgroup": "Dramas",
           "marker": {
            "color": "#EF553B",
            "pattern": {
             "shape": ""
            }
           },
           "name": "Dramas",
           "orientation": "v",
           "showlegend": true,
           "textposition": "auto",
           "type": "bar",
           "x": [
            "Dramas"
           ],
           "xaxis": "x",
           "y": {
            "bdata": "Iw==",
            "dtype": "i1"
           },
           "yaxis": "y"
          },
          {
           "hovertemplate": "Genre=%{x}<br>Tahun Rilis=2006<br>Jumlah Rilis=%{y}<extra></extra>",
           "ids": [
            "Comedies"
           ],
           "legendgroup": "Comedies",
           "marker": {
            "color": "#00cc96",
            "pattern": {
             "shape": ""
            }
           },
           "name": "Comedies",
           "orientation": "v",
           "showlegend": true,
           "textposition": "auto",
           "type": "bar",
           "x": [
            "Comedies"
           ],
           "xaxis": "x",
           "y": {
            "bdata": "Iw==",
            "dtype": "i1"
           },
           "yaxis": "y"
          },
          {
           "hovertemplate": "Genre=%{x}<br>Tahun Rilis=2006<br>Jumlah Rilis=%{y}<extra></extra>",
           "ids": [
            "Action & Adventure"
           ],
           "legendgroup": "Action & Adventure",
           "marker": {
            "color": "#ab63fa",
            "pattern": {
             "shape": ""
            }
           },
           "name": "Action & Adventure",
           "orientation": "v",
           "showlegend": true,
           "textposition": "auto",
           "type": "bar",
           "x": [
            "Action & Adventure"
           ],
           "xaxis": "x",
           "y": {
            "bdata": "Cw==",
            "dtype": "i1"
           },
           "yaxis": "y"
          },
          {
           "hovertemplate": "Genre=%{x}<br>Tahun Rilis=2006<br>Jumlah Rilis=%{y}<extra></extra>",
           "ids": [
            "Independent Movies"
           ],
           "legendgroup": "Independent Movies",
           "marker": {
            "color": "#FFA15A",
            "pattern": {
             "shape": ""
            }
           },
           "name": "Independent Movies",
           "orientation": "v",
           "showlegend": true,
           "textposition": "auto",
           "type": "bar",
           "x": [
            "Independent Movies"
           ],
           "xaxis": "x",
           "y": {
            "bdata": "Bw==",
            "dtype": "i1"
           },
           "yaxis": "y"
          },
          {
           "hovertemplate": "Genre=%{x}<br>Tahun Rilis=2006<br>Jumlah Rilis=%{y}<extra></extra>",
           "ids": [
            "Romantic Movies"
           ],
           "legendgroup": "Romantic Movies",
           "marker": {
            "color": "#19d3f3",
            "pattern": {
             "shape": ""
            }
           },
           "name": "Romantic Movies",
           "orientation": "v",
           "showlegend": true,
           "textposition": "auto",
           "type": "bar",
           "x": [
            "Romantic Movies"
           ],
           "xaxis": "x",
           "y": {
            "bdata": "DQ==",
            "dtype": "i1"
           },
           "yaxis": "y"
          },
          {
           "hovertemplate": "Genre=%{x}<br>Tahun Rilis=2006<br>Jumlah Rilis=%{y}<extra></extra>",
           "ids": [
            "Thrillers"
           ],
           "legendgroup": "Thrillers",
           "marker": {
            "color": "#FF6692",
            "pattern": {
             "shape": ""
            }
           },
           "name": "Thrillers",
           "orientation": "v",
           "showlegend": true,
           "textposition": "auto",
           "type": "bar",
           "x": [
            "Thrillers"
           ],
           "xaxis": "x",
           "y": {
            "bdata": "CQ==",
            "dtype": "i1"
           },
           "yaxis": "y"
          },
          {
           "hovertemplate": "Genre=%{x}<br>Tahun Rilis=2006<br>Jumlah Rilis=%{y}<extra></extra>",
           "ids": [
            "Children & Family Movies"
           ],
           "legendgroup": "Children & Family Movies",
           "marker": {
            "color": "#B6E880",
            "pattern": {
             "shape": ""
            }
           },
           "name": "Children & Family Movies",
           "orientation": "v",
           "showlegend": true,
           "textposition": "auto",
           "type": "bar",
           "x": [
            "Children & Family Movies"
           ],
           "xaxis": "x",
           "y": {
            "bdata": "Bw==",
            "dtype": "i1"
           },
           "yaxis": "y"
          },
          {
           "hovertemplate": "Genre=%{x}<br>Tahun Rilis=2006<br>Jumlah Rilis=%{y}<extra></extra>",
           "ids": [
            "Documentaries"
           ],
           "legendgroup": "Documentaries",
           "marker": {
            "color": "#FF97FF",
            "pattern": {
             "shape": ""
            }
           },
           "name": "Documentaries",
           "orientation": "v",
           "showlegend": true,
           "textposition": "auto",
           "type": "bar",
           "x": [
            "Documentaries"
           ],
           "xaxis": "x",
           "y": {
            "bdata": "Ag==",
            "dtype": "i1"
           },
           "yaxis": "y"
          },
          {
           "hovertemplate": "Genre=%{x}<br>Tahun Rilis=2006<br>Jumlah Rilis=%{y}<extra></extra>",
           "ids": [
            "Horror Movies"
           ],
           "legendgroup": "Horror Movies",
           "marker": {
            "color": "#FECB52",
            "pattern": {
             "shape": ""
            }
           },
           "name": "Horror Movies",
           "orientation": "v",
           "showlegend": true,
           "textposition": "auto",
           "type": "bar",
           "x": [
            "Horror Movies"
           ],
           "xaxis": "x",
           "y": {
            "bdata": "BQ==",
            "dtype": "i1"
           },
           "yaxis": "y"
          }
         ],
         "name": "2006"
        },
        {
         "data": [
          {
           "hovertemplate": "Genre=%{x}<br>Tahun Rilis=2007<br>Jumlah Rilis=%{y}<extra></extra>",
           "ids": [
            "International Movies"
           ],
           "legendgroup": "International Movies",
           "marker": {
            "color": "#636efa",
            "pattern": {
             "shape": ""
            }
           },
           "name": "International Movies",
           "orientation": "v",
           "showlegend": true,
           "textposition": "auto",
           "type": "bar",
           "x": [
            "International Movies"
           ],
           "xaxis": "x",
           "y": {
            "bdata": "Hg==",
            "dtype": "i1"
           },
           "yaxis": "y"
          },
          {
           "hovertemplate": "Genre=%{x}<br>Tahun Rilis=2007<br>Jumlah Rilis=%{y}<extra></extra>",
           "ids": [
            "Dramas"
           ],
           "legendgroup": "Dramas",
           "marker": {
            "color": "#EF553B",
            "pattern": {
             "shape": ""
            }
           },
           "name": "Dramas",
           "orientation": "v",
           "showlegend": true,
           "textposition": "auto",
           "type": "bar",
           "x": [
            "Dramas"
           ],
           "xaxis": "x",
           "y": {
            "bdata": "IA==",
            "dtype": "i1"
           },
           "yaxis": "y"
          },
          {
           "hovertemplate": "Genre=%{x}<br>Tahun Rilis=2007<br>Jumlah Rilis=%{y}<extra></extra>",
           "ids": [
            "Comedies"
           ],
           "legendgroup": "Comedies",
           "marker": {
            "color": "#00cc96",
            "pattern": {
             "shape": ""
            }
           },
           "name": "Comedies",
           "orientation": "v",
           "showlegend": true,
           "textposition": "auto",
           "type": "bar",
           "x": [
            "Comedies"
           ],
           "xaxis": "x",
           "y": {
            "bdata": "Hg==",
            "dtype": "i1"
           },
           "yaxis": "y"
          },
          {
           "hovertemplate": "Genre=%{x}<br>Tahun Rilis=2007<br>Jumlah Rilis=%{y}<extra></extra>",
           "ids": [
            "Action & Adventure"
           ],
           "legendgroup": "Action & Adventure",
           "marker": {
            "color": "#ab63fa",
            "pattern": {
             "shape": ""
            }
           },
           "name": "Action & Adventure",
           "orientation": "v",
           "showlegend": true,
           "textposition": "auto",
           "type": "bar",
           "x": [
            "Action & Adventure"
           ],
           "xaxis": "x",
           "y": {
            "bdata": "Dw==",
            "dtype": "i1"
           },
           "yaxis": "y"
          },
          {
           "hovertemplate": "Genre=%{x}<br>Tahun Rilis=2007<br>Jumlah Rilis=%{y}<extra></extra>",
           "ids": [
            "Independent Movies"
           ],
           "legendgroup": "Independent Movies",
           "marker": {
            "color": "#FFA15A",
            "pattern": {
             "shape": ""
            }
           },
           "name": "Independent Movies",
           "orientation": "v",
           "showlegend": true,
           "textposition": "auto",
           "type": "bar",
           "x": [
            "Independent Movies"
           ],
           "xaxis": "x",
           "y": {
            "bdata": "Bg==",
            "dtype": "i1"
           },
           "yaxis": "y"
          },
          {
           "hovertemplate": "Genre=%{x}<br>Tahun Rilis=2007<br>Jumlah Rilis=%{y}<extra></extra>",
           "ids": [
            "Romantic Movies"
           ],
           "legendgroup": "Romantic Movies",
           "marker": {
            "color": "#19d3f3",
            "pattern": {
             "shape": ""
            }
           },
           "name": "Romantic Movies",
           "orientation": "v",
           "showlegend": true,
           "textposition": "auto",
           "type": "bar",
           "x": [
            "Romantic Movies"
           ],
           "xaxis": "x",
           "y": {
            "bdata": "Cg==",
            "dtype": "i1"
           },
           "yaxis": "y"
          },
          {
           "hovertemplate": "Genre=%{x}<br>Tahun Rilis=2007<br>Jumlah Rilis=%{y}<extra></extra>",
           "ids": [
            "Thrillers"
           ],
           "legendgroup": "Thrillers",
           "marker": {
            "color": "#FF6692",
            "pattern": {
             "shape": ""
            }
           },
           "name": "Thrillers",
           "orientation": "v",
           "showlegend": true,
           "textposition": "auto",
           "type": "bar",
           "x": [
            "Thrillers"
           ],
           "xaxis": "x",
           "y": {
            "bdata": "Bw==",
            "dtype": "i1"
           },
           "yaxis": "y"
          },
          {
           "hovertemplate": "Genre=%{x}<br>Tahun Rilis=2007<br>Jumlah Rilis=%{y}<extra></extra>",
           "ids": [
            "Children & Family Movies"
           ],
           "legendgroup": "Children & Family Movies",
           "marker": {
            "color": "#B6E880",
            "pattern": {
             "shape": ""
            }
           },
           "name": "Children & Family Movies",
           "orientation": "v",
           "showlegend": true,
           "textposition": "auto",
           "type": "bar",
           "x": [
            "Children & Family Movies"
           ],
           "xaxis": "x",
           "y": {
            "bdata": "CQ==",
            "dtype": "i1"
           },
           "yaxis": "y"
          },
          {
           "hovertemplate": "Genre=%{x}<br>Tahun Rilis=2007<br>Jumlah Rilis=%{y}<extra></extra>",
           "ids": [
            "Documentaries"
           ],
           "legendgroup": "Documentaries",
           "marker": {
            "color": "#FF97FF",
            "pattern": {
             "shape": ""
            }
           },
           "name": "Documentaries",
           "orientation": "v",
           "showlegend": true,
           "textposition": "auto",
           "type": "bar",
           "x": [
            "Documentaries"
           ],
           "xaxis": "x",
           "y": {
            "bdata": "AQ==",
            "dtype": "i1"
           },
           "yaxis": "y"
          },
          {
           "hovertemplate": "Genre=%{x}<br>Tahun Rilis=2007<br>Jumlah Rilis=%{y}<extra></extra>",
           "ids": [
            "Horror Movies"
           ],
           "legendgroup": "Horror Movies",
           "marker": {
            "color": "#FECB52",
            "pattern": {
             "shape": ""
            }
           },
           "name": "Horror Movies",
           "orientation": "v",
           "showlegend": true,
           "textposition": "auto",
           "type": "bar",
           "x": [
            "Horror Movies"
           ],
           "xaxis": "x",
           "y": {
            "bdata": "BA==",
            "dtype": "i1"
           },
           "yaxis": "y"
          }
         ],
         "name": "2007"
        },
        {
         "data": [
          {
           "hovertemplate": "Genre=%{x}<br>Tahun Rilis=2008<br>Jumlah Rilis=%{y}<extra></extra>",
           "ids": [
            "International Movies"
           ],
           "legendgroup": "International Movies",
           "marker": {
            "color": "#636efa",
            "pattern": {
             "shape": ""
            }
           },
           "name": "International Movies",
           "orientation": "v",
           "showlegend": true,
           "textposition": "auto",
           "type": "bar",
           "x": [
            "International Movies"
           ],
           "xaxis": "x",
           "y": {
            "bdata": "Lw==",
            "dtype": "i1"
           },
           "yaxis": "y"
          },
          {
           "hovertemplate": "Genre=%{x}<br>Tahun Rilis=2008<br>Jumlah Rilis=%{y}<extra></extra>",
           "ids": [
            "Dramas"
           ],
           "legendgroup": "Dramas",
           "marker": {
            "color": "#EF553B",
            "pattern": {
             "shape": ""
            }
           },
           "name": "Dramas",
           "orientation": "v",
           "showlegend": true,
           "textposition": "auto",
           "type": "bar",
           "x": [
            "Dramas"
           ],
           "xaxis": "x",
           "y": {
            "bdata": "MQ==",
            "dtype": "i1"
           },
           "yaxis": "y"
          },
          {
           "hovertemplate": "Genre=%{x}<br>Tahun Rilis=2008<br>Jumlah Rilis=%{y}<extra></extra>",
           "ids": [
            "Comedies"
           ],
           "legendgroup": "Comedies",
           "marker": {
            "color": "#00cc96",
            "pattern": {
             "shape": ""
            }
           },
           "name": "Comedies",
           "orientation": "v",
           "showlegend": true,
           "textposition": "auto",
           "type": "bar",
           "x": [
            "Comedies"
           ],
           "xaxis": "x",
           "y": {
            "bdata": "Kw==",
            "dtype": "i1"
           },
           "yaxis": "y"
          },
          {
           "hovertemplate": "Genre=%{x}<br>Tahun Rilis=2008<br>Jumlah Rilis=%{y}<extra></extra>",
           "ids": [
            "Action & Adventure"
           ],
           "legendgroup": "Action & Adventure",
           "marker": {
            "color": "#ab63fa",
            "pattern": {
             "shape": ""
            }
           },
           "name": "Action & Adventure",
           "orientation": "v",
           "showlegend": true,
           "textposition": "auto",
           "type": "bar",
           "x": [
            "Action & Adventure"
           ],
           "xaxis": "x",
           "y": {
            "bdata": "GA==",
            "dtype": "i1"
           },
           "yaxis": "y"
          },
          {
           "hovertemplate": "Genre=%{x}<br>Tahun Rilis=2008<br>Jumlah Rilis=%{y}<extra></extra>",
           "ids": [
            "Independent Movies"
           ],
           "legendgroup": "Independent Movies",
           "marker": {
            "color": "#FFA15A",
            "pattern": {
             "shape": ""
            }
           },
           "name": "Independent Movies",
           "orientation": "v",
           "showlegend": true,
           "textposition": "auto",
           "type": "bar",
           "x": [
            "Independent Movies"
           ],
           "xaxis": "x",
           "y": {
            "bdata": "Cg==",
            "dtype": "i1"
           },
           "yaxis": "y"
          },
          {
           "hovertemplate": "Genre=%{x}<br>Tahun Rilis=2008<br>Jumlah Rilis=%{y}<extra></extra>",
           "ids": [
            "Romantic Movies"
           ],
           "legendgroup": "Romantic Movies",
           "marker": {
            "color": "#19d3f3",
            "pattern": {
             "shape": ""
            }
           },
           "name": "Romantic Movies",
           "orientation": "v",
           "showlegend": true,
           "textposition": "auto",
           "type": "bar",
           "x": [
            "Romantic Movies"
           ],
           "xaxis": "x",
           "y": {
            "bdata": "DQ==",
            "dtype": "i1"
           },
           "yaxis": "y"
          },
          {
           "hovertemplate": "Genre=%{x}<br>Tahun Rilis=2008<br>Jumlah Rilis=%{y}<extra></extra>",
           "ids": [
            "Thrillers"
           ],
           "legendgroup": "Thrillers",
           "marker": {
            "color": "#FF6692",
            "pattern": {
             "shape": ""
            }
           },
           "name": "Thrillers",
           "orientation": "v",
           "showlegend": true,
           "textposition": "auto",
           "type": "bar",
           "x": [
            "Thrillers"
           ],
           "xaxis": "x",
           "y": {
            "bdata": "Bw==",
            "dtype": "i1"
           },
           "yaxis": "y"
          },
          {
           "hovertemplate": "Genre=%{x}<br>Tahun Rilis=2008<br>Jumlah Rilis=%{y}<extra></extra>",
           "ids": [
            "Children & Family Movies"
           ],
           "legendgroup": "Children & Family Movies",
           "marker": {
            "color": "#B6E880",
            "pattern": {
             "shape": ""
            }
           },
           "name": "Children & Family Movies",
           "orientation": "v",
           "showlegend": true,
           "textposition": "auto",
           "type": "bar",
           "x": [
            "Children & Family Movies"
           ],
           "xaxis": "x",
           "y": {
            "bdata": "DQ==",
            "dtype": "i1"
           },
           "yaxis": "y"
          },
          {
           "hovertemplate": "Genre=%{x}<br>Tahun Rilis=2008<br>Jumlah Rilis=%{y}<extra></extra>",
           "ids": [
            "Documentaries"
           ],
           "legendgroup": "Documentaries",
           "marker": {
            "color": "#FF97FF",
            "pattern": {
             "shape": ""
            }
           },
           "name": "Documentaries",
           "orientation": "v",
           "showlegend": true,
           "textposition": "auto",
           "type": "bar",
           "x": [
            "Documentaries"
           ],
           "xaxis": "x",
           "y": {
            "bdata": "BA==",
            "dtype": "i1"
           },
           "yaxis": "y"
          },
          {
           "hovertemplate": "Genre=%{x}<br>Tahun Rilis=2008<br>Jumlah Rilis=%{y}<extra></extra>",
           "ids": [
            "Horror Movies"
           ],
           "legendgroup": "Horror Movies",
           "marker": {
            "color": "#FECB52",
            "pattern": {
             "shape": ""
            }
           },
           "name": "Horror Movies",
           "orientation": "v",
           "showlegend": true,
           "textposition": "auto",
           "type": "bar",
           "x": [
            "Horror Movies"
           ],
           "xaxis": "x",
           "y": {
            "bdata": "BQ==",
            "dtype": "i1"
           },
           "yaxis": "y"
          }
         ],
         "name": "2008"
        },
        {
         "data": [
          {
           "hovertemplate": "Genre=%{x}<br>Tahun Rilis=2009<br>Jumlah Rilis=%{y}<extra></extra>",
           "ids": [
            "International Movies"
           ],
           "legendgroup": "International Movies",
           "marker": {
            "color": "#636efa",
            "pattern": {
             "shape": ""
            }
           },
           "name": "International Movies",
           "orientation": "v",
           "showlegend": true,
           "textposition": "auto",
           "type": "bar",
           "x": [
            "International Movies"
           ],
           "xaxis": "x",
           "y": {
            "bdata": "Lg==",
            "dtype": "i1"
           },
           "yaxis": "y"
          },
          {
           "hovertemplate": "Genre=%{x}<br>Tahun Rilis=2009<br>Jumlah Rilis=%{y}<extra></extra>",
           "ids": [
            "Dramas"
           ],
           "legendgroup": "Dramas",
           "marker": {
            "color": "#EF553B",
            "pattern": {
             "shape": ""
            }
           },
           "name": "Dramas",
           "orientation": "v",
           "showlegend": true,
           "textposition": "auto",
           "type": "bar",
           "x": [
            "Dramas"
           ],
           "xaxis": "x",
           "y": {
            "bdata": "Jg==",
            "dtype": "i1"
           },
           "yaxis": "y"
          },
          {
           "hovertemplate": "Genre=%{x}<br>Tahun Rilis=2009<br>Jumlah Rilis=%{y}<extra></extra>",
           "ids": [
            "Comedies"
           ],
           "legendgroup": "Comedies",
           "marker": {
            "color": "#00cc96",
            "pattern": {
             "shape": ""
            }
           },
           "name": "Comedies",
           "orientation": "v",
           "showlegend": true,
           "textposition": "auto",
           "type": "bar",
           "x": [
            "Comedies"
           ],
           "xaxis": "x",
           "y": {
            "bdata": "KQ==",
            "dtype": "i1"
           },
           "yaxis": "y"
          },
          {
           "hovertemplate": "Genre=%{x}<br>Tahun Rilis=2009<br>Jumlah Rilis=%{y}<extra></extra>",
           "ids": [
            "Action & Adventure"
           ],
           "legendgroup": "Action & Adventure",
           "marker": {
            "color": "#ab63fa",
            "pattern": {
             "shape": ""
            }
           },
           "name": "Action & Adventure",
           "orientation": "v",
           "showlegend": true,
           "textposition": "auto",
           "type": "bar",
           "x": [
            "Action & Adventure"
           ],
           "xaxis": "x",
           "y": {
            "bdata": "FA==",
            "dtype": "i1"
           },
           "yaxis": "y"
          },
          {
           "hovertemplate": "Genre=%{x}<br>Tahun Rilis=2009<br>Jumlah Rilis=%{y}<extra></extra>",
           "ids": [
            "Independent Movies"
           ],
           "legendgroup": "Independent Movies",
           "marker": {
            "color": "#FFA15A",
            "pattern": {
             "shape": ""
            }
           },
           "name": "Independent Movies",
           "orientation": "v",
           "showlegend": true,
           "textposition": "auto",
           "type": "bar",
           "x": [
            "Independent Movies"
           ],
           "xaxis": "x",
           "y": {
            "bdata": "Cg==",
            "dtype": "i1"
           },
           "yaxis": "y"
          },
          {
           "hovertemplate": "Genre=%{x}<br>Tahun Rilis=2009<br>Jumlah Rilis=%{y}<extra></extra>",
           "ids": [
            "Romantic Movies"
           ],
           "legendgroup": "Romantic Movies",
           "marker": {
            "color": "#19d3f3",
            "pattern": {
             "shape": ""
            }
           },
           "name": "Romantic Movies",
           "orientation": "v",
           "showlegend": true,
           "textposition": "auto",
           "type": "bar",
           "x": [
            "Romantic Movies"
           ],
           "xaxis": "x",
           "y": {
            "bdata": "Dw==",
            "dtype": "i1"
           },
           "yaxis": "y"
          },
          {
           "hovertemplate": "Genre=%{x}<br>Tahun Rilis=2009<br>Jumlah Rilis=%{y}<extra></extra>",
           "ids": [
            "Thrillers"
           ],
           "legendgroup": "Thrillers",
           "marker": {
            "color": "#FF6692",
            "pattern": {
             "shape": ""
            }
           },
           "name": "Thrillers",
           "orientation": "v",
           "showlegend": true,
           "textposition": "auto",
           "type": "bar",
           "x": [
            "Thrillers"
           ],
           "xaxis": "x",
           "y": {
            "bdata": "DA==",
            "dtype": "i1"
           },
           "yaxis": "y"
          },
          {
           "hovertemplate": "Genre=%{x}<br>Tahun Rilis=2009<br>Jumlah Rilis=%{y}<extra></extra>",
           "ids": [
            "Children & Family Movies"
           ],
           "legendgroup": "Children & Family Movies",
           "marker": {
            "color": "#B6E880",
            "pattern": {
             "shape": ""
            }
           },
           "name": "Children & Family Movies",
           "orientation": "v",
           "showlegend": true,
           "textposition": "auto",
           "type": "bar",
           "x": [
            "Children & Family Movies"
           ],
           "xaxis": "x",
           "y": {
            "bdata": "DQ==",
            "dtype": "i1"
           },
           "yaxis": "y"
          },
          {
           "hovertemplate": "Genre=%{x}<br>Tahun Rilis=2009<br>Jumlah Rilis=%{y}<extra></extra>",
           "ids": [
            "Documentaries"
           ],
           "legendgroup": "Documentaries",
           "marker": {
            "color": "#FF97FF",
            "pattern": {
             "shape": ""
            }
           },
           "name": "Documentaries",
           "orientation": "v",
           "showlegend": true,
           "textposition": "auto",
           "type": "bar",
           "x": [
            "Documentaries"
           ],
           "xaxis": "x",
           "y": {
            "bdata": "Aw==",
            "dtype": "i1"
           },
           "yaxis": "y"
          },
          {
           "hovertemplate": "Genre=%{x}<br>Tahun Rilis=2009<br>Jumlah Rilis=%{y}<extra></extra>",
           "ids": [
            "Horror Movies"
           ],
           "legendgroup": "Horror Movies",
           "marker": {
            "color": "#FECB52",
            "pattern": {
             "shape": ""
            }
           },
           "name": "Horror Movies",
           "orientation": "v",
           "showlegend": true,
           "textposition": "auto",
           "type": "bar",
           "x": [
            "Horror Movies"
           ],
           "xaxis": "x",
           "y": {
            "bdata": "DA==",
            "dtype": "i1"
           },
           "yaxis": "y"
          }
         ],
         "name": "2009"
        },
        {
         "data": [
          {
           "hovertemplate": "Genre=%{x}<br>Tahun Rilis=2010<br>Jumlah Rilis=%{y}<extra></extra>",
           "ids": [
            "International Movies"
           ],
           "legendgroup": "International Movies",
           "marker": {
            "color": "#636efa",
            "pattern": {
             "shape": ""
            }
           },
           "name": "International Movies",
           "orientation": "v",
           "showlegend": true,
           "textposition": "auto",
           "type": "bar",
           "x": [
            "International Movies"
           ],
           "xaxis": "x",
           "y": {
            "bdata": "RQ==",
            "dtype": "i1"
           },
           "yaxis": "y"
          },
          {
           "hovertemplate": "Genre=%{x}<br>Tahun Rilis=2010<br>Jumlah Rilis=%{y}<extra></extra>",
           "ids": [
            "Dramas"
           ],
           "legendgroup": "Dramas",
           "marker": {
            "color": "#EF553B",
            "pattern": {
             "shape": ""
            }
           },
           "name": "Dramas",
           "orientation": "v",
           "showlegend": true,
           "textposition": "auto",
           "type": "bar",
           "x": [
            "Dramas"
           ],
           "xaxis": "x",
           "y": {
            "bdata": "Pg==",
            "dtype": "i1"
           },
           "yaxis": "y"
          },
          {
           "hovertemplate": "Genre=%{x}<br>Tahun Rilis=2010<br>Jumlah Rilis=%{y}<extra></extra>",
           "ids": [
            "Comedies"
           ],
           "legendgroup": "Comedies",
           "marker": {
            "color": "#00cc96",
            "pattern": {
             "shape": ""
            }
           },
           "name": "Comedies",
           "orientation": "v",
           "showlegend": true,
           "textposition": "auto",
           "type": "bar",
           "x": [
            "Comedies"
           ],
           "xaxis": "x",
           "y": {
            "bdata": "MQ==",
            "dtype": "i1"
           },
           "yaxis": "y"
          },
          {
           "hovertemplate": "Genre=%{x}<br>Tahun Rilis=2010<br>Jumlah Rilis=%{y}<extra></extra>",
           "ids": [
            "Action & Adventure"
           ],
           "legendgroup": "Action & Adventure",
           "marker": {
            "color": "#ab63fa",
            "pattern": {
             "shape": ""
            }
           },
           "name": "Action & Adventure",
           "orientation": "v",
           "showlegend": true,
           "textposition": "auto",
           "type": "bar",
           "x": [
            "Action & Adventure"
           ],
           "xaxis": "x",
           "y": {
            "bdata": "HQ==",
            "dtype": "i1"
           },
           "yaxis": "y"
          },
          {
           "hovertemplate": "Genre=%{x}<br>Tahun Rilis=2010<br>Jumlah Rilis=%{y}<extra></extra>",
           "ids": [
            "Independent Movies"
           ],
           "legendgroup": "Independent Movies",
           "marker": {
            "color": "#FFA15A",
            "pattern": {
             "shape": ""
            }
           },
           "name": "Independent Movies",
           "orientation": "v",
           "showlegend": true,
           "textposition": "auto",
           "type": "bar",
           "x": [
            "Independent Movies"
           ],
           "xaxis": "x",
           "y": {
            "bdata": "Dg==",
            "dtype": "i1"
           },
           "yaxis": "y"
          },
          {
           "hovertemplate": "Genre=%{x}<br>Tahun Rilis=2010<br>Jumlah Rilis=%{y}<extra></extra>",
           "ids": [
            "Romantic Movies"
           ],
           "legendgroup": "Romantic Movies",
           "marker": {
            "color": "#19d3f3",
            "pattern": {
             "shape": ""
            }
           },
           "name": "Romantic Movies",
           "orientation": "v",
           "showlegend": true,
           "textposition": "auto",
           "type": "bar",
           "x": [
            "Romantic Movies"
           ],
           "xaxis": "x",
           "y": {
            "bdata": "Gg==",
            "dtype": "i1"
           },
           "yaxis": "y"
          },
          {
           "hovertemplate": "Genre=%{x}<br>Tahun Rilis=2010<br>Jumlah Rilis=%{y}<extra></extra>",
           "ids": [
            "Thrillers"
           ],
           "legendgroup": "Thrillers",
           "marker": {
            "color": "#FF6692",
            "pattern": {
             "shape": ""
            }
           },
           "name": "Thrillers",
           "orientation": "v",
           "showlegend": true,
           "textposition": "auto",
           "type": "bar",
           "x": [
            "Thrillers"
           ],
           "xaxis": "x",
           "y": {
            "bdata": "DQ==",
            "dtype": "i1"
           },
           "yaxis": "y"
          },
          {
           "hovertemplate": "Genre=%{x}<br>Tahun Rilis=2010<br>Jumlah Rilis=%{y}<extra></extra>",
           "ids": [
            "Children & Family Movies"
           ],
           "legendgroup": "Children & Family Movies",
           "marker": {
            "color": "#B6E880",
            "pattern": {
             "shape": ""
            }
           },
           "name": "Children & Family Movies",
           "orientation": "v",
           "showlegend": true,
           "textposition": "auto",
           "type": "bar",
           "x": [
            "Children & Family Movies"
           ],
           "xaxis": "x",
           "y": {
            "bdata": "Dw==",
            "dtype": "i1"
           },
           "yaxis": "y"
          },
          {
           "hovertemplate": "Genre=%{x}<br>Tahun Rilis=2010<br>Jumlah Rilis=%{y}<extra></extra>",
           "ids": [
            "Documentaries"
           ],
           "legendgroup": "Documentaries",
           "marker": {
            "color": "#FF97FF",
            "pattern": {
             "shape": ""
            }
           },
           "name": "Documentaries",
           "orientation": "v",
           "showlegend": true,
           "textposition": "auto",
           "type": "bar",
           "x": [
            "Documentaries"
           ],
           "xaxis": "x",
           "y": {
            "bdata": "Aw==",
            "dtype": "i1"
           },
           "yaxis": "y"
          },
          {
           "hovertemplate": "Genre=%{x}<br>Tahun Rilis=2010<br>Jumlah Rilis=%{y}<extra></extra>",
           "ids": [
            "Horror Movies"
           ],
           "legendgroup": "Horror Movies",
           "marker": {
            "color": "#FECB52",
            "pattern": {
             "shape": ""
            }
           },
           "name": "Horror Movies",
           "orientation": "v",
           "showlegend": true,
           "textposition": "auto",
           "type": "bar",
           "x": [
            "Horror Movies"
           ],
           "xaxis": "x",
           "y": {
            "bdata": "Cw==",
            "dtype": "i1"
           },
           "yaxis": "y"
          }
         ],
         "name": "2010"
        },
        {
         "data": [
          {
           "hovertemplate": "Genre=%{x}<br>Tahun Rilis=2011<br>Jumlah Rilis=%{y}<extra></extra>",
           "ids": [
            "International Movies"
           ],
           "legendgroup": "International Movies",
           "marker": {
            "color": "#636efa",
            "pattern": {
             "shape": ""
            }
           },
           "name": "International Movies",
           "orientation": "v",
           "showlegend": true,
           "textposition": "auto",
           "type": "bar",
           "x": [
            "International Movies"
           ],
           "xaxis": "x",
           "y": {
            "bdata": "Ng==",
            "dtype": "i1"
           },
           "yaxis": "y"
          },
          {
           "hovertemplate": "Genre=%{x}<br>Tahun Rilis=2011<br>Jumlah Rilis=%{y}<extra></extra>",
           "ids": [
            "Dramas"
           ],
           "legendgroup": "Dramas",
           "marker": {
            "color": "#EF553B",
            "pattern": {
             "shape": ""
            }
           },
           "name": "Dramas",
           "orientation": "v",
           "showlegend": true,
           "textposition": "auto",
           "type": "bar",
           "x": [
            "Dramas"
           ],
           "xaxis": "x",
           "y": {
            "bdata": "Ow==",
            "dtype": "i1"
           },
           "yaxis": "y"
          },
          {
           "hovertemplate": "Genre=%{x}<br>Tahun Rilis=2011<br>Jumlah Rilis=%{y}<extra></extra>",
           "ids": [
            "Comedies"
           ],
           "legendgroup": "Comedies",
           "marker": {
            "color": "#00cc96",
            "pattern": {
             "shape": ""
            }
           },
           "name": "Comedies",
           "orientation": "v",
           "showlegend": true,
           "textposition": "auto",
           "type": "bar",
           "x": [
            "Comedies"
           ],
           "xaxis": "x",
           "y": {
            "bdata": "Mw==",
            "dtype": "i1"
           },
           "yaxis": "y"
          },
          {
           "hovertemplate": "Genre=%{x}<br>Tahun Rilis=2011<br>Jumlah Rilis=%{y}<extra></extra>",
           "ids": [
            "Action & Adventure"
           ],
           "legendgroup": "Action & Adventure",
           "marker": {
            "color": "#ab63fa",
            "pattern": {
             "shape": ""
            }
           },
           "name": "Action & Adventure",
           "orientation": "v",
           "showlegend": true,
           "textposition": "auto",
           "type": "bar",
           "x": [
            "Action & Adventure"
           ],
           "xaxis": "x",
           "y": {
            "bdata": "GQ==",
            "dtype": "i1"
           },
           "yaxis": "y"
          },
          {
           "hovertemplate": "Genre=%{x}<br>Tahun Rilis=2011<br>Jumlah Rilis=%{y}<extra></extra>",
           "ids": [
            "Independent Movies"
           ],
           "legendgroup": "Independent Movies",
           "marker": {
            "color": "#FFA15A",
            "pattern": {
             "shape": ""
            }
           },
           "name": "Independent Movies",
           "orientation": "v",
           "showlegend": true,
           "textposition": "auto",
           "type": "bar",
           "x": [
            "Independent Movies"
           ],
           "xaxis": "x",
           "y": {
            "bdata": "DA==",
            "dtype": "i1"
           },
           "yaxis": "y"
          },
          {
           "hovertemplate": "Genre=%{x}<br>Tahun Rilis=2011<br>Jumlah Rilis=%{y}<extra></extra>",
           "ids": [
            "Romantic Movies"
           ],
           "legendgroup": "Romantic Movies",
           "marker": {
            "color": "#19d3f3",
            "pattern": {
             "shape": ""
            }
           },
           "name": "Romantic Movies",
           "orientation": "v",
           "showlegend": true,
           "textposition": "auto",
           "type": "bar",
           "x": [
            "Romantic Movies"
           ],
           "xaxis": "x",
           "y": {
            "bdata": "Fw==",
            "dtype": "i1"
           },
           "yaxis": "y"
          },
          {
           "hovertemplate": "Genre=%{x}<br>Tahun Rilis=2011<br>Jumlah Rilis=%{y}<extra></extra>",
           "ids": [
            "Thrillers"
           ],
           "legendgroup": "Thrillers",
           "marker": {
            "color": "#FF6692",
            "pattern": {
             "shape": ""
            }
           },
           "name": "Thrillers",
           "orientation": "v",
           "showlegend": true,
           "textposition": "auto",
           "type": "bar",
           "x": [
            "Thrillers"
           ],
           "xaxis": "x",
           "y": {
            "bdata": "CQ==",
            "dtype": "i1"
           },
           "yaxis": "y"
          },
          {
           "hovertemplate": "Genre=%{x}<br>Tahun Rilis=2011<br>Jumlah Rilis=%{y}<extra></extra>",
           "ids": [
            "Children & Family Movies"
           ],
           "legendgroup": "Children & Family Movies",
           "marker": {
            "color": "#B6E880",
            "pattern": {
             "shape": ""
            }
           },
           "name": "Children & Family Movies",
           "orientation": "v",
           "showlegend": true,
           "textposition": "auto",
           "type": "bar",
           "x": [
            "Children & Family Movies"
           ],
           "xaxis": "x",
           "y": {
            "bdata": "FQ==",
            "dtype": "i1"
           },
           "yaxis": "y"
          },
          {
           "hovertemplate": "Genre=%{x}<br>Tahun Rilis=2011<br>Jumlah Rilis=%{y}<extra></extra>",
           "ids": [
            "Documentaries"
           ],
           "legendgroup": "Documentaries",
           "marker": {
            "color": "#FF97FF",
            "pattern": {
             "shape": ""
            }
           },
           "name": "Documentaries",
           "orientation": "v",
           "showlegend": true,
           "textposition": "auto",
           "type": "bar",
           "x": [
            "Documentaries"
           ],
           "xaxis": "x",
           "y": {
            "bdata": "BA==",
            "dtype": "i1"
           },
           "yaxis": "y"
          },
          {
           "hovertemplate": "Genre=%{x}<br>Tahun Rilis=2011<br>Jumlah Rilis=%{y}<extra></extra>",
           "ids": [
            "Horror Movies"
           ],
           "legendgroup": "Horror Movies",
           "marker": {
            "color": "#FECB52",
            "pattern": {
             "shape": ""
            }
           },
           "name": "Horror Movies",
           "orientation": "v",
           "showlegend": true,
           "textposition": "auto",
           "type": "bar",
           "x": [
            "Horror Movies"
           ],
           "xaxis": "x",
           "y": {
            "bdata": "CA==",
            "dtype": "i1"
           },
           "yaxis": "y"
          }
         ],
         "name": "2011"
        },
        {
         "data": [
          {
           "hovertemplate": "Genre=%{x}<br>Tahun Rilis=2012<br>Jumlah Rilis=%{y}<extra></extra>",
           "ids": [
            "International Movies"
           ],
           "legendgroup": "International Movies",
           "marker": {
            "color": "#636efa",
            "pattern": {
             "shape": ""
            }
           },
           "name": "International Movies",
           "orientation": "v",
           "showlegend": true,
           "textposition": "auto",
           "type": "bar",
           "x": [
            "International Movies"
           ],
           "xaxis": "x",
           "y": {
            "bdata": "Sw==",
            "dtype": "i1"
           },
           "yaxis": "y"
          },
          {
           "hovertemplate": "Genre=%{x}<br>Tahun Rilis=2012<br>Jumlah Rilis=%{y}<extra></extra>",
           "ids": [
            "Dramas"
           ],
           "legendgroup": "Dramas",
           "marker": {
            "color": "#EF553B",
            "pattern": {
             "shape": ""
            }
           },
           "name": "Dramas",
           "orientation": "v",
           "showlegend": true,
           "textposition": "auto",
           "type": "bar",
           "x": [
            "Dramas"
           ],
           "xaxis": "x",
           "y": {
            "bdata": "QQ==",
            "dtype": "i1"
           },
           "yaxis": "y"
          },
          {
           "hovertemplate": "Genre=%{x}<br>Tahun Rilis=2012<br>Jumlah Rilis=%{y}<extra></extra>",
           "ids": [
            "Comedies"
           ],
           "legendgroup": "Comedies",
           "marker": {
            "color": "#00cc96",
            "pattern": {
             "shape": ""
            }
           },
           "name": "Comedies",
           "orientation": "v",
           "showlegend": true,
           "textposition": "auto",
           "type": "bar",
           "x": [
            "Comedies"
           ],
           "xaxis": "x",
           "y": {
            "bdata": "Ow==",
            "dtype": "i1"
           },
           "yaxis": "y"
          },
          {
           "hovertemplate": "Genre=%{x}<br>Tahun Rilis=2012<br>Jumlah Rilis=%{y}<extra></extra>",
           "ids": [
            "Action & Adventure"
           ],
           "legendgroup": "Action & Adventure",
           "marker": {
            "color": "#ab63fa",
            "pattern": {
             "shape": ""
            }
           },
           "name": "Action & Adventure",
           "orientation": "v",
           "showlegend": true,
           "textposition": "auto",
           "type": "bar",
           "x": [
            "Action & Adventure"
           ],
           "xaxis": "x",
           "y": {
            "bdata": "HA==",
            "dtype": "i1"
           },
           "yaxis": "y"
          },
          {
           "hovertemplate": "Genre=%{x}<br>Tahun Rilis=2012<br>Jumlah Rilis=%{y}<extra></extra>",
           "ids": [
            "Independent Movies"
           ],
           "legendgroup": "Independent Movies",
           "marker": {
            "color": "#FFA15A",
            "pattern": {
             "shape": ""
            }
           },
           "name": "Independent Movies",
           "orientation": "v",
           "showlegend": true,
           "textposition": "auto",
           "type": "bar",
           "x": [
            "Independent Movies"
           ],
           "xaxis": "x",
           "y": {
            "bdata": "GQ==",
            "dtype": "i1"
           },
           "yaxis": "y"
          },
          {
           "hovertemplate": "Genre=%{x}<br>Tahun Rilis=2012<br>Jumlah Rilis=%{y}<extra></extra>",
           "ids": [
            "Romantic Movies"
           ],
           "legendgroup": "Romantic Movies",
           "marker": {
            "color": "#19d3f3",
            "pattern": {
             "shape": ""
            }
           },
           "name": "Romantic Movies",
           "orientation": "v",
           "showlegend": true,
           "textposition": "auto",
           "type": "bar",
           "x": [
            "Romantic Movies"
           ],
           "xaxis": "x",
           "y": {
            "bdata": "Ew==",
            "dtype": "i1"
           },
           "yaxis": "y"
          },
          {
           "hovertemplate": "Genre=%{x}<br>Tahun Rilis=2012<br>Jumlah Rilis=%{y}<extra></extra>",
           "ids": [
            "Thrillers"
           ],
           "legendgroup": "Thrillers",
           "marker": {
            "color": "#FF6692",
            "pattern": {
             "shape": ""
            }
           },
           "name": "Thrillers",
           "orientation": "v",
           "showlegend": true,
           "textposition": "auto",
           "type": "bar",
           "x": [
            "Thrillers"
           ],
           "xaxis": "x",
           "y": {
            "bdata": "CQ==",
            "dtype": "i1"
           },
           "yaxis": "y"
          },
          {
           "hovertemplate": "Genre=%{x}<br>Tahun Rilis=2012<br>Jumlah Rilis=%{y}<extra></extra>",
           "ids": [
            "Children & Family Movies"
           ],
           "legendgroup": "Children & Family Movies",
           "marker": {
            "color": "#B6E880",
            "pattern": {
             "shape": ""
            }
           },
           "name": "Children & Family Movies",
           "orientation": "v",
           "showlegend": true,
           "textposition": "auto",
           "type": "bar",
           "x": [
            "Children & Family Movies"
           ],
           "xaxis": "x",
           "y": {
            "bdata": "EA==",
            "dtype": "i1"
           },
           "yaxis": "y"
          },
          {
           "hovertemplate": "Genre=%{x}<br>Tahun Rilis=2012<br>Jumlah Rilis=%{y}<extra></extra>",
           "ids": [
            "Documentaries"
           ],
           "legendgroup": "Documentaries",
           "marker": {
            "color": "#FF97FF",
            "pattern": {
             "shape": ""
            }
           },
           "name": "Documentaries",
           "orientation": "v",
           "showlegend": true,
           "textposition": "auto",
           "type": "bar",
           "x": [
            "Documentaries"
           ],
           "xaxis": "x",
           "y": {
            "bdata": "Bg==",
            "dtype": "i1"
           },
           "yaxis": "y"
          },
          {
           "hovertemplate": "Genre=%{x}<br>Tahun Rilis=2012<br>Jumlah Rilis=%{y}<extra></extra>",
           "ids": [
            "Horror Movies"
           ],
           "legendgroup": "Horror Movies",
           "marker": {
            "color": "#FECB52",
            "pattern": {
             "shape": ""
            }
           },
           "name": "Horror Movies",
           "orientation": "v",
           "showlegend": true,
           "textposition": "auto",
           "type": "bar",
           "x": [
            "Horror Movies"
           ],
           "xaxis": "x",
           "y": {
            "bdata": "Bw==",
            "dtype": "i1"
           },
           "yaxis": "y"
          }
         ],
         "name": "2012"
        },
        {
         "data": [
          {
           "hovertemplate": "Genre=%{x}<br>Tahun Rilis=2013<br>Jumlah Rilis=%{y}<extra></extra>",
           "ids": [
            "International Movies"
           ],
           "legendgroup": "International Movies",
           "marker": {
            "color": "#636efa",
            "pattern": {
             "shape": ""
            }
           },
           "name": "International Movies",
           "orientation": "v",
           "showlegend": true,
           "textposition": "auto",
           "type": "bar",
           "x": [
            "International Movies"
           ],
           "xaxis": "x",
           "y": {
            "bdata": "bA==",
            "dtype": "i1"
           },
           "yaxis": "y"
          },
          {
           "hovertemplate": "Genre=%{x}<br>Tahun Rilis=2013<br>Jumlah Rilis=%{y}<extra></extra>",
           "ids": [
            "Dramas"
           ],
           "legendgroup": "Dramas",
           "marker": {
            "color": "#EF553B",
            "pattern": {
             "shape": ""
            }
           },
           "name": "Dramas",
           "orientation": "v",
           "showlegend": true,
           "textposition": "auto",
           "type": "bar",
           "x": [
            "Dramas"
           ],
           "xaxis": "x",
           "y": {
            "bdata": "Ug==",
            "dtype": "i1"
           },
           "yaxis": "y"
          },
          {
           "hovertemplate": "Genre=%{x}<br>Tahun Rilis=2013<br>Jumlah Rilis=%{y}<extra></extra>",
           "ids": [
            "Comedies"
           ],
           "legendgroup": "Comedies",
           "marker": {
            "color": "#00cc96",
            "pattern": {
             "shape": ""
            }
           },
           "name": "Comedies",
           "orientation": "v",
           "showlegend": true,
           "textposition": "auto",
           "type": "bar",
           "x": [
            "Comedies"
           ],
           "xaxis": "x",
           "y": {
            "bdata": "PQ==",
            "dtype": "i1"
           },
           "yaxis": "y"
          },
          {
           "hovertemplate": "Genre=%{x}<br>Tahun Rilis=2013<br>Jumlah Rilis=%{y}<extra></extra>",
           "ids": [
            "Action & Adventure"
           ],
           "legendgroup": "Action & Adventure",
           "marker": {
            "color": "#ab63fa",
            "pattern": {
             "shape": ""
            }
           },
           "name": "Action & Adventure",
           "orientation": "v",
           "showlegend": true,
           "textposition": "auto",
           "type": "bar",
           "x": [
            "Action & Adventure"
           ],
           "xaxis": "x",
           "y": {
            "bdata": "HQ==",
            "dtype": "i1"
           },
           "yaxis": "y"
          },
          {
           "hovertemplate": "Genre=%{x}<br>Tahun Rilis=2013<br>Jumlah Rilis=%{y}<extra></extra>",
           "ids": [
            "Independent Movies"
           ],
           "legendgroup": "Independent Movies",
           "marker": {
            "color": "#FFA15A",
            "pattern": {
             "shape": ""
            }
           },
           "name": "Independent Movies",
           "orientation": "v",
           "showlegend": true,
           "textposition": "auto",
           "type": "bar",
           "x": [
            "Independent Movies"
           ],
           "xaxis": "x",
           "y": {
            "bdata": "IA==",
            "dtype": "i1"
           },
           "yaxis": "y"
          },
          {
           "hovertemplate": "Genre=%{x}<br>Tahun Rilis=2013<br>Jumlah Rilis=%{y}<extra></extra>",
           "ids": [
            "Romantic Movies"
           ],
           "legendgroup": "Romantic Movies",
           "marker": {
            "color": "#19d3f3",
            "pattern": {
             "shape": ""
            }
           },
           "name": "Romantic Movies",
           "orientation": "v",
           "showlegend": true,
           "textposition": "auto",
           "type": "bar",
           "x": [
            "Romantic Movies"
           ],
           "xaxis": "x",
           "y": {
            "bdata": "EA==",
            "dtype": "i1"
           },
           "yaxis": "y"
          },
          {
           "hovertemplate": "Genre=%{x}<br>Tahun Rilis=2013<br>Jumlah Rilis=%{y}<extra></extra>",
           "ids": [
            "Thrillers"
           ],
           "legendgroup": "Thrillers",
           "marker": {
            "color": "#FF6692",
            "pattern": {
             "shape": ""
            }
           },
           "name": "Thrillers",
           "orientation": "v",
           "showlegend": true,
           "textposition": "auto",
           "type": "bar",
           "x": [
            "Thrillers"
           ],
           "xaxis": "x",
           "y": {
            "bdata": "Dw==",
            "dtype": "i1"
           },
           "yaxis": "y"
          },
          {
           "hovertemplate": "Genre=%{x}<br>Tahun Rilis=2013<br>Jumlah Rilis=%{y}<extra></extra>",
           "ids": [
            "Children & Family Movies"
           ],
           "legendgroup": "Children & Family Movies",
           "marker": {
            "color": "#B6E880",
            "pattern": {
             "shape": ""
            }
           },
           "name": "Children & Family Movies",
           "orientation": "v",
           "showlegend": true,
           "textposition": "auto",
           "type": "bar",
           "x": [
            "Children & Family Movies"
           ],
           "xaxis": "x",
           "y": {
            "bdata": "Fg==",
            "dtype": "i1"
           },
           "yaxis": "y"
          },
          {
           "hovertemplate": "Genre=%{x}<br>Tahun Rilis=2013<br>Jumlah Rilis=%{y}<extra></extra>",
           "ids": [
            "Documentaries"
           ],
           "legendgroup": "Documentaries",
           "marker": {
            "color": "#FF97FF",
            "pattern": {
             "shape": ""
            }
           },
           "name": "Documentaries",
           "orientation": "v",
           "showlegend": true,
           "textposition": "auto",
           "type": "bar",
           "x": [
            "Documentaries"
           ],
           "xaxis": "x",
           "y": {
            "bdata": "Dw==",
            "dtype": "i1"
           },
           "yaxis": "y"
          },
          {
           "hovertemplate": "Genre=%{x}<br>Tahun Rilis=2013<br>Jumlah Rilis=%{y}<extra></extra>",
           "ids": [
            "Horror Movies"
           ],
           "legendgroup": "Horror Movies",
           "marker": {
            "color": "#FECB52",
            "pattern": {
             "shape": ""
            }
           },
           "name": "Horror Movies",
           "orientation": "v",
           "showlegend": true,
           "textposition": "auto",
           "type": "bar",
           "x": [
            "Horror Movies"
           ],
           "xaxis": "x",
           "y": {
            "bdata": "Dw==",
            "dtype": "i1"
           },
           "yaxis": "y"
          }
         ],
         "name": "2013"
        },
        {
         "data": [
          {
           "hovertemplate": "Genre=%{x}<br>Tahun Rilis=2014<br>Jumlah Rilis=%{y}<extra></extra>",
           "ids": [
            "International Movies"
           ],
           "legendgroup": "International Movies",
           "marker": {
            "color": "#636efa",
            "pattern": {
             "shape": ""
            }
           },
           "name": "International Movies",
           "orientation": "v",
           "showlegend": true,
           "textposition": "auto",
           "type": "bar",
           "x": [
            "International Movies"
           ],
           "xaxis": "x",
           "y": {
            "bdata": "cw==",
            "dtype": "i1"
           },
           "yaxis": "y"
          },
          {
           "hovertemplate": "Genre=%{x}<br>Tahun Rilis=2014<br>Jumlah Rilis=%{y}<extra></extra>",
           "ids": [
            "Dramas"
           ],
           "legendgroup": "Dramas",
           "marker": {
            "color": "#EF553B",
            "pattern": {
             "shape": ""
            }
           },
           "name": "Dramas",
           "orientation": "v",
           "showlegend": true,
           "textposition": "auto",
           "type": "bar",
           "x": [
            "Dramas"
           ],
           "xaxis": "x",
           "y": {
            "bdata": "ZA==",
            "dtype": "i1"
           },
           "yaxis": "y"
          },
          {
           "hovertemplate": "Genre=%{x}<br>Tahun Rilis=2014<br>Jumlah Rilis=%{y}<extra></extra>",
           "ids": [
            "Comedies"
           ],
           "legendgroup": "Comedies",
           "marker": {
            "color": "#00cc96",
            "pattern": {
             "shape": ""
            }
           },
           "name": "Comedies",
           "orientation": "v",
           "showlegend": true,
           "textposition": "auto",
           "type": "bar",
           "x": [
            "Comedies"
           ],
           "xaxis": "x",
           "y": {
            "bdata": "Sw==",
            "dtype": "i1"
           },
           "yaxis": "y"
          },
          {
           "hovertemplate": "Genre=%{x}<br>Tahun Rilis=2014<br>Jumlah Rilis=%{y}<extra></extra>",
           "ids": [
            "Action & Adventure"
           ],
           "legendgroup": "Action & Adventure",
           "marker": {
            "color": "#ab63fa",
            "pattern": {
             "shape": ""
            }
           },
           "name": "Action & Adventure",
           "orientation": "v",
           "showlegend": true,
           "textposition": "auto",
           "type": "bar",
           "x": [
            "Action & Adventure"
           ],
           "xaxis": "x",
           "y": {
            "bdata": "HA==",
            "dtype": "i1"
           },
           "yaxis": "y"
          },
          {
           "hovertemplate": "Genre=%{x}<br>Tahun Rilis=2014<br>Jumlah Rilis=%{y}<extra></extra>",
           "ids": [
            "Independent Movies"
           ],
           "legendgroup": "Independent Movies",
           "marker": {
            "color": "#FFA15A",
            "pattern": {
             "shape": ""
            }
           },
           "name": "Independent Movies",
           "orientation": "v",
           "showlegend": true,
           "textposition": "auto",
           "type": "bar",
           "x": [
            "Independent Movies"
           ],
           "xaxis": "x",
           "y": {
            "bdata": "Ig==",
            "dtype": "i1"
           },
           "yaxis": "y"
          },
          {
           "hovertemplate": "Genre=%{x}<br>Tahun Rilis=2014<br>Jumlah Rilis=%{y}<extra></extra>",
           "ids": [
            "Romantic Movies"
           ],
           "legendgroup": "Romantic Movies",
           "marker": {
            "color": "#19d3f3",
            "pattern": {
             "shape": ""
            }
           },
           "name": "Romantic Movies",
           "orientation": "v",
           "showlegend": true,
           "textposition": "auto",
           "type": "bar",
           "x": [
            "Romantic Movies"
           ],
           "xaxis": "x",
           "y": {
            "bdata": "Hw==",
            "dtype": "i1"
           },
           "yaxis": "y"
          },
          {
           "hovertemplate": "Genre=%{x}<br>Tahun Rilis=2014<br>Jumlah Rilis=%{y}<extra></extra>",
           "ids": [
            "Thrillers"
           ],
           "legendgroup": "Thrillers",
           "marker": {
            "color": "#FF6692",
            "pattern": {
             "shape": ""
            }
           },
           "name": "Thrillers",
           "orientation": "v",
           "showlegend": true,
           "textposition": "auto",
           "type": "bar",
           "x": [
            "Thrillers"
           ],
           "xaxis": "x",
           "y": {
            "bdata": "JQ==",
            "dtype": "i1"
           },
           "yaxis": "y"
          },
          {
           "hovertemplate": "Genre=%{x}<br>Tahun Rilis=2014<br>Jumlah Rilis=%{y}<extra></extra>",
           "ids": [
            "Children & Family Movies"
           ],
           "legendgroup": "Children & Family Movies",
           "marker": {
            "color": "#B6E880",
            "pattern": {
             "shape": ""
            }
           },
           "name": "Children & Family Movies",
           "orientation": "v",
           "showlegend": true,
           "textposition": "auto",
           "type": "bar",
           "x": [
            "Children & Family Movies"
           ],
           "xaxis": "x",
           "y": {
            "bdata": "GQ==",
            "dtype": "i1"
           },
           "yaxis": "y"
          },
          {
           "hovertemplate": "Genre=%{x}<br>Tahun Rilis=2014<br>Jumlah Rilis=%{y}<extra></extra>",
           "ids": [
            "Documentaries"
           ],
           "legendgroup": "Documentaries",
           "marker": {
            "color": "#FF97FF",
            "pattern": {
             "shape": ""
            }
           },
           "name": "Documentaries",
           "orientation": "v",
           "showlegend": true,
           "textposition": "auto",
           "type": "bar",
           "x": [
            "Documentaries"
           ],
           "xaxis": "x",
           "y": {
            "bdata": "EQ==",
            "dtype": "i1"
           },
           "yaxis": "y"
          },
          {
           "hovertemplate": "Genre=%{x}<br>Tahun Rilis=2014<br>Jumlah Rilis=%{y}<extra></extra>",
           "ids": [
            "Horror Movies"
           ],
           "legendgroup": "Horror Movies",
           "marker": {
            "color": "#FECB52",
            "pattern": {
             "shape": ""
            }
           },
           "name": "Horror Movies",
           "orientation": "v",
           "showlegend": true,
           "textposition": "auto",
           "type": "bar",
           "x": [
            "Horror Movies"
           ],
           "xaxis": "x",
           "y": {
            "bdata": "Ew==",
            "dtype": "i1"
           },
           "yaxis": "y"
          }
         ],
         "name": "2014"
        },
        {
         "data": [
          {
           "hovertemplate": "Genre=%{x}<br>Tahun Rilis=2015<br>Jumlah Rilis=%{y}<extra></extra>",
           "ids": [
            "International Movies"
           ],
           "legendgroup": "International Movies",
           "marker": {
            "color": "#636efa",
            "pattern": {
             "shape": ""
            }
           },
           "name": "International Movies",
           "orientation": "v",
           "showlegend": true,
           "textposition": "auto",
           "type": "bar",
           "x": [
            "International Movies"
           ],
           "xaxis": "x",
           "y": {
            "bdata": "tAA=",
            "dtype": "i2"
           },
           "yaxis": "y"
          },
          {
           "hovertemplate": "Genre=%{x}<br>Tahun Rilis=2015<br>Jumlah Rilis=%{y}<extra></extra>",
           "ids": [
            "Dramas"
           ],
           "legendgroup": "Dramas",
           "marker": {
            "color": "#EF553B",
            "pattern": {
             "shape": ""
            }
           },
           "name": "Dramas",
           "orientation": "v",
           "showlegend": true,
           "textposition": "auto",
           "type": "bar",
           "x": [
            "Dramas"
           ],
           "xaxis": "x",
           "y": {
            "bdata": "pwA=",
            "dtype": "i2"
           },
           "yaxis": "y"
          },
          {
           "hovertemplate": "Genre=%{x}<br>Tahun Rilis=2015<br>Jumlah Rilis=%{y}<extra></extra>",
           "ids": [
            "Comedies"
           ],
           "legendgroup": "Comedies",
           "marker": {
            "color": "#00cc96",
            "pattern": {
             "shape": ""
            }
           },
           "name": "Comedies",
           "orientation": "v",
           "showlegend": true,
           "textposition": "auto",
           "type": "bar",
           "x": [
            "Comedies"
           ],
           "xaxis": "x",
           "y": {
            "bdata": "XQ==",
            "dtype": "i1"
           },
           "yaxis": "y"
          },
          {
           "hovertemplate": "Genre=%{x}<br>Tahun Rilis=2015<br>Jumlah Rilis=%{y}<extra></extra>",
           "ids": [
            "Action & Adventure"
           ],
           "legendgroup": "Action & Adventure",
           "marker": {
            "color": "#ab63fa",
            "pattern": {
             "shape": ""
            }
           },
           "name": "Action & Adventure",
           "orientation": "v",
           "showlegend": true,
           "textposition": "auto",
           "type": "bar",
           "x": [
            "Action & Adventure"
           ],
           "xaxis": "x",
           "y": {
            "bdata": "MQ==",
            "dtype": "i1"
           },
           "yaxis": "y"
          },
          {
           "hovertemplate": "Genre=%{x}<br>Tahun Rilis=2015<br>Jumlah Rilis=%{y}<extra></extra>",
           "ids": [
            "Independent Movies"
           ],
           "legendgroup": "Independent Movies",
           "marker": {
            "color": "#FFA15A",
            "pattern": {
             "shape": ""
            }
           },
           "name": "Independent Movies",
           "orientation": "v",
           "showlegend": true,
           "textposition": "auto",
           "type": "bar",
           "x": [
            "Independent Movies"
           ],
           "xaxis": "x",
           "y": {
            "bdata": "Pw==",
            "dtype": "i1"
           },
           "yaxis": "y"
          },
          {
           "hovertemplate": "Genre=%{x}<br>Tahun Rilis=2015<br>Jumlah Rilis=%{y}<extra></extra>",
           "ids": [
            "Romantic Movies"
           ],
           "legendgroup": "Romantic Movies",
           "marker": {
            "color": "#19d3f3",
            "pattern": {
             "shape": ""
            }
           },
           "name": "Romantic Movies",
           "orientation": "v",
           "showlegend": true,
           "textposition": "auto",
           "type": "bar",
           "x": [
            "Romantic Movies"
           ],
           "xaxis": "x",
           "y": {
            "bdata": "Jg==",
            "dtype": "i1"
           },
           "yaxis": "y"
          },
          {
           "hovertemplate": "Genre=%{x}<br>Tahun Rilis=2015<br>Jumlah Rilis=%{y}<extra></extra>",
           "ids": [
            "Thrillers"
           ],
           "legendgroup": "Thrillers",
           "marker": {
            "color": "#FF6692",
            "pattern": {
             "shape": ""
            }
           },
           "name": "Thrillers",
           "orientation": "v",
           "showlegend": true,
           "textposition": "auto",
           "type": "bar",
           "x": [
            "Thrillers"
           ],
           "xaxis": "x",
           "y": {
            "bdata": "IA==",
            "dtype": "i1"
           },
           "yaxis": "y"
          },
          {
           "hovertemplate": "Genre=%{x}<br>Tahun Rilis=2015<br>Jumlah Rilis=%{y}<extra></extra>",
           "ids": [
            "Children & Family Movies"
           ],
           "legendgroup": "Children & Family Movies",
           "marker": {
            "color": "#B6E880",
            "pattern": {
             "shape": ""
            }
           },
           "name": "Children & Family Movies",
           "orientation": "v",
           "showlegend": true,
           "textposition": "auto",
           "type": "bar",
           "x": [
            "Children & Family Movies"
           ],
           "xaxis": "x",
           "y": {
            "bdata": "Ew==",
            "dtype": "i1"
           },
           "yaxis": "y"
          },
          {
           "hovertemplate": "Genre=%{x}<br>Tahun Rilis=2015<br>Jumlah Rilis=%{y}<extra></extra>",
           "ids": [
            "Documentaries"
           ],
           "legendgroup": "Documentaries",
           "marker": {
            "color": "#FF97FF",
            "pattern": {
             "shape": ""
            }
           },
           "name": "Documentaries",
           "orientation": "v",
           "showlegend": true,
           "textposition": "auto",
           "type": "bar",
           "x": [
            "Documentaries"
           ],
           "xaxis": "x",
           "y": {
            "bdata": "JQ==",
            "dtype": "i1"
           },
           "yaxis": "y"
          },
          {
           "hovertemplate": "Genre=%{x}<br>Tahun Rilis=2015<br>Jumlah Rilis=%{y}<extra></extra>",
           "ids": [
            "Horror Movies"
           ],
           "legendgroup": "Horror Movies",
           "marker": {
            "color": "#FECB52",
            "pattern": {
             "shape": ""
            }
           },
           "name": "Horror Movies",
           "orientation": "v",
           "showlegend": true,
           "textposition": "auto",
           "type": "bar",
           "x": [
            "Horror Movies"
           ],
           "xaxis": "x",
           "y": {
            "bdata": "Ew==",
            "dtype": "i1"
           },
           "yaxis": "y"
          }
         ],
         "name": "2015"
        },
        {
         "data": [
          {
           "hovertemplate": "Genre=%{x}<br>Tahun Rilis=2016<br>Jumlah Rilis=%{y}<extra></extra>",
           "ids": [
            "International Movies"
           ],
           "legendgroup": "International Movies",
           "marker": {
            "color": "#636efa",
            "pattern": {
             "shape": ""
            }
           },
           "name": "International Movies",
           "orientation": "v",
           "showlegend": true,
           "textposition": "auto",
           "type": "bar",
           "x": [
            "International Movies"
           ],
           "xaxis": "x",
           "y": {
            "bdata": "EwE=",
            "dtype": "i2"
           },
           "yaxis": "y"
          },
          {
           "hovertemplate": "Genre=%{x}<br>Tahun Rilis=2016<br>Jumlah Rilis=%{y}<extra></extra>",
           "ids": [
            "Dramas"
           ],
           "legendgroup": "Dramas",
           "marker": {
            "color": "#EF553B",
            "pattern": {
             "shape": ""
            }
           },
           "name": "Dramas",
           "orientation": "v",
           "showlegend": true,
           "textposition": "auto",
           "type": "bar",
           "x": [
            "Dramas"
           ],
           "xaxis": "x",
           "y": {
            "bdata": "BwE=",
            "dtype": "i2"
           },
           "yaxis": "y"
          },
          {
           "hovertemplate": "Genre=%{x}<br>Tahun Rilis=2016<br>Jumlah Rilis=%{y}<extra></extra>",
           "ids": [
            "Comedies"
           ],
           "legendgroup": "Comedies",
           "marker": {
            "color": "#00cc96",
            "pattern": {
             "shape": ""
            }
           },
           "name": "Comedies",
           "orientation": "v",
           "showlegend": true,
           "textposition": "auto",
           "type": "bar",
           "x": [
            "Comedies"
           ],
           "xaxis": "x",
           "y": {
            "bdata": "lAA=",
            "dtype": "i2"
           },
           "yaxis": "y"
          },
          {
           "hovertemplate": "Genre=%{x}<br>Tahun Rilis=2016<br>Jumlah Rilis=%{y}<extra></extra>",
           "ids": [
            "Action & Adventure"
           ],
           "legendgroup": "Action & Adventure",
           "marker": {
            "color": "#ab63fa",
            "pattern": {
             "shape": ""
            }
           },
           "name": "Action & Adventure",
           "orientation": "v",
           "showlegend": true,
           "textposition": "auto",
           "type": "bar",
           "x": [
            "Action & Adventure"
           ],
           "xaxis": "x",
           "y": {
            "bdata": "Tg==",
            "dtype": "i1"
           },
           "yaxis": "y"
          },
          {
           "hovertemplate": "Genre=%{x}<br>Tahun Rilis=2016<br>Jumlah Rilis=%{y}<extra></extra>",
           "ids": [
            "Independent Movies"
           ],
           "legendgroup": "Independent Movies",
           "marker": {
            "color": "#FFA15A",
            "pattern": {
             "shape": ""
            }
           },
           "name": "Independent Movies",
           "orientation": "v",
           "showlegend": true,
           "textposition": "auto",
           "type": "bar",
           "x": [
            "Independent Movies"
           ],
           "xaxis": "x",
           "y": {
            "bdata": "ZA==",
            "dtype": "i1"
           },
           "yaxis": "y"
          },
          {
           "hovertemplate": "Genre=%{x}<br>Tahun Rilis=2016<br>Jumlah Rilis=%{y}<extra></extra>",
           "ids": [
            "Romantic Movies"
           ],
           "legendgroup": "Romantic Movies",
           "marker": {
            "color": "#19d3f3",
            "pattern": {
             "shape": ""
            }
           },
           "name": "Romantic Movies",
           "orientation": "v",
           "showlegend": true,
           "textposition": "auto",
           "type": "bar",
           "x": [
            "Romantic Movies"
           ],
           "xaxis": "x",
           "y": {
            "bdata": "Jw==",
            "dtype": "i1"
           },
           "yaxis": "y"
          },
          {
           "hovertemplate": "Genre=%{x}<br>Tahun Rilis=2016<br>Jumlah Rilis=%{y}<extra></extra>",
           "ids": [
            "Thrillers"
           ],
           "legendgroup": "Thrillers",
           "marker": {
            "color": "#FF6692",
            "pattern": {
             "shape": ""
            }
           },
           "name": "Thrillers",
           "orientation": "v",
           "showlegend": true,
           "textposition": "auto",
           "type": "bar",
           "x": [
            "Thrillers"
           ],
           "xaxis": "x",
           "y": {
            "bdata": "SA==",
            "dtype": "i1"
           },
           "yaxis": "y"
          },
          {
           "hovertemplate": "Genre=%{x}<br>Tahun Rilis=2016<br>Jumlah Rilis=%{y}<extra></extra>",
           "ids": [
            "Children & Family Movies"
           ],
           "legendgroup": "Children & Family Movies",
           "marker": {
            "color": "#B6E880",
            "pattern": {
             "shape": ""
            }
           },
           "name": "Children & Family Movies",
           "orientation": "v",
           "showlegend": true,
           "textposition": "auto",
           "type": "bar",
           "x": [
            "Children & Family Movies"
           ],
           "xaxis": "x",
           "y": {
            "bdata": "KQ==",
            "dtype": "i1"
           },
           "yaxis": "y"
          },
          {
           "hovertemplate": "Genre=%{x}<br>Tahun Rilis=2016<br>Jumlah Rilis=%{y}<extra></extra>",
           "ids": [
            "Documentaries"
           ],
           "legendgroup": "Documentaries",
           "marker": {
            "color": "#FF97FF",
            "pattern": {
             "shape": ""
            }
           },
           "name": "Documentaries",
           "orientation": "v",
           "showlegend": true,
           "textposition": "auto",
           "type": "bar",
           "x": [
            "Documentaries"
           ],
           "xaxis": "x",
           "y": {
            "bdata": "Qw==",
            "dtype": "i1"
           },
           "yaxis": "y"
          },
          {
           "hovertemplate": "Genre=%{x}<br>Tahun Rilis=2016<br>Jumlah Rilis=%{y}<extra></extra>",
           "ids": [
            "Horror Movies"
           ],
           "legendgroup": "Horror Movies",
           "marker": {
            "color": "#FECB52",
            "pattern": {
             "shape": ""
            }
           },
           "name": "Horror Movies",
           "orientation": "v",
           "showlegend": true,
           "textposition": "auto",
           "type": "bar",
           "x": [
            "Horror Movies"
           ],
           "xaxis": "x",
           "y": {
            "bdata": "IA==",
            "dtype": "i1"
           },
           "yaxis": "y"
          }
         ],
         "name": "2016"
        },
        {
         "data": [
          {
           "hovertemplate": "Genre=%{x}<br>Tahun Rilis=2017<br>Jumlah Rilis=%{y}<extra></extra>",
           "ids": [
            "International Movies"
           ],
           "legendgroup": "International Movies",
           "marker": {
            "color": "#636efa",
            "pattern": {
             "shape": ""
            }
           },
           "name": "International Movies",
           "orientation": "v",
           "showlegend": true,
           "textposition": "auto",
           "type": "bar",
           "x": [
            "International Movies"
           ],
           "xaxis": "x",
           "y": {
            "bdata": "GgE=",
            "dtype": "i2"
           },
           "yaxis": "y"
          },
          {
           "hovertemplate": "Genre=%{x}<br>Tahun Rilis=2017<br>Jumlah Rilis=%{y}<extra></extra>",
           "ids": [
            "Dramas"
           ],
           "legendgroup": "Dramas",
           "marker": {
            "color": "#EF553B",
            "pattern": {
             "shape": ""
            }
           },
           "name": "Dramas",
           "orientation": "v",
           "showlegend": true,
           "textposition": "auto",
           "type": "bar",
           "x": [
            "Dramas"
           ],
           "xaxis": "x",
           "y": {
            "bdata": "EAE=",
            "dtype": "i2"
           },
           "yaxis": "y"
          },
          {
           "hovertemplate": "Genre=%{x}<br>Tahun Rilis=2017<br>Jumlah Rilis=%{y}<extra></extra>",
           "ids": [
            "Comedies"
           ],
           "legendgroup": "Comedies",
           "marker": {
            "color": "#00cc96",
            "pattern": {
             "shape": ""
            }
           },
           "name": "Comedies",
           "orientation": "v",
           "showlegend": true,
           "textposition": "auto",
           "type": "bar",
           "x": [
            "Comedies"
           ],
           "xaxis": "x",
           "y": {
            "bdata": "nQA=",
            "dtype": "i2"
           },
           "yaxis": "y"
          },
          {
           "hovertemplate": "Genre=%{x}<br>Tahun Rilis=2017<br>Jumlah Rilis=%{y}<extra></extra>",
           "ids": [
            "Action & Adventure"
           ],
           "legendgroup": "Action & Adventure",
           "marker": {
            "color": "#ab63fa",
            "pattern": {
             "shape": ""
            }
           },
           "name": "Action & Adventure",
           "orientation": "v",
           "showlegend": true,
           "textposition": "auto",
           "type": "bar",
           "x": [
            "Action & Adventure"
           ],
           "xaxis": "x",
           "y": {
            "bdata": "UA==",
            "dtype": "i1"
           },
           "yaxis": "y"
          },
          {
           "hovertemplate": "Genre=%{x}<br>Tahun Rilis=2017<br>Jumlah Rilis=%{y}<extra></extra>",
           "ids": [
            "Independent Movies"
           ],
           "legendgroup": "Independent Movies",
           "marker": {
            "color": "#FFA15A",
            "pattern": {
             "shape": ""
            }
           },
           "name": "Independent Movies",
           "orientation": "v",
           "showlegend": true,
           "textposition": "auto",
           "type": "bar",
           "x": [
            "Independent Movies"
           ],
           "xaxis": "x",
           "y": {
            "bdata": "cQ==",
            "dtype": "i1"
           },
           "yaxis": "y"
          },
          {
           "hovertemplate": "Genre=%{x}<br>Tahun Rilis=2017<br>Jumlah Rilis=%{y}<extra></extra>",
           "ids": [
            "Romantic Movies"
           ],
           "legendgroup": "Romantic Movies",
           "marker": {
            "color": "#19d3f3",
            "pattern": {
             "shape": ""
            }
           },
           "name": "Romantic Movies",
           "orientation": "v",
           "showlegend": true,
           "textposition": "auto",
           "type": "bar",
           "x": [
            "Romantic Movies"
           ],
           "xaxis": "x",
           "y": {
            "bdata": "Pw==",
            "dtype": "i1"
           },
           "yaxis": "y"
          },
          {
           "hovertemplate": "Genre=%{x}<br>Tahun Rilis=2017<br>Jumlah Rilis=%{y}<extra></extra>",
           "ids": [
            "Thrillers"
           ],
           "legendgroup": "Thrillers",
           "marker": {
            "color": "#FF6692",
            "pattern": {
             "shape": ""
            }
           },
           "name": "Thrillers",
           "orientation": "v",
           "showlegend": true,
           "textposition": "auto",
           "type": "bar",
           "x": [
            "Thrillers"
           ],
           "xaxis": "x",
           "y": {
            "bdata": "Qg==",
            "dtype": "i1"
           },
           "yaxis": "y"
          },
          {
           "hovertemplate": "Genre=%{x}<br>Tahun Rilis=2017<br>Jumlah Rilis=%{y}<extra></extra>",
           "ids": [
            "Children & Family Movies"
           ],
           "legendgroup": "Children & Family Movies",
           "marker": {
            "color": "#B6E880",
            "pattern": {
             "shape": ""
            }
           },
           "name": "Children & Family Movies",
           "orientation": "v",
           "showlegend": true,
           "textposition": "auto",
           "type": "bar",
           "x": [
            "Children & Family Movies"
           ],
           "xaxis": "x",
           "y": {
            "bdata": "Kw==",
            "dtype": "i1"
           },
           "yaxis": "y"
          },
          {
           "hovertemplate": "Genre=%{x}<br>Tahun Rilis=2017<br>Jumlah Rilis=%{y}<extra></extra>",
           "ids": [
            "Documentaries"
           ],
           "legendgroup": "Documentaries",
           "marker": {
            "color": "#FF97FF",
            "pattern": {
             "shape": ""
            }
           },
           "name": "Documentaries",
           "orientation": "v",
           "showlegend": true,
           "textposition": "auto",
           "type": "bar",
           "x": [
            "Documentaries"
           ],
           "xaxis": "x",
           "y": {
            "bdata": "UA==",
            "dtype": "i1"
           },
           "yaxis": "y"
          },
          {
           "hovertemplate": "Genre=%{x}<br>Tahun Rilis=2017<br>Jumlah Rilis=%{y}<extra></extra>",
           "ids": [
            "Horror Movies"
           ],
           "legendgroup": "Horror Movies",
           "marker": {
            "color": "#FECB52",
            "pattern": {
             "shape": ""
            }
           },
           "name": "Horror Movies",
           "orientation": "v",
           "showlegend": true,
           "textposition": "auto",
           "type": "bar",
           "x": [
            "Horror Movies"
           ],
           "xaxis": "x",
           "y": {
            "bdata": "Kw==",
            "dtype": "i1"
           },
           "yaxis": "y"
          }
         ],
         "name": "2017"
        },
        {
         "data": [
          {
           "hovertemplate": "Genre=%{x}<br>Tahun Rilis=2018<br>Jumlah Rilis=%{y}<extra></extra>",
           "ids": [
            "International Movies"
           ],
           "legendgroup": "International Movies",
           "marker": {
            "color": "#636efa",
            "pattern": {
             "shape": ""
            }
           },
           "name": "International Movies",
           "orientation": "v",
           "showlegend": true,
           "textposition": "auto",
           "type": "bar",
           "x": [
            "International Movies"
           ],
           "xaxis": "x",
           "y": {
            "bdata": "JgE=",
            "dtype": "i2"
           },
           "yaxis": "y"
          },
          {
           "hovertemplate": "Genre=%{x}<br>Tahun Rilis=2018<br>Jumlah Rilis=%{y}<extra></extra>",
           "ids": [
            "Dramas"
           ],
           "legendgroup": "Dramas",
           "marker": {
            "color": "#EF553B",
            "pattern": {
             "shape": ""
            }
           },
           "name": "Dramas",
           "orientation": "v",
           "showlegend": true,
           "textposition": "auto",
           "type": "bar",
           "x": [
            "Dramas"
           ],
           "xaxis": "x",
           "y": {
            "bdata": "GwE=",
            "dtype": "i2"
           },
           "yaxis": "y"
          },
          {
           "hovertemplate": "Genre=%{x}<br>Tahun Rilis=2018<br>Jumlah Rilis=%{y}<extra></extra>",
           "ids": [
            "Comedies"
           ],
           "legendgroup": "Comedies",
           "marker": {
            "color": "#00cc96",
            "pattern": {
             "shape": ""
            }
           },
           "name": "Comedies",
           "orientation": "v",
           "showlegend": true,
           "textposition": "auto",
           "type": "bar",
           "x": [
            "Comedies"
           ],
           "xaxis": "x",
           "y": {
            "bdata": "pQA=",
            "dtype": "i2"
           },
           "yaxis": "y"
          },
          {
           "hovertemplate": "Genre=%{x}<br>Tahun Rilis=2018<br>Jumlah Rilis=%{y}<extra></extra>",
           "ids": [
            "Action & Adventure"
           ],
           "legendgroup": "Action & Adventure",
           "marker": {
            "color": "#ab63fa",
            "pattern": {
             "shape": ""
            }
           },
           "name": "Action & Adventure",
           "orientation": "v",
           "showlegend": true,
           "textposition": "auto",
           "type": "bar",
           "x": [
            "Action & Adventure"
           ],
           "xaxis": "x",
           "y": {
            "bdata": "Tw==",
            "dtype": "i1"
           },
           "yaxis": "y"
          },
          {
           "hovertemplate": "Genre=%{x}<br>Tahun Rilis=2018<br>Jumlah Rilis=%{y}<extra></extra>",
           "ids": [
            "Independent Movies"
           ],
           "legendgroup": "Independent Movies",
           "marker": {
            "color": "#FFA15A",
            "pattern": {
             "shape": ""
            }
           },
           "name": "Independent Movies",
           "orientation": "v",
           "showlegend": true,
           "textposition": "auto",
           "type": "bar",
           "x": [
            "Independent Movies"
           ],
           "xaxis": "x",
           "y": {
            "bdata": "fw==",
            "dtype": "i1"
           },
           "yaxis": "y"
          },
          {
           "hovertemplate": "Genre=%{x}<br>Tahun Rilis=2018<br>Jumlah Rilis=%{y}<extra></extra>",
           "ids": [
            "Romantic Movies"
           ],
           "legendgroup": "Romantic Movies",
           "marker": {
            "color": "#19d3f3",
            "pattern": {
             "shape": ""
            }
           },
           "name": "Romantic Movies",
           "orientation": "v",
           "showlegend": true,
           "textposition": "auto",
           "type": "bar",
           "x": [
            "Romantic Movies"
           ],
           "xaxis": "x",
           "y": {
            "bdata": "PA==",
            "dtype": "i1"
           },
           "yaxis": "y"
          },
          {
           "hovertemplate": "Genre=%{x}<br>Tahun Rilis=2018<br>Jumlah Rilis=%{y}<extra></extra>",
           "ids": [
            "Thrillers"
           ],
           "legendgroup": "Thrillers",
           "marker": {
            "color": "#FF6692",
            "pattern": {
             "shape": ""
            }
           },
           "name": "Thrillers",
           "orientation": "v",
           "showlegend": true,
           "textposition": "auto",
           "type": "bar",
           "x": [
            "Thrillers"
           ],
           "xaxis": "x",
           "y": {
            "bdata": "Tg==",
            "dtype": "i1"
           },
           "yaxis": "y"
          },
          {
           "hovertemplate": "Genre=%{x}<br>Tahun Rilis=2018<br>Jumlah Rilis=%{y}<extra></extra>",
           "ids": [
            "Children & Family Movies"
           ],
           "legendgroup": "Children & Family Movies",
           "marker": {
            "color": "#B6E880",
            "pattern": {
             "shape": ""
            }
           },
           "name": "Children & Family Movies",
           "orientation": "v",
           "showlegend": true,
           "textposition": "auto",
           "type": "bar",
           "x": [
            "Children & Family Movies"
           ],
           "xaxis": "x",
           "y": {
            "bdata": "NA==",
            "dtype": "i1"
           },
           "yaxis": "y"
          },
          {
           "hovertemplate": "Genre=%{x}<br>Tahun Rilis=2018<br>Jumlah Rilis=%{y}<extra></extra>",
           "ids": [
            "Documentaries"
           ],
           "legendgroup": "Documentaries",
           "marker": {
            "color": "#FF97FF",
            "pattern": {
             "shape": ""
            }
           },
           "name": "Documentaries",
           "orientation": "v",
           "showlegend": true,
           "textposition": "auto",
           "type": "bar",
           "x": [
            "Documentaries"
           ],
           "xaxis": "x",
           "y": {
            "bdata": "Ng==",
            "dtype": "i1"
           },
           "yaxis": "y"
          },
          {
           "hovertemplate": "Genre=%{x}<br>Tahun Rilis=2018<br>Jumlah Rilis=%{y}<extra></extra>",
           "ids": [
            "Horror Movies"
           ],
           "legendgroup": "Horror Movies",
           "marker": {
            "color": "#FECB52",
            "pattern": {
             "shape": ""
            }
           },
           "name": "Horror Movies",
           "orientation": "v",
           "showlegend": true,
           "textposition": "auto",
           "type": "bar",
           "x": [
            "Horror Movies"
           ],
           "xaxis": "x",
           "y": {
            "bdata": "Mg==",
            "dtype": "i1"
           },
           "yaxis": "y"
          }
         ],
         "name": "2018"
        },
        {
         "data": [
          {
           "hovertemplate": "Genre=%{x}<br>Tahun Rilis=2019<br>Jumlah Rilis=%{y}<extra></extra>",
           "ids": [
            "International Movies"
           ],
           "legendgroup": "International Movies",
           "marker": {
            "color": "#636efa",
            "pattern": {
             "shape": ""
            }
           },
           "name": "International Movies",
           "orientation": "v",
           "showlegend": true,
           "textposition": "auto",
           "type": "bar",
           "x": [
            "International Movies"
           ],
           "xaxis": "x",
           "y": {
            "bdata": "5gA=",
            "dtype": "i2"
           },
           "yaxis": "y"
          },
          {
           "hovertemplate": "Genre=%{x}<br>Tahun Rilis=2019<br>Jumlah Rilis=%{y}<extra></extra>",
           "ids": [
            "Dramas"
           ],
           "legendgroup": "Dramas",
           "marker": {
            "color": "#EF553B",
            "pattern": {
             "shape": ""
            }
           },
           "name": "Dramas",
           "orientation": "v",
           "showlegend": true,
           "textposition": "auto",
           "type": "bar",
           "x": [
            "Dramas"
           ],
           "xaxis": "x",
           "y": {
            "bdata": "5QA=",
            "dtype": "i2"
           },
           "yaxis": "y"
          },
          {
           "hovertemplate": "Genre=%{x}<br>Tahun Rilis=2019<br>Jumlah Rilis=%{y}<extra></extra>",
           "ids": [
            "Comedies"
           ],
           "legendgroup": "Comedies",
           "marker": {
            "color": "#00cc96",
            "pattern": {
             "shape": ""
            }
           },
           "name": "Comedies",
           "orientation": "v",
           "showlegend": true,
           "textposition": "auto",
           "type": "bar",
           "x": [
            "Comedies"
           ],
           "xaxis": "x",
           "y": {
            "bdata": "hgA=",
            "dtype": "i2"
           },
           "yaxis": "y"
          },
          {
           "hovertemplate": "Genre=%{x}<br>Tahun Rilis=2019<br>Jumlah Rilis=%{y}<extra></extra>",
           "ids": [
            "Action & Adventure"
           ],
           "legendgroup": "Action & Adventure",
           "marker": {
            "color": "#ab63fa",
            "pattern": {
             "shape": ""
            }
           },
           "name": "Action & Adventure",
           "orientation": "v",
           "showlegend": true,
           "textposition": "auto",
           "type": "bar",
           "x": [
            "Action & Adventure"
           ],
           "xaxis": "x",
           "y": {
            "bdata": "Jw==",
            "dtype": "i1"
           },
           "yaxis": "y"
          },
          {
           "hovertemplate": "Genre=%{x}<br>Tahun Rilis=2019<br>Jumlah Rilis=%{y}<extra></extra>",
           "ids": [
            "Independent Movies"
           ],
           "legendgroup": "Independent Movies",
           "marker": {
            "color": "#FFA15A",
            "pattern": {
             "shape": ""
            }
           },
           "name": "Independent Movies",
           "orientation": "v",
           "showlegend": true,
           "textposition": "auto",
           "type": "bar",
           "x": [
            "Independent Movies"
           ],
           "xaxis": "x",
           "y": {
            "bdata": "Sg==",
            "dtype": "i1"
           },
           "yaxis": "y"
          },
          {
           "hovertemplate": "Genre=%{x}<br>Tahun Rilis=2019<br>Jumlah Rilis=%{y}<extra></extra>",
           "ids": [
            "Romantic Movies"
           ],
           "legendgroup": "Romantic Movies",
           "marker": {
            "color": "#19d3f3",
            "pattern": {
             "shape": ""
            }
           },
           "name": "Romantic Movies",
           "orientation": "v",
           "showlegend": true,
           "textposition": "auto",
           "type": "bar",
           "x": [
            "Romantic Movies"
           ],
           "xaxis": "x",
           "y": {
            "bdata": "OA==",
            "dtype": "i1"
           },
           "yaxis": "y"
          },
          {
           "hovertemplate": "Genre=%{x}<br>Tahun Rilis=2019<br>Jumlah Rilis=%{y}<extra></extra>",
           "ids": [
            "Thrillers"
           ],
           "legendgroup": "Thrillers",
           "marker": {
            "color": "#FF6692",
            "pattern": {
             "shape": ""
            }
           },
           "name": "Thrillers",
           "orientation": "v",
           "showlegend": true,
           "textposition": "auto",
           "type": "bar",
           "x": [
            "Thrillers"
           ],
           "xaxis": "x",
           "y": {
            "bdata": "RA==",
            "dtype": "i1"
           },
           "yaxis": "y"
          },
          {
           "hovertemplate": "Genre=%{x}<br>Tahun Rilis=2019<br>Jumlah Rilis=%{y}<extra></extra>",
           "ids": [
            "Children & Family Movies"
           ],
           "legendgroup": "Children & Family Movies",
           "marker": {
            "color": "#B6E880",
            "pattern": {
             "shape": ""
            }
           },
           "name": "Children & Family Movies",
           "orientation": "v",
           "showlegend": true,
           "textposition": "auto",
           "type": "bar",
           "x": [
            "Children & Family Movies"
           ],
           "xaxis": "x",
           "y": {
            "bdata": "Mw==",
            "dtype": "i1"
           },
           "yaxis": "y"
          },
          {
           "hovertemplate": "Genre=%{x}<br>Tahun Rilis=2019<br>Jumlah Rilis=%{y}<extra></extra>",
           "ids": [
            "Documentaries"
           ],
           "legendgroup": "Documentaries",
           "marker": {
            "color": "#FF97FF",
            "pattern": {
             "shape": ""
            }
           },
           "name": "Documentaries",
           "orientation": "v",
           "showlegend": true,
           "textposition": "auto",
           "type": "bar",
           "x": [
            "Documentaries"
           ],
           "xaxis": "x",
           "y": {
            "bdata": "Kg==",
            "dtype": "i1"
           },
           "yaxis": "y"
          },
          {
           "hovertemplate": "Genre=%{x}<br>Tahun Rilis=2019<br>Jumlah Rilis=%{y}<extra></extra>",
           "ids": [
            "Horror Movies"
           ],
           "legendgroup": "Horror Movies",
           "marker": {
            "color": "#FECB52",
            "pattern": {
             "shape": ""
            }
           },
           "name": "Horror Movies",
           "orientation": "v",
           "showlegend": true,
           "textposition": "auto",
           "type": "bar",
           "x": [
            "Horror Movies"
           ],
           "xaxis": "x",
           "y": {
            "bdata": "IA==",
            "dtype": "i1"
           },
           "yaxis": "y"
          }
         ],
         "name": "2019"
        },
        {
         "data": [
          {
           "hovertemplate": "Genre=%{x}<br>Tahun Rilis=2020<br>Jumlah Rilis=%{y}<extra></extra>",
           "ids": [
            "International Movies"
           ],
           "legendgroup": "International Movies",
           "marker": {
            "color": "#636efa",
            "pattern": {
             "shape": ""
            }
           },
           "name": "International Movies",
           "orientation": "v",
           "showlegend": true,
           "textposition": "auto",
           "type": "bar",
           "x": [
            "International Movies"
           ],
           "xaxis": "x",
           "y": {
            "bdata": "tgA=",
            "dtype": "i2"
           },
           "yaxis": "y"
          },
          {
           "hovertemplate": "Genre=%{x}<br>Tahun Rilis=2020<br>Jumlah Rilis=%{y}<extra></extra>",
           "ids": [
            "Dramas"
           ],
           "legendgroup": "Dramas",
           "marker": {
            "color": "#EF553B",
            "pattern": {
             "shape": ""
            }
           },
           "name": "Dramas",
           "orientation": "v",
           "showlegend": true,
           "textposition": "auto",
           "type": "bar",
           "x": [
            "Dramas"
           ],
           "xaxis": "x",
           "y": {
            "bdata": "qwA=",
            "dtype": "i2"
           },
           "yaxis": "y"
          },
          {
           "hovertemplate": "Genre=%{x}<br>Tahun Rilis=2020<br>Jumlah Rilis=%{y}<extra></extra>",
           "ids": [
            "Comedies"
           ],
           "legendgroup": "Comedies",
           "marker": {
            "color": "#00cc96",
            "pattern": {
             "shape": ""
            }
           },
           "name": "Comedies",
           "orientation": "v",
           "showlegend": true,
           "textposition": "auto",
           "type": "bar",
           "x": [
            "Comedies"
           ],
           "xaxis": "x",
           "y": {
            "bdata": "eQ==",
            "dtype": "i1"
           },
           "yaxis": "y"
          },
          {
           "hovertemplate": "Genre=%{x}<br>Tahun Rilis=2020<br>Jumlah Rilis=%{y}<extra></extra>",
           "ids": [
            "Action & Adventure"
           ],
           "legendgroup": "Action & Adventure",
           "marker": {
            "color": "#ab63fa",
            "pattern": {
             "shape": ""
            }
           },
           "name": "Action & Adventure",
           "orientation": "v",
           "showlegend": true,
           "textposition": "auto",
           "type": "bar",
           "x": [
            "Action & Adventure"
           ],
           "xaxis": "x",
           "y": {
            "bdata": "Kg==",
            "dtype": "i1"
           },
           "yaxis": "y"
          },
          {
           "hovertemplate": "Genre=%{x}<br>Tahun Rilis=2020<br>Jumlah Rilis=%{y}<extra></extra>",
           "ids": [
            "Independent Movies"
           ],
           "legendgroup": "Independent Movies",
           "marker": {
            "color": "#FFA15A",
            "pattern": {
             "shape": ""
            }
           },
           "name": "Independent Movies",
           "orientation": "v",
           "showlegend": true,
           "textposition": "auto",
           "type": "bar",
           "x": [
            "Independent Movies"
           ],
           "xaxis": "x",
           "y": {
            "bdata": "Lg==",
            "dtype": "i1"
           },
           "yaxis": "y"
          },
          {
           "hovertemplate": "Genre=%{x}<br>Tahun Rilis=2020<br>Jumlah Rilis=%{y}<extra></extra>",
           "ids": [
            "Romantic Movies"
           ],
           "legendgroup": "Romantic Movies",
           "marker": {
            "color": "#19d3f3",
            "pattern": {
             "shape": ""
            }
           },
           "name": "Romantic Movies",
           "orientation": "v",
           "showlegend": true,
           "textposition": "auto",
           "type": "bar",
           "x": [
            "Romantic Movies"
           ],
           "xaxis": "x",
           "y": {
            "bdata": "Nw==",
            "dtype": "i1"
           },
           "yaxis": "y"
          },
          {
           "hovertemplate": "Genre=%{x}<br>Tahun Rilis=2020<br>Jumlah Rilis=%{y}<extra></extra>",
           "ids": [
            "Thrillers"
           ],
           "legendgroup": "Thrillers",
           "marker": {
            "color": "#FF6692",
            "pattern": {
             "shape": ""
            }
           },
           "name": "Thrillers",
           "orientation": "v",
           "showlegend": true,
           "textposition": "auto",
           "type": "bar",
           "x": [
            "Thrillers"
           ],
           "xaxis": "x",
           "y": {
            "bdata": "Kw==",
            "dtype": "i1"
           },
           "yaxis": "y"
          },
          {
           "hovertemplate": "Genre=%{x}<br>Tahun Rilis=2020<br>Jumlah Rilis=%{y}<extra></extra>",
           "ids": [
            "Children & Family Movies"
           ],
           "legendgroup": "Children & Family Movies",
           "marker": {
            "color": "#B6E880",
            "pattern": {
             "shape": ""
            }
           },
           "name": "Children & Family Movies",
           "orientation": "v",
           "showlegend": true,
           "textposition": "auto",
           "type": "bar",
           "x": [
            "Children & Family Movies"
           ],
           "xaxis": "x",
           "y": {
            "bdata": "QA==",
            "dtype": "i1"
           },
           "yaxis": "y"
          },
          {
           "hovertemplate": "Genre=%{x}<br>Tahun Rilis=2020<br>Jumlah Rilis=%{y}<extra></extra>",
           "ids": [
            "Documentaries"
           ],
           "legendgroup": "Documentaries",
           "marker": {
            "color": "#FF97FF",
            "pattern": {
             "shape": ""
            }
           },
           "name": "Documentaries",
           "orientation": "v",
           "showlegend": true,
           "textposition": "auto",
           "type": "bar",
           "x": [
            "Documentaries"
           ],
           "xaxis": "x",
           "y": {
            "bdata": "Gg==",
            "dtype": "i1"
           },
           "yaxis": "y"
          },
          {
           "hovertemplate": "Genre=%{x}<br>Tahun Rilis=2020<br>Jumlah Rilis=%{y}<extra></extra>",
           "ids": [
            "Horror Movies"
           ],
           "legendgroup": "Horror Movies",
           "marker": {
            "color": "#FECB52",
            "pattern": {
             "shape": ""
            }
           },
           "name": "Horror Movies",
           "orientation": "v",
           "showlegend": true,
           "textposition": "auto",
           "type": "bar",
           "x": [
            "Horror Movies"
           ],
           "xaxis": "x",
           "y": {
            "bdata": "HA==",
            "dtype": "i1"
           },
           "yaxis": "y"
          }
         ],
         "name": "2020"
        },
        {
         "data": [
          {
           "hovertemplate": "Genre=%{x}<br>Tahun Rilis=2021<br>Jumlah Rilis=%{y}<extra></extra>",
           "ids": [
            "International Movies"
           ],
           "legendgroup": "International Movies",
           "marker": {
            "color": "#636efa",
            "pattern": {
             "shape": ""
            }
           },
           "name": "International Movies",
           "orientation": "v",
           "showlegend": true,
           "textposition": "auto",
           "type": "bar",
           "x": [
            "International Movies"
           ],
           "xaxis": "x",
           "y": {
            "bdata": "UQ==",
            "dtype": "i1"
           },
           "yaxis": "y"
          },
          {
           "hovertemplate": "Genre=%{x}<br>Tahun Rilis=2021<br>Jumlah Rilis=%{y}<extra></extra>",
           "ids": [
            "Dramas"
           ],
           "legendgroup": "Dramas",
           "marker": {
            "color": "#EF553B",
            "pattern": {
             "shape": ""
            }
           },
           "name": "Dramas",
           "orientation": "v",
           "showlegend": true,
           "textposition": "auto",
           "type": "bar",
           "x": [
            "Dramas"
           ],
           "xaxis": "x",
           "y": {
            "bdata": "QQ==",
            "dtype": "i1"
           },
           "yaxis": "y"
          },
          {
           "hovertemplate": "Genre=%{x}<br>Tahun Rilis=2021<br>Jumlah Rilis=%{y}<extra></extra>",
           "ids": [
            "Comedies"
           ],
           "legendgroup": "Comedies",
           "marker": {
            "color": "#00cc96",
            "pattern": {
             "shape": ""
            }
           },
           "name": "Comedies",
           "orientation": "v",
           "showlegend": true,
           "textposition": "auto",
           "type": "bar",
           "x": [
            "Comedies"
           ],
           "xaxis": "x",
           "y": {
            "bdata": "KA==",
            "dtype": "i1"
           },
           "yaxis": "y"
          },
          {
           "hovertemplate": "Genre=%{x}<br>Tahun Rilis=2021<br>Jumlah Rilis=%{y}<extra></extra>",
           "ids": [
            "Action & Adventure"
           ],
           "legendgroup": "Action & Adventure",
           "marker": {
            "color": "#ab63fa",
            "pattern": {
             "shape": ""
            }
           },
           "name": "Action & Adventure",
           "orientation": "v",
           "showlegend": true,
           "textposition": "auto",
           "type": "bar",
           "x": [
            "Action & Adventure"
           ],
           "xaxis": "x",
           "y": {
            "bdata": "FQ==",
            "dtype": "i1"
           },
           "yaxis": "y"
          },
          {
           "hovertemplate": "Genre=%{x}<br>Tahun Rilis=2021<br>Jumlah Rilis=%{y}<extra></extra>",
           "ids": [
            "Independent Movies"
           ],
           "legendgroup": "Independent Movies",
           "marker": {
            "color": "#FFA15A",
            "pattern": {
             "shape": ""
            }
           },
           "name": "Independent Movies",
           "orientation": "v",
           "showlegend": true,
           "textposition": "auto",
           "type": "bar",
           "x": [
            "Independent Movies"
           ],
           "xaxis": "x",
           "y": {
            "bdata": "DQ==",
            "dtype": "i1"
           },
           "yaxis": "y"
          },
          {
           "hovertemplate": "Genre=%{x}<br>Tahun Rilis=2021<br>Jumlah Rilis=%{y}<extra></extra>",
           "ids": [
            "Romantic Movies"
           ],
           "legendgroup": "Romantic Movies",
           "marker": {
            "color": "#19d3f3",
            "pattern": {
             "shape": ""
            }
           },
           "name": "Romantic Movies",
           "orientation": "v",
           "showlegend": true,
           "textposition": "auto",
           "type": "bar",
           "x": [
            "Romantic Movies"
           ],
           "xaxis": "x",
           "y": {
            "bdata": "EA==",
            "dtype": "i1"
           },
           "yaxis": "y"
          },
          {
           "hovertemplate": "Genre=%{x}<br>Tahun Rilis=2021<br>Jumlah Rilis=%{y}<extra></extra>",
           "ids": [
            "Thrillers"
           ],
           "legendgroup": "Thrillers",
           "marker": {
            "color": "#FF6692",
            "pattern": {
             "shape": ""
            }
           },
           "name": "Thrillers",
           "orientation": "v",
           "showlegend": true,
           "textposition": "auto",
           "type": "bar",
           "x": [
            "Thrillers"
           ],
           "xaxis": "x",
           "y": {
            "bdata": "Ew==",
            "dtype": "i1"
           },
           "yaxis": "y"
          },
          {
           "hovertemplate": "Genre=%{x}<br>Tahun Rilis=2021<br>Jumlah Rilis=%{y}<extra></extra>",
           "ids": [
            "Children & Family Movies"
           ],
           "legendgroup": "Children & Family Movies",
           "marker": {
            "color": "#B6E880",
            "pattern": {
             "shape": ""
            }
           },
           "name": "Children & Family Movies",
           "orientation": "v",
           "showlegend": true,
           "textposition": "auto",
           "type": "bar",
           "x": [
            "Children & Family Movies"
           ],
           "xaxis": "x",
           "y": {
            "bdata": "FQ==",
            "dtype": "i1"
           },
           "yaxis": "y"
          },
          {
           "hovertemplate": "Genre=%{x}<br>Tahun Rilis=2021<br>Jumlah Rilis=%{y}<extra></extra>",
           "ids": [
            "Documentaries"
           ],
           "legendgroup": "Documentaries",
           "marker": {
            "color": "#FF97FF",
            "pattern": {
             "shape": ""
            }
           },
           "name": "Documentaries",
           "orientation": "v",
           "showlegend": true,
           "textposition": "auto",
           "type": "bar",
           "x": [
            "Documentaries"
           ],
           "xaxis": "x",
           "y": {
            "bdata": "Cg==",
            "dtype": "i1"
           },
           "yaxis": "y"
          },
          {
           "hovertemplate": "Genre=%{x}<br>Tahun Rilis=2021<br>Jumlah Rilis=%{y}<extra></extra>",
           "ids": [
            "Horror Movies"
           ],
           "legendgroup": "Horror Movies",
           "marker": {
            "color": "#FECB52",
            "pattern": {
             "shape": ""
            }
           },
           "name": "Horror Movies",
           "orientation": "v",
           "showlegend": true,
           "textposition": "auto",
           "type": "bar",
           "x": [
            "Horror Movies"
           ],
           "xaxis": "x",
           "y": {
            "bdata": "Cg==",
            "dtype": "i1"
           },
           "yaxis": "y"
          }
         ],
         "name": "2021"
        }
       ],
       "layout": {
        "barmode": "relative",
        "height": 600,
        "legend": {
         "title": {
          "text": "Genre"
         },
         "tracegroupgap": 0
        },
        "sliders": [
         {
          "active": 0,
          "currentvalue": {
           "prefix": "Tahun Rilis="
          },
          "len": 0.9,
          "pad": {
           "b": 10,
           "t": 60
          },
          "steps": [
           {
            "args": [
             [
              "1942"
             ],
             {
              "frame": {
               "duration": 0,
               "redraw": true
              },
              "fromcurrent": true,
              "mode": "immediate",
              "transition": {
               "duration": 0,
               "easing": "linear"
              }
             }
            ],
            "label": "1942",
            "method": "animate"
           },
           {
            "args": [
             [
              "1944"
             ],
             {
              "frame": {
               "duration": 0,
               "redraw": true
              },
              "fromcurrent": true,
              "mode": "immediate",
              "transition": {
               "duration": 0,
               "easing": "linear"
              }
             }
            ],
            "label": "1944",
            "method": "animate"
           },
           {
            "args": [
             [
              "1945"
             ],
             {
              "frame": {
               "duration": 0,
               "redraw": true
              },
              "fromcurrent": true,
              "mode": "immediate",
              "transition": {
               "duration": 0,
               "easing": "linear"
              }
             }
            ],
            "label": "1945",
            "method": "animate"
           },
           {
            "args": [
             [
              "1946"
             ],
             {
              "frame": {
               "duration": 0,
               "redraw": true
              },
              "fromcurrent": true,
              "mode": "immediate",
              "transition": {
               "duration": 0,
               "easing": "linear"
              }
             }
            ],
            "label": "1946",
            "method": "animate"
           },
           {
            "args": [
             [
              "1947"
             ],
             {
              "frame": {
               "duration": 0,
               "redraw": true
              },
              "fromcurrent": true,
              "mode": "immediate",
              "transition": {
               "duration": 0,
               "easing": "linear"
              }
             }
            ],
            "label": "1947",
            "method": "animate"
           },
           {
            "args": [
             [
              "1954"
             ],
             {
              "frame": {
               "duration": 0,
               "redraw": true
              },
              "fromcurrent": true,
              "mode": "immediate",
              "transition": {
               "duration": 0,
               "easing": "linear"
              }
             }
            ],
            "label": "1954",
            "method": "animate"
           },
           {
            "args": [
             [
              "1955"
             ],
             {
              "frame": {
               "duration": 0,
               "redraw": true
              },
              "fromcurrent": true,
              "mode": "immediate",
              "transition": {
               "duration": 0,
               "easing": "linear"
              }
             }
            ],
            "label": "1955",
            "method": "animate"
           },
           {
            "args": [
             [
              "1956"
             ],
             {
              "frame": {
               "duration": 0,
               "redraw": true
              },
              "fromcurrent": true,
              "mode": "immediate",
              "transition": {
               "duration": 0,
               "easing": "linear"
              }
             }
            ],
            "label": "1956",
            "method": "animate"
           },
           {
            "args": [
             [
              "1958"
             ],
             {
              "frame": {
               "duration": 0,
               "redraw": true
              },
              "fromcurrent": true,
              "mode": "immediate",
              "transition": {
               "duration": 0,
               "easing": "linear"
              }
             }
            ],
            "label": "1958",
            "method": "animate"
           },
           {
            "args": [
             [
              "1959"
             ],
             {
              "frame": {
               "duration": 0,
               "redraw": true
              },
              "fromcurrent": true,
              "mode": "immediate",
              "transition": {
               "duration": 0,
               "easing": "linear"
              }
             }
            ],
            "label": "1959",
            "method": "animate"
           },
           {
            "args": [
             [
              "1960"
             ],
             {
              "frame": {
               "duration": 0,
               "redraw": true
              },
              "fromcurrent": true,
              "mode": "immediate",
              "transition": {
               "duration": 0,
               "easing": "linear"
              }
             }
            ],
            "label": "1960",
            "method": "animate"
           },
           {
            "args": [
             [
              "1961"
             ],
             {
              "frame": {
               "duration": 0,
               "redraw": true
              },
              "fromcurrent": true,
              "mode": "immediate",
              "transition": {
               "duration": 0,
               "easing": "linear"
              }
             }
            ],
            "label": "1961",
            "method": "animate"
           },
           {
            "args": [
             [
              "1962"
             ],
             {
              "frame": {
               "duration": 0,
               "redraw": true
              },
              "fromcurrent": true,
              "mode": "immediate",
              "transition": {
               "duration": 0,
               "easing": "linear"
              }
             }
            ],
            "label": "1962",
            "method": "animate"
           },
           {
            "args": [
             [
              "1963"
             ],
             {
              "frame": {
               "duration": 0,
               "redraw": true
              },
              "fromcurrent": true,
              "mode": "immediate",
              "transition": {
               "duration": 0,
               "easing": "linear"
              }
             }
            ],
            "label": "1963",
            "method": "animate"
           },
           {
            "args": [
             [
              "1964"
             ],
             {
              "frame": {
               "duration": 0,
               "redraw": true
              },
              "fromcurrent": true,
              "mode": "immediate",
              "transition": {
               "duration": 0,
               "easing": "linear"
              }
             }
            ],
            "label": "1964",
            "method": "animate"
           },
           {
            "args": [
             [
              "1965"
             ],
             {
              "frame": {
               "duration": 0,
               "redraw": true
              },
              "fromcurrent": true,
              "mode": "immediate",
              "transition": {
               "duration": 0,
               "easing": "linear"
              }
             }
            ],
            "label": "1965",
            "method": "animate"
           },
           {
            "args": [
             [
              "1966"
             ],
             {
              "frame": {
               "duration": 0,
               "redraw": true
              },
              "fromcurrent": true,
              "mode": "immediate",
              "transition": {
               "duration": 0,
               "easing": "linear"
              }
             }
            ],
            "label": "1966",
            "method": "animate"
           },
           {
            "args": [
             [
              "1967"
             ],
             {
              "frame": {
               "duration": 0,
               "redraw": true
              },
              "fromcurrent": true,
              "mode": "immediate",
              "transition": {
               "duration": 0,
               "easing": "linear"
              }
             }
            ],
            "label": "1967",
            "method": "animate"
           },
           {
            "args": [
             [
              "1968"
             ],
             {
              "frame": {
               "duration": 0,
               "redraw": true
              },
              "fromcurrent": true,
              "mode": "immediate",
              "transition": {
               "duration": 0,
               "easing": "linear"
              }
             }
            ],
            "label": "1968",
            "method": "animate"
           },
           {
            "args": [
             [
              "1969"
             ],
             {
              "frame": {
               "duration": 0,
               "redraw": true
              },
              "fromcurrent": true,
              "mode": "immediate",
              "transition": {
               "duration": 0,
               "easing": "linear"
              }
             }
            ],
            "label": "1969",
            "method": "animate"
           },
           {
            "args": [
             [
              "1970"
             ],
             {
              "frame": {
               "duration": 0,
               "redraw": true
              },
              "fromcurrent": true,
              "mode": "immediate",
              "transition": {
               "duration": 0,
               "easing": "linear"
              }
             }
            ],
            "label": "1970",
            "method": "animate"
           },
           {
            "args": [
             [
              "1971"
             ],
             {
              "frame": {
               "duration": 0,
               "redraw": true
              },
              "fromcurrent": true,
              "mode": "immediate",
              "transition": {
               "duration": 0,
               "easing": "linear"
              }
             }
            ],
            "label": "1971",
            "method": "animate"
           },
           {
            "args": [
             [
              "1972"
             ],
             {
              "frame": {
               "duration": 0,
               "redraw": true
              },
              "fromcurrent": true,
              "mode": "immediate",
              "transition": {
               "duration": 0,
               "easing": "linear"
              }
             }
            ],
            "label": "1972",
            "method": "animate"
           },
           {
            "args": [
             [
              "1973"
             ],
             {
              "frame": {
               "duration": 0,
               "redraw": true
              },
              "fromcurrent": true,
              "mode": "immediate",
              "transition": {
               "duration": 0,
               "easing": "linear"
              }
             }
            ],
            "label": "1973",
            "method": "animate"
           },
           {
            "args": [
             [
              "1974"
             ],
             {
              "frame": {
               "duration": 0,
               "redraw": true
              },
              "fromcurrent": true,
              "mode": "immediate",
              "transition": {
               "duration": 0,
               "easing": "linear"
              }
             }
            ],
            "label": "1974",
            "method": "animate"
           },
           {
            "args": [
             [
              "1975"
             ],
             {
              "frame": {
               "duration": 0,
               "redraw": true
              },
              "fromcurrent": true,
              "mode": "immediate",
              "transition": {
               "duration": 0,
               "easing": "linear"
              }
             }
            ],
            "label": "1975",
            "method": "animate"
           },
           {
            "args": [
             [
              "1976"
             ],
             {
              "frame": {
               "duration": 0,
               "redraw": true
              },
              "fromcurrent": true,
              "mode": "immediate",
              "transition": {
               "duration": 0,
               "easing": "linear"
              }
             }
            ],
            "label": "1976",
            "method": "animate"
           },
           {
            "args": [
             [
              "1977"
             ],
             {
              "frame": {
               "duration": 0,
               "redraw": true
              },
              "fromcurrent": true,
              "mode": "immediate",
              "transition": {
               "duration": 0,
               "easing": "linear"
              }
             }
            ],
            "label": "1977",
            "method": "animate"
           },
           {
            "args": [
             [
              "1978"
             ],
             {
              "frame": {
               "duration": 0,
               "redraw": true
              },
              "fromcurrent": true,
              "mode": "immediate",
              "transition": {
               "duration": 0,
               "easing": "linear"
              }
             }
            ],
            "label": "1978",
            "method": "animate"
           },
           {
            "args": [
             [
              "1979"
             ],
             {
              "frame": {
               "duration": 0,
               "redraw": true
              },
              "fromcurrent": true,
              "mode": "immediate",
              "transition": {
               "duration": 0,
               "easing": "linear"
              }
             }
            ],
            "label": "1979",
            "method": "animate"
           },
           {
            "args": [
             [
              "1980"
             ],
             {
              "frame": {
               "duration": 0,
               "redraw": true
              },
              "fromcurrent": true,
              "mode": "immediate",
              "transition": {
               "duration": 0,
               "easing": "linear"
              }
             }
            ],
            "label": "1980",
            "method": "animate"
           },
           {
            "args": [
             [
              "1981"
             ],
             {
              "frame": {
               "duration": 0,
               "redraw": true
              },
              "fromcurrent": true,
              "mode": "immediate",
              "transition": {
               "duration": 0,
               "easing": "linear"
              }
             }
            ],
            "label": "1981",
            "method": "animate"
           },
           {
            "args": [
             [
              "1982"
             ],
             {
              "frame": {
               "duration": 0,
               "redraw": true
              },
              "fromcurrent": true,
              "mode": "immediate",
              "transition": {
               "duration": 0,
               "easing": "linear"
              }
             }
            ],
            "label": "1982",
            "method": "animate"
           },
           {
            "args": [
             [
              "1983"
             ],
             {
              "frame": {
               "duration": 0,
               "redraw": true
              },
              "fromcurrent": true,
              "mode": "immediate",
              "transition": {
               "duration": 0,
               "easing": "linear"
              }
             }
            ],
            "label": "1983",
            "method": "animate"
           },
           {
            "args": [
             [
              "1984"
             ],
             {
              "frame": {
               "duration": 0,
               "redraw": true
              },
              "fromcurrent": true,
              "mode": "immediate",
              "transition": {
               "duration": 0,
               "easing": "linear"
              }
             }
            ],
            "label": "1984",
            "method": "animate"
           },
           {
            "args": [
             [
              "1985"
             ],
             {
              "frame": {
               "duration": 0,
               "redraw": true
              },
              "fromcurrent": true,
              "mode": "immediate",
              "transition": {
               "duration": 0,
               "easing": "linear"
              }
             }
            ],
            "label": "1985",
            "method": "animate"
           },
           {
            "args": [
             [
              "1986"
             ],
             {
              "frame": {
               "duration": 0,
               "redraw": true
              },
              "fromcurrent": true,
              "mode": "immediate",
              "transition": {
               "duration": 0,
               "easing": "linear"
              }
             }
            ],
            "label": "1986",
            "method": "animate"
           },
           {
            "args": [
             [
              "1987"
             ],
             {
              "frame": {
               "duration": 0,
               "redraw": true
              },
              "fromcurrent": true,
              "mode": "immediate",
              "transition": {
               "duration": 0,
               "easing": "linear"
              }
             }
            ],
            "label": "1987",
            "method": "animate"
           },
           {
            "args": [
             [
              "1988"
             ],
             {
              "frame": {
               "duration": 0,
               "redraw": true
              },
              "fromcurrent": true,
              "mode": "immediate",
              "transition": {
               "duration": 0,
               "easing": "linear"
              }
             }
            ],
            "label": "1988",
            "method": "animate"
           },
           {
            "args": [
             [
              "1989"
             ],
             {
              "frame": {
               "duration": 0,
               "redraw": true
              },
              "fromcurrent": true,
              "mode": "immediate",
              "transition": {
               "duration": 0,
               "easing": "linear"
              }
             }
            ],
            "label": "1989",
            "method": "animate"
           },
           {
            "args": [
             [
              "1990"
             ],
             {
              "frame": {
               "duration": 0,
               "redraw": true
              },
              "fromcurrent": true,
              "mode": "immediate",
              "transition": {
               "duration": 0,
               "easing": "linear"
              }
             }
            ],
            "label": "1990",
            "method": "animate"
           },
           {
            "args": [
             [
              "1991"
             ],
             {
              "frame": {
               "duration": 0,
               "redraw": true
              },
              "fromcurrent": true,
              "mode": "immediate",
              "transition": {
               "duration": 0,
               "easing": "linear"
              }
             }
            ],
            "label": "1991",
            "method": "animate"
           },
           {
            "args": [
             [
              "1992"
             ],
             {
              "frame": {
               "duration": 0,
               "redraw": true
              },
              "fromcurrent": true,
              "mode": "immediate",
              "transition": {
               "duration": 0,
               "easing": "linear"
              }
             }
            ],
            "label": "1992",
            "method": "animate"
           },
           {
            "args": [
             [
              "1993"
             ],
             {
              "frame": {
               "duration": 0,
               "redraw": true
              },
              "fromcurrent": true,
              "mode": "immediate",
              "transition": {
               "duration": 0,
               "easing": "linear"
              }
             }
            ],
            "label": "1993",
            "method": "animate"
           },
           {
            "args": [
             [
              "1994"
             ],
             {
              "frame": {
               "duration": 0,
               "redraw": true
              },
              "fromcurrent": true,
              "mode": "immediate",
              "transition": {
               "duration": 0,
               "easing": "linear"
              }
             }
            ],
            "label": "1994",
            "method": "animate"
           },
           {
            "args": [
             [
              "1995"
             ],
             {
              "frame": {
               "duration": 0,
               "redraw": true
              },
              "fromcurrent": true,
              "mode": "immediate",
              "transition": {
               "duration": 0,
               "easing": "linear"
              }
             }
            ],
            "label": "1995",
            "method": "animate"
           },
           {
            "args": [
             [
              "1996"
             ],
             {
              "frame": {
               "duration": 0,
               "redraw": true
              },
              "fromcurrent": true,
              "mode": "immediate",
              "transition": {
               "duration": 0,
               "easing": "linear"
              }
             }
            ],
            "label": "1996",
            "method": "animate"
           },
           {
            "args": [
             [
              "1997"
             ],
             {
              "frame": {
               "duration": 0,
               "redraw": true
              },
              "fromcurrent": true,
              "mode": "immediate",
              "transition": {
               "duration": 0,
               "easing": "linear"
              }
             }
            ],
            "label": "1997",
            "method": "animate"
           },
           {
            "args": [
             [
              "1998"
             ],
             {
              "frame": {
               "duration": 0,
               "redraw": true
              },
              "fromcurrent": true,
              "mode": "immediate",
              "transition": {
               "duration": 0,
               "easing": "linear"
              }
             }
            ],
            "label": "1998",
            "method": "animate"
           },
           {
            "args": [
             [
              "1999"
             ],
             {
              "frame": {
               "duration": 0,
               "redraw": true
              },
              "fromcurrent": true,
              "mode": "immediate",
              "transition": {
               "duration": 0,
               "easing": "linear"
              }
             }
            ],
            "label": "1999",
            "method": "animate"
           },
           {
            "args": [
             [
              "2000"
             ],
             {
              "frame": {
               "duration": 0,
               "redraw": true
              },
              "fromcurrent": true,
              "mode": "immediate",
              "transition": {
               "duration": 0,
               "easing": "linear"
              }
             }
            ],
            "label": "2000",
            "method": "animate"
           },
           {
            "args": [
             [
              "2001"
             ],
             {
              "frame": {
               "duration": 0,
               "redraw": true
              },
              "fromcurrent": true,
              "mode": "immediate",
              "transition": {
               "duration": 0,
               "easing": "linear"
              }
             }
            ],
            "label": "2001",
            "method": "animate"
           },
           {
            "args": [
             [
              "2002"
             ],
             {
              "frame": {
               "duration": 0,
               "redraw": true
              },
              "fromcurrent": true,
              "mode": "immediate",
              "transition": {
               "duration": 0,
               "easing": "linear"
              }
             }
            ],
            "label": "2002",
            "method": "animate"
           },
           {
            "args": [
             [
              "2003"
             ],
             {
              "frame": {
               "duration": 0,
               "redraw": true
              },
              "fromcurrent": true,
              "mode": "immediate",
              "transition": {
               "duration": 0,
               "easing": "linear"
              }
             }
            ],
            "label": "2003",
            "method": "animate"
           },
           {
            "args": [
             [
              "2004"
             ],
             {
              "frame": {
               "duration": 0,
               "redraw": true
              },
              "fromcurrent": true,
              "mode": "immediate",
              "transition": {
               "duration": 0,
               "easing": "linear"
              }
             }
            ],
            "label": "2004",
            "method": "animate"
           },
           {
            "args": [
             [
              "2005"
             ],
             {
              "frame": {
               "duration": 0,
               "redraw": true
              },
              "fromcurrent": true,
              "mode": "immediate",
              "transition": {
               "duration": 0,
               "easing": "linear"
              }
             }
            ],
            "label": "2005",
            "method": "animate"
           },
           {
            "args": [
             [
              "2006"
             ],
             {
              "frame": {
               "duration": 0,
               "redraw": true
              },
              "fromcurrent": true,
              "mode": "immediate",
              "transition": {
               "duration": 0,
               "easing": "linear"
              }
             }
            ],
            "label": "2006",
            "method": "animate"
           },
           {
            "args": [
             [
              "2007"
             ],
             {
              "frame": {
               "duration": 0,
               "redraw": true
              },
              "fromcurrent": true,
              "mode": "immediate",
              "transition": {
               "duration": 0,
               "easing": "linear"
              }
             }
            ],
            "label": "2007",
            "method": "animate"
           },
           {
            "args": [
             [
              "2008"
             ],
             {
              "frame": {
               "duration": 0,
               "redraw": true
              },
              "fromcurrent": true,
              "mode": "immediate",
              "transition": {
               "duration": 0,
               "easing": "linear"
              }
             }
            ],
            "label": "2008",
            "method": "animate"
           },
           {
            "args": [
             [
              "2009"
             ],
             {
              "frame": {
               "duration": 0,
               "redraw": true
              },
              "fromcurrent": true,
              "mode": "immediate",
              "transition": {
               "duration": 0,
               "easing": "linear"
              }
             }
            ],
            "label": "2009",
            "method": "animate"
           },
           {
            "args": [
             [
              "2010"
             ],
             {
              "frame": {
               "duration": 0,
               "redraw": true
              },
              "fromcurrent": true,
              "mode": "immediate",
              "transition": {
               "duration": 0,
               "easing": "linear"
              }
             }
            ],
            "label": "2010",
            "method": "animate"
           },
           {
            "args": [
             [
              "2011"
             ],
             {
              "frame": {
               "duration": 0,
               "redraw": true
              },
              "fromcurrent": true,
              "mode": "immediate",
              "transition": {
               "duration": 0,
               "easing": "linear"
              }
             }
            ],
            "label": "2011",
            "method": "animate"
           },
           {
            "args": [
             [
              "2012"
             ],
             {
              "frame": {
               "duration": 0,
               "redraw": true
              },
              "fromcurrent": true,
              "mode": "immediate",
              "transition": {
               "duration": 0,
               "easing": "linear"
              }
             }
            ],
            "label": "2012",
            "method": "animate"
           },
           {
            "args": [
             [
              "2013"
             ],
             {
              "frame": {
               "duration": 0,
               "redraw": true
              },
              "fromcurrent": true,
              "mode": "immediate",
              "transition": {
               "duration": 0,
               "easing": "linear"
              }
             }
            ],
            "label": "2013",
            "method": "animate"
           },
           {
            "args": [
             [
              "2014"
             ],
             {
              "frame": {
               "duration": 0,
               "redraw": true
              },
              "fromcurrent": true,
              "mode": "immediate",
              "transition": {
               "duration": 0,
               "easing": "linear"
              }
             }
            ],
            "label": "2014",
            "method": "animate"
           },
           {
            "args": [
             [
              "2015"
             ],
             {
              "frame": {
               "duration": 0,
               "redraw": true
              },
              "fromcurrent": true,
              "mode": "immediate",
              "transition": {
               "duration": 0,
               "easing": "linear"
              }
             }
            ],
            "label": "2015",
            "method": "animate"
           },
           {
            "args": [
             [
              "2016"
             ],
             {
              "frame": {
               "duration": 0,
               "redraw": true
              },
              "fromcurrent": true,
              "mode": "immediate",
              "transition": {
               "duration": 0,
               "easing": "linear"
              }
             }
            ],
            "label": "2016",
            "method": "animate"
           },
           {
            "args": [
             [
              "2017"
             ],
             {
              "frame": {
               "duration": 0,
               "redraw": true
              },
              "fromcurrent": true,
              "mode": "immediate",
              "transition": {
               "duration": 0,
               "easing": "linear"
              }
             }
            ],
            "label": "2017",
            "method": "animate"
           },
           {
            "args": [
             [
              "2018"
             ],
             {
              "frame": {
               "duration": 0,
               "redraw": true
              },
              "fromcurrent": true,
              "mode": "immediate",
              "transition": {
               "duration": 0,
               "easing": "linear"
              }
             }
            ],
            "label": "2018",
            "method": "animate"
           },
           {
            "args": [
             [
              "2019"
             ],
             {
              "frame": {
               "duration": 0,
               "redraw": true
              },
              "fromcurrent": true,
              "mode": "immediate",
              "transition": {
               "duration": 0,
               "easing": "linear"
              }
             }
            ],
            "label": "2019",
            "method": "animate"
           },
           {
            "args": [
             [
              "2020"
             ],
             {
              "frame": {
               "duration": 0,
               "redraw": true
              },
              "fromcurrent": true,
              "mode": "immediate",
              "transition": {
               "duration": 0,
               "easing": "linear"
              }
             }
            ],
            "label": "2020",
            "method": "animate"
           },
           {
            "args": [
             [
              "2021"
             ],
             {
              "frame": {
               "duration": 0,
               "redraw": true
              },
              "fromcurrent": true,
              "mode": "immediate",
              "transition": {
               "duration": 0,
               "easing": "linear"
              }
             }
            ],
            "label": "2021",
            "method": "animate"
           }
          ],
          "x": 0.1,
          "xanchor": "left",
          "y": 0,
          "yanchor": "top"
         }
        ],
        "template": {
         "data": {
          "bar": [
           {
            "error_x": {
             "color": "#f2f5fa"
            },
            "error_y": {
             "color": "#f2f5fa"
            },
            "marker": {
             "line": {
              "color": "rgb(17,17,17)",
              "width": 0.5
             },
             "pattern": {
              "fillmode": "overlay",
              "size": 10,
              "solidity": 0.2
             }
            },
            "type": "bar"
           }
          ],
          "barpolar": [
           {
            "marker": {
             "line": {
              "color": "rgb(17,17,17)",
              "width": 0.5
             },
             "pattern": {
              "fillmode": "overlay",
              "size": 10,
              "solidity": 0.2
             }
            },
            "type": "barpolar"
           }
          ],
          "carpet": [
           {
            "aaxis": {
             "endlinecolor": "#A2B1C6",
             "gridcolor": "#506784",
             "linecolor": "#506784",
             "minorgridcolor": "#506784",
             "startlinecolor": "#A2B1C6"
            },
            "baxis": {
             "endlinecolor": "#A2B1C6",
             "gridcolor": "#506784",
             "linecolor": "#506784",
             "minorgridcolor": "#506784",
             "startlinecolor": "#A2B1C6"
            },
            "type": "carpet"
           }
          ],
          "choropleth": [
           {
            "colorbar": {
             "outlinewidth": 0,
             "ticks": ""
            },
            "type": "choropleth"
           }
          ],
          "contour": [
           {
            "colorbar": {
             "outlinewidth": 0,
             "ticks": ""
            },
            "colorscale": [
             [
              0,
              "#0d0887"
             ],
             [
              0.1111111111111111,
              "#46039f"
             ],
             [
              0.2222222222222222,
              "#7201a8"
             ],
             [
              0.3333333333333333,
              "#9c179e"
             ],
             [
              0.4444444444444444,
              "#bd3786"
             ],
             [
              0.5555555555555556,
              "#d8576b"
             ],
             [
              0.6666666666666666,
              "#ed7953"
             ],
             [
              0.7777777777777778,
              "#fb9f3a"
             ],
             [
              0.8888888888888888,
              "#fdca26"
             ],
             [
              1,
              "#f0f921"
             ]
            ],
            "type": "contour"
           }
          ],
          "contourcarpet": [
           {
            "colorbar": {
             "outlinewidth": 0,
             "ticks": ""
            },
            "type": "contourcarpet"
           }
          ],
          "heatmap": [
           {
            "colorbar": {
             "outlinewidth": 0,
             "ticks": ""
            },
            "colorscale": [
             [
              0,
              "#0d0887"
             ],
             [
              0.1111111111111111,
              "#46039f"
             ],
             [
              0.2222222222222222,
              "#7201a8"
             ],
             [
              0.3333333333333333,
              "#9c179e"
             ],
             [
              0.4444444444444444,
              "#bd3786"
             ],
             [
              0.5555555555555556,
              "#d8576b"
             ],
             [
              0.6666666666666666,
              "#ed7953"
             ],
             [
              0.7777777777777778,
              "#fb9f3a"
             ],
             [
              0.8888888888888888,
              "#fdca26"
             ],
             [
              1,
              "#f0f921"
             ]
            ],
            "type": "heatmap"
           }
          ],
          "histogram": [
           {
            "marker": {
             "pattern": {
              "fillmode": "overlay",
              "size": 10,
              "solidity": 0.2
             }
            },
            "type": "histogram"
           }
          ],
          "histogram2d": [
           {
            "colorbar": {
             "outlinewidth": 0,
             "ticks": ""
            },
            "colorscale": [
             [
              0,
              "#0d0887"
             ],
             [
              0.1111111111111111,
              "#46039f"
             ],
             [
              0.2222222222222222,
              "#7201a8"
             ],
             [
              0.3333333333333333,
              "#9c179e"
             ],
             [
              0.4444444444444444,
              "#bd3786"
             ],
             [
              0.5555555555555556,
              "#d8576b"
             ],
             [
              0.6666666666666666,
              "#ed7953"
             ],
             [
              0.7777777777777778,
              "#fb9f3a"
             ],
             [
              0.8888888888888888,
              "#fdca26"
             ],
             [
              1,
              "#f0f921"
             ]
            ],
            "type": "histogram2d"
           }
          ],
          "histogram2dcontour": [
           {
            "colorbar": {
             "outlinewidth": 0,
             "ticks": ""
            },
            "colorscale": [
             [
              0,
              "#0d0887"
             ],
             [
              0.1111111111111111,
              "#46039f"
             ],
             [
              0.2222222222222222,
              "#7201a8"
             ],
             [
              0.3333333333333333,
              "#9c179e"
             ],
             [
              0.4444444444444444,
              "#bd3786"
             ],
             [
              0.5555555555555556,
              "#d8576b"
             ],
             [
              0.6666666666666666,
              "#ed7953"
             ],
             [
              0.7777777777777778,
              "#fb9f3a"
             ],
             [
              0.8888888888888888,
              "#fdca26"
             ],
             [
              1,
              "#f0f921"
             ]
            ],
            "type": "histogram2dcontour"
           }
          ],
          "mesh3d": [
           {
            "colorbar": {
             "outlinewidth": 0,
             "ticks": ""
            },
            "type": "mesh3d"
           }
          ],
          "parcoords": [
           {
            "line": {
             "colorbar": {
              "outlinewidth": 0,
              "ticks": ""
             }
            },
            "type": "parcoords"
           }
          ],
          "pie": [
           {
            "automargin": true,
            "type": "pie"
           }
          ],
          "scatter": [
           {
            "marker": {
             "line": {
              "color": "#283442"
             }
            },
            "type": "scatter"
           }
          ],
          "scatter3d": [
           {
            "line": {
             "colorbar": {
              "outlinewidth": 0,
              "ticks": ""
             }
            },
            "marker": {
             "colorbar": {
              "outlinewidth": 0,
              "ticks": ""
             }
            },
            "type": "scatter3d"
           }
          ],
          "scattercarpet": [
           {
            "marker": {
             "colorbar": {
              "outlinewidth": 0,
              "ticks": ""
             }
            },
            "type": "scattercarpet"
           }
          ],
          "scattergeo": [
           {
            "marker": {
             "colorbar": {
              "outlinewidth": 0,
              "ticks": ""
             }
            },
            "type": "scattergeo"
           }
          ],
          "scattergl": [
           {
            "marker": {
             "line": {
              "color": "#283442"
             }
            },
            "type": "scattergl"
           }
          ],
          "scattermap": [
           {
            "marker": {
             "colorbar": {
              "outlinewidth": 0,
              "ticks": ""
             }
            },
            "type": "scattermap"
           }
          ],
          "scattermapbox": [
           {
            "marker": {
             "colorbar": {
              "outlinewidth": 0,
              "ticks": ""
             }
            },
            "type": "scattermapbox"
           }
          ],
          "scatterpolar": [
           {
            "marker": {
             "colorbar": {
              "outlinewidth": 0,
              "ticks": ""
             }
            },
            "type": "scatterpolar"
           }
          ],
          "scatterpolargl": [
           {
            "marker": {
             "colorbar": {
              "outlinewidth": 0,
              "ticks": ""
             }
            },
            "type": "scatterpolargl"
           }
          ],
          "scatterternary": [
           {
            "marker": {
             "colorbar": {
              "outlinewidth": 0,
              "ticks": ""
             }
            },
            "type": "scatterternary"
           }
          ],
          "surface": [
           {
            "colorbar": {
             "outlinewidth": 0,
             "ticks": ""
            },
            "colorscale": [
             [
              0,
              "#0d0887"
             ],
             [
              0.1111111111111111,
              "#46039f"
             ],
             [
              0.2222222222222222,
              "#7201a8"
             ],
             [
              0.3333333333333333,
              "#9c179e"
             ],
             [
              0.4444444444444444,
              "#bd3786"
             ],
             [
              0.5555555555555556,
              "#d8576b"
             ],
             [
              0.6666666666666666,
              "#ed7953"
             ],
             [
              0.7777777777777778,
              "#fb9f3a"
             ],
             [
              0.8888888888888888,
              "#fdca26"
             ],
             [
              1,
              "#f0f921"
             ]
            ],
            "type": "surface"
           }
          ],
          "table": [
           {
            "cells": {
             "fill": {
              "color": "#506784"
             },
             "line": {
              "color": "rgb(17,17,17)"
             }
            },
            "header": {
             "fill": {
              "color": "#2a3f5f"
             },
             "line": {
              "color": "rgb(17,17,17)"
             }
            },
            "type": "table"
           }
          ]
         },
         "layout": {
          "annotationdefaults": {
           "arrowcolor": "#f2f5fa",
           "arrowhead": 0,
           "arrowwidth": 1
          },
          "autotypenumbers": "strict",
          "coloraxis": {
           "colorbar": {
            "outlinewidth": 0,
            "ticks": ""
           }
          },
          "colorscale": {
           "diverging": [
            [
             0,
             "#8e0152"
            ],
            [
             0.1,
             "#c51b7d"
            ],
            [
             0.2,
             "#de77ae"
            ],
            [
             0.3,
             "#f1b6da"
            ],
            [
             0.4,
             "#fde0ef"
            ],
            [
             0.5,
             "#f7f7f7"
            ],
            [
             0.6,
             "#e6f5d0"
            ],
            [
             0.7,
             "#b8e186"
            ],
            [
             0.8,
             "#7fbc41"
            ],
            [
             0.9,
             "#4d9221"
            ],
            [
             1,
             "#276419"
            ]
           ],
           "sequential": [
            [
             0,
             "#0d0887"
            ],
            [
             0.1111111111111111,
             "#46039f"
            ],
            [
             0.2222222222222222,
             "#7201a8"
            ],
            [
             0.3333333333333333,
             "#9c179e"
            ],
            [
             0.4444444444444444,
             "#bd3786"
            ],
            [
             0.5555555555555556,
             "#d8576b"
            ],
            [
             0.6666666666666666,
             "#ed7953"
            ],
            [
             0.7777777777777778,
             "#fb9f3a"
            ],
            [
             0.8888888888888888,
             "#fdca26"
            ],
            [
             1,
             "#f0f921"
            ]
           ],
           "sequentialminus": [
            [
             0,
             "#0d0887"
            ],
            [
             0.1111111111111111,
             "#46039f"
            ],
            [
             0.2222222222222222,
             "#7201a8"
            ],
            [
             0.3333333333333333,
             "#9c179e"
            ],
            [
             0.4444444444444444,
             "#bd3786"
            ],
            [
             0.5555555555555556,
             "#d8576b"
            ],
            [
             0.6666666666666666,
             "#ed7953"
            ],
            [
             0.7777777777777778,
             "#fb9f3a"
            ],
            [
             0.8888888888888888,
             "#fdca26"
            ],
            [
             1,
             "#f0f921"
            ]
           ]
          },
          "colorway": [
           "#636efa",
           "#EF553B",
           "#00cc96",
           "#ab63fa",
           "#FFA15A",
           "#19d3f3",
           "#FF6692",
           "#B6E880",
           "#FF97FF",
           "#FECB52"
          ],
          "font": {
           "color": "#f2f5fa"
          },
          "geo": {
           "bgcolor": "rgb(17,17,17)",
           "lakecolor": "rgb(17,17,17)",
           "landcolor": "rgb(17,17,17)",
           "showlakes": true,
           "showland": true,
           "subunitcolor": "#506784"
          },
          "hoverlabel": {
           "align": "left"
          },
          "hovermode": "closest",
          "mapbox": {
           "style": "dark"
          },
          "paper_bgcolor": "rgb(17,17,17)",
          "plot_bgcolor": "rgb(17,17,17)",
          "polar": {
           "angularaxis": {
            "gridcolor": "#506784",
            "linecolor": "#506784",
            "ticks": ""
           },
           "bgcolor": "rgb(17,17,17)",
           "radialaxis": {
            "gridcolor": "#506784",
            "linecolor": "#506784",
            "ticks": ""
           }
          },
          "scene": {
           "xaxis": {
            "backgroundcolor": "rgb(17,17,17)",
            "gridcolor": "#506784",
            "gridwidth": 2,
            "linecolor": "#506784",
            "showbackground": true,
            "ticks": "",
            "zerolinecolor": "#C8D4E3"
           },
           "yaxis": {
            "backgroundcolor": "rgb(17,17,17)",
            "gridcolor": "#506784",
            "gridwidth": 2,
            "linecolor": "#506784",
            "showbackground": true,
            "ticks": "",
            "zerolinecolor": "#C8D4E3"
           },
           "zaxis": {
            "backgroundcolor": "rgb(17,17,17)",
            "gridcolor": "#506784",
            "gridwidth": 2,
            "linecolor": "#506784",
            "showbackground": true,
            "ticks": "",
            "zerolinecolor": "#C8D4E3"
           }
          },
          "shapedefaults": {
           "line": {
            "color": "#f2f5fa"
           }
          },
          "sliderdefaults": {
           "bgcolor": "#C8D4E3",
           "bordercolor": "rgb(17,17,17)",
           "borderwidth": 1,
           "tickwidth": 0
          },
          "ternary": {
           "aaxis": {
            "gridcolor": "#506784",
            "linecolor": "#506784",
            "ticks": ""
           },
           "baxis": {
            "gridcolor": "#506784",
            "linecolor": "#506784",
            "ticks": ""
           },
           "bgcolor": "rgb(17,17,17)",
           "caxis": {
            "gridcolor": "#506784",
            "linecolor": "#506784",
            "ticks": ""
           }
          },
          "title": {
           "x": 0.05
          },
          "updatemenudefaults": {
           "bgcolor": "#506784",
           "borderwidth": 0
          },
          "xaxis": {
           "automargin": true,
           "gridcolor": "#283442",
           "linecolor": "#506784",
           "ticks": "",
           "title": {
            "standoff": 15
           },
           "zerolinecolor": "#283442",
           "zerolinewidth": 2
          },
          "yaxis": {
           "automargin": true,
           "gridcolor": "#283442",
           "linecolor": "#506784",
           "ticks": "",
           "title": {
            "standoff": 15
           },
           "zerolinecolor": "#283442",
           "zerolinewidth": 2
          }
         }
        },
        "title": {
         "text": "Top 10 Genre Netflix per Tahun"
        },
        "updatemenus": [
         {
          "buttons": [
           {
            "args": [
             null,
             {
              "frame": {
               "duration": 500,
               "redraw": true
              },
              "fromcurrent": true,
              "mode": "immediate",
              "transition": {
               "duration": 500,
               "easing": "linear"
              }
             }
            ],
            "label": "&#9654;",
            "method": "animate"
           },
           {
            "args": [
             [
              null
             ],
             {
              "frame": {
               "duration": 0,
               "redraw": true
              },
              "fromcurrent": true,
              "mode": "immediate",
              "transition": {
               "duration": 0,
               "easing": "linear"
              }
             }
            ],
            "label": "&#9724;",
            "method": "animate"
           }
          ],
          "direction": "left",
          "pad": {
           "r": 10,
           "t": 70
          },
          "showactive": false,
          "type": "buttons",
          "x": 0.1,
          "xanchor": "right",
          "y": 0,
          "yanchor": "top"
         }
        ],
        "xaxis": {
         "anchor": "y",
         "automargin": true,
         "categoryarray": [
          "International Movies",
          "Dramas",
          "Comedies",
          "Action & Adventure",
          "Independent Movies",
          "Romantic Movies",
          "Thrillers",
          "Children & Family Movies",
          "Documentaries",
          "Horror Movies"
         ],
         "categoryorder": "array",
         "domain": [
          0,
          1
         ],
         "tickangle": -45,
         "tickfont": {
          "size": 10
         },
         "title": {
          "text": "Genre"
         }
        },
        "yaxis": {
         "anchor": "x",
         "domain": [
          0,
          1
         ],
         "range": [
          0,
          323.40000000000003
         ],
         "title": {
          "text": "Jumlah Rilis"
         }
        }
       }
      }
     },
     "metadata": {},
     "output_type": "display_data"
    }
   ],
   "source": [
    "# — Preprocessing genre —\n",
    "df['genre'] = df['listed_in'].fillna('Unknown').str.split(', ')\n",
    "genre_df = df.explode('genre')\n",
    "\n",
    "# — Tentukan Top-10 genre sepanjang waktu —\n",
    "top_genres = (\n",
    "    genre_df['genre']\n",
    "      .value_counts()\n",
    "      .head(10)\n",
    "      .index\n",
    "      .tolist()\n",
    ")\n",
    "\n",
    "# — Hitung jumlah rilis per (tahun, genre) hanya untuk Top-10 —\n",
    "genre_year = (\n",
    "    genre_df[genre_df['genre'].isin(top_genres)]\n",
    "      .groupby(['release_year','genre'])\n",
    "      .size()\n",
    "      .reset_index(name='count')\n",
    ")\n",
    "\n",
    "# — Pastikan setiap (tahun,genre) kombinasi ada (fill 0) —\n",
    "years = genre_year['release_year'].unique()\n",
    "full_idx = pd.MultiIndex.from_product([years, top_genres], names=['release_year','genre'])\n",
    "genre_year = (\n",
    "    genre_year\n",
    "      .set_index(['release_year','genre'])\n",
    "      .reindex(full_idx, fill_value=0)\n",
    "      .reset_index()\n",
    ")\n",
    "\n",
    "# — Buat interactive bar chart dengan slider tahun —\n",
    "fig = px.bar(\n",
    "    genre_year,\n",
    "    x='genre',\n",
    "    y='count',\n",
    "    color='genre',\n",
    "    animation_frame='release_year',\n",
    "    animation_group='genre',\n",
    "    category_orders={'genre': top_genres},\n",
    "    range_y=[0, genre_year['count'].max()*1.1],\n",
    "    title='Top 10 Genre Netflix per Tahun',\n",
    "    labels={'count':'Jumlah Rilis', 'genre':'Genre', 'release_year':'Tahun Rilis'}\n",
    ")\n",
    "\n",
    "fig.update_layout(\n",
    "    xaxis_tickangle=-45,\n",
    "    legend_title_text='Genre',\n",
    "    template='plotly_dark',\n",
    "    height=600,\n",
    ")\n",
    "fig.update_xaxes(tickfont=dict(size=10), automargin=True)\n",
    "\n",
    "fig.show()"
   ]
  },
  {
   "cell_type": "markdown",
   "id": "65ff1ed6",
   "metadata": {},
   "source": [
    "### Prediksi Popularitas Genre (2022-2026)"
   ]
  },
  {
   "cell_type": "code",
   "execution_count": 10,
   "id": "d6c3df60",
   "metadata": {},
   "outputs": [
    {
     "data": {
      "text/html": [
       "\n",
       "  <div id=\"f60282bd-a7f2-488a-b73d-390bdf06532a\" data-root-id=\"p1329\" style=\"display: contents;\"></div>\n"
      ]
     },
     "metadata": {},
     "output_type": "display_data"
    },
    {
     "data": {
      "application/javascript": "(function(root) {\n  function embed_document(root) {\n  const docs_json = {\"54b6ae97-af1f-40c1-8a85-c60e0561909f\":{\"version\":\"3.7.3\",\"title\":\"Bokeh Application\",\"roots\":[{\"type\":\"object\",\"name\":\"Figure\",\"id\":\"p1329\",\"attributes\":{\"width\":900,\"height\":450,\"x_range\":{\"type\":\"object\",\"name\":\"FactorRange\",\"id\":\"p1339\",\"attributes\":{\"factors\":[\"2022\",\"2023\",\"2024\",\"2025\",\"2026\"]}},\"y_range\":{\"type\":\"object\",\"name\":\"DataRange1d\",\"id\":\"p1331\"},\"x_scale\":{\"type\":\"object\",\"name\":\"CategoricalScale\",\"id\":\"p1340\"},\"y_scale\":{\"type\":\"object\",\"name\":\"LinearScale\",\"id\":\"p1341\"},\"title\":{\"type\":\"object\",\"name\":\"Title\",\"id\":\"p1332\",\"attributes\":{\"text\":\"Prediksi Popularitas Genre (2022\\u20132026)\"}},\"renderers\":[{\"type\":\"object\",\"name\":\"GlyphRenderer\",\"id\":\"p1370\",\"attributes\":{\"data_source\":{\"type\":\"object\",\"name\":\"ColumnDataSource\",\"id\":\"p1326\",\"attributes\":{\"selected\":{\"type\":\"object\",\"name\":\"Selection\",\"id\":\"p1327\",\"attributes\":{\"indices\":[],\"line_indices\":[]}},\"selection_policy\":{\"type\":\"object\",\"name\":\"UnionRenderers\",\"id\":\"p1328\"},\"data\":{\"type\":\"map\",\"entries\":[[\"year\",[\"2022\",\"2023\",\"2024\",\"2025\",\"2026\"]],[\"International_Movies\",{\"type\":\"ndarray\",\"array\":{\"type\":\"bytes\",\"data\":\"eAAAAHoAAAB9AAAAgAAAAIIAAAA=\"},\"shape\":[5],\"dtype\":\"int32\",\"order\":\"little\"}],[\"Dramas\",{\"type\":\"ndarray\",\"array\":{\"type\":\"bytes\",\"data\":\"bwAAAHEAAABzAAAAdgAAAHgAAAA=\"},\"shape\":[5],\"dtype\":\"int32\",\"order\":\"little\"}],[\"Comedies\",{\"type\":\"ndarray\",\"array\":{\"type\":\"bytes\",\"data\":\"TQAAAE8AAABRAAAAUgAAAFQAAAA=\"},\"shape\":[5],\"dtype\":\"int32\",\"order\":\"little\"}],[\"Action_and_Adventure\",{\"type\":\"ndarray\",\"array\":{\"type\":\"bytes\",\"data\":\"JQAAACYAAAAnAAAAJwAAACgAAAA=\"},\"shape\":[5],\"dtype\":\"int32\",\"order\":\"little\"}],[\"Independent_Movies\",{\"type\":\"ndarray\",\"array\":{\"type\":\"bytes\",\"data\":\"LQAAAC4AAAAvAAAAMAAAADIAAAA=\"},\"shape\":[5],\"dtype\":\"int32\",\"order\":\"little\"}],[\"Romantic_Movies\",{\"type\":\"ndarray\",\"array\":{\"type\":\"bytes\",\"data\":\"IAAAACEAAAAiAAAAIgAAACMAAAA=\"},\"shape\":[5],\"dtype\":\"int32\",\"order\":\"little\"}],[\"Thrillers\",{\"type\":\"ndarray\",\"array\":{\"type\":\"bytes\",\"data\":\"JgAAACcAAAApAAAAKgAAACsAAAA=\"},\"shape\":[5],\"dtype\":\"int32\",\"order\":\"little\"}],[\"Children_and_Family_Movies\",{\"type\":\"ndarray\",\"array\":{\"type\":\"bytes\",\"data\":\"HQAAAB0AAAAeAAAAHwAAACAAAAA=\"},\"shape\":[5],\"dtype\":\"int32\",\"order\":\"little\"}],[\"Documentaries\",{\"type\":\"ndarray\",\"array\":{\"type\":\"bytes\",\"data\":\"FgAAABcAAAAXAAAAFwAAABgAAAA=\"},\"shape\":[5],\"dtype\":\"int32\",\"order\":\"little\"}],[\"Horror_Movies\",{\"type\":\"ndarray\",\"array\":{\"type\":\"bytes\",\"data\":\"FgAAABYAAAAXAAAAFwAAABgAAAA=\"},\"shape\":[5],\"dtype\":\"int32\",\"order\":\"little\"}]]}}},\"view\":{\"type\":\"object\",\"name\":\"CDSView\",\"id\":\"p1371\",\"attributes\":{\"filter\":{\"type\":\"object\",\"name\":\"AllIndices\",\"id\":\"p1372\"}}},\"glyph\":{\"type\":\"object\",\"name\":\"Line\",\"id\":\"p1367\",\"attributes\":{\"x\":{\"type\":\"field\",\"field\":\"year\"},\"y\":{\"type\":\"field\",\"field\":\"International_Movies\"},\"line_color\":\"#1f77b4\",\"line_width\":2}},\"nonselection_glyph\":{\"type\":\"object\",\"name\":\"Line\",\"id\":\"p1368\",\"attributes\":{\"x\":{\"type\":\"field\",\"field\":\"year\"},\"y\":{\"type\":\"field\",\"field\":\"International_Movies\"},\"line_color\":\"#1f77b4\",\"line_alpha\":0.1,\"line_width\":2}},\"muted_glyph\":{\"type\":\"object\",\"name\":\"Line\",\"id\":\"p1369\",\"attributes\":{\"x\":{\"type\":\"field\",\"field\":\"year\"},\"y\":{\"type\":\"field\",\"field\":\"International_Movies\"},\"line_color\":\"#1f77b4\",\"line_alpha\":0.2,\"line_width\":2}}}},{\"type\":\"object\",\"name\":\"GlyphRenderer\",\"id\":\"p1379\",\"attributes\":{\"data_source\":{\"id\":\"p1326\"},\"view\":{\"type\":\"object\",\"name\":\"CDSView\",\"id\":\"p1380\",\"attributes\":{\"filter\":{\"type\":\"object\",\"name\":\"AllIndices\",\"id\":\"p1381\"}}},\"glyph\":{\"type\":\"object\",\"name\":\"Scatter\",\"id\":\"p1376\",\"attributes\":{\"x\":{\"type\":\"field\",\"field\":\"year\"},\"y\":{\"type\":\"field\",\"field\":\"International_Movies\"},\"size\":{\"type\":\"value\",\"value\":6},\"line_color\":{\"type\":\"value\",\"value\":\"#1f77b4\"},\"fill_color\":{\"type\":\"value\",\"value\":\"#1f77b4\"},\"hatch_color\":{\"type\":\"value\",\"value\":\"#1f77b4\"}}},\"nonselection_glyph\":{\"type\":\"object\",\"name\":\"Scatter\",\"id\":\"p1377\",\"attributes\":{\"x\":{\"type\":\"field\",\"field\":\"year\"},\"y\":{\"type\":\"field\",\"field\":\"International_Movies\"},\"size\":{\"type\":\"value\",\"value\":6},\"line_color\":{\"type\":\"value\",\"value\":\"#1f77b4\"},\"line_alpha\":{\"type\":\"value\",\"value\":0.1},\"fill_color\":{\"type\":\"value\",\"value\":\"#1f77b4\"},\"fill_alpha\":{\"type\":\"value\",\"value\":0.1},\"hatch_color\":{\"type\":\"value\",\"value\":\"#1f77b4\"},\"hatch_alpha\":{\"type\":\"value\",\"value\":0.1}}},\"muted_glyph\":{\"type\":\"object\",\"name\":\"Scatter\",\"id\":\"p1378\",\"attributes\":{\"x\":{\"type\":\"field\",\"field\":\"year\"},\"y\":{\"type\":\"field\",\"field\":\"International_Movies\"},\"size\":{\"type\":\"value\",\"value\":6},\"line_color\":{\"type\":\"value\",\"value\":\"#1f77b4\"},\"line_alpha\":{\"type\":\"value\",\"value\":0.2},\"fill_color\":{\"type\":\"value\",\"value\":\"#1f77b4\"},\"fill_alpha\":{\"type\":\"value\",\"value\":0.2},\"hatch_color\":{\"type\":\"value\",\"value\":\"#1f77b4\"},\"hatch_alpha\":{\"type\":\"value\",\"value\":0.2}}}}},{\"type\":\"object\",\"name\":\"GlyphRenderer\",\"id\":\"p1390\",\"attributes\":{\"data_source\":{\"id\":\"p1326\"},\"view\":{\"type\":\"object\",\"name\":\"CDSView\",\"id\":\"p1391\",\"attributes\":{\"filter\":{\"type\":\"object\",\"name\":\"AllIndices\",\"id\":\"p1392\"}}},\"glyph\":{\"type\":\"object\",\"name\":\"Line\",\"id\":\"p1387\",\"attributes\":{\"x\":{\"type\":\"field\",\"field\":\"year\"},\"y\":{\"type\":\"field\",\"field\":\"Dramas\"},\"line_color\":\"#ff7f0e\",\"line_width\":2}},\"nonselection_glyph\":{\"type\":\"object\",\"name\":\"Line\",\"id\":\"p1388\",\"attributes\":{\"x\":{\"type\":\"field\",\"field\":\"year\"},\"y\":{\"type\":\"field\",\"field\":\"Dramas\"},\"line_color\":\"#ff7f0e\",\"line_alpha\":0.1,\"line_width\":2}},\"muted_glyph\":{\"type\":\"object\",\"name\":\"Line\",\"id\":\"p1389\",\"attributes\":{\"x\":{\"type\":\"field\",\"field\":\"year\"},\"y\":{\"type\":\"field\",\"field\":\"Dramas\"},\"line_color\":\"#ff7f0e\",\"line_alpha\":0.2,\"line_width\":2}}}},{\"type\":\"object\",\"name\":\"GlyphRenderer\",\"id\":\"p1399\",\"attributes\":{\"data_source\":{\"id\":\"p1326\"},\"view\":{\"type\":\"object\",\"name\":\"CDSView\",\"id\":\"p1400\",\"attributes\":{\"filter\":{\"type\":\"object\",\"name\":\"AllIndices\",\"id\":\"p1401\"}}},\"glyph\":{\"type\":\"object\",\"name\":\"Scatter\",\"id\":\"p1396\",\"attributes\":{\"x\":{\"type\":\"field\",\"field\":\"year\"},\"y\":{\"type\":\"field\",\"field\":\"Dramas\"},\"size\":{\"type\":\"value\",\"value\":6},\"line_color\":{\"type\":\"value\",\"value\":\"#ff7f0e\"},\"fill_color\":{\"type\":\"value\",\"value\":\"#ff7f0e\"},\"hatch_color\":{\"type\":\"value\",\"value\":\"#ff7f0e\"}}},\"nonselection_glyph\":{\"type\":\"object\",\"name\":\"Scatter\",\"id\":\"p1397\",\"attributes\":{\"x\":{\"type\":\"field\",\"field\":\"year\"},\"y\":{\"type\":\"field\",\"field\":\"Dramas\"},\"size\":{\"type\":\"value\",\"value\":6},\"line_color\":{\"type\":\"value\",\"value\":\"#ff7f0e\"},\"line_alpha\":{\"type\":\"value\",\"value\":0.1},\"fill_color\":{\"type\":\"value\",\"value\":\"#ff7f0e\"},\"fill_alpha\":{\"type\":\"value\",\"value\":0.1},\"hatch_color\":{\"type\":\"value\",\"value\":\"#ff7f0e\"},\"hatch_alpha\":{\"type\":\"value\",\"value\":0.1}}},\"muted_glyph\":{\"type\":\"object\",\"name\":\"Scatter\",\"id\":\"p1398\",\"attributes\":{\"x\":{\"type\":\"field\",\"field\":\"year\"},\"y\":{\"type\":\"field\",\"field\":\"Dramas\"},\"size\":{\"type\":\"value\",\"value\":6},\"line_color\":{\"type\":\"value\",\"value\":\"#ff7f0e\"},\"line_alpha\":{\"type\":\"value\",\"value\":0.2},\"fill_color\":{\"type\":\"value\",\"value\":\"#ff7f0e\"},\"fill_alpha\":{\"type\":\"value\",\"value\":0.2},\"hatch_color\":{\"type\":\"value\",\"value\":\"#ff7f0e\"},\"hatch_alpha\":{\"type\":\"value\",\"value\":0.2}}}}},{\"type\":\"object\",\"name\":\"GlyphRenderer\",\"id\":\"p1410\",\"attributes\":{\"data_source\":{\"id\":\"p1326\"},\"view\":{\"type\":\"object\",\"name\":\"CDSView\",\"id\":\"p1411\",\"attributes\":{\"filter\":{\"type\":\"object\",\"name\":\"AllIndices\",\"id\":\"p1412\"}}},\"glyph\":{\"type\":\"object\",\"name\":\"Line\",\"id\":\"p1407\",\"attributes\":{\"x\":{\"type\":\"field\",\"field\":\"year\"},\"y\":{\"type\":\"field\",\"field\":\"Comedies\"},\"line_color\":\"#2ca02c\",\"line_width\":2}},\"nonselection_glyph\":{\"type\":\"object\",\"name\":\"Line\",\"id\":\"p1408\",\"attributes\":{\"x\":{\"type\":\"field\",\"field\":\"year\"},\"y\":{\"type\":\"field\",\"field\":\"Comedies\"},\"line_color\":\"#2ca02c\",\"line_alpha\":0.1,\"line_width\":2}},\"muted_glyph\":{\"type\":\"object\",\"name\":\"Line\",\"id\":\"p1409\",\"attributes\":{\"x\":{\"type\":\"field\",\"field\":\"year\"},\"y\":{\"type\":\"field\",\"field\":\"Comedies\"},\"line_color\":\"#2ca02c\",\"line_alpha\":0.2,\"line_width\":2}}}},{\"type\":\"object\",\"name\":\"GlyphRenderer\",\"id\":\"p1419\",\"attributes\":{\"data_source\":{\"id\":\"p1326\"},\"view\":{\"type\":\"object\",\"name\":\"CDSView\",\"id\":\"p1420\",\"attributes\":{\"filter\":{\"type\":\"object\",\"name\":\"AllIndices\",\"id\":\"p1421\"}}},\"glyph\":{\"type\":\"object\",\"name\":\"Scatter\",\"id\":\"p1416\",\"attributes\":{\"x\":{\"type\":\"field\",\"field\":\"year\"},\"y\":{\"type\":\"field\",\"field\":\"Comedies\"},\"size\":{\"type\":\"value\",\"value\":6},\"line_color\":{\"type\":\"value\",\"value\":\"#2ca02c\"},\"fill_color\":{\"type\":\"value\",\"value\":\"#2ca02c\"},\"hatch_color\":{\"type\":\"value\",\"value\":\"#2ca02c\"}}},\"nonselection_glyph\":{\"type\":\"object\",\"name\":\"Scatter\",\"id\":\"p1417\",\"attributes\":{\"x\":{\"type\":\"field\",\"field\":\"year\"},\"y\":{\"type\":\"field\",\"field\":\"Comedies\"},\"size\":{\"type\":\"value\",\"value\":6},\"line_color\":{\"type\":\"value\",\"value\":\"#2ca02c\"},\"line_alpha\":{\"type\":\"value\",\"value\":0.1},\"fill_color\":{\"type\":\"value\",\"value\":\"#2ca02c\"},\"fill_alpha\":{\"type\":\"value\",\"value\":0.1},\"hatch_color\":{\"type\":\"value\",\"value\":\"#2ca02c\"},\"hatch_alpha\":{\"type\":\"value\",\"value\":0.1}}},\"muted_glyph\":{\"type\":\"object\",\"name\":\"Scatter\",\"id\":\"p1418\",\"attributes\":{\"x\":{\"type\":\"field\",\"field\":\"year\"},\"y\":{\"type\":\"field\",\"field\":\"Comedies\"},\"size\":{\"type\":\"value\",\"value\":6},\"line_color\":{\"type\":\"value\",\"value\":\"#2ca02c\"},\"line_alpha\":{\"type\":\"value\",\"value\":0.2},\"fill_color\":{\"type\":\"value\",\"value\":\"#2ca02c\"},\"fill_alpha\":{\"type\":\"value\",\"value\":0.2},\"hatch_color\":{\"type\":\"value\",\"value\":\"#2ca02c\"},\"hatch_alpha\":{\"type\":\"value\",\"value\":0.2}}}}},{\"type\":\"object\",\"name\":\"GlyphRenderer\",\"id\":\"p1430\",\"attributes\":{\"data_source\":{\"id\":\"p1326\"},\"view\":{\"type\":\"object\",\"name\":\"CDSView\",\"id\":\"p1431\",\"attributes\":{\"filter\":{\"type\":\"object\",\"name\":\"AllIndices\",\"id\":\"p1432\"}}},\"glyph\":{\"type\":\"object\",\"name\":\"Line\",\"id\":\"p1427\",\"attributes\":{\"x\":{\"type\":\"field\",\"field\":\"year\"},\"y\":{\"type\":\"field\",\"field\":\"Action_and_Adventure\"},\"line_color\":\"#d62728\",\"line_width\":2}},\"nonselection_glyph\":{\"type\":\"object\",\"name\":\"Line\",\"id\":\"p1428\",\"attributes\":{\"x\":{\"type\":\"field\",\"field\":\"year\"},\"y\":{\"type\":\"field\",\"field\":\"Action_and_Adventure\"},\"line_color\":\"#d62728\",\"line_alpha\":0.1,\"line_width\":2}},\"muted_glyph\":{\"type\":\"object\",\"name\":\"Line\",\"id\":\"p1429\",\"attributes\":{\"x\":{\"type\":\"field\",\"field\":\"year\"},\"y\":{\"type\":\"field\",\"field\":\"Action_and_Adventure\"},\"line_color\":\"#d62728\",\"line_alpha\":0.2,\"line_width\":2}}}},{\"type\":\"object\",\"name\":\"GlyphRenderer\",\"id\":\"p1439\",\"attributes\":{\"data_source\":{\"id\":\"p1326\"},\"view\":{\"type\":\"object\",\"name\":\"CDSView\",\"id\":\"p1440\",\"attributes\":{\"filter\":{\"type\":\"object\",\"name\":\"AllIndices\",\"id\":\"p1441\"}}},\"glyph\":{\"type\":\"object\",\"name\":\"Scatter\",\"id\":\"p1436\",\"attributes\":{\"x\":{\"type\":\"field\",\"field\":\"year\"},\"y\":{\"type\":\"field\",\"field\":\"Action_and_Adventure\"},\"size\":{\"type\":\"value\",\"value\":6},\"line_color\":{\"type\":\"value\",\"value\":\"#d62728\"},\"fill_color\":{\"type\":\"value\",\"value\":\"#d62728\"},\"hatch_color\":{\"type\":\"value\",\"value\":\"#d62728\"}}},\"nonselection_glyph\":{\"type\":\"object\",\"name\":\"Scatter\",\"id\":\"p1437\",\"attributes\":{\"x\":{\"type\":\"field\",\"field\":\"year\"},\"y\":{\"type\":\"field\",\"field\":\"Action_and_Adventure\"},\"size\":{\"type\":\"value\",\"value\":6},\"line_color\":{\"type\":\"value\",\"value\":\"#d62728\"},\"line_alpha\":{\"type\":\"value\",\"value\":0.1},\"fill_color\":{\"type\":\"value\",\"value\":\"#d62728\"},\"fill_alpha\":{\"type\":\"value\",\"value\":0.1},\"hatch_color\":{\"type\":\"value\",\"value\":\"#d62728\"},\"hatch_alpha\":{\"type\":\"value\",\"value\":0.1}}},\"muted_glyph\":{\"type\":\"object\",\"name\":\"Scatter\",\"id\":\"p1438\",\"attributes\":{\"x\":{\"type\":\"field\",\"field\":\"year\"},\"y\":{\"type\":\"field\",\"field\":\"Action_and_Adventure\"},\"size\":{\"type\":\"value\",\"value\":6},\"line_color\":{\"type\":\"value\",\"value\":\"#d62728\"},\"line_alpha\":{\"type\":\"value\",\"value\":0.2},\"fill_color\":{\"type\":\"value\",\"value\":\"#d62728\"},\"fill_alpha\":{\"type\":\"value\",\"value\":0.2},\"hatch_color\":{\"type\":\"value\",\"value\":\"#d62728\"},\"hatch_alpha\":{\"type\":\"value\",\"value\":0.2}}}}},{\"type\":\"object\",\"name\":\"GlyphRenderer\",\"id\":\"p1450\",\"attributes\":{\"data_source\":{\"id\":\"p1326\"},\"view\":{\"type\":\"object\",\"name\":\"CDSView\",\"id\":\"p1451\",\"attributes\":{\"filter\":{\"type\":\"object\",\"name\":\"AllIndices\",\"id\":\"p1452\"}}},\"glyph\":{\"type\":\"object\",\"name\":\"Line\",\"id\":\"p1447\",\"attributes\":{\"x\":{\"type\":\"field\",\"field\":\"year\"},\"y\":{\"type\":\"field\",\"field\":\"Independent_Movies\"},\"line_color\":\"#9467bd\",\"line_width\":2}},\"nonselection_glyph\":{\"type\":\"object\",\"name\":\"Line\",\"id\":\"p1448\",\"attributes\":{\"x\":{\"type\":\"field\",\"field\":\"year\"},\"y\":{\"type\":\"field\",\"field\":\"Independent_Movies\"},\"line_color\":\"#9467bd\",\"line_alpha\":0.1,\"line_width\":2}},\"muted_glyph\":{\"type\":\"object\",\"name\":\"Line\",\"id\":\"p1449\",\"attributes\":{\"x\":{\"type\":\"field\",\"field\":\"year\"},\"y\":{\"type\":\"field\",\"field\":\"Independent_Movies\"},\"line_color\":\"#9467bd\",\"line_alpha\":0.2,\"line_width\":2}}}},{\"type\":\"object\",\"name\":\"GlyphRenderer\",\"id\":\"p1459\",\"attributes\":{\"data_source\":{\"id\":\"p1326\"},\"view\":{\"type\":\"object\",\"name\":\"CDSView\",\"id\":\"p1460\",\"attributes\":{\"filter\":{\"type\":\"object\",\"name\":\"AllIndices\",\"id\":\"p1461\"}}},\"glyph\":{\"type\":\"object\",\"name\":\"Scatter\",\"id\":\"p1456\",\"attributes\":{\"x\":{\"type\":\"field\",\"field\":\"year\"},\"y\":{\"type\":\"field\",\"field\":\"Independent_Movies\"},\"size\":{\"type\":\"value\",\"value\":6},\"line_color\":{\"type\":\"value\",\"value\":\"#9467bd\"},\"fill_color\":{\"type\":\"value\",\"value\":\"#9467bd\"},\"hatch_color\":{\"type\":\"value\",\"value\":\"#9467bd\"}}},\"nonselection_glyph\":{\"type\":\"object\",\"name\":\"Scatter\",\"id\":\"p1457\",\"attributes\":{\"x\":{\"type\":\"field\",\"field\":\"year\"},\"y\":{\"type\":\"field\",\"field\":\"Independent_Movies\"},\"size\":{\"type\":\"value\",\"value\":6},\"line_color\":{\"type\":\"value\",\"value\":\"#9467bd\"},\"line_alpha\":{\"type\":\"value\",\"value\":0.1},\"fill_color\":{\"type\":\"value\",\"value\":\"#9467bd\"},\"fill_alpha\":{\"type\":\"value\",\"value\":0.1},\"hatch_color\":{\"type\":\"value\",\"value\":\"#9467bd\"},\"hatch_alpha\":{\"type\":\"value\",\"value\":0.1}}},\"muted_glyph\":{\"type\":\"object\",\"name\":\"Scatter\",\"id\":\"p1458\",\"attributes\":{\"x\":{\"type\":\"field\",\"field\":\"year\"},\"y\":{\"type\":\"field\",\"field\":\"Independent_Movies\"},\"size\":{\"type\":\"value\",\"value\":6},\"line_color\":{\"type\":\"value\",\"value\":\"#9467bd\"},\"line_alpha\":{\"type\":\"value\",\"value\":0.2},\"fill_color\":{\"type\":\"value\",\"value\":\"#9467bd\"},\"fill_alpha\":{\"type\":\"value\",\"value\":0.2},\"hatch_color\":{\"type\":\"value\",\"value\":\"#9467bd\"},\"hatch_alpha\":{\"type\":\"value\",\"value\":0.2}}}}},{\"type\":\"object\",\"name\":\"GlyphRenderer\",\"id\":\"p1470\",\"attributes\":{\"data_source\":{\"id\":\"p1326\"},\"view\":{\"type\":\"object\",\"name\":\"CDSView\",\"id\":\"p1471\",\"attributes\":{\"filter\":{\"type\":\"object\",\"name\":\"AllIndices\",\"id\":\"p1472\"}}},\"glyph\":{\"type\":\"object\",\"name\":\"Line\",\"id\":\"p1467\",\"attributes\":{\"x\":{\"type\":\"field\",\"field\":\"year\"},\"y\":{\"type\":\"field\",\"field\":\"Romantic_Movies\"},\"line_color\":\"#8c564b\",\"line_width\":2}},\"nonselection_glyph\":{\"type\":\"object\",\"name\":\"Line\",\"id\":\"p1468\",\"attributes\":{\"x\":{\"type\":\"field\",\"field\":\"year\"},\"y\":{\"type\":\"field\",\"field\":\"Romantic_Movies\"},\"line_color\":\"#8c564b\",\"line_alpha\":0.1,\"line_width\":2}},\"muted_glyph\":{\"type\":\"object\",\"name\":\"Line\",\"id\":\"p1469\",\"attributes\":{\"x\":{\"type\":\"field\",\"field\":\"year\"},\"y\":{\"type\":\"field\",\"field\":\"Romantic_Movies\"},\"line_color\":\"#8c564b\",\"line_alpha\":0.2,\"line_width\":2}}}},{\"type\":\"object\",\"name\":\"GlyphRenderer\",\"id\":\"p1479\",\"attributes\":{\"data_source\":{\"id\":\"p1326\"},\"view\":{\"type\":\"object\",\"name\":\"CDSView\",\"id\":\"p1480\",\"attributes\":{\"filter\":{\"type\":\"object\",\"name\":\"AllIndices\",\"id\":\"p1481\"}}},\"glyph\":{\"type\":\"object\",\"name\":\"Scatter\",\"id\":\"p1476\",\"attributes\":{\"x\":{\"type\":\"field\",\"field\":\"year\"},\"y\":{\"type\":\"field\",\"field\":\"Romantic_Movies\"},\"size\":{\"type\":\"value\",\"value\":6},\"line_color\":{\"type\":\"value\",\"value\":\"#8c564b\"},\"fill_color\":{\"type\":\"value\",\"value\":\"#8c564b\"},\"hatch_color\":{\"type\":\"value\",\"value\":\"#8c564b\"}}},\"nonselection_glyph\":{\"type\":\"object\",\"name\":\"Scatter\",\"id\":\"p1477\",\"attributes\":{\"x\":{\"type\":\"field\",\"field\":\"year\"},\"y\":{\"type\":\"field\",\"field\":\"Romantic_Movies\"},\"size\":{\"type\":\"value\",\"value\":6},\"line_color\":{\"type\":\"value\",\"value\":\"#8c564b\"},\"line_alpha\":{\"type\":\"value\",\"value\":0.1},\"fill_color\":{\"type\":\"value\",\"value\":\"#8c564b\"},\"fill_alpha\":{\"type\":\"value\",\"value\":0.1},\"hatch_color\":{\"type\":\"value\",\"value\":\"#8c564b\"},\"hatch_alpha\":{\"type\":\"value\",\"value\":0.1}}},\"muted_glyph\":{\"type\":\"object\",\"name\":\"Scatter\",\"id\":\"p1478\",\"attributes\":{\"x\":{\"type\":\"field\",\"field\":\"year\"},\"y\":{\"type\":\"field\",\"field\":\"Romantic_Movies\"},\"size\":{\"type\":\"value\",\"value\":6},\"line_color\":{\"type\":\"value\",\"value\":\"#8c564b\"},\"line_alpha\":{\"type\":\"value\",\"value\":0.2},\"fill_color\":{\"type\":\"value\",\"value\":\"#8c564b\"},\"fill_alpha\":{\"type\":\"value\",\"value\":0.2},\"hatch_color\":{\"type\":\"value\",\"value\":\"#8c564b\"},\"hatch_alpha\":{\"type\":\"value\",\"value\":0.2}}}}},{\"type\":\"object\",\"name\":\"GlyphRenderer\",\"id\":\"p1490\",\"attributes\":{\"data_source\":{\"id\":\"p1326\"},\"view\":{\"type\":\"object\",\"name\":\"CDSView\",\"id\":\"p1491\",\"attributes\":{\"filter\":{\"type\":\"object\",\"name\":\"AllIndices\",\"id\":\"p1492\"}}},\"glyph\":{\"type\":\"object\",\"name\":\"Line\",\"id\":\"p1487\",\"attributes\":{\"x\":{\"type\":\"field\",\"field\":\"year\"},\"y\":{\"type\":\"field\",\"field\":\"Thrillers\"},\"line_color\":\"#e377c2\",\"line_width\":2}},\"nonselection_glyph\":{\"type\":\"object\",\"name\":\"Line\",\"id\":\"p1488\",\"attributes\":{\"x\":{\"type\":\"field\",\"field\":\"year\"},\"y\":{\"type\":\"field\",\"field\":\"Thrillers\"},\"line_color\":\"#e377c2\",\"line_alpha\":0.1,\"line_width\":2}},\"muted_glyph\":{\"type\":\"object\",\"name\":\"Line\",\"id\":\"p1489\",\"attributes\":{\"x\":{\"type\":\"field\",\"field\":\"year\"},\"y\":{\"type\":\"field\",\"field\":\"Thrillers\"},\"line_color\":\"#e377c2\",\"line_alpha\":0.2,\"line_width\":2}}}},{\"type\":\"object\",\"name\":\"GlyphRenderer\",\"id\":\"p1499\",\"attributes\":{\"data_source\":{\"id\":\"p1326\"},\"view\":{\"type\":\"object\",\"name\":\"CDSView\",\"id\":\"p1500\",\"attributes\":{\"filter\":{\"type\":\"object\",\"name\":\"AllIndices\",\"id\":\"p1501\"}}},\"glyph\":{\"type\":\"object\",\"name\":\"Scatter\",\"id\":\"p1496\",\"attributes\":{\"x\":{\"type\":\"field\",\"field\":\"year\"},\"y\":{\"type\":\"field\",\"field\":\"Thrillers\"},\"size\":{\"type\":\"value\",\"value\":6},\"line_color\":{\"type\":\"value\",\"value\":\"#e377c2\"},\"fill_color\":{\"type\":\"value\",\"value\":\"#e377c2\"},\"hatch_color\":{\"type\":\"value\",\"value\":\"#e377c2\"}}},\"nonselection_glyph\":{\"type\":\"object\",\"name\":\"Scatter\",\"id\":\"p1497\",\"attributes\":{\"x\":{\"type\":\"field\",\"field\":\"year\"},\"y\":{\"type\":\"field\",\"field\":\"Thrillers\"},\"size\":{\"type\":\"value\",\"value\":6},\"line_color\":{\"type\":\"value\",\"value\":\"#e377c2\"},\"line_alpha\":{\"type\":\"value\",\"value\":0.1},\"fill_color\":{\"type\":\"value\",\"value\":\"#e377c2\"},\"fill_alpha\":{\"type\":\"value\",\"value\":0.1},\"hatch_color\":{\"type\":\"value\",\"value\":\"#e377c2\"},\"hatch_alpha\":{\"type\":\"value\",\"value\":0.1}}},\"muted_glyph\":{\"type\":\"object\",\"name\":\"Scatter\",\"id\":\"p1498\",\"attributes\":{\"x\":{\"type\":\"field\",\"field\":\"year\"},\"y\":{\"type\":\"field\",\"field\":\"Thrillers\"},\"size\":{\"type\":\"value\",\"value\":6},\"line_color\":{\"type\":\"value\",\"value\":\"#e377c2\"},\"line_alpha\":{\"type\":\"value\",\"value\":0.2},\"fill_color\":{\"type\":\"value\",\"value\":\"#e377c2\"},\"fill_alpha\":{\"type\":\"value\",\"value\":0.2},\"hatch_color\":{\"type\":\"value\",\"value\":\"#e377c2\"},\"hatch_alpha\":{\"type\":\"value\",\"value\":0.2}}}}},{\"type\":\"object\",\"name\":\"GlyphRenderer\",\"id\":\"p1510\",\"attributes\":{\"data_source\":{\"id\":\"p1326\"},\"view\":{\"type\":\"object\",\"name\":\"CDSView\",\"id\":\"p1511\",\"attributes\":{\"filter\":{\"type\":\"object\",\"name\":\"AllIndices\",\"id\":\"p1512\"}}},\"glyph\":{\"type\":\"object\",\"name\":\"Line\",\"id\":\"p1507\",\"attributes\":{\"x\":{\"type\":\"field\",\"field\":\"year\"},\"y\":{\"type\":\"field\",\"field\":\"Children_and_Family_Movies\"},\"line_color\":\"#7f7f7f\",\"line_width\":2}},\"nonselection_glyph\":{\"type\":\"object\",\"name\":\"Line\",\"id\":\"p1508\",\"attributes\":{\"x\":{\"type\":\"field\",\"field\":\"year\"},\"y\":{\"type\":\"field\",\"field\":\"Children_and_Family_Movies\"},\"line_color\":\"#7f7f7f\",\"line_alpha\":0.1,\"line_width\":2}},\"muted_glyph\":{\"type\":\"object\",\"name\":\"Line\",\"id\":\"p1509\",\"attributes\":{\"x\":{\"type\":\"field\",\"field\":\"year\"},\"y\":{\"type\":\"field\",\"field\":\"Children_and_Family_Movies\"},\"line_color\":\"#7f7f7f\",\"line_alpha\":0.2,\"line_width\":2}}}},{\"type\":\"object\",\"name\":\"GlyphRenderer\",\"id\":\"p1519\",\"attributes\":{\"data_source\":{\"id\":\"p1326\"},\"view\":{\"type\":\"object\",\"name\":\"CDSView\",\"id\":\"p1520\",\"attributes\":{\"filter\":{\"type\":\"object\",\"name\":\"AllIndices\",\"id\":\"p1521\"}}},\"glyph\":{\"type\":\"object\",\"name\":\"Scatter\",\"id\":\"p1516\",\"attributes\":{\"x\":{\"type\":\"field\",\"field\":\"year\"},\"y\":{\"type\":\"field\",\"field\":\"Children_and_Family_Movies\"},\"size\":{\"type\":\"value\",\"value\":6},\"line_color\":{\"type\":\"value\",\"value\":\"#7f7f7f\"},\"fill_color\":{\"type\":\"value\",\"value\":\"#7f7f7f\"},\"hatch_color\":{\"type\":\"value\",\"value\":\"#7f7f7f\"}}},\"nonselection_glyph\":{\"type\":\"object\",\"name\":\"Scatter\",\"id\":\"p1517\",\"attributes\":{\"x\":{\"type\":\"field\",\"field\":\"year\"},\"y\":{\"type\":\"field\",\"field\":\"Children_and_Family_Movies\"},\"size\":{\"type\":\"value\",\"value\":6},\"line_color\":{\"type\":\"value\",\"value\":\"#7f7f7f\"},\"line_alpha\":{\"type\":\"value\",\"value\":0.1},\"fill_color\":{\"type\":\"value\",\"value\":\"#7f7f7f\"},\"fill_alpha\":{\"type\":\"value\",\"value\":0.1},\"hatch_color\":{\"type\":\"value\",\"value\":\"#7f7f7f\"},\"hatch_alpha\":{\"type\":\"value\",\"value\":0.1}}},\"muted_glyph\":{\"type\":\"object\",\"name\":\"Scatter\",\"id\":\"p1518\",\"attributes\":{\"x\":{\"type\":\"field\",\"field\":\"year\"},\"y\":{\"type\":\"field\",\"field\":\"Children_and_Family_Movies\"},\"size\":{\"type\":\"value\",\"value\":6},\"line_color\":{\"type\":\"value\",\"value\":\"#7f7f7f\"},\"line_alpha\":{\"type\":\"value\",\"value\":0.2},\"fill_color\":{\"type\":\"value\",\"value\":\"#7f7f7f\"},\"fill_alpha\":{\"type\":\"value\",\"value\":0.2},\"hatch_color\":{\"type\":\"value\",\"value\":\"#7f7f7f\"},\"hatch_alpha\":{\"type\":\"value\",\"value\":0.2}}}}},{\"type\":\"object\",\"name\":\"GlyphRenderer\",\"id\":\"p1530\",\"attributes\":{\"data_source\":{\"id\":\"p1326\"},\"view\":{\"type\":\"object\",\"name\":\"CDSView\",\"id\":\"p1531\",\"attributes\":{\"filter\":{\"type\":\"object\",\"name\":\"AllIndices\",\"id\":\"p1532\"}}},\"glyph\":{\"type\":\"object\",\"name\":\"Line\",\"id\":\"p1527\",\"attributes\":{\"x\":{\"type\":\"field\",\"field\":\"year\"},\"y\":{\"type\":\"field\",\"field\":\"Documentaries\"},\"line_color\":\"#bcbd22\",\"line_width\":2}},\"nonselection_glyph\":{\"type\":\"object\",\"name\":\"Line\",\"id\":\"p1528\",\"attributes\":{\"x\":{\"type\":\"field\",\"field\":\"year\"},\"y\":{\"type\":\"field\",\"field\":\"Documentaries\"},\"line_color\":\"#bcbd22\",\"line_alpha\":0.1,\"line_width\":2}},\"muted_glyph\":{\"type\":\"object\",\"name\":\"Line\",\"id\":\"p1529\",\"attributes\":{\"x\":{\"type\":\"field\",\"field\":\"year\"},\"y\":{\"type\":\"field\",\"field\":\"Documentaries\"},\"line_color\":\"#bcbd22\",\"line_alpha\":0.2,\"line_width\":2}}}},{\"type\":\"object\",\"name\":\"GlyphRenderer\",\"id\":\"p1539\",\"attributes\":{\"data_source\":{\"id\":\"p1326\"},\"view\":{\"type\":\"object\",\"name\":\"CDSView\",\"id\":\"p1540\",\"attributes\":{\"filter\":{\"type\":\"object\",\"name\":\"AllIndices\",\"id\":\"p1541\"}}},\"glyph\":{\"type\":\"object\",\"name\":\"Scatter\",\"id\":\"p1536\",\"attributes\":{\"x\":{\"type\":\"field\",\"field\":\"year\"},\"y\":{\"type\":\"field\",\"field\":\"Documentaries\"},\"size\":{\"type\":\"value\",\"value\":6},\"line_color\":{\"type\":\"value\",\"value\":\"#bcbd22\"},\"fill_color\":{\"type\":\"value\",\"value\":\"#bcbd22\"},\"hatch_color\":{\"type\":\"value\",\"value\":\"#bcbd22\"}}},\"nonselection_glyph\":{\"type\":\"object\",\"name\":\"Scatter\",\"id\":\"p1537\",\"attributes\":{\"x\":{\"type\":\"field\",\"field\":\"year\"},\"y\":{\"type\":\"field\",\"field\":\"Documentaries\"},\"size\":{\"type\":\"value\",\"value\":6},\"line_color\":{\"type\":\"value\",\"value\":\"#bcbd22\"},\"line_alpha\":{\"type\":\"value\",\"value\":0.1},\"fill_color\":{\"type\":\"value\",\"value\":\"#bcbd22\"},\"fill_alpha\":{\"type\":\"value\",\"value\":0.1},\"hatch_color\":{\"type\":\"value\",\"value\":\"#bcbd22\"},\"hatch_alpha\":{\"type\":\"value\",\"value\":0.1}}},\"muted_glyph\":{\"type\":\"object\",\"name\":\"Scatter\",\"id\":\"p1538\",\"attributes\":{\"x\":{\"type\":\"field\",\"field\":\"year\"},\"y\":{\"type\":\"field\",\"field\":\"Documentaries\"},\"size\":{\"type\":\"value\",\"value\":6},\"line_color\":{\"type\":\"value\",\"value\":\"#bcbd22\"},\"line_alpha\":{\"type\":\"value\",\"value\":0.2},\"fill_color\":{\"type\":\"value\",\"value\":\"#bcbd22\"},\"fill_alpha\":{\"type\":\"value\",\"value\":0.2},\"hatch_color\":{\"type\":\"value\",\"value\":\"#bcbd22\"},\"hatch_alpha\":{\"type\":\"value\",\"value\":0.2}}}}},{\"type\":\"object\",\"name\":\"GlyphRenderer\",\"id\":\"p1550\",\"attributes\":{\"data_source\":{\"id\":\"p1326\"},\"view\":{\"type\":\"object\",\"name\":\"CDSView\",\"id\":\"p1551\",\"attributes\":{\"filter\":{\"type\":\"object\",\"name\":\"AllIndices\",\"id\":\"p1552\"}}},\"glyph\":{\"type\":\"object\",\"name\":\"Line\",\"id\":\"p1547\",\"attributes\":{\"x\":{\"type\":\"field\",\"field\":\"year\"},\"y\":{\"type\":\"field\",\"field\":\"Horror_Movies\"},\"line_color\":\"#17becf\",\"line_width\":2}},\"nonselection_glyph\":{\"type\":\"object\",\"name\":\"Line\",\"id\":\"p1548\",\"attributes\":{\"x\":{\"type\":\"field\",\"field\":\"year\"},\"y\":{\"type\":\"field\",\"field\":\"Horror_Movies\"},\"line_color\":\"#17becf\",\"line_alpha\":0.1,\"line_width\":2}},\"muted_glyph\":{\"type\":\"object\",\"name\":\"Line\",\"id\":\"p1549\",\"attributes\":{\"x\":{\"type\":\"field\",\"field\":\"year\"},\"y\":{\"type\":\"field\",\"field\":\"Horror_Movies\"},\"line_color\":\"#17becf\",\"line_alpha\":0.2,\"line_width\":2}}}},{\"type\":\"object\",\"name\":\"GlyphRenderer\",\"id\":\"p1559\",\"attributes\":{\"data_source\":{\"id\":\"p1326\"},\"view\":{\"type\":\"object\",\"name\":\"CDSView\",\"id\":\"p1560\",\"attributes\":{\"filter\":{\"type\":\"object\",\"name\":\"AllIndices\",\"id\":\"p1561\"}}},\"glyph\":{\"type\":\"object\",\"name\":\"Scatter\",\"id\":\"p1556\",\"attributes\":{\"x\":{\"type\":\"field\",\"field\":\"year\"},\"y\":{\"type\":\"field\",\"field\":\"Horror_Movies\"},\"size\":{\"type\":\"value\",\"value\":6},\"line_color\":{\"type\":\"value\",\"value\":\"#17becf\"},\"fill_color\":{\"type\":\"value\",\"value\":\"#17becf\"},\"hatch_color\":{\"type\":\"value\",\"value\":\"#17becf\"}}},\"nonselection_glyph\":{\"type\":\"object\",\"name\":\"Scatter\",\"id\":\"p1557\",\"attributes\":{\"x\":{\"type\":\"field\",\"field\":\"year\"},\"y\":{\"type\":\"field\",\"field\":\"Horror_Movies\"},\"size\":{\"type\":\"value\",\"value\":6},\"line_color\":{\"type\":\"value\",\"value\":\"#17becf\"},\"line_alpha\":{\"type\":\"value\",\"value\":0.1},\"fill_color\":{\"type\":\"value\",\"value\":\"#17becf\"},\"fill_alpha\":{\"type\":\"value\",\"value\":0.1},\"hatch_color\":{\"type\":\"value\",\"value\":\"#17becf\"},\"hatch_alpha\":{\"type\":\"value\",\"value\":0.1}}},\"muted_glyph\":{\"type\":\"object\",\"name\":\"Scatter\",\"id\":\"p1558\",\"attributes\":{\"x\":{\"type\":\"field\",\"field\":\"year\"},\"y\":{\"type\":\"field\",\"field\":\"Horror_Movies\"},\"size\":{\"type\":\"value\",\"value\":6},\"line_color\":{\"type\":\"value\",\"value\":\"#17becf\"},\"line_alpha\":{\"type\":\"value\",\"value\":0.2},\"fill_color\":{\"type\":\"value\",\"value\":\"#17becf\"},\"fill_alpha\":{\"type\":\"value\",\"value\":0.2},\"hatch_color\":{\"type\":\"value\",\"value\":\"#17becf\"},\"hatch_alpha\":{\"type\":\"value\",\"value\":0.2}}}}}],\"toolbar\":{\"type\":\"object\",\"name\":\"Toolbar\",\"id\":\"p1338\",\"attributes\":{\"tools\":[{\"type\":\"object\",\"name\":\"PanTool\",\"id\":\"p1352\"},{\"type\":\"object\",\"name\":\"WheelZoomTool\",\"id\":\"p1353\",\"attributes\":{\"renderers\":\"auto\"}},{\"type\":\"object\",\"name\":\"BoxZoomTool\",\"id\":\"p1354\",\"attributes\":{\"dimensions\":\"both\",\"overlay\":{\"type\":\"object\",\"name\":\"BoxAnnotation\",\"id\":\"p1355\",\"attributes\":{\"syncable\":false,\"line_color\":\"black\",\"line_alpha\":1.0,\"line_width\":2,\"line_dash\":[4,4],\"fill_color\":\"lightgrey\",\"fill_alpha\":0.5,\"level\":\"overlay\",\"visible\":false,\"left\":{\"type\":\"number\",\"value\":\"nan\"},\"right\":{\"type\":\"number\",\"value\":\"nan\"},\"top\":{\"type\":\"number\",\"value\":\"nan\"},\"bottom\":{\"type\":\"number\",\"value\":\"nan\"},\"left_units\":\"canvas\",\"right_units\":\"canvas\",\"top_units\":\"canvas\",\"bottom_units\":\"canvas\",\"handles\":{\"type\":\"object\",\"name\":\"BoxInteractionHandles\",\"id\":\"p1361\",\"attributes\":{\"all\":{\"type\":\"object\",\"name\":\"AreaVisuals\",\"id\":\"p1360\",\"attributes\":{\"fill_color\":\"white\",\"hover_fill_color\":\"lightgray\"}}}}}}}},{\"type\":\"object\",\"name\":\"ResetTool\",\"id\":\"p1362\"},{\"type\":\"object\",\"name\":\"SaveTool\",\"id\":\"p1363\"},{\"type\":\"object\",\"name\":\"HoverTool\",\"id\":\"p1382\",\"attributes\":{\"renderers\":[{\"id\":\"p1379\"}],\"tooltips\":[[\"Genre\",\"International Movies\"],[\"Tahun\",\"@year\"],[\"Jumlah Tayangan\",\"@International_Movies\"]]}},{\"type\":\"object\",\"name\":\"HoverTool\",\"id\":\"p1402\",\"attributes\":{\"renderers\":[{\"id\":\"p1399\"}],\"tooltips\":[[\"Genre\",\"Dramas\"],[\"Tahun\",\"@year\"],[\"Jumlah Tayangan\",\"@Dramas\"]]}},{\"type\":\"object\",\"name\":\"HoverTool\",\"id\":\"p1422\",\"attributes\":{\"renderers\":[{\"id\":\"p1419\"}],\"tooltips\":[[\"Genre\",\"Comedies\"],[\"Tahun\",\"@year\"],[\"Jumlah Tayangan\",\"@Comedies\"]]}},{\"type\":\"object\",\"name\":\"HoverTool\",\"id\":\"p1442\",\"attributes\":{\"renderers\":[{\"id\":\"p1439\"}],\"tooltips\":[[\"Genre\",\"Action & Adventure\"],[\"Tahun\",\"@year\"],[\"Jumlah Tayangan\",\"@Action_and_Adventure\"]]}},{\"type\":\"object\",\"name\":\"HoverTool\",\"id\":\"p1462\",\"attributes\":{\"renderers\":[{\"id\":\"p1459\"}],\"tooltips\":[[\"Genre\",\"Independent Movies\"],[\"Tahun\",\"@year\"],[\"Jumlah Tayangan\",\"@Independent_Movies\"]]}},{\"type\":\"object\",\"name\":\"HoverTool\",\"id\":\"p1482\",\"attributes\":{\"renderers\":[{\"id\":\"p1479\"}],\"tooltips\":[[\"Genre\",\"Romantic Movies\"],[\"Tahun\",\"@year\"],[\"Jumlah Tayangan\",\"@Romantic_Movies\"]]}},{\"type\":\"object\",\"name\":\"HoverTool\",\"id\":\"p1502\",\"attributes\":{\"renderers\":[{\"id\":\"p1499\"}],\"tooltips\":[[\"Genre\",\"Thrillers\"],[\"Tahun\",\"@year\"],[\"Jumlah Tayangan\",\"@Thrillers\"]]}},{\"type\":\"object\",\"name\":\"HoverTool\",\"id\":\"p1522\",\"attributes\":{\"renderers\":[{\"id\":\"p1519\"}],\"tooltips\":[[\"Genre\",\"Children & Family Movies\"],[\"Tahun\",\"@year\"],[\"Jumlah Tayangan\",\"@Children_and_Family_Movies\"]]}},{\"type\":\"object\",\"name\":\"HoverTool\",\"id\":\"p1542\",\"attributes\":{\"renderers\":[{\"id\":\"p1539\"}],\"tooltips\":[[\"Genre\",\"Documentaries\"],[\"Tahun\",\"@year\"],[\"Jumlah Tayangan\",\"@Documentaries\"]]}},{\"type\":\"object\",\"name\":\"HoverTool\",\"id\":\"p1562\",\"attributes\":{\"renderers\":[{\"id\":\"p1559\"}],\"tooltips\":[[\"Genre\",\"Horror Movies\"],[\"Tahun\",\"@year\"],[\"Jumlah Tayangan\",\"@Horror_Movies\"]]}}]}},\"left\":[{\"type\":\"object\",\"name\":\"LinearAxis\",\"id\":\"p1347\",\"attributes\":{\"ticker\":{\"type\":\"object\",\"name\":\"BasicTicker\",\"id\":\"p1348\",\"attributes\":{\"mantissas\":[1,2,5]}},\"formatter\":{\"type\":\"object\",\"name\":\"BasicTickFormatter\",\"id\":\"p1349\"},\"axis_label\":\"Jumlah Tayangan\",\"major_label_policy\":{\"type\":\"object\",\"name\":\"AllLabels\",\"id\":\"p1350\"}}}],\"right\":[{\"type\":\"object\",\"name\":\"Legend\",\"id\":\"p1564\",\"attributes\":{\"location\":\"center\",\"click_policy\":\"hide\",\"items\":[{\"type\":\"object\",\"name\":\"LegendItem\",\"id\":\"p1383\",\"attributes\":{\"label\":{\"type\":\"value\",\"value\":\"International Movies\"},\"renderers\":[{\"id\":\"p1370\"}]}},{\"type\":\"object\",\"name\":\"LegendItem\",\"id\":\"p1403\",\"attributes\":{\"label\":{\"type\":\"value\",\"value\":\"Dramas\"},\"renderers\":[{\"id\":\"p1390\"}]}},{\"type\":\"object\",\"name\":\"LegendItem\",\"id\":\"p1423\",\"attributes\":{\"label\":{\"type\":\"value\",\"value\":\"Comedies\"},\"renderers\":[{\"id\":\"p1410\"}]}},{\"type\":\"object\",\"name\":\"LegendItem\",\"id\":\"p1443\",\"attributes\":{\"label\":{\"type\":\"value\",\"value\":\"Action & Adventure\"},\"renderers\":[{\"id\":\"p1430\"}]}},{\"type\":\"object\",\"name\":\"LegendItem\",\"id\":\"p1463\",\"attributes\":{\"label\":{\"type\":\"value\",\"value\":\"Independent Movies\"},\"renderers\":[{\"id\":\"p1450\"}]}},{\"type\":\"object\",\"name\":\"LegendItem\",\"id\":\"p1483\",\"attributes\":{\"label\":{\"type\":\"value\",\"value\":\"Romantic Movies\"},\"renderers\":[{\"id\":\"p1470\"}]}},{\"type\":\"object\",\"name\":\"LegendItem\",\"id\":\"p1503\",\"attributes\":{\"label\":{\"type\":\"value\",\"value\":\"Thrillers\"},\"renderers\":[{\"id\":\"p1490\"}]}},{\"type\":\"object\",\"name\":\"LegendItem\",\"id\":\"p1523\",\"attributes\":{\"label\":{\"type\":\"value\",\"value\":\"Children & Family Movies\"},\"renderers\":[{\"id\":\"p1510\"}]}},{\"type\":\"object\",\"name\":\"LegendItem\",\"id\":\"p1543\",\"attributes\":{\"label\":{\"type\":\"value\",\"value\":\"Documentaries\"},\"renderers\":[{\"id\":\"p1530\"}]}},{\"type\":\"object\",\"name\":\"LegendItem\",\"id\":\"p1563\",\"attributes\":{\"label\":{\"type\":\"value\",\"value\":\"Horror Movies\"},\"renderers\":[{\"id\":\"p1550\"}]}}]}}],\"below\":[{\"type\":\"object\",\"name\":\"CategoricalAxis\",\"id\":\"p1342\",\"attributes\":{\"ticker\":{\"type\":\"object\",\"name\":\"CategoricalTicker\",\"id\":\"p1343\"},\"formatter\":{\"type\":\"object\",\"name\":\"CategoricalTickFormatter\",\"id\":\"p1344\"},\"axis_label\":\"Tahun\",\"major_label_policy\":{\"type\":\"object\",\"name\":\"AllLabels\",\"id\":\"p1345\"}}}],\"center\":[{\"type\":\"object\",\"name\":\"Grid\",\"id\":\"p1346\",\"attributes\":{\"axis\":{\"id\":\"p1342\"}}},{\"type\":\"object\",\"name\":\"Grid\",\"id\":\"p1351\",\"attributes\":{\"dimension\":1,\"axis\":{\"id\":\"p1347\"}}}]}}]}};\n  const render_items = [{\"docid\":\"54b6ae97-af1f-40c1-8a85-c60e0561909f\",\"roots\":{\"p1329\":\"f60282bd-a7f2-488a-b73d-390bdf06532a\"},\"root_ids\":[\"p1329\"]}];\n  void root.Bokeh.embed.embed_items_notebook(docs_json, render_items);\n  }\n  if (root.Bokeh !== undefined) {\n    embed_document(root);\n  } else {\n    let attempts = 0;\n    const timer = setInterval(function(root) {\n      if (root.Bokeh !== undefined) {\n        clearInterval(timer);\n        embed_document(root);\n      } else {\n        attempts++;\n        if (attempts > 100) {\n          clearInterval(timer);\n          console.log(\"Bokeh: ERROR: Unable to run BokehJS code because BokehJS library is missing\");\n        }\n      }\n    }, 10, root)\n  }\n})(window);",
      "application/vnd.bokehjs_exec.v0+json": ""
     },
     "metadata": {
      "application/vnd.bokehjs_exec.v0+json": {
       "id": "p1329"
      }
     },
     "output_type": "display_data"
    }
   ],
   "source": [
    "# Load Dataset\n",
    "df = pd.read_csv('Dataset Netflix Shows.csv')\n",
    "df = df.dropna(subset=['listed_in', 'release_year'])\n",
    "df['release_year'] = pd.to_numeric(df['release_year'], errors='coerce').astype(int)\n",
    "df = df[df['release_year'] <= 2021]\n",
    "df['genre'] = df['listed_in'].str.split(', ')\n",
    "df = df.explode('genre')\n",
    "\n",
    "# Top 10 Genre\n",
    "top10_genre = df['genre'].value_counts().head(10).index.tolist()\n",
    "genre_df = df[df['genre'].isin(top10_genre)]\n",
    "\n",
    "# Hitung jumlah tayangan per genre per tahun\n",
    "genre_year = genre_df.groupby(['release_year', 'genre']).size().reset_index(name='count')\n",
    "\n",
    "# Prediksi untuk tahun 2022–2026\n",
    "future_years = np.array(range(2022, 2027)).reshape(-1, 1)\n",
    "plot_data = {'year': [str(y) for y in range(2022, 2027)]}\n",
    "colors = Category10[10]\n",
    "\n",
    "# Bersihkan nama genre untuk jadi kolom valid\n",
    "genre_clean_map = {g: g.replace(' ', '_').replace('&', 'and').replace('-', '_') for g in top10_genre}\n",
    "\n",
    "# Prediksi tiap genre\n",
    "for genre in top10_genre:\n",
    "    data = genre_year[genre_year['genre'] == genre]\n",
    "    clean_name = genre_clean_map[genre]\n",
    "    if len(data) > 1:\n",
    "        X = data['release_year'].values.reshape(-1, 1)\n",
    "        y = data['count'].values\n",
    "        model = LinearRegression()\n",
    "        model.fit(X, y)\n",
    "        pred = model.predict(future_years)\n",
    "        pred = np.clip(pred, 0, None)\n",
    "        plot_data[clean_name] = np.round(pred).astype(int)\n",
    "    else:\n",
    "        plot_data[clean_name] = [0] * len(future_years)\n",
    "\n",
    "# Siapkan sumber data\n",
    "source = ColumnDataSource(plot_data)\n",
    "\n",
    "# Buat Figure\n",
    "p = figure(title=\"Prediksi Popularitas Genre (2022–2026)\",\n",
    "           x_range=plot_data['year'], height=450, width=900,\n",
    "           x_axis_label='Tahun', y_axis_label='Jumlah Tayangan',\n",
    "           tools=\"pan,wheel_zoom,box_zoom,reset,save\")\n",
    "\n",
    "# Tambahkan line dan scatter\n",
    "legend_items = []\n",
    "for i, genre in enumerate(top10_genre):\n",
    "    clean_name = genre_clean_map[genre]\n",
    "    line = p.line(x='year', y=clean_name, source=source, line_width=2, color=colors[i])\n",
    "    scatter = p.scatter(x='year', y=clean_name, source=source, size=6, color=colors[i])\n",
    "\n",
    "    # Tooltip\n",
    "    hover = HoverTool(renderers=[scatter],\n",
    "                      tooltips=[(\"Genre\", genre),\n",
    "                                (\"Tahun\", \"@year\"),\n",
    "                                (\"Jumlah Tayangan\", f\"@{clean_name}\")])\n",
    "    p.add_tools(hover)\n",
    "\n",
    "    legend_items.append(LegendItem(label=genre, renderers=[line]))\n",
    "\n",
    "# Tambahkan legend\n",
    "legend = Legend(items=legend_items, location=\"center\")\n",
    "p.add_layout(legend, 'right')\n",
    "p.legend.click_policy = \"hide\"\n",
    "\n",
    "show(p)\n"
   ]
  },
  {
   "cell_type": "markdown",
   "id": "720a71e9",
   "metadata": {},
   "source": [
    "### Visualisasi Top 10 Rating"
   ]
  },
  {
   "cell_type": "code",
   "execution_count": 11,
   "id": "6dcf038e",
   "metadata": {},
   "outputs": [
    {
     "data": {
      "text/html": [
       "\n",
       "  <div id=\"e66df222-9b15-4ae5-b96f-dc2747cb6aba\" data-root-id=\"p1578\" style=\"display: contents;\"></div>\n"
      ]
     },
     "metadata": {},
     "output_type": "display_data"
    },
    {
     "data": {
      "application/javascript": "(function(root) {\n  function embed_document(root) {\n  const docs_json = {\"064b0f86-2453-4fa7-bfe4-6fa3ed3a16fe\":{\"version\":\"3.7.3\",\"title\":\"Bokeh Application\",\"roots\":[{\"type\":\"object\",\"name\":\"Figure\",\"id\":\"p1578\",\"attributes\":{\"height\":400,\"x_range\":{\"type\":\"object\",\"name\":\"FactorRange\",\"id\":\"p1588\",\"attributes\":{\"factors\":[\"TV-MA\",\"TV-14\",\"R\",\"TV-PG\",\"PG-13\",\"PG\",\"TV-G\",\"NR\",\"TV-Y7\",\"TV-Y\"]}},\"y_range\":{\"type\":\"object\",\"name\":\"DataRange1d\",\"id\":\"p1580\"},\"x_scale\":{\"type\":\"object\",\"name\":\"CategoricalScale\",\"id\":\"p1589\"},\"y_scale\":{\"type\":\"object\",\"name\":\"LinearScale\",\"id\":\"p1590\"},\"title\":{\"type\":\"object\",\"name\":\"Title\",\"id\":\"p1581\",\"attributes\":{\"text\":\"10 Rating Paling Banyak Muncul\"}},\"renderers\":[{\"type\":\"object\",\"name\":\"GlyphRenderer\",\"id\":\"p1608\",\"attributes\":{\"data_source\":{\"type\":\"object\",\"name\":\"ColumnDataSource\",\"id\":\"p1575\",\"attributes\":{\"selected\":{\"type\":\"object\",\"name\":\"Selection\",\"id\":\"p1576\",\"attributes\":{\"indices\":[],\"line_indices\":[]}},\"selection_policy\":{\"type\":\"object\",\"name\":\"UnionRenderers\",\"id\":\"p1577\"},\"data\":{\"type\":\"map\",\"entries\":[[\"ratings\",[\"TV-MA\",\"TV-14\",\"R\",\"TV-PG\",\"PG-13\",\"PG\",\"TV-G\",\"NR\",\"TV-Y7\",\"TV-Y\"]],[\"counts\",[4077,3054,1547,1010,962,588,180,126,118,106]]]}}},\"view\":{\"type\":\"object\",\"name\":\"CDSView\",\"id\":\"p1609\",\"attributes\":{\"filter\":{\"type\":\"object\",\"name\":\"AllIndices\",\"id\":\"p1610\"}}},\"glyph\":{\"type\":\"object\",\"name\":\"VBar\",\"id\":\"p1605\",\"attributes\":{\"x\":{\"type\":\"field\",\"field\":\"ratings\"},\"width\":{\"type\":\"value\",\"value\":0.6},\"top\":{\"type\":\"field\",\"field\":\"counts\"},\"line_color\":{\"type\":\"value\",\"value\":\"orange\"},\"fill_color\":{\"type\":\"value\",\"value\":\"orange\"},\"hatch_color\":{\"type\":\"value\",\"value\":\"orange\"}}},\"nonselection_glyph\":{\"type\":\"object\",\"name\":\"VBar\",\"id\":\"p1606\",\"attributes\":{\"x\":{\"type\":\"field\",\"field\":\"ratings\"},\"width\":{\"type\":\"value\",\"value\":0.6},\"top\":{\"type\":\"field\",\"field\":\"counts\"},\"line_color\":{\"type\":\"value\",\"value\":\"orange\"},\"line_alpha\":{\"type\":\"value\",\"value\":0.1},\"fill_color\":{\"type\":\"value\",\"value\":\"orange\"},\"fill_alpha\":{\"type\":\"value\",\"value\":0.1},\"hatch_color\":{\"type\":\"value\",\"value\":\"orange\"},\"hatch_alpha\":{\"type\":\"value\",\"value\":0.1}}},\"muted_glyph\":{\"type\":\"object\",\"name\":\"VBar\",\"id\":\"p1607\",\"attributes\":{\"x\":{\"type\":\"field\",\"field\":\"ratings\"},\"width\":{\"type\":\"value\",\"value\":0.6},\"top\":{\"type\":\"field\",\"field\":\"counts\"},\"line_color\":{\"type\":\"value\",\"value\":\"orange\"},\"line_alpha\":{\"type\":\"value\",\"value\":0.2},\"fill_color\":{\"type\":\"value\",\"value\":\"orange\"},\"fill_alpha\":{\"type\":\"value\",\"value\":0.2},\"hatch_color\":{\"type\":\"value\",\"value\":\"orange\"},\"hatch_alpha\":{\"type\":\"value\",\"value\":0.2}}}}}],\"toolbar\":{\"type\":\"object\",\"name\":\"Toolbar\",\"id\":\"p1587\",\"attributes\":{\"tools\":[{\"type\":\"object\",\"name\":\"HoverTool\",\"id\":\"p1601\",\"attributes\":{\"renderers\":\"auto\",\"tooltips\":[[\"Rating\",\"@ratings\"],[\"Jumlah\",\"@counts\"]]}}]}},\"left\":[{\"type\":\"object\",\"name\":\"LinearAxis\",\"id\":\"p1596\",\"attributes\":{\"ticker\":{\"type\":\"object\",\"name\":\"BasicTicker\",\"id\":\"p1597\",\"attributes\":{\"mantissas\":[1,2,5]}},\"formatter\":{\"type\":\"object\",\"name\":\"BasicTickFormatter\",\"id\":\"p1598\"},\"major_label_policy\":{\"type\":\"object\",\"name\":\"AllLabels\",\"id\":\"p1599\"}}}],\"below\":[{\"type\":\"object\",\"name\":\"CategoricalAxis\",\"id\":\"p1591\",\"attributes\":{\"ticker\":{\"type\":\"object\",\"name\":\"CategoricalTicker\",\"id\":\"p1592\"},\"formatter\":{\"type\":\"object\",\"name\":\"CategoricalTickFormatter\",\"id\":\"p1593\"},\"major_label_policy\":{\"type\":\"object\",\"name\":\"AllLabels\",\"id\":\"p1594\"}}}],\"center\":[{\"type\":\"object\",\"name\":\"Grid\",\"id\":\"p1595\",\"attributes\":{\"axis\":{\"id\":\"p1591\"}}},{\"type\":\"object\",\"name\":\"Grid\",\"id\":\"p1600\",\"attributes\":{\"dimension\":1,\"axis\":{\"id\":\"p1596\"}}}]}}]}};\n  const render_items = [{\"docid\":\"064b0f86-2453-4fa7-bfe4-6fa3ed3a16fe\",\"roots\":{\"p1578\":\"e66df222-9b15-4ae5-b96f-dc2747cb6aba\"},\"root_ids\":[\"p1578\"]}];\n  void root.Bokeh.embed.embed_items_notebook(docs_json, render_items);\n  }\n  if (root.Bokeh !== undefined) {\n    embed_document(root);\n  } else {\n    let attempts = 0;\n    const timer = setInterval(function(root) {\n      if (root.Bokeh !== undefined) {\n        clearInterval(timer);\n        embed_document(root);\n      } else {\n        attempts++;\n        if (attempts > 100) {\n          clearInterval(timer);\n          console.log(\"Bokeh: ERROR: Unable to run BokehJS code because BokehJS library is missing\");\n        }\n      }\n    }, 10, root)\n  }\n})(window);",
      "application/vnd.bokehjs_exec.v0+json": ""
     },
     "metadata": {
      "application/vnd.bokehjs_exec.v0+json": {
       "id": "p1578"
      }
     },
     "output_type": "display_data"
    }
   ],
   "source": [
    "rating_counts = df['rating'].value_counts().head(10)\n",
    "source = ColumnDataSource(data=dict(\n",
    "    ratings=list(rating_counts.index),\n",
    "    counts=list(rating_counts.values)\n",
    "))\n",
    "\n",
    "p4 = figure(x_range=list(rating_counts.index), height=400, width=600, title=\"10 Rating Paling Banyak Muncul\", tools=\"hover\", tooltips=[(\"Rating\", \"@ratings\"), (\"Jumlah\", \"@counts\")])\n",
    "p4.vbar(x='ratings', top='counts', width=0.6, source=source, color=\"orange\")\n",
    "show(p4)\n"
   ]
  },
  {
   "cell_type": "code",
   "execution_count": 12,
   "id": "7c10ab96",
   "metadata": {},
   "outputs": [],
   "source": [
    "top10_ratings = df['rating'].value_counts().head(10).index.tolist()\n"
   ]
  },
  {
   "cell_type": "markdown",
   "id": "106a4f82",
   "metadata": {},
   "source": [
    "### Visualisasi Rating Aktual vs Prediksi & Confusion Matrix"
   ]
  },
  {
   "cell_type": "code",
   "execution_count": 13,
   "id": "01e10a08",
   "metadata": {},
   "outputs": [
    {
     "data": {
      "text/html": [
       "\n",
       "  <div id=\"a02e4ecd-f605-4c2c-9f37-3bc5f8554977\" data-root-id=\"p1615\" style=\"display: contents;\"></div>\n"
      ]
     },
     "metadata": {},
     "output_type": "display_data"
    },
    {
     "data": {
      "application/javascript": "(function(root) {\n  function embed_document(root) {\n  const docs_json = {\"c76eb668-05e0-42b4-a0db-88ae8aa93066\":{\"version\":\"3.7.3\",\"title\":\"Bokeh Application\",\"roots\":[{\"type\":\"object\",\"name\":\"Figure\",\"id\":\"p1615\",\"attributes\":{\"width\":700,\"height\":400,\"x_range\":{\"type\":\"object\",\"name\":\"FactorRange\",\"id\":\"p1625\",\"attributes\":{\"factors\":[\"TV-MA\",\"TV-14\",\"R\",\"TV-PG\",\"PG-13\",\"PG\",\"TV-G\",\"TV-Y7\",\"NR\",\"TV-Y\"]}},\"y_range\":{\"type\":\"object\",\"name\":\"DataRange1d\",\"id\":\"p1617\"},\"x_scale\":{\"type\":\"object\",\"name\":\"CategoricalScale\",\"id\":\"p1626\"},\"y_scale\":{\"type\":\"object\",\"name\":\"LinearScale\",\"id\":\"p1627\"},\"title\":{\"type\":\"object\",\"name\":\"Title\",\"id\":\"p1618\",\"attributes\":{\"text\":\"Distribusi Rating: Aktual vs Prediksi\"}},\"renderers\":[{\"type\":\"object\",\"name\":\"GlyphRenderer\",\"id\":\"p1657\",\"attributes\":{\"data_source\":{\"type\":\"object\",\"name\":\"ColumnDataSource\",\"id\":\"p1611\",\"attributes\":{\"selected\":{\"type\":\"object\",\"name\":\"Selection\",\"id\":\"p1612\",\"attributes\":{\"indices\":[],\"line_indices\":[]}},\"selection_policy\":{\"type\":\"object\",\"name\":\"UnionRenderers\",\"id\":\"p1613\"},\"data\":{\"type\":\"map\",\"entries\":[[\"ratings\",{\"type\":\"ndarray\",\"array\":[\"TV-MA\",\"TV-14\",\"R\",\"TV-PG\",\"PG-13\",\"PG\",\"TV-G\",\"TV-Y7\",\"NR\",\"TV-Y\"],\"shape\":[10],\"dtype\":\"object\",\"order\":\"little\"}],[\"actual\",{\"type\":\"ndarray\",\"array\":{\"type\":\"bytes\",\"data\":\"9gMAAP4CAACKAQAA+gAAAPkAAACEAAAANgAAACYAAAAdAAAAEAAAAA==\"},\"shape\":[10],\"dtype\":\"int32\",\"order\":\"little\"}],[\"predicted\",[1405,1231,90,14,4,189,0,9,0,0]]]}}},\"view\":{\"type\":\"object\",\"name\":\"CDSView\",\"id\":\"p1658\",\"attributes\":{\"filter\":{\"type\":\"object\",\"name\":\"AllIndices\",\"id\":\"p1659\"}}},\"glyph\":{\"type\":\"object\",\"name\":\"VBar\",\"id\":\"p1654\",\"attributes\":{\"x\":{\"type\":\"field\",\"field\":\"ratings\",\"transform\":{\"type\":\"object\",\"name\":\"Dodge\",\"id\":\"p1650\",\"attributes\":{\"value\":-0.2,\"range\":{\"id\":\"p1625\"}}}},\"width\":{\"type\":\"value\",\"value\":0.4},\"top\":{\"type\":\"field\",\"field\":\"actual\"},\"line_color\":{\"type\":\"value\",\"value\":\"green\"},\"fill_color\":{\"type\":\"value\",\"value\":\"green\"},\"hatch_color\":{\"type\":\"value\",\"value\":\"green\"}}},\"nonselection_glyph\":{\"type\":\"object\",\"name\":\"VBar\",\"id\":\"p1655\",\"attributes\":{\"x\":{\"type\":\"field\",\"field\":\"ratings\",\"transform\":{\"id\":\"p1650\"}},\"width\":{\"type\":\"value\",\"value\":0.4},\"top\":{\"type\":\"field\",\"field\":\"actual\"},\"line_color\":{\"type\":\"value\",\"value\":\"green\"},\"line_alpha\":{\"type\":\"value\",\"value\":0.1},\"fill_color\":{\"type\":\"value\",\"value\":\"green\"},\"fill_alpha\":{\"type\":\"value\",\"value\":0.1},\"hatch_color\":{\"type\":\"value\",\"value\":\"green\"},\"hatch_alpha\":{\"type\":\"value\",\"value\":0.1}}},\"muted_glyph\":{\"type\":\"object\",\"name\":\"VBar\",\"id\":\"p1656\",\"attributes\":{\"x\":{\"type\":\"field\",\"field\":\"ratings\",\"transform\":{\"id\":\"p1650\"}},\"width\":{\"type\":\"value\",\"value\":0.4},\"top\":{\"type\":\"field\",\"field\":\"actual\"},\"line_color\":{\"type\":\"value\",\"value\":\"green\"},\"line_alpha\":{\"type\":\"value\",\"value\":0.2},\"fill_color\":{\"type\":\"value\",\"value\":\"green\"},\"fill_alpha\":{\"type\":\"value\",\"value\":0.2},\"hatch_color\":{\"type\":\"value\",\"value\":\"green\"},\"hatch_alpha\":{\"type\":\"value\",\"value\":0.2}}}}},{\"type\":\"object\",\"name\":\"GlyphRenderer\",\"id\":\"p1669\",\"attributes\":{\"data_source\":{\"id\":\"p1611\"},\"view\":{\"type\":\"object\",\"name\":\"CDSView\",\"id\":\"p1670\",\"attributes\":{\"filter\":{\"type\":\"object\",\"name\":\"AllIndices\",\"id\":\"p1671\"}}},\"glyph\":{\"type\":\"object\",\"name\":\"VBar\",\"id\":\"p1666\",\"attributes\":{\"x\":{\"type\":\"field\",\"field\":\"ratings\",\"transform\":{\"type\":\"object\",\"name\":\"Dodge\",\"id\":\"p1662\",\"attributes\":{\"value\":0.2,\"range\":{\"id\":\"p1625\"}}}},\"width\":{\"type\":\"value\",\"value\":0.4},\"top\":{\"type\":\"field\",\"field\":\"predicted\"},\"line_color\":{\"type\":\"value\",\"value\":\"red\"},\"fill_color\":{\"type\":\"value\",\"value\":\"red\"},\"hatch_color\":{\"type\":\"value\",\"value\":\"red\"}}},\"nonselection_glyph\":{\"type\":\"object\",\"name\":\"VBar\",\"id\":\"p1667\",\"attributes\":{\"x\":{\"type\":\"field\",\"field\":\"ratings\",\"transform\":{\"id\":\"p1662\"}},\"width\":{\"type\":\"value\",\"value\":0.4},\"top\":{\"type\":\"field\",\"field\":\"predicted\"},\"line_color\":{\"type\":\"value\",\"value\":\"red\"},\"line_alpha\":{\"type\":\"value\",\"value\":0.1},\"fill_color\":{\"type\":\"value\",\"value\":\"red\"},\"fill_alpha\":{\"type\":\"value\",\"value\":0.1},\"hatch_color\":{\"type\":\"value\",\"value\":\"red\"},\"hatch_alpha\":{\"type\":\"value\",\"value\":0.1}}},\"muted_glyph\":{\"type\":\"object\",\"name\":\"VBar\",\"id\":\"p1668\",\"attributes\":{\"x\":{\"type\":\"field\",\"field\":\"ratings\",\"transform\":{\"id\":\"p1662\"}},\"width\":{\"type\":\"value\",\"value\":0.4},\"top\":{\"type\":\"field\",\"field\":\"predicted\"},\"line_color\":{\"type\":\"value\",\"value\":\"red\"},\"line_alpha\":{\"type\":\"value\",\"value\":0.2},\"fill_color\":{\"type\":\"value\",\"value\":\"red\"},\"fill_alpha\":{\"type\":\"value\",\"value\":0.2},\"hatch_color\":{\"type\":\"value\",\"value\":\"red\"},\"hatch_alpha\":{\"type\":\"value\",\"value\":0.2}}}}}],\"toolbar\":{\"type\":\"object\",\"name\":\"Toolbar\",\"id\":\"p1624\",\"attributes\":{\"tools\":[{\"type\":\"object\",\"name\":\"HoverTool\",\"id\":\"p1614\",\"attributes\":{\"renderers\":\"auto\",\"tooltips\":[[\"Rating\",\"@ratings\"],[\"Jumlah Aktual\",\"@actual\"],[\"Jumlah Prediksi\",\"@predicted\"]]}},{\"type\":\"object\",\"name\":\"PanTool\",\"id\":\"p1638\"},{\"type\":\"object\",\"name\":\"WheelZoomTool\",\"id\":\"p1639\",\"attributes\":{\"renderers\":\"auto\"}},{\"type\":\"object\",\"name\":\"BoxZoomTool\",\"id\":\"p1640\",\"attributes\":{\"dimensions\":\"both\",\"overlay\":{\"type\":\"object\",\"name\":\"BoxAnnotation\",\"id\":\"p1641\",\"attributes\":{\"syncable\":false,\"line_color\":\"black\",\"line_alpha\":1.0,\"line_width\":2,\"line_dash\":[4,4],\"fill_color\":\"lightgrey\",\"fill_alpha\":0.5,\"level\":\"overlay\",\"visible\":false,\"left\":{\"type\":\"number\",\"value\":\"nan\"},\"right\":{\"type\":\"number\",\"value\":\"nan\"},\"top\":{\"type\":\"number\",\"value\":\"nan\"},\"bottom\":{\"type\":\"number\",\"value\":\"nan\"},\"left_units\":\"canvas\",\"right_units\":\"canvas\",\"top_units\":\"canvas\",\"bottom_units\":\"canvas\",\"handles\":{\"type\":\"object\",\"name\":\"BoxInteractionHandles\",\"id\":\"p1647\",\"attributes\":{\"all\":{\"type\":\"object\",\"name\":\"AreaVisuals\",\"id\":\"p1646\",\"attributes\":{\"fill_color\":\"white\",\"hover_fill_color\":\"lightgray\"}}}}}}}},{\"type\":\"object\",\"name\":\"ResetTool\",\"id\":\"p1648\"},{\"type\":\"object\",\"name\":\"SaveTool\",\"id\":\"p1649\"}]}},\"left\":[{\"type\":\"object\",\"name\":\"LinearAxis\",\"id\":\"p1633\",\"attributes\":{\"ticker\":{\"type\":\"object\",\"name\":\"BasicTicker\",\"id\":\"p1634\",\"attributes\":{\"mantissas\":[1,2,5]}},\"formatter\":{\"type\":\"object\",\"name\":\"BasicTickFormatter\",\"id\":\"p1635\"},\"major_label_policy\":{\"type\":\"object\",\"name\":\"AllLabels\",\"id\":\"p1636\"}}}],\"below\":[{\"type\":\"object\",\"name\":\"CategoricalAxis\",\"id\":\"p1628\",\"attributes\":{\"ticker\":{\"type\":\"object\",\"name\":\"CategoricalTicker\",\"id\":\"p1629\"},\"formatter\":{\"type\":\"object\",\"name\":\"CategoricalTickFormatter\",\"id\":\"p1630\"},\"major_label_policy\":{\"type\":\"object\",\"name\":\"AllLabels\",\"id\":\"p1631\"}}}],\"center\":[{\"type\":\"object\",\"name\":\"Grid\",\"id\":\"p1632\",\"attributes\":{\"axis\":{\"id\":\"p1628\"}}},{\"type\":\"object\",\"name\":\"Grid\",\"id\":\"p1637\",\"attributes\":{\"dimension\":1,\"axis\":{\"id\":\"p1633\"}}},{\"type\":\"object\",\"name\":\"Legend\",\"id\":\"p1660\",\"attributes\":{\"items\":[{\"type\":\"object\",\"name\":\"LegendItem\",\"id\":\"p1661\",\"attributes\":{\"label\":{\"type\":\"value\",\"value\":\"Aktual\"},\"renderers\":[{\"id\":\"p1657\"}]}},{\"type\":\"object\",\"name\":\"LegendItem\",\"id\":\"p1672\",\"attributes\":{\"label\":{\"type\":\"value\",\"value\":\"Prediksi\"},\"renderers\":[{\"id\":\"p1669\"}]}}]}}]}}]}};\n  const render_items = [{\"docid\":\"c76eb668-05e0-42b4-a0db-88ae8aa93066\",\"roots\":{\"p1615\":\"a02e4ecd-f605-4c2c-9f37-3bc5f8554977\"},\"root_ids\":[\"p1615\"]}];\n  void root.Bokeh.embed.embed_items_notebook(docs_json, render_items);\n  }\n  if (root.Bokeh !== undefined) {\n    embed_document(root);\n  } else {\n    let attempts = 0;\n    const timer = setInterval(function(root) {\n      if (root.Bokeh !== undefined) {\n        clearInterval(timer);\n        embed_document(root);\n      } else {\n        attempts++;\n        if (attempts > 100) {\n          clearInterval(timer);\n          console.log(\"Bokeh: ERROR: Unable to run BokehJS code because BokehJS library is missing\");\n        }\n      }\n    }, 10, root)\n  }\n})(window);",
      "application/vnd.bokehjs_exec.v0+json": ""
     },
     "metadata": {
      "application/vnd.bokehjs_exec.v0+json": {
       "id": "p1615"
      }
     },
     "output_type": "display_data"
    },
    {
     "data": {
      "image/png": "[encoded data removed]",
      "text/plain": [
       "<Figure size 640x480 with 2 Axes>"
      ]
     },
     "metadata": {},
     "output_type": "display_data"
    }
   ],
   "source": [
    "# Label Encoding\n",
    "df_rating = df[df['rating'].isin(rating_counts.index)].copy()\n",
    "df_rating['encoded_genre'] = df_rating['listed_in'].apply(lambda x: x.split(',')[0])\n",
    "le = LabelEncoder()\n",
    "df_rating['label'] = le.fit_transform(df_rating['rating'])\n",
    "\n",
    "X = pd.get_dummies(df_rating[['encoded_genre', 'type']])\n",
    "y = df_rating['label']\n",
    "X_train, X_test, y_train, y_test = train_test_split(X, y, random_state=42)\n",
    "model = RandomForestClassifier()\n",
    "model.fit(X_train, y_train)\n",
    "y_pred = model.predict(X_test)\n",
    "\n",
    "# Confusion Matrix\n",
    "cm = confusion_matrix(y_test, y_pred)\n",
    "disp = ConfusionMatrixDisplay(confusion_matrix=cm, display_labels=le.classes_)\n",
    "disp.plot(xticks_rotation=90, cmap=\"Blues\")\n",
    "\n",
    "\n",
    "# Histogram (Actual vs Predicted)\n",
    "actual_counts = pd.Series(y_test).map(lambda i: le.classes_[i]).value_counts()\n",
    "predicted_counts = pd.Series(y_pred).map(lambda i: le.classes_[i]).value_counts()\n",
    "\n",
    "source = ColumnDataSource(data=dict(\n",
    "    ratings=actual_counts.index,\n",
    "    actual=actual_counts.values,\n",
    "    predicted=[predicted_counts.get(r, 0) for r in actual_counts.index]\n",
    "))\n",
    "\n",
    "# Custom hover tool\n",
    "hover = HoverTool(tooltips=[(\"Rating\", \"@ratings\"),(\"Jumlah Aktual\", \"@actual\"),(\"Jumlah Prediksi\", \"@predicted\")])\n",
    "p_hist = figure(x_range=actual_counts.index.tolist(), height=400, width=700, title=\"Distribusi Rating: Aktual vs Prediksi\", tools=[hover, \"pan\", \"wheel_zoom\", \"box_zoom\", \"reset\", \"save\"])\n",
    "p_hist.vbar(x=dodge('ratings', -0.2, range=p_hist.x_range), top='actual', width=0.4, source=source, color=\"green\", legend_label=\"Aktual\")\n",
    "p_hist.vbar(x=dodge('ratings', 0.2, range=p_hist.x_range), top='predicted', width=0.4, source=source, color=\"red\", legend_label=\"Prediksi\")\n",
    "p_hist.legend.location = \"top_right\"\n",
    "show(p_hist)\n"
   ]
  },
  {
   "cell_type": "markdown",
   "id": "cafe889b",
   "metadata": {},
   "source": [
    "### Korelasi Genre dan Rating\n",
    "Pembuatan visualisasi korelasi genre dan rating adalah untuk menganalisis\n",
    "1. Apakah genre tertentu cenderung memiliki rating tinggi atau rendah? \n",
    "2. Apakah ada genre yang mendominasi pada tayangan dengan rating tertentu?"
   ]
  },
  {
   "cell_type": "code",
   "execution_count": 14,
   "id": "ba71f640",
   "metadata": {},
   "outputs": [
    {
     "data": {
      "text/html": [
       "\n",
       "  <div id=\"e7715040-4f47-4d67-918c-bb533648f25d\" data-root-id=\"p1677\" style=\"display: contents;\"></div>\n"
      ]
     },
     "metadata": {},
     "output_type": "display_data"
    },
    {
     "data": {
      "application/javascript": "(function(root) {\n  function embed_document(root) {\n  const docs_json = {\"6786e5ab-f505-4b07-b6e0-3d737438a507\":{\"version\":\"3.7.3\",\"title\":\"Bokeh Application\",\"roots\":[{\"type\":\"object\",\"name\":\"Figure\",\"id\":\"p1677\",\"attributes\":{\"width\":800,\"height\":500,\"x_range\":{\"type\":\"object\",\"name\":\"DataRange1d\",\"id\":\"p1679\"},\"y_range\":{\"type\":\"object\",\"name\":\"FactorRange\",\"id\":\"p1687\",\"attributes\":{\"factors\":[\"Action & Adventure\",\"Children & Family Movies\",\"Comedies\",\"Documentaries\",\"Dramas\",\"Horror Movies\",\"Independent Movies\",\"International Movies\",\"Romantic Movies\",\"Thrillers\"]}},\"x_scale\":{\"type\":\"object\",\"name\":\"LinearScale\",\"id\":\"p1688\"},\"y_scale\":{\"type\":\"object\",\"name\":\"CategoricalScale\",\"id\":\"p1689\"},\"title\":{\"type\":\"object\",\"name\":\"Title\",\"id\":\"p1680\",\"attributes\":{\"text\":\"Distribusi Genre terhadap Rating (Stacked Bar)\"}},\"renderers\":[{\"type\":\"object\",\"name\":\"GlyphRenderer\",\"id\":\"p1727\",\"attributes\":{\"name\":\"NR\",\"data_source\":{\"type\":\"object\",\"name\":\"ColumnDataSource\",\"id\":\"p1674\",\"attributes\":{\"selected\":{\"type\":\"object\",\"name\":\"Selection\",\"id\":\"p1675\",\"attributes\":{\"indices\":[],\"line_indices\":[]}},\"selection_policy\":{\"type\":\"object\",\"name\":\"UnionRenderers\",\"id\":\"p1676\"},\"data\":{\"type\":\"map\",\"entries\":[[\"genre\",[\"Action & Adventure\",\"Children & Family Movies\",\"Comedies\",\"Documentaries\",\"Dramas\",\"Horror Movies\",\"Independent Movies\",\"International Movies\",\"Romantic Movies\",\"Thrillers\"]],[\"NR\",{\"type\":\"ndarray\",\"array\":{\"type\":\"bytes\",\"data\":\"FwAAAAAAAAAhAAAABgAAAEQAAAASAAAALwAAAEcAAAAFAAAADAAAAA==\"},\"shape\":[10],\"dtype\":\"int32\",\"order\":\"little\"}],[\"PG\",{\"type\":\"ndarray\",\"array\":{\"type\":\"bytes\",\"data\":\"UgAAAJMBAABHAQAAFwAAAKEAAAALAAAAEAAAACAAAAA8AAAABgAAAA==\"},\"shape\":[10],\"dtype\":\"int32\",\"order\":\"little\"}],[\"PG-13\",{\"type\":\"ndarray\",\"array\":{\"type\":\"bytes\",\"data\":\"QQEAACAAAABoAQAAIQAAAJ8BAABeAAAAXQAAAIcAAADKAAAAbgAAAA==\"},\"shape\":[10],\"dtype\":\"int32\",\"order\":\"little\"}],[\"R\",{\"type\":\"ndarray\",\"array\":{\"type\":\"bytes\",\"data\":\"kAEAAAAAAACTAQAAIgAAAFwDAAC1AAAA9gEAAAEBAACHAAAAOgEAAA==\"},\"shape\":[10],\"dtype\":\"int32\",\"order\":\"little\"}],[\"TV-14\",{\"type\":\"ndarray\",\"array\":{\"type\":\"bytes\",\"data\":\"GAIAACoAAACNBAAAqgAAAL8GAABaAAAASAEAAMUJAAAsAgAA9wAAAA==\"},\"shape\":[10],\"dtype\":\"int32\",\"order\":\"little\"}],[\"TV-G\",{\"type\":\"ndarray\",\"array\":{\"type\":\"bytes\",\"data\":\"AAAAAFYAAABGAAAAHQAAAD8AAAAAAAAACAAAAFUAAAAkAAAAAAAAAA==\"},\"shape\":[10],\"dtype\":\"int32\",\"order\":\"little\"}],[\"TV-MA\",{\"type\":\"ndarray\",\"array\":{\"type\":\"bytes\",\"data\":\"twEAAAMAAAAHBAAABgEAAB0IAABbAQAAwAMAABsKAACWAQAATQIAAA==\"},\"shape\":[10],\"dtype\":\"int32\",\"order\":\"little\"}],[\"TV-PG\",{\"type\":\"ndarray\",\"array\":{\"type\":\"bytes\",\"data\":\"XQAAALYAAACGAQAAdQAAAOkBAAAHAAAAXgAAAHoCAACwAAAADgAAAA==\"},\"shape\":[10],\"dtype\":\"int32\",\"order\":\"little\"}],[\"TV-Y\",{\"type\":\"ndarray\",\"array\":{\"type\":\"bytes\",\"data\":\"AAAAAFwAAAAmAAAAAAAAAAkAAAAAAAAAAAAAAAAAAAAAAAAAAAAAAA==\"},\"shape\":[10],\"dtype\":\"int32\",\"order\":\"little\"}],[\"TV-Y7\",{\"type\":\"ndarray\",\"array\":{\"type\":\"bytes\",\"data\":\"AAAAAGUAAAA3AAAAAAAAAAMAAAAAAAAABQAAAAMAAAAAAAAAAAAAAA==\"},\"shape\":[10],\"dtype\":\"int32\",\"order\":\"little\"}]]}}},\"view\":{\"type\":\"object\",\"name\":\"CDSView\",\"id\":\"p1728\",\"attributes\":{\"filter\":{\"type\":\"object\",\"name\":\"AllIndices\",\"id\":\"p1729\"}}},\"glyph\":{\"type\":\"object\",\"name\":\"HBar\",\"id\":\"p1724\",\"attributes\":{\"y\":{\"type\":\"field\",\"field\":\"genre\"},\"height\":{\"type\":\"value\",\"value\":0.8},\"left\":{\"type\":\"expr\",\"expr\":{\"type\":\"object\",\"name\":\"Stack\",\"id\":\"p1701\",\"attributes\":{\"fields\":[]}}},\"right\":{\"type\":\"expr\",\"expr\":{\"type\":\"object\",\"name\":\"Stack\",\"id\":\"p1702\",\"attributes\":{\"fields\":[\"NR\"]}}},\"line_color\":{\"type\":\"value\",\"value\":\"#1f77b4\"},\"fill_color\":{\"type\":\"value\",\"value\":\"#1f77b4\"},\"hatch_color\":{\"type\":\"value\",\"value\":\"#1f77b4\"}}},\"nonselection_glyph\":{\"type\":\"object\",\"name\":\"HBar\",\"id\":\"p1725\",\"attributes\":{\"y\":{\"type\":\"field\",\"field\":\"genre\"},\"height\":{\"type\":\"value\",\"value\":0.8},\"left\":{\"type\":\"expr\",\"expr\":{\"id\":\"p1701\"}},\"right\":{\"type\":\"expr\",\"expr\":{\"id\":\"p1702\"}},\"line_color\":{\"type\":\"value\",\"value\":\"#1f77b4\"},\"line_alpha\":{\"type\":\"value\",\"value\":0.1},\"fill_color\":{\"type\":\"value\",\"value\":\"#1f77b4\"},\"fill_alpha\":{\"type\":\"value\",\"value\":0.1},\"hatch_color\":{\"type\":\"value\",\"value\":\"#1f77b4\"},\"hatch_alpha\":{\"type\":\"value\",\"value\":0.1}}},\"muted_glyph\":{\"type\":\"object\",\"name\":\"HBar\",\"id\":\"p1726\",\"attributes\":{\"y\":{\"type\":\"field\",\"field\":\"genre\"},\"height\":{\"type\":\"value\",\"value\":0.8},\"left\":{\"type\":\"expr\",\"expr\":{\"id\":\"p1701\"}},\"right\":{\"type\":\"expr\",\"expr\":{\"id\":\"p1702\"}},\"line_color\":{\"type\":\"value\",\"value\":\"#1f77b4\"},\"line_alpha\":{\"type\":\"value\",\"value\":0.2},\"fill_color\":{\"type\":\"value\",\"value\":\"#1f77b4\"},\"fill_alpha\":{\"type\":\"value\",\"value\":0.2},\"hatch_color\":{\"type\":\"value\",\"value\":\"#1f77b4\"},\"hatch_alpha\":{\"type\":\"value\",\"value\":0.2}}}}},{\"type\":\"object\",\"name\":\"GlyphRenderer\",\"id\":\"p1738\",\"attributes\":{\"name\":\"PG\",\"data_source\":{\"id\":\"p1674\"},\"view\":{\"type\":\"object\",\"name\":\"CDSView\",\"id\":\"p1739\",\"attributes\":{\"filter\":{\"type\":\"object\",\"name\":\"AllIndices\",\"id\":\"p1740\"}}},\"glyph\":{\"type\":\"object\",\"name\":\"HBar\",\"id\":\"p1735\",\"attributes\":{\"y\":{\"type\":\"field\",\"field\":\"genre\"},\"height\":{\"type\":\"value\",\"value\":0.8},\"left\":{\"type\":\"expr\",\"expr\":{\"type\":\"object\",\"name\":\"Stack\",\"id\":\"p1703\",\"attributes\":{\"fields\":[\"NR\"]}}},\"right\":{\"type\":\"expr\",\"expr\":{\"type\":\"object\",\"name\":\"Stack\",\"id\":\"p1704\",\"attributes\":{\"fields\":[\"NR\",\"PG\"]}}},\"line_color\":{\"type\":\"value\",\"value\":\"#ff7f0e\"},\"fill_color\":{\"type\":\"value\",\"value\":\"#ff7f0e\"},\"hatch_color\":{\"type\":\"value\",\"value\":\"#ff7f0e\"}}},\"nonselection_glyph\":{\"type\":\"object\",\"name\":\"HBar\",\"id\":\"p1736\",\"attributes\":{\"y\":{\"type\":\"field\",\"field\":\"genre\"},\"height\":{\"type\":\"value\",\"value\":0.8},\"left\":{\"type\":\"expr\",\"expr\":{\"id\":\"p1703\"}},\"right\":{\"type\":\"expr\",\"expr\":{\"id\":\"p1704\"}},\"line_color\":{\"type\":\"value\",\"value\":\"#ff7f0e\"},\"line_alpha\":{\"type\":\"value\",\"value\":0.1},\"fill_color\":{\"type\":\"value\",\"value\":\"#ff7f0e\"},\"fill_alpha\":{\"type\":\"value\",\"value\":0.1},\"hatch_color\":{\"type\":\"value\",\"value\":\"#ff7f0e\"},\"hatch_alpha\":{\"type\":\"value\",\"value\":0.1}}},\"muted_glyph\":{\"type\":\"object\",\"name\":\"HBar\",\"id\":\"p1737\",\"attributes\":{\"y\":{\"type\":\"field\",\"field\":\"genre\"},\"height\":{\"type\":\"value\",\"value\":0.8},\"left\":{\"type\":\"expr\",\"expr\":{\"id\":\"p1703\"}},\"right\":{\"type\":\"expr\",\"expr\":{\"id\":\"p1704\"}},\"line_color\":{\"type\":\"value\",\"value\":\"#ff7f0e\"},\"line_alpha\":{\"type\":\"value\",\"value\":0.2},\"fill_color\":{\"type\":\"value\",\"value\":\"#ff7f0e\"},\"fill_alpha\":{\"type\":\"value\",\"value\":0.2},\"hatch_color\":{\"type\":\"value\",\"value\":\"#ff7f0e\"},\"hatch_alpha\":{\"type\":\"value\",\"value\":0.2}}}}},{\"type\":\"object\",\"name\":\"GlyphRenderer\",\"id\":\"p1748\",\"attributes\":{\"name\":\"PG-13\",\"data_source\":{\"id\":\"p1674\"},\"view\":{\"type\":\"object\",\"name\":\"CDSView\",\"id\":\"p1749\",\"attributes\":{\"filter\":{\"type\":\"object\",\"name\":\"AllIndices\",\"id\":\"p1750\"}}},\"glyph\":{\"type\":\"object\",\"name\":\"HBar\",\"id\":\"p1745\",\"attributes\":{\"y\":{\"type\":\"field\",\"field\":\"genre\"},\"height\":{\"type\":\"value\",\"value\":0.8},\"left\":{\"type\":\"expr\",\"expr\":{\"type\":\"object\",\"name\":\"Stack\",\"id\":\"p1705\",\"attributes\":{\"fields\":[\"NR\",\"PG\"]}}},\"right\":{\"type\":\"expr\",\"expr\":{\"type\":\"object\",\"name\":\"Stack\",\"id\":\"p1706\",\"attributes\":{\"fields\":[\"NR\",\"PG\",\"PG-13\"]}}},\"line_color\":{\"type\":\"value\",\"value\":\"#2ca02c\"},\"fill_color\":{\"type\":\"value\",\"value\":\"#2ca02c\"},\"hatch_color\":{\"type\":\"value\",\"value\":\"#2ca02c\"}}},\"nonselection_glyph\":{\"type\":\"object\",\"name\":\"HBar\",\"id\":\"p1746\",\"attributes\":{\"y\":{\"type\":\"field\",\"field\":\"genre\"},\"height\":{\"type\":\"value\",\"value\":0.8},\"left\":{\"type\":\"expr\",\"expr\":{\"id\":\"p1705\"}},\"right\":{\"type\":\"expr\",\"expr\":{\"id\":\"p1706\"}},\"line_color\":{\"type\":\"value\",\"value\":\"#2ca02c\"},\"line_alpha\":{\"type\":\"value\",\"value\":0.1},\"fill_color\":{\"type\":\"value\",\"value\":\"#2ca02c\"},\"fill_alpha\":{\"type\":\"value\",\"value\":0.1},\"hatch_color\":{\"type\":\"value\",\"value\":\"#2ca02c\"},\"hatch_alpha\":{\"type\":\"value\",\"value\":0.1}}},\"muted_glyph\":{\"type\":\"object\",\"name\":\"HBar\",\"id\":\"p1747\",\"attributes\":{\"y\":{\"type\":\"field\",\"field\":\"genre\"},\"height\":{\"type\":\"value\",\"value\":0.8},\"left\":{\"type\":\"expr\",\"expr\":{\"id\":\"p1705\"}},\"right\":{\"type\":\"expr\",\"expr\":{\"id\":\"p1706\"}},\"line_color\":{\"type\":\"value\",\"value\":\"#2ca02c\"},\"line_alpha\":{\"type\":\"value\",\"value\":0.2},\"fill_color\":{\"type\":\"value\",\"value\":\"#2ca02c\"},\"fill_alpha\":{\"type\":\"value\",\"value\":0.2},\"hatch_color\":{\"type\":\"value\",\"value\":\"#2ca02c\"},\"hatch_alpha\":{\"type\":\"value\",\"value\":0.2}}}}},{\"type\":\"object\",\"name\":\"GlyphRenderer\",\"id\":\"p1758\",\"attributes\":{\"name\":\"R\",\"data_source\":{\"id\":\"p1674\"},\"view\":{\"type\":\"object\",\"name\":\"CDSView\",\"id\":\"p1759\",\"attributes\":{\"filter\":{\"type\":\"object\",\"name\":\"AllIndices\",\"id\":\"p1760\"}}},\"glyph\":{\"type\":\"object\",\"name\":\"HBar\",\"id\":\"p1755\",\"attributes\":{\"y\":{\"type\":\"field\",\"field\":\"genre\"},\"height\":{\"type\":\"value\",\"value\":0.8},\"left\":{\"type\":\"expr\",\"expr\":{\"type\":\"object\",\"name\":\"Stack\",\"id\":\"p1707\",\"attributes\":{\"fields\":[\"NR\",\"PG\",\"PG-13\"]}}},\"right\":{\"type\":\"expr\",\"expr\":{\"type\":\"object\",\"name\":\"Stack\",\"id\":\"p1708\",\"attributes\":{\"fields\":[\"NR\",\"PG\",\"PG-13\",\"R\"]}}},\"line_color\":{\"type\":\"value\",\"value\":\"#d62728\"},\"fill_color\":{\"type\":\"value\",\"value\":\"#d62728\"},\"hatch_color\":{\"type\":\"value\",\"value\":\"#d62728\"}}},\"nonselection_glyph\":{\"type\":\"object\",\"name\":\"HBar\",\"id\":\"p1756\",\"attributes\":{\"y\":{\"type\":\"field\",\"field\":\"genre\"},\"height\":{\"type\":\"value\",\"value\":0.8},\"left\":{\"type\":\"expr\",\"expr\":{\"id\":\"p1707\"}},\"right\":{\"type\":\"expr\",\"expr\":{\"id\":\"p1708\"}},\"line_color\":{\"type\":\"value\",\"value\":\"#d62728\"},\"line_alpha\":{\"type\":\"value\",\"value\":0.1},\"fill_color\":{\"type\":\"value\",\"value\":\"#d62728\"},\"fill_alpha\":{\"type\":\"value\",\"value\":0.1},\"hatch_color\":{\"type\":\"value\",\"value\":\"#d62728\"},\"hatch_alpha\":{\"type\":\"value\",\"value\":0.1}}},\"muted_glyph\":{\"type\":\"object\",\"name\":\"HBar\",\"id\":\"p1757\",\"attributes\":{\"y\":{\"type\":\"field\",\"field\":\"genre\"},\"height\":{\"type\":\"value\",\"value\":0.8},\"left\":{\"type\":\"expr\",\"expr\":{\"id\":\"p1707\"}},\"right\":{\"type\":\"expr\",\"expr\":{\"id\":\"p1708\"}},\"line_color\":{\"type\":\"value\",\"value\":\"#d62728\"},\"line_alpha\":{\"type\":\"value\",\"value\":0.2},\"fill_color\":{\"type\":\"value\",\"value\":\"#d62728\"},\"fill_alpha\":{\"type\":\"value\",\"value\":0.2},\"hatch_color\":{\"type\":\"value\",\"value\":\"#d62728\"},\"hatch_alpha\":{\"type\":\"value\",\"value\":0.2}}}}},{\"type\":\"object\",\"name\":\"GlyphRenderer\",\"id\":\"p1768\",\"attributes\":{\"name\":\"TV-14\",\"data_source\":{\"id\":\"p1674\"},\"view\":{\"type\":\"object\",\"name\":\"CDSView\",\"id\":\"p1769\",\"attributes\":{\"filter\":{\"type\":\"object\",\"name\":\"AllIndices\",\"id\":\"p1770\"}}},\"glyph\":{\"type\":\"object\",\"name\":\"HBar\",\"id\":\"p1765\",\"attributes\":{\"y\":{\"type\":\"field\",\"field\":\"genre\"},\"height\":{\"type\":\"value\",\"value\":0.8},\"left\":{\"type\":\"expr\",\"expr\":{\"type\":\"object\",\"name\":\"Stack\",\"id\":\"p1709\",\"attributes\":{\"fields\":[\"NR\",\"PG\",\"PG-13\",\"R\"]}}},\"right\":{\"type\":\"expr\",\"expr\":{\"type\":\"object\",\"name\":\"Stack\",\"id\":\"p1710\",\"attributes\":{\"fields\":[\"NR\",\"PG\",\"PG-13\",\"R\",\"TV-14\"]}}},\"line_color\":{\"type\":\"value\",\"value\":\"#9467bd\"},\"fill_color\":{\"type\":\"value\",\"value\":\"#9467bd\"},\"hatch_color\":{\"type\":\"value\",\"value\":\"#9467bd\"}}},\"nonselection_glyph\":{\"type\":\"object\",\"name\":\"HBar\",\"id\":\"p1766\",\"attributes\":{\"y\":{\"type\":\"field\",\"field\":\"genre\"},\"height\":{\"type\":\"value\",\"value\":0.8},\"left\":{\"type\":\"expr\",\"expr\":{\"id\":\"p1709\"}},\"right\":{\"type\":\"expr\",\"expr\":{\"id\":\"p1710\"}},\"line_color\":{\"type\":\"value\",\"value\":\"#9467bd\"},\"line_alpha\":{\"type\":\"value\",\"value\":0.1},\"fill_color\":{\"type\":\"value\",\"value\":\"#9467bd\"},\"fill_alpha\":{\"type\":\"value\",\"value\":0.1},\"hatch_color\":{\"type\":\"value\",\"value\":\"#9467bd\"},\"hatch_alpha\":{\"type\":\"value\",\"value\":0.1}}},\"muted_glyph\":{\"type\":\"object\",\"name\":\"HBar\",\"id\":\"p1767\",\"attributes\":{\"y\":{\"type\":\"field\",\"field\":\"genre\"},\"height\":{\"type\":\"value\",\"value\":0.8},\"left\":{\"type\":\"expr\",\"expr\":{\"id\":\"p1709\"}},\"right\":{\"type\":\"expr\",\"expr\":{\"id\":\"p1710\"}},\"line_color\":{\"type\":\"value\",\"value\":\"#9467bd\"},\"line_alpha\":{\"type\":\"value\",\"value\":0.2},\"fill_color\":{\"type\":\"value\",\"value\":\"#9467bd\"},\"fill_alpha\":{\"type\":\"value\",\"value\":0.2},\"hatch_color\":{\"type\":\"value\",\"value\":\"#9467bd\"},\"hatch_alpha\":{\"type\":\"value\",\"value\":0.2}}}}},{\"type\":\"object\",\"name\":\"GlyphRenderer\",\"id\":\"p1778\",\"attributes\":{\"name\":\"TV-G\",\"data_source\":{\"id\":\"p1674\"},\"view\":{\"type\":\"object\",\"name\":\"CDSView\",\"id\":\"p1779\",\"attributes\":{\"filter\":{\"type\":\"object\",\"name\":\"AllIndices\",\"id\":\"p1780\"}}},\"glyph\":{\"type\":\"object\",\"name\":\"HBar\",\"id\":\"p1775\",\"attributes\":{\"y\":{\"type\":\"field\",\"field\":\"genre\"},\"height\":{\"type\":\"value\",\"value\":0.8},\"left\":{\"type\":\"expr\",\"expr\":{\"type\":\"object\",\"name\":\"Stack\",\"id\":\"p1711\",\"attributes\":{\"fields\":[\"NR\",\"PG\",\"PG-13\",\"R\",\"TV-14\"]}}},\"right\":{\"type\":\"expr\",\"expr\":{\"type\":\"object\",\"name\":\"Stack\",\"id\":\"p1712\",\"attributes\":{\"fields\":[\"NR\",\"PG\",\"PG-13\",\"R\",\"TV-14\",\"TV-G\"]}}},\"line_color\":{\"type\":\"value\",\"value\":\"#8c564b\"},\"fill_color\":{\"type\":\"value\",\"value\":\"#8c564b\"},\"hatch_color\":{\"type\":\"value\",\"value\":\"#8c564b\"}}},\"nonselection_glyph\":{\"type\":\"object\",\"name\":\"HBar\",\"id\":\"p1776\",\"attributes\":{\"y\":{\"type\":\"field\",\"field\":\"genre\"},\"height\":{\"type\":\"value\",\"value\":0.8},\"left\":{\"type\":\"expr\",\"expr\":{\"id\":\"p1711\"}},\"right\":{\"type\":\"expr\",\"expr\":{\"id\":\"p1712\"}},\"line_color\":{\"type\":\"value\",\"value\":\"#8c564b\"},\"line_alpha\":{\"type\":\"value\",\"value\":0.1},\"fill_color\":{\"type\":\"value\",\"value\":\"#8c564b\"},\"fill_alpha\":{\"type\":\"value\",\"value\":0.1},\"hatch_color\":{\"type\":\"value\",\"value\":\"#8c564b\"},\"hatch_alpha\":{\"type\":\"value\",\"value\":0.1}}},\"muted_glyph\":{\"type\":\"object\",\"name\":\"HBar\",\"id\":\"p1777\",\"attributes\":{\"y\":{\"type\":\"field\",\"field\":\"genre\"},\"height\":{\"type\":\"value\",\"value\":0.8},\"left\":{\"type\":\"expr\",\"expr\":{\"id\":\"p1711\"}},\"right\":{\"type\":\"expr\",\"expr\":{\"id\":\"p1712\"}},\"line_color\":{\"type\":\"value\",\"value\":\"#8c564b\"},\"line_alpha\":{\"type\":\"value\",\"value\":0.2},\"fill_color\":{\"type\":\"value\",\"value\":\"#8c564b\"},\"fill_alpha\":{\"type\":\"value\",\"value\":0.2},\"hatch_color\":{\"type\":\"value\",\"value\":\"#8c564b\"},\"hatch_alpha\":{\"type\":\"value\",\"value\":0.2}}}}},{\"type\":\"object\",\"name\":\"GlyphRenderer\",\"id\":\"p1788\",\"attributes\":{\"name\":\"TV-MA\",\"data_source\":{\"id\":\"p1674\"},\"view\":{\"type\":\"object\",\"name\":\"CDSView\",\"id\":\"p1789\",\"attributes\":{\"filter\":{\"type\":\"object\",\"name\":\"AllIndices\",\"id\":\"p1790\"}}},\"glyph\":{\"type\":\"object\",\"name\":\"HBar\",\"id\":\"p1785\",\"attributes\":{\"y\":{\"type\":\"field\",\"field\":\"genre\"},\"height\":{\"type\":\"value\",\"value\":0.8},\"left\":{\"type\":\"expr\",\"expr\":{\"type\":\"object\",\"name\":\"Stack\",\"id\":\"p1713\",\"attributes\":{\"fields\":[\"NR\",\"PG\",\"PG-13\",\"R\",\"TV-14\",\"TV-G\"]}}},\"right\":{\"type\":\"expr\",\"expr\":{\"type\":\"object\",\"name\":\"Stack\",\"id\":\"p1714\",\"attributes\":{\"fields\":[\"NR\",\"PG\",\"PG-13\",\"R\",\"TV-14\",\"TV-G\",\"TV-MA\"]}}},\"line_color\":{\"type\":\"value\",\"value\":\"#e377c2\"},\"fill_color\":{\"type\":\"value\",\"value\":\"#e377c2\"},\"hatch_color\":{\"type\":\"value\",\"value\":\"#e377c2\"}}},\"nonselection_glyph\":{\"type\":\"object\",\"name\":\"HBar\",\"id\":\"p1786\",\"attributes\":{\"y\":{\"type\":\"field\",\"field\":\"genre\"},\"height\":{\"type\":\"value\",\"value\":0.8},\"left\":{\"type\":\"expr\",\"expr\":{\"id\":\"p1713\"}},\"right\":{\"type\":\"expr\",\"expr\":{\"id\":\"p1714\"}},\"line_color\":{\"type\":\"value\",\"value\":\"#e377c2\"},\"line_alpha\":{\"type\":\"value\",\"value\":0.1},\"fill_color\":{\"type\":\"value\",\"value\":\"#e377c2\"},\"fill_alpha\":{\"type\":\"value\",\"value\":0.1},\"hatch_color\":{\"type\":\"value\",\"value\":\"#e377c2\"},\"hatch_alpha\":{\"type\":\"value\",\"value\":0.1}}},\"muted_glyph\":{\"type\":\"object\",\"name\":\"HBar\",\"id\":\"p1787\",\"attributes\":{\"y\":{\"type\":\"field\",\"field\":\"genre\"},\"height\":{\"type\":\"value\",\"value\":0.8},\"left\":{\"type\":\"expr\",\"expr\":{\"id\":\"p1713\"}},\"right\":{\"type\":\"expr\",\"expr\":{\"id\":\"p1714\"}},\"line_color\":{\"type\":\"value\",\"value\":\"#e377c2\"},\"line_alpha\":{\"type\":\"value\",\"value\":0.2},\"fill_color\":{\"type\":\"value\",\"value\":\"#e377c2\"},\"fill_alpha\":{\"type\":\"value\",\"value\":0.2},\"hatch_color\":{\"type\":\"value\",\"value\":\"#e377c2\"},\"hatch_alpha\":{\"type\":\"value\",\"value\":0.2}}}}},{\"type\":\"object\",\"name\":\"GlyphRenderer\",\"id\":\"p1798\",\"attributes\":{\"name\":\"TV-PG\",\"data_source\":{\"id\":\"p1674\"},\"view\":{\"type\":\"object\",\"name\":\"CDSView\",\"id\":\"p1799\",\"attributes\":{\"filter\":{\"type\":\"object\",\"name\":\"AllIndices\",\"id\":\"p1800\"}}},\"glyph\":{\"type\":\"object\",\"name\":\"HBar\",\"id\":\"p1795\",\"attributes\":{\"y\":{\"type\":\"field\",\"field\":\"genre\"},\"height\":{\"type\":\"value\",\"value\":0.8},\"left\":{\"type\":\"expr\",\"expr\":{\"type\":\"object\",\"name\":\"Stack\",\"id\":\"p1715\",\"attributes\":{\"fields\":[\"NR\",\"PG\",\"PG-13\",\"R\",\"TV-14\",\"TV-G\",\"TV-MA\"]}}},\"right\":{\"type\":\"expr\",\"expr\":{\"type\":\"object\",\"name\":\"Stack\",\"id\":\"p1716\",\"attributes\":{\"fields\":[\"NR\",\"PG\",\"PG-13\",\"R\",\"TV-14\",\"TV-G\",\"TV-MA\",\"TV-PG\"]}}},\"line_color\":{\"type\":\"value\",\"value\":\"#7f7f7f\"},\"fill_color\":{\"type\":\"value\",\"value\":\"#7f7f7f\"},\"hatch_color\":{\"type\":\"value\",\"value\":\"#7f7f7f\"}}},\"nonselection_glyph\":{\"type\":\"object\",\"name\":\"HBar\",\"id\":\"p1796\",\"attributes\":{\"y\":{\"type\":\"field\",\"field\":\"genre\"},\"height\":{\"type\":\"value\",\"value\":0.8},\"left\":{\"type\":\"expr\",\"expr\":{\"id\":\"p1715\"}},\"right\":{\"type\":\"expr\",\"expr\":{\"id\":\"p1716\"}},\"line_color\":{\"type\":\"value\",\"value\":\"#7f7f7f\"},\"line_alpha\":{\"type\":\"value\",\"value\":0.1},\"fill_color\":{\"type\":\"value\",\"value\":\"#7f7f7f\"},\"fill_alpha\":{\"type\":\"value\",\"value\":0.1},\"hatch_color\":{\"type\":\"value\",\"value\":\"#7f7f7f\"},\"hatch_alpha\":{\"type\":\"value\",\"value\":0.1}}},\"muted_glyph\":{\"type\":\"object\",\"name\":\"HBar\",\"id\":\"p1797\",\"attributes\":{\"y\":{\"type\":\"field\",\"field\":\"genre\"},\"height\":{\"type\":\"value\",\"value\":0.8},\"left\":{\"type\":\"expr\",\"expr\":{\"id\":\"p1715\"}},\"right\":{\"type\":\"expr\",\"expr\":{\"id\":\"p1716\"}},\"line_color\":{\"type\":\"value\",\"value\":\"#7f7f7f\"},\"line_alpha\":{\"type\":\"value\",\"value\":0.2},\"fill_color\":{\"type\":\"value\",\"value\":\"#7f7f7f\"},\"fill_alpha\":{\"type\":\"value\",\"value\":0.2},\"hatch_color\":{\"type\":\"value\",\"value\":\"#7f7f7f\"},\"hatch_alpha\":{\"type\":\"value\",\"value\":0.2}}}}},{\"type\":\"object\",\"name\":\"GlyphRenderer\",\"id\":\"p1808\",\"attributes\":{\"name\":\"TV-Y\",\"data_source\":{\"id\":\"p1674\"},\"view\":{\"type\":\"object\",\"name\":\"CDSView\",\"id\":\"p1809\",\"attributes\":{\"filter\":{\"type\":\"object\",\"name\":\"AllIndices\",\"id\":\"p1810\"}}},\"glyph\":{\"type\":\"object\",\"name\":\"HBar\",\"id\":\"p1805\",\"attributes\":{\"y\":{\"type\":\"field\",\"field\":\"genre\"},\"height\":{\"type\":\"value\",\"value\":0.8},\"left\":{\"type\":\"expr\",\"expr\":{\"type\":\"object\",\"name\":\"Stack\",\"id\":\"p1717\",\"attributes\":{\"fields\":[\"NR\",\"PG\",\"PG-13\",\"R\",\"TV-14\",\"TV-G\",\"TV-MA\",\"TV-PG\"]}}},\"right\":{\"type\":\"expr\",\"expr\":{\"type\":\"object\",\"name\":\"Stack\",\"id\":\"p1718\",\"attributes\":{\"fields\":[\"NR\",\"PG\",\"PG-13\",\"R\",\"TV-14\",\"TV-G\",\"TV-MA\",\"TV-PG\",\"TV-Y\"]}}},\"line_color\":{\"type\":\"value\",\"value\":\"#bcbd22\"},\"fill_color\":{\"type\":\"value\",\"value\":\"#bcbd22\"},\"hatch_color\":{\"type\":\"value\",\"value\":\"#bcbd22\"}}},\"nonselection_glyph\":{\"type\":\"object\",\"name\":\"HBar\",\"id\":\"p1806\",\"attributes\":{\"y\":{\"type\":\"field\",\"field\":\"genre\"},\"height\":{\"type\":\"value\",\"value\":0.8},\"left\":{\"type\":\"expr\",\"expr\":{\"id\":\"p1717\"}},\"right\":{\"type\":\"expr\",\"expr\":{\"id\":\"p1718\"}},\"line_color\":{\"type\":\"value\",\"value\":\"#bcbd22\"},\"line_alpha\":{\"type\":\"value\",\"value\":0.1},\"fill_color\":{\"type\":\"value\",\"value\":\"#bcbd22\"},\"fill_alpha\":{\"type\":\"value\",\"value\":0.1},\"hatch_color\":{\"type\":\"value\",\"value\":\"#bcbd22\"},\"hatch_alpha\":{\"type\":\"value\",\"value\":0.1}}},\"muted_glyph\":{\"type\":\"object\",\"name\":\"HBar\",\"id\":\"p1807\",\"attributes\":{\"y\":{\"type\":\"field\",\"field\":\"genre\"},\"height\":{\"type\":\"value\",\"value\":0.8},\"left\":{\"type\":\"expr\",\"expr\":{\"id\":\"p1717\"}},\"right\":{\"type\":\"expr\",\"expr\":{\"id\":\"p1718\"}},\"line_color\":{\"type\":\"value\",\"value\":\"#bcbd22\"},\"line_alpha\":{\"type\":\"value\",\"value\":0.2},\"fill_color\":{\"type\":\"value\",\"value\":\"#bcbd22\"},\"fill_alpha\":{\"type\":\"value\",\"value\":0.2},\"hatch_color\":{\"type\":\"value\",\"value\":\"#bcbd22\"},\"hatch_alpha\":{\"type\":\"value\",\"value\":0.2}}}}},{\"type\":\"object\",\"name\":\"GlyphRenderer\",\"id\":\"p1818\",\"attributes\":{\"name\":\"TV-Y7\",\"data_source\":{\"id\":\"p1674\"},\"view\":{\"type\":\"object\",\"name\":\"CDSView\",\"id\":\"p1819\",\"attributes\":{\"filter\":{\"type\":\"object\",\"name\":\"AllIndices\",\"id\":\"p1820\"}}},\"glyph\":{\"type\":\"object\",\"name\":\"HBar\",\"id\":\"p1815\",\"attributes\":{\"y\":{\"type\":\"field\",\"field\":\"genre\"},\"height\":{\"type\":\"value\",\"value\":0.8},\"left\":{\"type\":\"expr\",\"expr\":{\"type\":\"object\",\"name\":\"Stack\",\"id\":\"p1719\",\"attributes\":{\"fields\":[\"NR\",\"PG\",\"PG-13\",\"R\",\"TV-14\",\"TV-G\",\"TV-MA\",\"TV-PG\",\"TV-Y\"]}}},\"right\":{\"type\":\"expr\",\"expr\":{\"type\":\"object\",\"name\":\"Stack\",\"id\":\"p1720\",\"attributes\":{\"fields\":[\"NR\",\"PG\",\"PG-13\",\"R\",\"TV-14\",\"TV-G\",\"TV-MA\",\"TV-PG\",\"TV-Y\",\"TV-Y7\"]}}},\"line_color\":{\"type\":\"value\",\"value\":\"#17becf\"},\"fill_color\":{\"type\":\"value\",\"value\":\"#17becf\"},\"hatch_color\":{\"type\":\"value\",\"value\":\"#17becf\"}}},\"nonselection_glyph\":{\"type\":\"object\",\"name\":\"HBar\",\"id\":\"p1816\",\"attributes\":{\"y\":{\"type\":\"field\",\"field\":\"genre\"},\"height\":{\"type\":\"value\",\"value\":0.8},\"left\":{\"type\":\"expr\",\"expr\":{\"id\":\"p1719\"}},\"right\":{\"type\":\"expr\",\"expr\":{\"id\":\"p1720\"}},\"line_color\":{\"type\":\"value\",\"value\":\"#17becf\"},\"line_alpha\":{\"type\":\"value\",\"value\":0.1},\"fill_color\":{\"type\":\"value\",\"value\":\"#17becf\"},\"fill_alpha\":{\"type\":\"value\",\"value\":0.1},\"hatch_color\":{\"type\":\"value\",\"value\":\"#17becf\"},\"hatch_alpha\":{\"type\":\"value\",\"value\":0.1}}},\"muted_glyph\":{\"type\":\"object\",\"name\":\"HBar\",\"id\":\"p1817\",\"attributes\":{\"y\":{\"type\":\"field\",\"field\":\"genre\"},\"height\":{\"type\":\"value\",\"value\":0.8},\"left\":{\"type\":\"expr\",\"expr\":{\"id\":\"p1719\"}},\"right\":{\"type\":\"expr\",\"expr\":{\"id\":\"p1720\"}},\"line_color\":{\"type\":\"value\",\"value\":\"#17becf\"},\"line_alpha\":{\"type\":\"value\",\"value\":0.2},\"fill_color\":{\"type\":\"value\",\"value\":\"#17becf\"},\"fill_alpha\":{\"type\":\"value\",\"value\":0.2},\"hatch_color\":{\"type\":\"value\",\"value\":\"#17becf\"},\"hatch_alpha\":{\"type\":\"value\",\"value\":0.2}}}}}],\"toolbar\":{\"type\":\"object\",\"name\":\"Toolbar\",\"id\":\"p1686\",\"attributes\":{\"tools\":[{\"type\":\"object\",\"name\":\"HoverTool\",\"id\":\"p1700\",\"attributes\":{\"renderers\":\"auto\",\"tooltips\":\"$name @genre: @$name\"}}]}},\"toolbar_location\":\"above\",\"left\":[{\"type\":\"object\",\"name\":\"CategoricalAxis\",\"id\":\"p1695\",\"attributes\":{\"ticker\":{\"type\":\"object\",\"name\":\"CategoricalTicker\",\"id\":\"p1696\"},\"formatter\":{\"type\":\"object\",\"name\":\"CategoricalTickFormatter\",\"id\":\"p1697\"},\"axis_label\":\"Genre\",\"major_label_policy\":{\"type\":\"object\",\"name\":\"AllLabels\",\"id\":\"p1698\"}}}],\"below\":[{\"type\":\"object\",\"name\":\"LinearAxis\",\"id\":\"p1690\",\"attributes\":{\"ticker\":{\"type\":\"object\",\"name\":\"BasicTicker\",\"id\":\"p1691\",\"attributes\":{\"mantissas\":[1,2,5]}},\"formatter\":{\"type\":\"object\",\"name\":\"BasicTickFormatter\",\"id\":\"p1692\"},\"axis_label\":\"Jumlah Tayangan\",\"major_label_policy\":{\"type\":\"object\",\"name\":\"AllLabels\",\"id\":\"p1693\"}}}],\"center\":[{\"type\":\"object\",\"name\":\"Grid\",\"id\":\"p1694\",\"attributes\":{\"axis\":{\"id\":\"p1690\"}}},{\"type\":\"object\",\"name\":\"Grid\",\"id\":\"p1699\",\"attributes\":{\"dimension\":1,\"axis\":{\"id\":\"p1695\"}}},{\"type\":\"object\",\"name\":\"Legend\",\"id\":\"p1730\",\"attributes\":{\"location\":\"center_right\",\"title\":\"Rating\",\"label_text_font_size\":\"10pt\",\"items\":[{\"type\":\"object\",\"name\":\"LegendItem\",\"id\":\"p1731\",\"attributes\":{\"label\":{\"type\":\"value\",\"value\":\"NR\"},\"renderers\":[{\"id\":\"p1727\"}]}},{\"type\":\"object\",\"name\":\"LegendItem\",\"id\":\"p1741\",\"attributes\":{\"label\":{\"type\":\"value\",\"value\":\"PG\"},\"renderers\":[{\"id\":\"p1738\"}]}},{\"type\":\"object\",\"name\":\"LegendItem\",\"id\":\"p1751\",\"attributes\":{\"label\":{\"type\":\"value\",\"value\":\"PG-13\"},\"renderers\":[{\"id\":\"p1748\"}]}},{\"type\":\"object\",\"name\":\"LegendItem\",\"id\":\"p1761\",\"attributes\":{\"label\":{\"type\":\"value\",\"value\":\"R\"},\"renderers\":[{\"id\":\"p1758\"}]}},{\"type\":\"object\",\"name\":\"LegendItem\",\"id\":\"p1771\",\"attributes\":{\"label\":{\"type\":\"value\",\"value\":\"TV-14\"},\"renderers\":[{\"id\":\"p1768\"}]}},{\"type\":\"object\",\"name\":\"LegendItem\",\"id\":\"p1781\",\"attributes\":{\"label\":{\"type\":\"value\",\"value\":\"TV-G\"},\"renderers\":[{\"id\":\"p1778\"}]}},{\"type\":\"object\",\"name\":\"LegendItem\",\"id\":\"p1791\",\"attributes\":{\"label\":{\"type\":\"value\",\"value\":\"TV-MA\"},\"renderers\":[{\"id\":\"p1788\"}]}},{\"type\":\"object\",\"name\":\"LegendItem\",\"id\":\"p1801\",\"attributes\":{\"label\":{\"type\":\"value\",\"value\":\"TV-PG\"},\"renderers\":[{\"id\":\"p1798\"}]}},{\"type\":\"object\",\"name\":\"LegendItem\",\"id\":\"p1811\",\"attributes\":{\"label\":{\"type\":\"value\",\"value\":\"TV-Y\"},\"renderers\":[{\"id\":\"p1808\"}]}},{\"type\":\"object\",\"name\":\"LegendItem\",\"id\":\"p1821\",\"attributes\":{\"label\":{\"type\":\"value\",\"value\":\"TV-Y7\"},\"renderers\":[{\"id\":\"p1818\"}]}}]}}]}}]}};\n  const render_items = [{\"docid\":\"6786e5ab-f505-4b07-b6e0-3d737438a507\",\"roots\":{\"p1677\":\"e7715040-4f47-4d67-918c-bb533648f25d\"},\"root_ids\":[\"p1677\"]}];\n  void root.Bokeh.embed.embed_items_notebook(docs_json, render_items);\n  }\n  if (root.Bokeh !== undefined) {\n    embed_document(root);\n  } else {\n    let attempts = 0;\n    const timer = setInterval(function(root) {\n      if (root.Bokeh !== undefined) {\n        clearInterval(timer);\n        embed_document(root);\n      } else {\n        attempts++;\n        if (attempts > 100) {\n          clearInterval(timer);\n          console.log(\"Bokeh: ERROR: Unable to run BokehJS code because BokehJS library is missing\");\n        }\n      }\n    }, 10, root)\n  }\n})(window);",
      "application/vnd.bokehjs_exec.v0+json": ""
     },
     "metadata": {
      "application/vnd.bokehjs_exec.v0+json": {
       "id": "p1677"
      }
     },
     "output_type": "display_data"
    }
   ],
   "source": [
    "# Siapkan data genre-rating\n",
    "genre_rating = df.dropna(subset=['listed_in', 'rating']).copy()\n",
    "genre_rating = genre_rating.assign(genre=genre_rating['listed_in'].str.split(', ')).explode('genre')\n",
    "genre_rating = genre_rating[genre_rating['genre'].isin(top10_genre)]\n",
    "genre_rating = genre_rating[genre_rating['rating'].isin(top10_ratings)]\n",
    "\n",
    "# Pivot table: genre vs rating\n",
    "pivot = genre_rating.groupby(['genre', 'rating']).size().unstack(fill_value=0)\n",
    "\n",
    "ratings = pivot.columns.tolist()\n",
    "genres = pivot.index.tolist()\n",
    "colors = Category10[len(ratings)]\n",
    "\n",
    "# Format data untuk ColumnDataSource\n",
    "source_data = {'genre': genres}\n",
    "for r in ratings:\n",
    "    source_data[r] = pivot[r].values\n",
    "source = ColumnDataSource(data=source_data)\n",
    "\n",
    "# Bokeh stacked horizontal bar chart\n",
    "p = figure(y_range=genres, height=500, width=800, title=\"Distribusi Genre terhadap Rating (Stacked Bar)\",\n",
    "           tools=\"hover\", tooltips=\"$name @genre: @$name\", toolbar_location=\"above\")\n",
    "\n",
    "p.hbar_stack(ratings, y='genre', height=0.8, color=colors, source=source, legend_label=ratings)\n",
    "\n",
    "p.xaxis.axis_label = 'Jumlah Tayangan'\n",
    "p.yaxis.axis_label = 'Genre'\n",
    "p.legend.title = 'Rating'\n",
    "p.legend.location = \"center_right\"\n",
    "p.legend.label_text_font_size = \"10pt\"\n",
    "\n",
    "show(p)\n"
   ]
  }
 ],
 "metadata": {
  "kernelspec": {
   "display_name": "Python 3",
   "language": "python",
   "name": "python3"
  },
  "language_info": {
   "codemirror_mode": {
    "name": "ipython",
    "version": 3
   },
   "file_extension": ".py",
   "mimetype": "text/x-python",
   "name": "python",
   "nbconvert_exporter": "python",
   "pygments_lexer": "ipython3",
   "version": "3.10.11"
  }
 },
 "nbformat": 4,
 "nbformat_minor": 5
}
